{
 "cells": [
  {
   "cell_type": "code",
   "execution_count": 1,
   "metadata": {},
   "outputs": [],
   "source": [
    "%matplotlib inline\n",
    "\n",
    "import pandas as pd\n",
    "import numpy as np\n",
    "import matplotlib.pyplot as plt\n",
    "from sklearn.cluster import KMeans\n",
    "from sklearn.metrics import davies_bouldin_score\n",
    "from tslearn.clustering import TimeSeriesKMeans"
   ]
  },
  {
   "cell_type": "code",
   "execution_count": 33,
   "metadata": {},
   "outputs": [],
   "source": [
    "london = pd.read_csv(\"../Data/Londondata/london_formatted_narrow.csv\")"
   ]
  },
  {
   "cell_type": "code",
   "execution_count": 34,
   "metadata": {},
   "outputs": [],
   "source": [
    "london.drop(\"Unnamed: 0\",axis = 1, inplace = True)"
   ]
  },
  {
   "cell_type": "code",
   "execution_count": 35,
   "metadata": {},
   "outputs": [],
   "source": [
    "london[\"hour\"] = london[\"hour\"].astype(str).str.zfill(2)"
   ]
  },
  {
   "cell_type": "code",
   "execution_count": 36,
   "metadata": {},
   "outputs": [],
   "source": [
    "london[\"day_of_the_week\"] = london[\"day_of_the_week\"].where(\n",
    "    (london[\"day_of_the_week\"] != 'Monday'), '0').where(\n",
    "    (london[\"day_of_the_week\"] != 'Tuesday'), '1').where(\n",
    "    (london[\"day_of_the_week\"] != 'Wednesday'), '2').where(\n",
    "    (london[\"day_of_the_week\"] != 'Thursday'), '3').where(\n",
    "    (london[\"day_of_the_week\"] != 'Friday'), '4').where(\n",
    "    (london[\"day_of_the_week\"] != 'Saturday'), '5').where(\n",
    "    (london[\"day_of_the_week\"] != 'Sunday'), '6')"
   ]
  },
  {
   "cell_type": "code",
   "execution_count": 37,
   "metadata": {},
   "outputs": [],
   "source": [
    "london['timestamp'] = london[\"season\"] + ' ' + london['day_of_the_week'] + ' ' + london['hour'] + 'h'"
   ]
  },
  {
   "cell_type": "code",
   "execution_count": 38,
   "metadata": {},
   "outputs": [
    {
     "data": {
      "text/html": [
       "<div>\n",
       "<style scoped>\n",
       "    .dataframe tbody tr th:only-of-type {\n",
       "        vertical-align: middle;\n",
       "    }\n",
       "\n",
       "    .dataframe tbody tr th {\n",
       "        vertical-align: top;\n",
       "    }\n",
       "\n",
       "    .dataframe thead th {\n",
       "        text-align: right;\n",
       "    }\n",
       "</style>\n",
       "<table border=\"1\" class=\"dataframe\">\n",
       "  <thead>\n",
       "    <tr style=\"text-align: right;\">\n",
       "      <th></th>\n",
       "      <th>profile_ID</th>\n",
       "      <th>season</th>\n",
       "      <th>day_of_the_week</th>\n",
       "      <th>hour</th>\n",
       "      <th>consumption_kWh</th>\n",
       "      <th>timestamp</th>\n",
       "    </tr>\n",
       "  </thead>\n",
       "  <tbody>\n",
       "    <tr>\n",
       "      <th>0</th>\n",
       "      <td>MAC000036</td>\n",
       "      <td>Winter</td>\n",
       "      <td>4</td>\n",
       "      <td>00</td>\n",
       "      <td>0.027833</td>\n",
       "      <td>Winter 4 00h</td>\n",
       "    </tr>\n",
       "    <tr>\n",
       "      <th>1</th>\n",
       "      <td>MAC000036</td>\n",
       "      <td>Winter</td>\n",
       "      <td>4</td>\n",
       "      <td>01</td>\n",
       "      <td>0.032500</td>\n",
       "      <td>Winter 4 01h</td>\n",
       "    </tr>\n",
       "    <tr>\n",
       "      <th>2</th>\n",
       "      <td>MAC000036</td>\n",
       "      <td>Winter</td>\n",
       "      <td>4</td>\n",
       "      <td>02</td>\n",
       "      <td>0.030583</td>\n",
       "      <td>Winter 4 02h</td>\n",
       "    </tr>\n",
       "    <tr>\n",
       "      <th>3</th>\n",
       "      <td>MAC000036</td>\n",
       "      <td>Winter</td>\n",
       "      <td>4</td>\n",
       "      <td>03</td>\n",
       "      <td>0.023250</td>\n",
       "      <td>Winter 4 03h</td>\n",
       "    </tr>\n",
       "    <tr>\n",
       "      <th>4</th>\n",
       "      <td>MAC000036</td>\n",
       "      <td>Winter</td>\n",
       "      <td>4</td>\n",
       "      <td>04</td>\n",
       "      <td>0.033000</td>\n",
       "      <td>Winter 4 04h</td>\n",
       "    </tr>\n",
       "  </tbody>\n",
       "</table>\n",
       "</div>"
      ],
      "text/plain": [
       "  profile_ID  season day_of_the_week hour  consumption_kWh     timestamp\n",
       "0  MAC000036  Winter               4   00         0.027833  Winter 4 00h\n",
       "1  MAC000036  Winter               4   01         0.032500  Winter 4 01h\n",
       "2  MAC000036  Winter               4   02         0.030583  Winter 4 02h\n",
       "3  MAC000036  Winter               4   03         0.023250  Winter 4 03h\n",
       "4  MAC000036  Winter               4   04         0.033000  Winter 4 04h"
      ]
     },
     "execution_count": 38,
     "metadata": {},
     "output_type": "execute_result"
    }
   ],
   "source": [
    "london.head()"
   ]
  },
  {
   "cell_type": "markdown",
   "metadata": {},
   "source": [
    "Pivot it "
   ]
  },
  {
   "cell_type": "code",
   "execution_count": 39,
   "metadata": {},
   "outputs": [],
   "source": [
    "london_cluster = london.pivot(index='profile_ID', columns='timestamp', values='consumption_kWh')"
   ]
  },
  {
   "cell_type": "code",
   "execution_count": 40,
   "metadata": {},
   "outputs": [],
   "source": [
    "london_cluster.drop(['MAC000037', 'MAC000197'], inplace = True)"
   ]
  },
  {
   "cell_type": "code",
   "execution_count": 42,
   "metadata": {},
   "outputs": [
    {
     "data": {
      "text/html": [
       "<div>\n",
       "<style scoped>\n",
       "    .dataframe tbody tr th:only-of-type {\n",
       "        vertical-align: middle;\n",
       "    }\n",
       "\n",
       "    .dataframe tbody tr th {\n",
       "        vertical-align: top;\n",
       "    }\n",
       "\n",
       "    .dataframe thead th {\n",
       "        text-align: right;\n",
       "    }\n",
       "</style>\n",
       "<table border=\"1\" class=\"dataframe\">\n",
       "  <thead>\n",
       "    <tr style=\"text-align: right;\">\n",
       "      <th>timestamp</th>\n",
       "      <th>Autumn 0 00h</th>\n",
       "      <th>Autumn 0 01h</th>\n",
       "      <th>Autumn 0 02h</th>\n",
       "      <th>Autumn 0 03h</th>\n",
       "      <th>Autumn 0 04h</th>\n",
       "      <th>Autumn 0 05h</th>\n",
       "      <th>Autumn 0 06h</th>\n",
       "      <th>Autumn 0 07h</th>\n",
       "      <th>Autumn 0 08h</th>\n",
       "      <th>Autumn 0 09h</th>\n",
       "      <th>...</th>\n",
       "      <th>Winter 6 14h</th>\n",
       "      <th>Winter 6 15h</th>\n",
       "      <th>Winter 6 16h</th>\n",
       "      <th>Winter 6 17h</th>\n",
       "      <th>Winter 6 18h</th>\n",
       "      <th>Winter 6 19h</th>\n",
       "      <th>Winter 6 20h</th>\n",
       "      <th>Winter 6 21h</th>\n",
       "      <th>Winter 6 22h</th>\n",
       "      <th>Winter 6 23h</th>\n",
       "    </tr>\n",
       "    <tr>\n",
       "      <th>profile_ID</th>\n",
       "      <th></th>\n",
       "      <th></th>\n",
       "      <th></th>\n",
       "      <th></th>\n",
       "      <th></th>\n",
       "      <th></th>\n",
       "      <th></th>\n",
       "      <th></th>\n",
       "      <th></th>\n",
       "      <th></th>\n",
       "      <th></th>\n",
       "      <th></th>\n",
       "      <th></th>\n",
       "      <th></th>\n",
       "      <th></th>\n",
       "      <th></th>\n",
       "      <th></th>\n",
       "      <th></th>\n",
       "      <th></th>\n",
       "      <th></th>\n",
       "      <th></th>\n",
       "    </tr>\n",
       "  </thead>\n",
       "  <tbody>\n",
       "    <tr>\n",
       "      <th>MAC000036</th>\n",
       "      <td>0.042077</td>\n",
       "      <td>0.040769</td>\n",
       "      <td>0.040462</td>\n",
       "      <td>0.037692</td>\n",
       "      <td>0.039231</td>\n",
       "      <td>0.038000</td>\n",
       "      <td>0.067615</td>\n",
       "      <td>0.231769</td>\n",
       "      <td>0.195846</td>\n",
       "      <td>0.088462</td>\n",
       "      <td>...</td>\n",
       "      <td>0.148769</td>\n",
       "      <td>0.139385</td>\n",
       "      <td>0.166615</td>\n",
       "      <td>0.162923</td>\n",
       "      <td>0.170692</td>\n",
       "      <td>0.209846</td>\n",
       "      <td>0.180462</td>\n",
       "      <td>0.125846</td>\n",
       "      <td>0.073769</td>\n",
       "      <td>0.057462</td>\n",
       "    </tr>\n",
       "    <tr>\n",
       "      <th>MAC000038</th>\n",
       "      <td>0.248538</td>\n",
       "      <td>0.231538</td>\n",
       "      <td>0.211000</td>\n",
       "      <td>0.273462</td>\n",
       "      <td>0.327923</td>\n",
       "      <td>0.564615</td>\n",
       "      <td>0.724385</td>\n",
       "      <td>0.745769</td>\n",
       "      <td>0.477462</td>\n",
       "      <td>0.433923</td>\n",
       "      <td>...</td>\n",
       "      <td>0.870923</td>\n",
       "      <td>0.837308</td>\n",
       "      <td>0.698308</td>\n",
       "      <td>1.193154</td>\n",
       "      <td>1.197462</td>\n",
       "      <td>0.992231</td>\n",
       "      <td>0.991000</td>\n",
       "      <td>1.057538</td>\n",
       "      <td>0.895308</td>\n",
       "      <td>0.533000</td>\n",
       "    </tr>\n",
       "    <tr>\n",
       "      <th>MAC000039</th>\n",
       "      <td>0.170308</td>\n",
       "      <td>0.152462</td>\n",
       "      <td>0.152846</td>\n",
       "      <td>0.155077</td>\n",
       "      <td>0.149077</td>\n",
       "      <td>0.345308</td>\n",
       "      <td>0.354923</td>\n",
       "      <td>0.404077</td>\n",
       "      <td>0.428462</td>\n",
       "      <td>0.423077</td>\n",
       "      <td>...</td>\n",
       "      <td>0.821077</td>\n",
       "      <td>0.790154</td>\n",
       "      <td>0.972923</td>\n",
       "      <td>0.678231</td>\n",
       "      <td>0.762000</td>\n",
       "      <td>1.467308</td>\n",
       "      <td>1.428615</td>\n",
       "      <td>0.883538</td>\n",
       "      <td>0.746615</td>\n",
       "      <td>0.414923</td>\n",
       "    </tr>\n",
       "    <tr>\n",
       "      <th>MAC000040</th>\n",
       "      <td>0.998769</td>\n",
       "      <td>0.754538</td>\n",
       "      <td>1.082846</td>\n",
       "      <td>0.900846</td>\n",
       "      <td>0.677462</td>\n",
       "      <td>0.786538</td>\n",
       "      <td>1.278615</td>\n",
       "      <td>1.520000</td>\n",
       "      <td>1.813077</td>\n",
       "      <td>1.839462</td>\n",
       "      <td>...</td>\n",
       "      <td>1.491462</td>\n",
       "      <td>1.752077</td>\n",
       "      <td>1.450385</td>\n",
       "      <td>1.051769</td>\n",
       "      <td>1.091538</td>\n",
       "      <td>1.528154</td>\n",
       "      <td>1.430077</td>\n",
       "      <td>1.449538</td>\n",
       "      <td>1.474077</td>\n",
       "      <td>1.423462</td>\n",
       "    </tr>\n",
       "    <tr>\n",
       "      <th>MAC000041</th>\n",
       "      <td>0.311615</td>\n",
       "      <td>0.176462</td>\n",
       "      <td>0.173692</td>\n",
       "      <td>0.176692</td>\n",
       "      <td>0.187154</td>\n",
       "      <td>0.247769</td>\n",
       "      <td>0.330462</td>\n",
       "      <td>0.456000</td>\n",
       "      <td>0.417538</td>\n",
       "      <td>0.337000</td>\n",
       "      <td>...</td>\n",
       "      <td>0.307154</td>\n",
       "      <td>0.315923</td>\n",
       "      <td>0.428769</td>\n",
       "      <td>0.440846</td>\n",
       "      <td>0.646769</td>\n",
       "      <td>0.843077</td>\n",
       "      <td>0.755615</td>\n",
       "      <td>0.892308</td>\n",
       "      <td>0.843692</td>\n",
       "      <td>0.590923</td>\n",
       "    </tr>\n",
       "  </tbody>\n",
       "</table>\n",
       "<p>5 rows × 672 columns</p>\n",
       "</div>"
      ],
      "text/plain": [
       "timestamp   Autumn 0 00h  Autumn 0 01h  Autumn 0 02h  Autumn 0 03h  \\\n",
       "profile_ID                                                           \n",
       "MAC000036       0.042077      0.040769      0.040462      0.037692   \n",
       "MAC000038       0.248538      0.231538      0.211000      0.273462   \n",
       "MAC000039       0.170308      0.152462      0.152846      0.155077   \n",
       "MAC000040       0.998769      0.754538      1.082846      0.900846   \n",
       "MAC000041       0.311615      0.176462      0.173692      0.176692   \n",
       "\n",
       "timestamp   Autumn 0 04h  Autumn 0 05h  Autumn 0 06h  Autumn 0 07h  \\\n",
       "profile_ID                                                           \n",
       "MAC000036       0.039231      0.038000      0.067615      0.231769   \n",
       "MAC000038       0.327923      0.564615      0.724385      0.745769   \n",
       "MAC000039       0.149077      0.345308      0.354923      0.404077   \n",
       "MAC000040       0.677462      0.786538      1.278615      1.520000   \n",
       "MAC000041       0.187154      0.247769      0.330462      0.456000   \n",
       "\n",
       "timestamp   Autumn 0 08h  Autumn 0 09h  ...  Winter 6 14h  Winter 6 15h  \\\n",
       "profile_ID                              ...                               \n",
       "MAC000036       0.195846      0.088462  ...      0.148769      0.139385   \n",
       "MAC000038       0.477462      0.433923  ...      0.870923      0.837308   \n",
       "MAC000039       0.428462      0.423077  ...      0.821077      0.790154   \n",
       "MAC000040       1.813077      1.839462  ...      1.491462      1.752077   \n",
       "MAC000041       0.417538      0.337000  ...      0.307154      0.315923   \n",
       "\n",
       "timestamp   Winter 6 16h  Winter 6 17h  Winter 6 18h  Winter 6 19h  \\\n",
       "profile_ID                                                           \n",
       "MAC000036       0.166615      0.162923      0.170692      0.209846   \n",
       "MAC000038       0.698308      1.193154      1.197462      0.992231   \n",
       "MAC000039       0.972923      0.678231      0.762000      1.467308   \n",
       "MAC000040       1.450385      1.051769      1.091538      1.528154   \n",
       "MAC000041       0.428769      0.440846      0.646769      0.843077   \n",
       "\n",
       "timestamp   Winter 6 20h  Winter 6 21h  Winter 6 22h  Winter 6 23h  \n",
       "profile_ID                                                          \n",
       "MAC000036       0.180462      0.125846      0.073769      0.057462  \n",
       "MAC000038       0.991000      1.057538      0.895308      0.533000  \n",
       "MAC000039       1.428615      0.883538      0.746615      0.414923  \n",
       "MAC000040       1.430077      1.449538      1.474077      1.423462  \n",
       "MAC000041       0.755615      0.892308      0.843692      0.590923  \n",
       "\n",
       "[5 rows x 672 columns]"
      ]
     },
     "execution_count": 42,
     "metadata": {},
     "output_type": "execute_result"
    }
   ],
   "source": [
    "london_cluster.head()"
   ]
  },
  {
   "cell_type": "markdown",
   "metadata": {},
   "source": [
    "### Normalising the data "
   ]
  },
  {
   "cell_type": "markdown",
   "metadata": {},
   "source": [
    "We are going to divide all value in a row by the maximun of this row. This way all data will be between 0 and 1"
   ]
  },
  {
   "cell_type": "code",
   "execution_count": 52,
   "metadata": {},
   "outputs": [],
   "source": [
    "london_norm = london_cluster.divide(london_cluster.max(axis = 1), axis=0)"
   ]
  },
  {
   "cell_type": "code",
   "execution_count": 55,
   "metadata": {},
   "outputs": [
    {
     "data": {
      "text/html": [
       "<div>\n",
       "<style scoped>\n",
       "    .dataframe tbody tr th:only-of-type {\n",
       "        vertical-align: middle;\n",
       "    }\n",
       "\n",
       "    .dataframe tbody tr th {\n",
       "        vertical-align: top;\n",
       "    }\n",
       "\n",
       "    .dataframe thead th {\n",
       "        text-align: right;\n",
       "    }\n",
       "</style>\n",
       "<table border=\"1\" class=\"dataframe\">\n",
       "  <thead>\n",
       "    <tr style=\"text-align: right;\">\n",
       "      <th>timestamp</th>\n",
       "      <th>Autumn 0 00h</th>\n",
       "      <th>Autumn 0 01h</th>\n",
       "      <th>Autumn 0 02h</th>\n",
       "      <th>Autumn 0 03h</th>\n",
       "      <th>Autumn 0 04h</th>\n",
       "      <th>Autumn 0 05h</th>\n",
       "      <th>Autumn 0 06h</th>\n",
       "      <th>Autumn 0 07h</th>\n",
       "      <th>Autumn 0 08h</th>\n",
       "      <th>Autumn 0 09h</th>\n",
       "      <th>...</th>\n",
       "      <th>Winter 6 14h</th>\n",
       "      <th>Winter 6 15h</th>\n",
       "      <th>Winter 6 16h</th>\n",
       "      <th>Winter 6 17h</th>\n",
       "      <th>Winter 6 18h</th>\n",
       "      <th>Winter 6 19h</th>\n",
       "      <th>Winter 6 20h</th>\n",
       "      <th>Winter 6 21h</th>\n",
       "      <th>Winter 6 22h</th>\n",
       "      <th>Winter 6 23h</th>\n",
       "    </tr>\n",
       "    <tr>\n",
       "      <th>profile_ID</th>\n",
       "      <th></th>\n",
       "      <th></th>\n",
       "      <th></th>\n",
       "      <th></th>\n",
       "      <th></th>\n",
       "      <th></th>\n",
       "      <th></th>\n",
       "      <th></th>\n",
       "      <th></th>\n",
       "      <th></th>\n",
       "      <th></th>\n",
       "      <th></th>\n",
       "      <th></th>\n",
       "      <th></th>\n",
       "      <th></th>\n",
       "      <th></th>\n",
       "      <th></th>\n",
       "      <th></th>\n",
       "      <th></th>\n",
       "      <th></th>\n",
       "      <th></th>\n",
       "    </tr>\n",
       "  </thead>\n",
       "  <tbody>\n",
       "    <tr>\n",
       "      <th>MAC000036</th>\n",
       "      <td>0.112366</td>\n",
       "      <td>0.108874</td>\n",
       "      <td>0.108053</td>\n",
       "      <td>0.100657</td>\n",
       "      <td>0.104766</td>\n",
       "      <td>0.101479</td>\n",
       "      <td>0.180567</td>\n",
       "      <td>0.618940</td>\n",
       "      <td>0.523007</td>\n",
       "      <td>0.236237</td>\n",
       "      <td>...</td>\n",
       "      <td>0.397288</td>\n",
       "      <td>0.372227</td>\n",
       "      <td>0.444947</td>\n",
       "      <td>0.435086</td>\n",
       "      <td>0.455834</td>\n",
       "      <td>0.560394</td>\n",
       "      <td>0.481923</td>\n",
       "      <td>0.336072</td>\n",
       "      <td>0.197001</td>\n",
       "      <td>0.153451</td>\n",
       "    </tr>\n",
       "    <tr>\n",
       "      <th>MAC000038</th>\n",
       "      <td>0.095728</td>\n",
       "      <td>0.089180</td>\n",
       "      <td>0.081269</td>\n",
       "      <td>0.105327</td>\n",
       "      <td>0.126304</td>\n",
       "      <td>0.217469</td>\n",
       "      <td>0.279006</td>\n",
       "      <td>0.287242</td>\n",
       "      <td>0.183900</td>\n",
       "      <td>0.167131</td>\n",
       "      <td>...</td>\n",
       "      <td>0.335447</td>\n",
       "      <td>0.322499</td>\n",
       "      <td>0.268962</td>\n",
       "      <td>0.459558</td>\n",
       "      <td>0.461217</td>\n",
       "      <td>0.382170</td>\n",
       "      <td>0.381696</td>\n",
       "      <td>0.407324</td>\n",
       "      <td>0.344839</td>\n",
       "      <td>0.205292</td>\n",
       "    </tr>\n",
       "    <tr>\n",
       "      <th>MAC000039</th>\n",
       "      <td>0.116068</td>\n",
       "      <td>0.103906</td>\n",
       "      <td>0.104168</td>\n",
       "      <td>0.105688</td>\n",
       "      <td>0.101599</td>\n",
       "      <td>0.235334</td>\n",
       "      <td>0.241887</td>\n",
       "      <td>0.275387</td>\n",
       "      <td>0.292005</td>\n",
       "      <td>0.288336</td>\n",
       "      <td>...</td>\n",
       "      <td>0.559581</td>\n",
       "      <td>0.538506</td>\n",
       "      <td>0.663067</td>\n",
       "      <td>0.462228</td>\n",
       "      <td>0.519318</td>\n",
       "      <td>1.000000</td>\n",
       "      <td>0.973630</td>\n",
       "      <td>0.602149</td>\n",
       "      <td>0.508834</td>\n",
       "      <td>0.282779</td>\n",
       "    </tr>\n",
       "    <tr>\n",
       "      <th>MAC000040</th>\n",
       "      <td>0.362935</td>\n",
       "      <td>0.274186</td>\n",
       "      <td>0.393487</td>\n",
       "      <td>0.327352</td>\n",
       "      <td>0.246177</td>\n",
       "      <td>0.285814</td>\n",
       "      <td>0.464626</td>\n",
       "      <td>0.552341</td>\n",
       "      <td>0.658840</td>\n",
       "      <td>0.668428</td>\n",
       "      <td>...</td>\n",
       "      <td>0.541971</td>\n",
       "      <td>0.636674</td>\n",
       "      <td>0.527044</td>\n",
       "      <td>0.382194</td>\n",
       "      <td>0.396646</td>\n",
       "      <td>0.555304</td>\n",
       "      <td>0.519665</td>\n",
       "      <td>0.526737</td>\n",
       "      <td>0.535653</td>\n",
       "      <td>0.517261</td>\n",
       "    </tr>\n",
       "    <tr>\n",
       "      <th>MAC000041</th>\n",
       "      <td>0.267645</td>\n",
       "      <td>0.151562</td>\n",
       "      <td>0.149184</td>\n",
       "      <td>0.151760</td>\n",
       "      <td>0.160746</td>\n",
       "      <td>0.212808</td>\n",
       "      <td>0.283832</td>\n",
       "      <td>0.391656</td>\n",
       "      <td>0.358622</td>\n",
       "      <td>0.289448</td>\n",
       "      <td>...</td>\n",
       "      <td>0.263813</td>\n",
       "      <td>0.271345</td>\n",
       "      <td>0.368268</td>\n",
       "      <td>0.378641</td>\n",
       "      <td>0.555507</td>\n",
       "      <td>0.724115</td>\n",
       "      <td>0.648995</td>\n",
       "      <td>0.766399</td>\n",
       "      <td>0.724644</td>\n",
       "      <td>0.507541</td>\n",
       "    </tr>\n",
       "  </tbody>\n",
       "</table>\n",
       "<p>5 rows × 672 columns</p>\n",
       "</div>"
      ],
      "text/plain": [
       "timestamp   Autumn 0 00h  Autumn 0 01h  Autumn 0 02h  Autumn 0 03h  \\\n",
       "profile_ID                                                           \n",
       "MAC000036       0.112366      0.108874      0.108053      0.100657   \n",
       "MAC000038       0.095728      0.089180      0.081269      0.105327   \n",
       "MAC000039       0.116068      0.103906      0.104168      0.105688   \n",
       "MAC000040       0.362935      0.274186      0.393487      0.327352   \n",
       "MAC000041       0.267645      0.151562      0.149184      0.151760   \n",
       "\n",
       "timestamp   Autumn 0 04h  Autumn 0 05h  Autumn 0 06h  Autumn 0 07h  \\\n",
       "profile_ID                                                           \n",
       "MAC000036       0.104766      0.101479      0.180567      0.618940   \n",
       "MAC000038       0.126304      0.217469      0.279006      0.287242   \n",
       "MAC000039       0.101599      0.235334      0.241887      0.275387   \n",
       "MAC000040       0.246177      0.285814      0.464626      0.552341   \n",
       "MAC000041       0.160746      0.212808      0.283832      0.391656   \n",
       "\n",
       "timestamp   Autumn 0 08h  Autumn 0 09h  ...  Winter 6 14h  Winter 6 15h  \\\n",
       "profile_ID                              ...                               \n",
       "MAC000036       0.523007      0.236237  ...      0.397288      0.372227   \n",
       "MAC000038       0.183900      0.167131  ...      0.335447      0.322499   \n",
       "MAC000039       0.292005      0.288336  ...      0.559581      0.538506   \n",
       "MAC000040       0.658840      0.668428  ...      0.541971      0.636674   \n",
       "MAC000041       0.358622      0.289448  ...      0.263813      0.271345   \n",
       "\n",
       "timestamp   Winter 6 16h  Winter 6 17h  Winter 6 18h  Winter 6 19h  \\\n",
       "profile_ID                                                           \n",
       "MAC000036       0.444947      0.435086      0.455834      0.560394   \n",
       "MAC000038       0.268962      0.459558      0.461217      0.382170   \n",
       "MAC000039       0.663067      0.462228      0.519318      1.000000   \n",
       "MAC000040       0.527044      0.382194      0.396646      0.555304   \n",
       "MAC000041       0.368268      0.378641      0.555507      0.724115   \n",
       "\n",
       "timestamp   Winter 6 20h  Winter 6 21h  Winter 6 22h  Winter 6 23h  \n",
       "profile_ID                                                          \n",
       "MAC000036       0.481923      0.336072      0.197001      0.153451  \n",
       "MAC000038       0.381696      0.407324      0.344839      0.205292  \n",
       "MAC000039       0.973630      0.602149      0.508834      0.282779  \n",
       "MAC000040       0.519665      0.526737      0.535653      0.517261  \n",
       "MAC000041       0.648995      0.766399      0.724644      0.507541  \n",
       "\n",
       "[5 rows x 672 columns]"
      ]
     },
     "execution_count": 55,
     "metadata": {},
     "output_type": "execute_result"
    }
   ],
   "source": [
    "london_norm.head()"
   ]
  },
  {
   "cell_type": "markdown",
   "metadata": {},
   "source": [
    "### First clustering test"
   ]
  },
  {
   "cell_type": "code",
   "execution_count": 56,
   "metadata": {},
   "outputs": [],
   "source": [
    "kmeans = KMeans(n_clusters=4, random_state=0).fit(london_norm)"
   ]
  },
  {
   "cell_type": "code",
   "execution_count": 57,
   "metadata": {},
   "outputs": [],
   "source": [
    "centroids = kmeans.cluster_centers_ "
   ]
  },
  {
   "cell_type": "code",
   "execution_count": 58,
   "metadata": {},
   "outputs": [
    {
     "data": {
      "text/plain": [
       "array([[0.16654402, 0.13179421, 0.11929314, ..., 0.547171  , 0.47919607,\n",
       "        0.35815969],\n",
       "       [0.24912055, 0.21269498, 0.19611737, ..., 0.60129107, 0.54354131,\n",
       "        0.44452022],\n",
       "       [0.14597434, 0.12566716, 0.10122705, ..., 0.30576968, 0.25386959,\n",
       "        0.19142673],\n",
       "       [0.4648344 , 0.40125952, 0.36816079, ..., 0.72269801, 0.68270622,\n",
       "        0.64763291]])"
      ]
     },
     "execution_count": 58,
     "metadata": {},
     "output_type": "execute_result"
    }
   ],
   "source": [
    "centroids\n"
   ]
  },
  {
   "cell_type": "code",
   "execution_count": 59,
   "metadata": {},
   "outputs": [],
   "source": [
    "labels = list(kmeans.labels_)\n"
   ]
  },
  {
   "cell_type": "code",
   "execution_count": 60,
   "metadata": {},
   "outputs": [
    {
     "data": {
      "text/plain": [
       "143"
      ]
     },
     "execution_count": 60,
     "metadata": {},
     "output_type": "execute_result"
    }
   ],
   "source": [
    "labels.count(0)"
   ]
  },
  {
   "cell_type": "code",
   "execution_count": 61,
   "metadata": {},
   "outputs": [
    {
     "data": {
      "text/plain": [
       "122"
      ]
     },
     "execution_count": 61,
     "metadata": {},
     "output_type": "execute_result"
    }
   ],
   "source": [
    "labels.count(1)"
   ]
  },
  {
   "cell_type": "code",
   "execution_count": 62,
   "metadata": {},
   "outputs": [
    {
     "data": {
      "text/plain": [
       "88"
      ]
     },
     "execution_count": 62,
     "metadata": {},
     "output_type": "execute_result"
    }
   ],
   "source": [
    "labels.count(2)"
   ]
  },
  {
   "cell_type": "code",
   "execution_count": 63,
   "metadata": {},
   "outputs": [
    {
     "data": {
      "text/plain": [
       "50"
      ]
     },
     "execution_count": 63,
     "metadata": {},
     "output_type": "execute_result"
    }
   ],
   "source": [
    "labels.count(3)"
   ]
  },
  {
   "cell_type": "code",
   "execution_count": 64,
   "metadata": {
    "scrolled": true
   },
   "outputs": [
    {
     "data": {
      "image/png": "[encoded data removed]",
      "text/plain": [
       "<Figure size 432x288 with 1 Axes>"
      ]
     },
     "metadata": {
      "needs_background": "light"
     },
     "output_type": "display_data"
    }
   ],
   "source": [
    "plt.plot(centroids[0], label = \"cluster 1\") \n",
    "plt.plot(centroids[1], label = \"cluster 2\") \n",
    "plt.plot(centroids[2], label = \"cluster 3\")\n",
    "plt.plot(centroids[3], label = \"cluster 4\")\n",
    "\n",
    "\n",
    "plt.legend() \n",
    "plt.show()\n"
   ]
  },
  {
   "cell_type": "markdown",
   "metadata": {},
   "source": [
    "### Select the value of k"
   ]
  },
  {
   "cell_type": "markdown",
   "metadata": {},
   "source": [
    "Elbow method with the WCSS"
   ]
  },
  {
   "cell_type": "code",
   "execution_count": 65,
   "metadata": {},
   "outputs": [
    {
     "name": "stderr",
     "output_type": "stream",
     "text": [
      "C:\\Users\\Kirsch\\Anaconda3\\lib\\site-packages\\sklearn\\cluster\\_kmeans.py:882: UserWarning: KMeans is known to have a memory leak on Windows with MKL, when there are less chunks than available threads. You can avoid it by setting the environment variable OMP_NUM_THREADS=2.\n",
      "  f\"KMeans is known to have a memory leak on Windows \"\n"
     ]
    },
    {
     "data": {
      "image/png": "[encoded data removed]",
      "text/plain": [
       "<Figure size 432x288 with 1 Axes>"
      ]
     },
     "metadata": {
      "needs_background": "light"
     },
     "output_type": "display_data"
    }
   ],
   "source": [
    "wcss = []\n",
    "for i in range(1, 11):\n",
    "    kmeans = KMeans(n_clusters=i, init='k-means++', max_iter=300, n_init=10, random_state=0)\n",
    "    kmeans.fit(london_norm)\n",
    "    wcss.append(kmeans.inertia_)\n",
    "plt.plot(range(1, 11), wcss)\n",
    "plt.title('Elbow Method')\n",
    "plt.xlabel('Number of clusters')\n",
    "plt.ylabel('WCSS')\n",
    "plt.show()"
   ]
  },
  {
   "cell_type": "markdown",
   "metadata": {},
   "source": [
    "Daves-Bouldin index"
   ]
  },
  {
   "cell_type": "code",
   "execution_count": 67,
   "metadata": {},
   "outputs": [
    {
     "data": {
      "image/png": "[encoded data removed]",
      "text/plain": [
       "<Figure size 432x288 with 1 Axes>"
      ]
     },
     "metadata": {
      "needs_background": "light"
     },
     "output_type": "display_data"
    }
   ],
   "source": [
    "db = []\n",
    "for i in range(2, 11):\n",
    "    kmeans = KMeans(n_clusters=i, init='k-means++', max_iter=300, n_init=10, random_state=0)\n",
    "    kmeans.fit(london_cluster)\n",
    "    clusters = kmeans.labels_\n",
    "    db.append(davies_bouldin_score(london_norm, clusters))\n",
    "plt.plot(range(2, 11), db)\n",
    "plt.title('Daves Bouldin Index')\n",
    "plt.xlabel('Number of clusters')\n",
    "plt.ylabel('DB Index')\n",
    "plt.show()"
   ]
  },
  {
   "cell_type": "markdown",
   "metadata": {},
   "source": [
    "4 Clusters seems to be right"
   ]
  },
  {
   "cell_type": "markdown",
   "metadata": {},
   "source": [
    "### Matching with ACORN Profiles "
   ]
  },
  {
   "cell_type": "code",
   "execution_count": 68,
   "metadata": {},
   "outputs": [],
   "source": [
    "kmeans = KMeans(n_clusters=4, init='k-means++', max_iter=300, n_init=10, random_state=0).fit(london_norm)"
   ]
  },
  {
   "cell_type": "code",
   "execution_count": 69,
   "metadata": {},
   "outputs": [],
   "source": [
    "labels = list(kmeans.labels_)\n"
   ]
  },
  {
   "cell_type": "code",
   "execution_count": 70,
   "metadata": {},
   "outputs": [
    {
     "data": {
      "text/plain": [
       "403"
      ]
     },
     "execution_count": 70,
     "metadata": {},
     "output_type": "execute_result"
    }
   ],
   "source": [
    "ids = london_cluster.index\n",
    "len(ids)"
   ]
  },
  {
   "cell_type": "code",
   "execution_count": 71,
   "metadata": {},
   "outputs": [
    {
     "data": {
      "text/html": [
       "<div>\n",
       "<style scoped>\n",
       "    .dataframe tbody tr th:only-of-type {\n",
       "        vertical-align: middle;\n",
       "    }\n",
       "\n",
       "    .dataframe tbody tr th {\n",
       "        vertical-align: top;\n",
       "    }\n",
       "\n",
       "    .dataframe thead th {\n",
       "        text-align: right;\n",
       "    }\n",
       "</style>\n",
       "<table border=\"1\" class=\"dataframe\">\n",
       "  <thead>\n",
       "    <tr style=\"text-align: right;\">\n",
       "      <th></th>\n",
       "      <th>Cluster</th>\n",
       "    </tr>\n",
       "    <tr>\n",
       "      <th>Profile ID</th>\n",
       "      <th></th>\n",
       "    </tr>\n",
       "  </thead>\n",
       "  <tbody>\n",
       "    <tr>\n",
       "      <th>MAC000036</th>\n",
       "      <td>0</td>\n",
       "    </tr>\n",
       "    <tr>\n",
       "      <th>MAC000038</th>\n",
       "      <td>2</td>\n",
       "    </tr>\n",
       "    <tr>\n",
       "      <th>MAC000039</th>\n",
       "      <td>0</td>\n",
       "    </tr>\n",
       "    <tr>\n",
       "      <th>MAC000040</th>\n",
       "      <td>3</td>\n",
       "    </tr>\n",
       "    <tr>\n",
       "      <th>MAC000041</th>\n",
       "      <td>0</td>\n",
       "    </tr>\n",
       "  </tbody>\n",
       "</table>\n",
       "</div>"
      ],
      "text/plain": [
       "            Cluster\n",
       "Profile ID         \n",
       "MAC000036         0\n",
       "MAC000038         2\n",
       "MAC000039         0\n",
       "MAC000040         3\n",
       "MAC000041         0"
      ]
     },
     "execution_count": 71,
     "metadata": {},
     "output_type": "execute_result"
    }
   ],
   "source": [
    "df = pd.DataFrame()\n",
    "df[\"Profile ID\"] = ids\n",
    "df.index = df[\"Profile ID\"] \n",
    "df.drop(\"Profile ID\", axis = 1, inplace = True )\n",
    "df[\"Cluster\"] = labels\n",
    "df.head()"
   ]
  },
  {
   "cell_type": "code",
   "execution_count": 72,
   "metadata": {},
   "outputs": [],
   "source": [
    "acorn = pd.read_csv(\"../Data/Londondata/revised_new.csv\")"
   ]
  },
  {
   "cell_type": "code",
   "execution_count": 73,
   "metadata": {},
   "outputs": [
    {
     "data": {
      "text/html": [
       "<div>\n",
       "<style scoped>\n",
       "    .dataframe tbody tr th:only-of-type {\n",
       "        vertical-align: middle;\n",
       "    }\n",
       "\n",
       "    .dataframe tbody tr th {\n",
       "        vertical-align: top;\n",
       "    }\n",
       "\n",
       "    .dataframe thead th {\n",
       "        text-align: right;\n",
       "    }\n",
       "</style>\n",
       "<table border=\"1\" class=\"dataframe\">\n",
       "  <thead>\n",
       "    <tr style=\"text-align: right;\">\n",
       "      <th></th>\n",
       "      <th>DateTime</th>\n",
       "      <th>Acorn</th>\n",
       "      <th>Acorn_grouped</th>\n",
       "      <th>KWH/hh (per half hour)</th>\n",
       "      <th>LCLid</th>\n",
       "      <th>stdorToU</th>\n",
       "      <th>year</th>\n",
       "    </tr>\n",
       "  </thead>\n",
       "  <tbody>\n",
       "    <tr>\n",
       "      <th>0</th>\n",
       "      <td>2013-01-01 00:00:00</td>\n",
       "      <td>ACORN-E</td>\n",
       "      <td>Affluent</td>\n",
       "      <td>0.023</td>\n",
       "      <td>MAC000036</td>\n",
       "      <td>Std</td>\n",
       "      <td>2013</td>\n",
       "    </tr>\n",
       "    <tr>\n",
       "      <th>1</th>\n",
       "      <td>2013-01-01 01:00:00</td>\n",
       "      <td>ACORN-E</td>\n",
       "      <td>Affluent</td>\n",
       "      <td>0.059</td>\n",
       "      <td>MAC000036</td>\n",
       "      <td>Std</td>\n",
       "      <td>2013</td>\n",
       "    </tr>\n",
       "    <tr>\n",
       "      <th>2</th>\n",
       "      <td>2013-01-01 02:00:00</td>\n",
       "      <td>ACORN-E</td>\n",
       "      <td>Affluent</td>\n",
       "      <td>0.000</td>\n",
       "      <td>MAC000036</td>\n",
       "      <td>Std</td>\n",
       "      <td>2013</td>\n",
       "    </tr>\n",
       "    <tr>\n",
       "      <th>3</th>\n",
       "      <td>2013-01-01 03:00:00</td>\n",
       "      <td>ACORN-E</td>\n",
       "      <td>Affluent</td>\n",
       "      <td>0.068</td>\n",
       "      <td>MAC000036</td>\n",
       "      <td>Std</td>\n",
       "      <td>2013</td>\n",
       "    </tr>\n",
       "    <tr>\n",
       "      <th>4</th>\n",
       "      <td>2013-01-01 04:00:00</td>\n",
       "      <td>ACORN-E</td>\n",
       "      <td>Affluent</td>\n",
       "      <td>0.000</td>\n",
       "      <td>MAC000036</td>\n",
       "      <td>Std</td>\n",
       "      <td>2013</td>\n",
       "    </tr>\n",
       "  </tbody>\n",
       "</table>\n",
       "</div>"
      ],
      "text/plain": [
       "              DateTime    Acorn Acorn_grouped  KWH/hh (per half hour)   \\\n",
       "0  2013-01-01 00:00:00  ACORN-E      Affluent                    0.023   \n",
       "1  2013-01-01 01:00:00  ACORN-E      Affluent                    0.059   \n",
       "2  2013-01-01 02:00:00  ACORN-E      Affluent                    0.000   \n",
       "3  2013-01-01 03:00:00  ACORN-E      Affluent                    0.068   \n",
       "4  2013-01-01 04:00:00  ACORN-E      Affluent                    0.000   \n",
       "\n",
       "       LCLid stdorToU  year  \n",
       "0  MAC000036      Std  2013  \n",
       "1  MAC000036      Std  2013  \n",
       "2  MAC000036      Std  2013  \n",
       "3  MAC000036      Std  2013  \n",
       "4  MAC000036      Std  2013  "
      ]
     },
     "execution_count": 73,
     "metadata": {},
     "output_type": "execute_result"
    }
   ],
   "source": [
    "acorn.head()"
   ]
  },
  {
   "cell_type": "code",
   "execution_count": 74,
   "metadata": {},
   "outputs": [],
   "source": [
    "acorn.drop_duplicates(subset =\"LCLid\", \n",
    "                     inplace = True)\n",
    "acorn = acorn[[\"LCLid\", \"Acorn\"]]\n",
    "acorn.index = acorn[\"LCLid\"]\n",
    "acorn.drop(\"LCLid\", axis = 1, inplace = True )\n",
    "\n"
   ]
  },
  {
   "cell_type": "code",
   "execution_count": 75,
   "metadata": {},
   "outputs": [],
   "source": [
    "acorn[\"Acorn\"] = acorn[\"Acorn\"].str.split(\"-\").str[-1]"
   ]
  },
  {
   "cell_type": "markdown",
   "metadata": {},
   "source": [
    "Assign the higher level of acorn profiling : 1 - Affluent Achievers, 2 - Rising Prosperity, 3 - Comfortable community, 4 - Financially stretched, 5 - Uban adversity  "
   ]
  },
  {
   "cell_type": "code",
   "execution_count": 76,
   "metadata": {},
   "outputs": [],
   "source": [
    "acorn[\"Acorn\"] = acorn[\"Acorn\"].where(\n",
    "    (acorn[\"Acorn\"] != 'A'), '1').where(\n",
    "    (acorn[\"Acorn\"] != 'B'), '1').where(\n",
    "    (acorn[\"Acorn\"] != 'C'), '1').where(\n",
    "    (acorn[\"Acorn\"] != 'D'), '2').where(\n",
    "    (acorn[\"Acorn\"] != 'E'), '2').where(\n",
    "    (acorn[\"Acorn\"] != 'F'), '3').where(\n",
    "    (acorn[\"Acorn\"] != 'G'), '3').where(\n",
    "    (acorn[\"Acorn\"] != 'H'), '3').where(\n",
    "    (acorn[\"Acorn\"] != 'I'), '3').where(\n",
    "    (acorn[\"Acorn\"] != 'J'), '3').where(\n",
    "    (acorn[\"Acorn\"] != 'K'), '4').where(\n",
    "    (acorn[\"Acorn\"] != 'L'), '4').where(\n",
    "    (acorn[\"Acorn\"] != 'M'), '4').where(\n",
    "    (acorn[\"Acorn\"] != 'N'), '4').where(\n",
    "    (acorn[\"Acorn\"] != 'O'), '5').where(\n",
    "    (acorn[\"Acorn\"] != 'P'), '5').where(\n",
    "    (acorn[\"Acorn\"] != 'Q'), '5').where(\n",
    "    (acorn[\"Acorn\"] != 'U'), 'Not assigned')"
   ]
  },
  {
   "cell_type": "code",
   "execution_count": 77,
   "metadata": {},
   "outputs": [
    {
     "data": {
      "text/html": [
       "<div>\n",
       "<style scoped>\n",
       "    .dataframe tbody tr th:only-of-type {\n",
       "        vertical-align: middle;\n",
       "    }\n",
       "\n",
       "    .dataframe tbody tr th {\n",
       "        vertical-align: top;\n",
       "    }\n",
       "\n",
       "    .dataframe thead th {\n",
       "        text-align: right;\n",
       "    }\n",
       "</style>\n",
       "<table border=\"1\" class=\"dataframe\">\n",
       "  <thead>\n",
       "    <tr style=\"text-align: right;\">\n",
       "      <th></th>\n",
       "      <th>Acorn</th>\n",
       "    </tr>\n",
       "    <tr>\n",
       "      <th>LCLid</th>\n",
       "      <th></th>\n",
       "    </tr>\n",
       "  </thead>\n",
       "  <tbody>\n",
       "    <tr>\n",
       "      <th>MAC000036</th>\n",
       "      <td>2</td>\n",
       "    </tr>\n",
       "    <tr>\n",
       "      <th>MAC000037</th>\n",
       "      <td>2</td>\n",
       "    </tr>\n",
       "    <tr>\n",
       "      <th>MAC000038</th>\n",
       "      <td>4</td>\n",
       "    </tr>\n",
       "    <tr>\n",
       "      <th>MAC000039</th>\n",
       "      <td>3</td>\n",
       "    </tr>\n",
       "    <tr>\n",
       "      <th>MAC000040</th>\n",
       "      <td>1</td>\n",
       "    </tr>\n",
       "  </tbody>\n",
       "</table>\n",
       "</div>"
      ],
      "text/plain": [
       "          Acorn\n",
       "LCLid          \n",
       "MAC000036     2\n",
       "MAC000037     2\n",
       "MAC000038     4\n",
       "MAC000039     3\n",
       "MAC000040     1"
      ]
     },
     "execution_count": 77,
     "metadata": {},
     "output_type": "execute_result"
    }
   ],
   "source": [
    "acorn.head()"
   ]
  },
  {
   "cell_type": "code",
   "execution_count": 78,
   "metadata": {},
   "outputs": [],
   "source": [
    "acorn1 = pd.merge(df, acorn, left_index=True, right_index=True)"
   ]
  },
  {
   "cell_type": "code",
   "execution_count": 79,
   "metadata": {
    "scrolled": true
   },
   "outputs": [],
   "source": [
    "cluster_0 = acorn1[acorn1[\"Cluster\"] == 0]\n",
    "cluster_1 = acorn1[acorn1[\"Cluster\"] == 1]\n",
    "cluster_2 = acorn1[acorn1[\"Cluster\"] == 2]\n",
    "cluster_3 = acorn1[acorn1[\"Cluster\"] == 3]"
   ]
  },
  {
   "cell_type": "code",
   "execution_count": 80,
   "metadata": {},
   "outputs": [
    {
     "data": {
      "text/plain": [
       "array(['2', '3', '5', '4', '1'], dtype=object)"
      ]
     },
     "execution_count": 80,
     "metadata": {},
     "output_type": "execute_result"
    }
   ],
   "source": [
    "cluster_0.Acorn.unique()"
   ]
  },
  {
   "cell_type": "code",
   "execution_count": 81,
   "metadata": {},
   "outputs": [
    {
     "data": {
      "text/html": [
       "<div>\n",
       "<style scoped>\n",
       "    .dataframe tbody tr th:only-of-type {\n",
       "        vertical-align: middle;\n",
       "    }\n",
       "\n",
       "    .dataframe tbody tr th {\n",
       "        vertical-align: top;\n",
       "    }\n",
       "\n",
       "    .dataframe thead th {\n",
       "        text-align: right;\n",
       "    }\n",
       "</style>\n",
       "<table border=\"1\" class=\"dataframe\">\n",
       "  <thead>\n",
       "    <tr style=\"text-align: right;\">\n",
       "      <th></th>\n",
       "      <th>Cluster</th>\n",
       "    </tr>\n",
       "    <tr>\n",
       "      <th>Acorn</th>\n",
       "      <th></th>\n",
       "    </tr>\n",
       "  </thead>\n",
       "  <tbody>\n",
       "    <tr>\n",
       "      <th>1</th>\n",
       "      <td>6</td>\n",
       "    </tr>\n",
       "    <tr>\n",
       "      <th>2</th>\n",
       "      <td>54</td>\n",
       "    </tr>\n",
       "    <tr>\n",
       "      <th>3</th>\n",
       "      <td>39</td>\n",
       "    </tr>\n",
       "    <tr>\n",
       "      <th>4</th>\n",
       "      <td>23</td>\n",
       "    </tr>\n",
       "    <tr>\n",
       "      <th>5</th>\n",
       "      <td>21</td>\n",
       "    </tr>\n",
       "  </tbody>\n",
       "</table>\n",
       "</div>"
      ],
      "text/plain": [
       "       Cluster\n",
       "Acorn         \n",
       "1            6\n",
       "2           54\n",
       "3           39\n",
       "4           23\n",
       "5           21"
      ]
     },
     "execution_count": 81,
     "metadata": {},
     "output_type": "execute_result"
    }
   ],
   "source": [
    "cluster_0.groupby('Acorn').count()"
   ]
  },
  {
   "cell_type": "code",
   "execution_count": 82,
   "metadata": {},
   "outputs": [
    {
     "data": {
      "text/html": [
       "<div>\n",
       "<style scoped>\n",
       "    .dataframe tbody tr th:only-of-type {\n",
       "        vertical-align: middle;\n",
       "    }\n",
       "\n",
       "    .dataframe tbody tr th {\n",
       "        vertical-align: top;\n",
       "    }\n",
       "\n",
       "    .dataframe thead th {\n",
       "        text-align: right;\n",
       "    }\n",
       "</style>\n",
       "<table border=\"1\" class=\"dataframe\">\n",
       "  <thead>\n",
       "    <tr style=\"text-align: right;\">\n",
       "      <th></th>\n",
       "      <th>Cluster</th>\n",
       "    </tr>\n",
       "    <tr>\n",
       "      <th>Acorn</th>\n",
       "      <th></th>\n",
       "    </tr>\n",
       "  </thead>\n",
       "  <tbody>\n",
       "    <tr>\n",
       "      <th>1</th>\n",
       "      <td>4</td>\n",
       "    </tr>\n",
       "    <tr>\n",
       "      <th>2</th>\n",
       "      <td>43</td>\n",
       "    </tr>\n",
       "    <tr>\n",
       "      <th>3</th>\n",
       "      <td>35</td>\n",
       "    </tr>\n",
       "    <tr>\n",
       "      <th>4</th>\n",
       "      <td>14</td>\n",
       "    </tr>\n",
       "    <tr>\n",
       "      <th>5</th>\n",
       "      <td>25</td>\n",
       "    </tr>\n",
       "    <tr>\n",
       "      <th>Not assigned</th>\n",
       "      <td>1</td>\n",
       "    </tr>\n",
       "  </tbody>\n",
       "</table>\n",
       "</div>"
      ],
      "text/plain": [
       "              Cluster\n",
       "Acorn                \n",
       "1                   4\n",
       "2                  43\n",
       "3                  35\n",
       "4                  14\n",
       "5                  25\n",
       "Not assigned        1"
      ]
     },
     "execution_count": 82,
     "metadata": {},
     "output_type": "execute_result"
    }
   ],
   "source": [
    "cluster_1.groupby('Acorn').count()"
   ]
  },
  {
   "cell_type": "code",
   "execution_count": 83,
   "metadata": {},
   "outputs": [
    {
     "data": {
      "text/html": [
       "<div>\n",
       "<style scoped>\n",
       "    .dataframe tbody tr th:only-of-type {\n",
       "        vertical-align: middle;\n",
       "    }\n",
       "\n",
       "    .dataframe tbody tr th {\n",
       "        vertical-align: top;\n",
       "    }\n",
       "\n",
       "    .dataframe thead th {\n",
       "        text-align: right;\n",
       "    }\n",
       "</style>\n",
       "<table border=\"1\" class=\"dataframe\">\n",
       "  <thead>\n",
       "    <tr style=\"text-align: right;\">\n",
       "      <th></th>\n",
       "      <th>Cluster</th>\n",
       "    </tr>\n",
       "    <tr>\n",
       "      <th>Acorn</th>\n",
       "      <th></th>\n",
       "    </tr>\n",
       "  </thead>\n",
       "  <tbody>\n",
       "    <tr>\n",
       "      <th>1</th>\n",
       "      <td>2</td>\n",
       "    </tr>\n",
       "    <tr>\n",
       "      <th>2</th>\n",
       "      <td>37</td>\n",
       "    </tr>\n",
       "    <tr>\n",
       "      <th>3</th>\n",
       "      <td>21</td>\n",
       "    </tr>\n",
       "    <tr>\n",
       "      <th>4</th>\n",
       "      <td>11</td>\n",
       "    </tr>\n",
       "    <tr>\n",
       "      <th>5</th>\n",
       "      <td>17</td>\n",
       "    </tr>\n",
       "  </tbody>\n",
       "</table>\n",
       "</div>"
      ],
      "text/plain": [
       "       Cluster\n",
       "Acorn         \n",
       "1            2\n",
       "2           37\n",
       "3           21\n",
       "4           11\n",
       "5           17"
      ]
     },
     "execution_count": 83,
     "metadata": {},
     "output_type": "execute_result"
    }
   ],
   "source": [
    "cluster_2.groupby('Acorn').count()"
   ]
  },
  {
   "cell_type": "code",
   "execution_count": 84,
   "metadata": {},
   "outputs": [
    {
     "data": {
      "text/html": [
       "<div>\n",
       "<style scoped>\n",
       "    .dataframe tbody tr th:only-of-type {\n",
       "        vertical-align: middle;\n",
       "    }\n",
       "\n",
       "    .dataframe tbody tr th {\n",
       "        vertical-align: top;\n",
       "    }\n",
       "\n",
       "    .dataframe thead th {\n",
       "        text-align: right;\n",
       "    }\n",
       "</style>\n",
       "<table border=\"1\" class=\"dataframe\">\n",
       "  <thead>\n",
       "    <tr style=\"text-align: right;\">\n",
       "      <th></th>\n",
       "      <th>Cluster</th>\n",
       "    </tr>\n",
       "    <tr>\n",
       "      <th>Acorn</th>\n",
       "      <th></th>\n",
       "    </tr>\n",
       "  </thead>\n",
       "  <tbody>\n",
       "    <tr>\n",
       "      <th>1</th>\n",
       "      <td>2</td>\n",
       "    </tr>\n",
       "    <tr>\n",
       "      <th>2</th>\n",
       "      <td>11</td>\n",
       "    </tr>\n",
       "    <tr>\n",
       "      <th>3</th>\n",
       "      <td>16</td>\n",
       "    </tr>\n",
       "    <tr>\n",
       "      <th>4</th>\n",
       "      <td>7</td>\n",
       "    </tr>\n",
       "    <tr>\n",
       "      <th>5</th>\n",
       "      <td>14</td>\n",
       "    </tr>\n",
       "  </tbody>\n",
       "</table>\n",
       "</div>"
      ],
      "text/plain": [
       "       Cluster\n",
       "Acorn         \n",
       "1            2\n",
       "2           11\n",
       "3           16\n",
       "4            7\n",
       "5           14"
      ]
     },
     "execution_count": 84,
     "metadata": {},
     "output_type": "execute_result"
    }
   ],
   "source": [
    "cluster_3.groupby('Acorn').count()"
   ]
  },
  {
   "cell_type": "markdown",
   "metadata": {},
   "source": [
    "### Dynamic Time Wrapping"
   ]
  },
  {
   "cell_type": "code",
   "execution_count": 11,
   "metadata": {},
   "outputs": [
    {
     "ename": "KeyboardInterrupt",
     "evalue": "",
     "output_type": "error",
     "traceback": [
      "\u001b[1;31m---------------------------------------------------------------------------\u001b[0m",
      "\u001b[1;31mKeyboardInterrupt\u001b[0m                         Traceback (most recent call last)",
      "\u001b[1;32m~\\Anaconda3\\lib\\site-packages\\IPython\\core\\interactiveshell.py\u001b[0m in \u001b[0;36mrun_code\u001b[1;34m(self, code_obj, result, async_)\u001b[0m\n\u001b[0;32m   3324\u001b[0m                 \u001b[1;32melse\u001b[0m\u001b[1;33m:\u001b[0m\u001b[1;33m\u001b[0m\u001b[1;33m\u001b[0m\u001b[0m\n\u001b[1;32m-> 3325\u001b[1;33m                     \u001b[0mexec\u001b[0m\u001b[1;33m(\u001b[0m\u001b[0mcode_obj\u001b[0m\u001b[1;33m,\u001b[0m \u001b[0mself\u001b[0m\u001b[1;33m.\u001b[0m\u001b[0muser_global_ns\u001b[0m\u001b[1;33m,\u001b[0m \u001b[0mself\u001b[0m\u001b[1;33m.\u001b[0m\u001b[0muser_ns\u001b[0m\u001b[1;33m)\u001b[0m\u001b[1;33m\u001b[0m\u001b[1;33m\u001b[0m\u001b[0m\n\u001b[0m\u001b[0;32m   3326\u001b[0m             \u001b[1;32mfinally\u001b[0m\u001b[1;33m:\u001b[0m\u001b[1;33m\u001b[0m\u001b[1;33m\u001b[0m\u001b[0m\n",
      "\u001b[1;32m<ipython-input-11-886b01a80ace>\u001b[0m in \u001b[0;36m<module>\u001b[1;34m\u001b[0m\n\u001b[0;32m      1\u001b[0m \u001b[0mmodel\u001b[0m \u001b[1;33m=\u001b[0m \u001b[0mTimeSeriesKMeans\u001b[0m\u001b[1;33m(\u001b[0m\u001b[0mn_clusters\u001b[0m\u001b[1;33m=\u001b[0m\u001b[1;36m3\u001b[0m\u001b[1;33m,\u001b[0m \u001b[0mmetric\u001b[0m\u001b[1;33m=\u001b[0m\u001b[1;34m\"dtw\"\u001b[0m\u001b[1;33m,\u001b[0m \u001b[0mmax_iter\u001b[0m\u001b[1;33m=\u001b[0m\u001b[1;36m10\u001b[0m\u001b[1;33m)\u001b[0m\u001b[1;33m\u001b[0m\u001b[1;33m\u001b[0m\u001b[0m\n\u001b[1;32m----> 2\u001b[1;33m \u001b[0mmodel\u001b[0m\u001b[1;33m.\u001b[0m\u001b[0mfit\u001b[0m\u001b[1;33m(\u001b[0m\u001b[0mlondon_cluster\u001b[0m\u001b[1;33m)\u001b[0m\u001b[1;33m\u001b[0m\u001b[1;33m\u001b[0m\u001b[0m\n\u001b[0m",
      "\u001b[1;32m~\\Anaconda3\\lib\\site-packages\\tslearn\\clustering\\kmeans.py\u001b[0m in \u001b[0;36mfit\u001b[1;34m(self, X, y)\u001b[0m\n\u001b[0;32m    779\u001b[0m                 \u001b[0mn_attempts\u001b[0m \u001b[1;33m+=\u001b[0m \u001b[1;36m1\u001b[0m\u001b[1;33m\u001b[0m\u001b[1;33m\u001b[0m\u001b[0m\n\u001b[1;32m--> 780\u001b[1;33m                 \u001b[0mself\u001b[0m\u001b[1;33m.\u001b[0m\u001b[0m_fit_one_init\u001b[0m\u001b[1;33m(\u001b[0m\u001b[0mX_\u001b[0m\u001b[1;33m,\u001b[0m \u001b[0mx_squared_norms\u001b[0m\u001b[1;33m,\u001b[0m \u001b[0mrs\u001b[0m\u001b[1;33m)\u001b[0m\u001b[1;33m\u001b[0m\u001b[1;33m\u001b[0m\u001b[0m\n\u001b[0m\u001b[0;32m    781\u001b[0m                 \u001b[1;32mif\u001b[0m \u001b[0mself\u001b[0m\u001b[1;33m.\u001b[0m\u001b[0minertia_\u001b[0m \u001b[1;33m<\u001b[0m \u001b[0mmin_inertia\u001b[0m\u001b[1;33m:\u001b[0m\u001b[1;33m\u001b[0m\u001b[1;33m\u001b[0m\u001b[0m\n",
      "\u001b[1;32m~\\Anaconda3\\lib\\site-packages\\tslearn\\clustering\\kmeans.py\u001b[0m in \u001b[0;36m_fit_one_init\u001b[1;34m(self, X, x_squared_norms, rs)\u001b[0m\n\u001b[0;32m    664\u001b[0m                 \u001b[0mprint\u001b[0m\u001b[1;33m(\u001b[0m\u001b[1;34m\"%.3f\"\u001b[0m \u001b[1;33m%\u001b[0m \u001b[0mself\u001b[0m\u001b[1;33m.\u001b[0m\u001b[0minertia_\u001b[0m\u001b[1;33m,\u001b[0m \u001b[0mend\u001b[0m\u001b[1;33m=\u001b[0m\u001b[1;34m\" --> \"\u001b[0m\u001b[1;33m)\u001b[0m\u001b[1;33m\u001b[0m\u001b[1;33m\u001b[0m\u001b[0m\n\u001b[1;32m--> 665\u001b[1;33m             \u001b[0mself\u001b[0m\u001b[1;33m.\u001b[0m\u001b[0m_update_centroids\u001b[0m\u001b[1;33m(\u001b[0m\u001b[0mX\u001b[0m\u001b[1;33m)\u001b[0m\u001b[1;33m\u001b[0m\u001b[1;33m\u001b[0m\u001b[0m\n\u001b[0m\u001b[0;32m    666\u001b[0m \u001b[1;33m\u001b[0m\u001b[0m\n",
      "\u001b[1;32m~\\Anaconda3\\lib\\site-packages\\tslearn\\clustering\\kmeans.py\u001b[0m in \u001b[0;36m_update_centroids\u001b[1;34m(self, X)\u001b[0m\n\u001b[0;32m    717\u001b[0m                     \u001b[0mmetric_params\u001b[0m\u001b[1;33m=\u001b[0m\u001b[0mmetric_params\u001b[0m\u001b[1;33m,\u001b[0m\u001b[1;33m\u001b[0m\u001b[1;33m\u001b[0m\u001b[0m\n\u001b[1;32m--> 718\u001b[1;33m                     verbose=False)\n\u001b[0m\u001b[0;32m    719\u001b[0m             \u001b[1;32melif\u001b[0m \u001b[0mself\u001b[0m\u001b[1;33m.\u001b[0m\u001b[0mmetric\u001b[0m \u001b[1;33m==\u001b[0m \u001b[1;34m\"softdtw\"\u001b[0m\u001b[1;33m:\u001b[0m\u001b[1;33m\u001b[0m\u001b[1;33m\u001b[0m\u001b[0m\n",
      "\u001b[1;32m~\\Anaconda3\\lib\\site-packages\\tslearn\\barycenters\\dba.py\u001b[0m in \u001b[0;36mdtw_barycenter_averaging\u001b[1;34m(X, barycenter_size, init_barycenter, max_iter, tol, weights, metric_params, verbose, n_init)\u001b[0m\n\u001b[0;32m    505\u001b[0m             \u001b[0mmetric_params\u001b[0m\u001b[1;33m=\u001b[0m\u001b[0mmetric_params\u001b[0m\u001b[1;33m,\u001b[0m\u001b[1;33m\u001b[0m\u001b[1;33m\u001b[0m\u001b[0m\n\u001b[1;32m--> 506\u001b[1;33m             \u001b[0mverbose\u001b[0m\u001b[1;33m=\u001b[0m\u001b[0mverbose\u001b[0m\u001b[1;33m\u001b[0m\u001b[1;33m\u001b[0m\u001b[0m\n\u001b[0m\u001b[0;32m    507\u001b[0m         )\n",
      "\u001b[1;32m~\\Anaconda3\\lib\\site-packages\\tslearn\\barycenters\\dba.py\u001b[0m in \u001b[0;36mdtw_barycenter_averaging_one_init\u001b[1;34m(X, barycenter_size, init_barycenter, max_iter, tol, weights, metric_params, verbose)\u001b[0m\n\u001b[0;32m    589\u001b[0m     \u001b[1;32mfor\u001b[0m \u001b[0mit\u001b[0m \u001b[1;32min\u001b[0m \u001b[0mrange\u001b[0m\u001b[1;33m(\u001b[0m\u001b[0mmax_iter\u001b[0m\u001b[1;33m)\u001b[0m\u001b[1;33m:\u001b[0m\u001b[1;33m\u001b[0m\u001b[1;33m\u001b[0m\u001b[0m\n\u001b[1;32m--> 590\u001b[1;33m         \u001b[0mlist_p_k\u001b[0m\u001b[1;33m,\u001b[0m \u001b[0mcost\u001b[0m \u001b[1;33m=\u001b[0m \u001b[0m_mm_assignment\u001b[0m\u001b[1;33m(\u001b[0m\u001b[0mX_\u001b[0m\u001b[1;33m,\u001b[0m \u001b[0mbarycenter\u001b[0m\u001b[1;33m,\u001b[0m \u001b[0mweights\u001b[0m\u001b[1;33m,\u001b[0m \u001b[0mmetric_params\u001b[0m\u001b[1;33m)\u001b[0m\u001b[1;33m\u001b[0m\u001b[1;33m\u001b[0m\u001b[0m\n\u001b[0m\u001b[0;32m    591\u001b[0m         diag_sum_v_k, list_w_k = _mm_valence_warping(list_p_k, barycenter_size,\n",
      "\u001b[1;32m~\\Anaconda3\\lib\\site-packages\\tslearn\\barycenters\\dba.py\u001b[0m in \u001b[0;36m_mm_assignment\u001b[1;34m(X, barycenter, weights, metric_params)\u001b[0m\n\u001b[0;32m    213\u001b[0m     \u001b[1;32mfor\u001b[0m \u001b[0mi\u001b[0m \u001b[1;32min\u001b[0m \u001b[0mrange\u001b[0m\u001b[1;33m(\u001b[0m\u001b[0mn\u001b[0m\u001b[1;33m)\u001b[0m\u001b[1;33m:\u001b[0m\u001b[1;33m\u001b[0m\u001b[1;33m\u001b[0m\u001b[0m\n\u001b[1;32m--> 214\u001b[1;33m         \u001b[0mpath\u001b[0m\u001b[1;33m,\u001b[0m \u001b[0mdist_i\u001b[0m \u001b[1;33m=\u001b[0m \u001b[0mdtw_path\u001b[0m\u001b[1;33m(\u001b[0m\u001b[0mbarycenter\u001b[0m\u001b[1;33m,\u001b[0m \u001b[0mX\u001b[0m\u001b[1;33m[\u001b[0m\u001b[0mi\u001b[0m\u001b[1;33m]\u001b[0m\u001b[1;33m,\u001b[0m \u001b[1;33m**\u001b[0m\u001b[0mmetric_params\u001b[0m\u001b[1;33m)\u001b[0m\u001b[1;33m\u001b[0m\u001b[1;33m\u001b[0m\u001b[0m\n\u001b[0m\u001b[0;32m    215\u001b[0m         \u001b[0mcost\u001b[0m \u001b[1;33m+=\u001b[0m \u001b[0mdist_i\u001b[0m \u001b[1;33m**\u001b[0m \u001b[1;36m2\u001b[0m \u001b[1;33m*\u001b[0m \u001b[0mweights\u001b[0m\u001b[1;33m[\u001b[0m\u001b[0mi\u001b[0m\u001b[1;33m]\u001b[0m\u001b[1;33m\u001b[0m\u001b[1;33m\u001b[0m\u001b[0m\n",
      "\u001b[1;32m~\\Anaconda3\\lib\\site-packages\\tslearn\\metrics\\dtw_variants.py\u001b[0m in \u001b[0;36mdtw_path\u001b[1;34m(s1, s2, global_constraint, sakoe_chiba_radius, itakura_max_slope)\u001b[0m\n\u001b[0;32m    193\u001b[0m         \u001b[0ms1\u001b[0m\u001b[1;33m,\u001b[0m \u001b[0ms2\u001b[0m\u001b[1;33m,\u001b[0m \u001b[0mGLOBAL_CONSTRAINT_CODE\u001b[0m\u001b[1;33m[\u001b[0m\u001b[0mglobal_constraint\u001b[0m\u001b[1;33m]\u001b[0m\u001b[1;33m,\u001b[0m\u001b[1;33m\u001b[0m\u001b[1;33m\u001b[0m\u001b[0m\n\u001b[1;32m--> 194\u001b[1;33m         \u001b[0msakoe_chiba_radius\u001b[0m\u001b[1;33m,\u001b[0m \u001b[0mitakura_max_slope\u001b[0m\u001b[1;33m\u001b[0m\u001b[1;33m\u001b[0m\u001b[0m\n\u001b[0m\u001b[0;32m    195\u001b[0m     )\n",
      "\u001b[1;32m~\\Anaconda3\\lib\\site-packages\\tslearn\\metrics\\dtw_variants.py\u001b[0m in \u001b[0;36mcompute_mask\u001b[1;34m(s1, s2, global_constraint, sakoe_chiba_radius, itakura_max_slope)\u001b[0m\n\u001b[0;32m   1125\u001b[0m     \u001b[1;32melse\u001b[0m\u001b[1;33m:\u001b[0m\u001b[1;33m\u001b[0m\u001b[1;33m\u001b[0m\u001b[0m\n\u001b[1;32m-> 1126\u001b[1;33m         \u001b[0mmask\u001b[0m \u001b[1;33m=\u001b[0m \u001b[0mnumpy\u001b[0m\u001b[1;33m.\u001b[0m\u001b[0mzeros\u001b[0m\u001b[1;33m(\u001b[0m\u001b[1;33m(\u001b[0m\u001b[0msz1\u001b[0m\u001b[1;33m,\u001b[0m \u001b[0msz2\u001b[0m\u001b[1;33m)\u001b[0m\u001b[1;33m)\u001b[0m\u001b[1;33m\u001b[0m\u001b[1;33m\u001b[0m\u001b[0m\n\u001b[0m\u001b[0;32m   1127\u001b[0m     \u001b[1;32mreturn\u001b[0m \u001b[0mmask\u001b[0m\u001b[1;33m\u001b[0m\u001b[1;33m\u001b[0m\u001b[0m\n",
      "\u001b[1;31mKeyboardInterrupt\u001b[0m: ",
      "\nDuring handling of the above exception, another exception occurred:\n",
      "\u001b[1;31mKeyboardInterrupt\u001b[0m                         Traceback (most recent call last)",
      "\u001b[1;32m~\\Anaconda3\\lib\\site-packages\\IPython\\core\\interactiveshell.py\u001b[0m in \u001b[0;36mrun_code\u001b[1;34m(self, code_obj, result, async_)\u001b[0m\n\u001b[0;32m   3340\u001b[0m             \u001b[1;32mif\u001b[0m \u001b[0mresult\u001b[0m \u001b[1;32mis\u001b[0m \u001b[1;32mnot\u001b[0m \u001b[1;32mNone\u001b[0m\u001b[1;33m:\u001b[0m\u001b[1;33m\u001b[0m\u001b[1;33m\u001b[0m\u001b[0m\n\u001b[0;32m   3341\u001b[0m                 \u001b[0mresult\u001b[0m\u001b[1;33m.\u001b[0m\u001b[0merror_in_exec\u001b[0m \u001b[1;33m=\u001b[0m \u001b[0msys\u001b[0m\u001b[1;33m.\u001b[0m\u001b[0mexc_info\u001b[0m\u001b[1;33m(\u001b[0m\u001b[1;33m)\u001b[0m\u001b[1;33m[\u001b[0m\u001b[1;36m1\u001b[0m\u001b[1;33m]\u001b[0m\u001b[1;33m\u001b[0m\u001b[1;33m\u001b[0m\u001b[0m\n\u001b[1;32m-> 3342\u001b[1;33m             \u001b[0mself\u001b[0m\u001b[1;33m.\u001b[0m\u001b[0mshowtraceback\u001b[0m\u001b[1;33m(\u001b[0m\u001b[0mrunning_compiled_code\u001b[0m\u001b[1;33m=\u001b[0m\u001b[1;32mTrue\u001b[0m\u001b[1;33m)\u001b[0m\u001b[1;33m\u001b[0m\u001b[1;33m\u001b[0m\u001b[0m\n\u001b[0m\u001b[0;32m   3343\u001b[0m         \u001b[1;32melse\u001b[0m\u001b[1;33m:\u001b[0m\u001b[1;33m\u001b[0m\u001b[1;33m\u001b[0m\u001b[0m\n\u001b[0;32m   3344\u001b[0m             \u001b[0moutflag\u001b[0m \u001b[1;33m=\u001b[0m \u001b[1;32mFalse\u001b[0m\u001b[1;33m\u001b[0m\u001b[1;33m\u001b[0m\u001b[0m\n",
      "\u001b[1;31mKeyboardInterrupt\u001b[0m: "
     ]
    }
   ],
   "source": [
    "model = TimeSeriesKMeans(n_clusters=3, metric=\"dtw\", max_iter=10)\n",
    "model.fit(london_cluster)"
   ]
  }
 ],
 "metadata": {
  "kernelspec": {
   "display_name": "Python 3",
   "language": "python",
   "name": "python3"
  },
  "language_info": {
   "codemirror_mode": {
    "name": "ipython",
    "version": 3
   },
   "file_extension": ".py",
   "mimetype": "text/x-python",
   "name": "python",
   "nbconvert_exporter": "python",
   "pygments_lexer": "ipython3",
   "version": "3.7.3"
  }
 },
 "nbformat": 4,
 "nbformat_minor": 2
}
