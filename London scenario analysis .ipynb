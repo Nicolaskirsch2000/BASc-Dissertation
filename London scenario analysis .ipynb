{
 "cells": [
  {
   "cell_type": "code",
   "execution_count": 35,
   "metadata": {},
   "outputs": [
    {
     "ename": "ImportError",
     "evalue": "cannot import name 'Point' from 'matplotlib.lines' (C:\\Users\\Kirsch\\Anaconda3\\lib\\site-packages\\matplotlib\\lines.py)",
     "output_type": "error",
     "traceback": [
      "\u001b[1;31m---------------------------------------------------------------------------\u001b[0m",
      "\u001b[1;31mImportError\u001b[0m                               Traceback (most recent call last)",
      "\u001b[1;32m<ipython-input-35-0651d112762c>\u001b[0m in \u001b[0;36m<module>\u001b[1;34m\u001b[0m\n\u001b[0;32m      5\u001b[0m \u001b[1;32mimport\u001b[0m \u001b[0mmatplotlib\u001b[0m\u001b[1;33m.\u001b[0m\u001b[0mpyplot\u001b[0m \u001b[1;32mas\u001b[0m \u001b[0mplt\u001b[0m\u001b[1;33m\u001b[0m\u001b[1;33m\u001b[0m\u001b[0m\n\u001b[0;32m      6\u001b[0m \u001b[1;32mfrom\u001b[0m \u001b[0mmatplotlib\u001b[0m\u001b[1;33m.\u001b[0m\u001b[0mpyplot\u001b[0m \u001b[1;32mimport\u001b[0m \u001b[0mfigure\u001b[0m\u001b[1;33m\u001b[0m\u001b[1;33m\u001b[0m\u001b[0m\n\u001b[1;32m----> 7\u001b[1;33m \u001b[1;32mfrom\u001b[0m \u001b[0mmatplotlib\u001b[0m\u001b[1;33m.\u001b[0m\u001b[0mlines\u001b[0m \u001b[1;32mimport\u001b[0m \u001b[0mPoint\u001b[0m\u001b[1;33m\u001b[0m\u001b[1;33m\u001b[0m\u001b[0m\n\u001b[0m",
      "\u001b[1;31mImportError\u001b[0m: cannot import name 'Point' from 'matplotlib.lines' (C:\\Users\\Kirsch\\Anaconda3\\lib\\site-packages\\matplotlib\\lines.py)"
     ]
    }
   ],
   "source": [
    "%matplotlib inline\n",
    "\n",
    "import pandas as pd\n",
    "import numpy as np\n",
    "import matplotlib.pyplot as plt\n",
    "from matplotlib.pyplot import figure\n",
    "from matplotlib.lines import Point"
   ]
  },
  {
   "cell_type": "code",
   "execution_count": 25,
   "metadata": {},
   "outputs": [],
   "source": [
    "df = pd.read_csv(\"../Data/Hourly consumtpion per cluster.csv\")\n",
    "df[\"time\"] = df[\"time\"].astype(str).str.zfill(3)\n",
    "df.index = df[\"time\"]\n",
    "df[\"day\"] = df[\"time\"].str[:1]\n",
    "df[\"hour\"] = df[\"time\"].str[1:]\n",
    "df.drop(['time','Unnamed: 0'], axis = 1, inplace = True)\n",
    "\n",
    "\n"
   ]
  },
  {
   "cell_type": "code",
   "execution_count": 43,
   "metadata": {},
   "outputs": [
    {
     "data": {
      "image/png": "[encoded data removed]",
      "text/plain": [
       "<Figure size 432x288 with 1 Axes>"
      ]
     },
     "metadata": {
      "needs_background": "light"
     },
     "output_type": "display_data"
    }
   ],
   "source": [
    "a = df.groupby('time')['consumption_kWh'].apply(lambda x: np.sum(x)).to_frame()\n",
    "\n",
    "a['Morn-Ev'] = 'C1'\n",
    "a['Morn-Ev'] = a['Morn-Ev'].where(a.index.str[1:].astype(int) <12 , \"C2\")\n",
    "a.head()\n",
    "\n",
    "z = df.iloc[range(0,168),-3]\n",
    "a[\"CO2_intensity\"] = z\n",
    "\n",
    "morn = a[a['Morn-Ev']=='Morning']\n",
    "ev = a[a['Morn-Ev']=='Evening']\n",
    "\n",
    "plt.figure()\n",
    "\n",
    "plt.scatter(x = morn['consumption_kWh'], y = morn['CO2_intensity'], color = 'C1', label = 'Morning')\n",
    "plt.scatter(x = ev['consumption_kWh'], y = ev['CO2_intensity'], color = 'C2', label = 'Evening')\n",
    "\n",
    "plt.title(\"Relationship between total energy consumption and carbon intensity for London\")\n",
    "plt.xlabel(\"Energy consumption (kWh)\")\n",
    "plt.ylabel(\"Carbon intensity (gCO2/kWh)\")\n",
    "\n",
    "plt.legend()            \n",
    "plt.savefig(\"Carbon Intensity vs Consumption London.png\")"
   ]
  },
  {
   "cell_type": "code",
   "execution_count": 5,
   "metadata": {},
   "outputs": [
    {
     "data": {
      "text/plain": [
       "0.6462240151104416"
      ]
     },
     "execution_count": 5,
     "metadata": {},
     "output_type": "execute_result"
    }
   ],
   "source": [
    "a['consumption_kWh'].corr(a['CO2_intensity'])"
   ]
  },
  {
   "cell_type": "markdown",
   "metadata": {},
   "source": [
    "## Reduction of energy consumption "
   ]
  },
  {
   "cell_type": "markdown",
   "metadata": {},
   "source": [
    "Evaluate the impact a X% reduction in energy consumption of a cluster during evening peak could have on overall consumption and co2 emissions. \n",
    "\n",
    "We look at cluster 5 between 6 and 10 pm"
   ]
  },
  {
   "cell_type": "code",
   "execution_count": 127,
   "metadata": {},
   "outputs": [],
   "source": [
    "eff = df.copy()\n",
    "\n",
    "eff[\"Efficiency\"] = 1\n",
    "eff.head()\n",
    "\n",
    "eff[\"Efficiency\"] = eff[\"Efficiency\"].where(\n",
    "    ((eff[\"hour\"] != \"06\") & (eff[\"hour\"] != \"07\") & (eff[\"hour\"] != \"08\")\n",
    "    & (eff[\"hour\"] != \"09\") &(eff[\"hour\"] != \"10\")) | (eff[\"Cluster\"] != 4 ) , 0.98)\n"
   ]
  },
  {
   "cell_type": "code",
   "execution_count": 128,
   "metadata": {},
   "outputs": [],
   "source": [
    "eff[\"Emissions\"] = eff[\"consumption_kWh\"]*eff[\"CO2_intensity\"]*eff[\"Efficiency\"]\n",
    "cluster_emissions = eff.groupby('Cluster')[\"Emissions\"].apply(lambda x: np.sum(x\n",
    "                                                                    )).to_frame()\n"
   ]
  },
  {
   "cell_type": "code",
   "execution_count": 129,
   "metadata": {},
   "outputs": [
    {
     "data": {
      "text/plain": [
       "<BarContainer object of 5 artists>"
      ]
     },
     "execution_count": 129,
     "metadata": {},
     "output_type": "execute_result"
    },
    {
     "data": {
      "image/png": "[encoded data removed]",
      "text/plain": [
       "<Figure size 432x288 with 1 Axes>"
      ]
     },
     "metadata": {
      "needs_background": "light"
     },
     "output_type": "display_data"
    }
   ],
   "source": [
    "plt.title(\"Total emissions for every cluster in London\")\n",
    "plt.xlabel(\"Clusters\")\n",
    "plt.ylabel('Emissions (gCO2)')\n",
    "plt.bar(cluster_emissions.index+1, cluster_emissions['Emissions'], color =[\"C0\", \"C1\", \"C2\", \"C3\", \"C4\"])"
   ]
  },
  {
   "cell_type": "code",
   "execution_count": 130,
   "metadata": {},
   "outputs": [
    {
     "data": {
      "text/plain": [
       "28858493.4298305"
      ]
     },
     "execution_count": 130,
     "metadata": {},
     "output_type": "execute_result"
    }
   ],
   "source": [
    "total_emissions = cluster_emissions['Emissions'].sum()\n",
    "total_emissions"
   ]
  },
  {
   "cell_type": "code",
   "execution_count": null,
   "metadata": {},
   "outputs": [],
   "source": [
    "eff = df.copy()\n",
    "\n",
    "decrease = np.arange(1, 0.45, -0.05)\n",
    "result = [None]*len(decrease)\n",
    "print(len(decrease))\n",
    "eff[\"Efficiency\"] = 1\n",
    "eff.head()\n",
    "\n",
    "for i in range(len(decrease)) : \n",
    "    \n",
    "    eff[\"Efficiency\"] = eff[\"Efficiency\"].where(\n",
    "        ((eff[\"hour\"] != \"06\") & (eff[\"hour\"] != \"07\") & (eff[\"hour\"] != \"08\")\n",
    "        & (eff[\"hour\"] != \"09\") &(eff[\"hour\"] != \"10\")) | (eff[\"Cluster\"] != 4 ) , decrease[i])\n",
    "    eff[\"Emissions\"] = eff[\"consumption_kWh\"]*eff[\"CO2_intensity\"]*eff[\"Efficiency\"]\n",
    "    cluster_emissions = eff.groupby('Cluster')[\"Emissions\"].apply(lambda x: np.sum(x\n",
    "                                                                      )).to_frame()\n",
    "    result[i] = cluster_emissions.iloc[4,0]\n",
    "\n",
    "plt.xlim(1, 0.5)\n",
    "plt.plot(decrease,result)\n"
   ]
  }
 ],
 "metadata": {
  "kernelspec": {
   "display_name": "Python 3",
   "language": "python",
   "name": "python3"
  },
  "language_info": {
   "codemirror_mode": {
    "name": "ipython",
    "version": 3
   },
   "file_extension": ".py",
   "mimetype": "text/x-python",
   "name": "python",
   "nbconvert_exporter": "python",
   "pygments_lexer": "ipython3",
   "version": "3.7.3"
  }
 },
 "nbformat": 4,
 "nbformat_minor": 2
}
