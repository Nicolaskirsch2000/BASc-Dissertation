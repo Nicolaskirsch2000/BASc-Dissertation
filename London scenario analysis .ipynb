{
 "cells": [
  {
   "cell_type": "code",
   "execution_count": 85,
   "metadata": {},
   "outputs": [],
   "source": [
    "%matplotlib inline\n",
    "\n",
    "import pandas as pd\n",
    "import numpy as np\n",
    "import matplotlib.pyplot as plt\n",
    "from matplotlib.pyplot import figure\n",
    "\n",
    "from sklearn.ensemble import RandomForestRegressor\n",
    "from sklearn.model_selection import train_test_split"
   ]
  },
  {
   "cell_type": "code",
   "execution_count": 86,
   "metadata": {},
   "outputs": [],
   "source": [
    "df = pd.read_csv(\"../Data/Hourly consumtpion per cluster London.csv\")\n",
    "df[\"time\"] = df[\"time\"].astype(str).str.zfill(3)\n",
    "df.index = df[\"time\"]\n",
    "df[\"day\"] = df[\"time\"].str[:1]\n",
    "df[\"hour\"] = df[\"time\"].str[1:]\n",
    "df.drop(['time','Unnamed: 0'], axis = 1, inplace = True)\n",
    "\n",
    "\n"
   ]
  },
  {
   "cell_type": "code",
   "execution_count": 6,
   "metadata": {},
   "outputs": [
    {
     "data": {
      "text/html": [
       "<div>\n",
       "<style scoped>\n",
       "    .dataframe tbody tr th:only-of-type {\n",
       "        vertical-align: middle;\n",
       "    }\n",
       "\n",
       "    .dataframe tbody tr th {\n",
       "        vertical-align: top;\n",
       "    }\n",
       "\n",
       "    .dataframe thead th {\n",
       "        text-align: right;\n",
       "    }\n",
       "</style>\n",
       "<table border=\"1\" class=\"dataframe\">\n",
       "  <thead>\n",
       "    <tr style=\"text-align: right;\">\n",
       "      <th></th>\n",
       "      <th>consumption_kWh</th>\n",
       "      <th>Morn-Ev</th>\n",
       "      <th>CO2_intensity</th>\n",
       "    </tr>\n",
       "    <tr>\n",
       "      <th>time</th>\n",
       "      <th></th>\n",
       "      <th></th>\n",
       "      <th></th>\n",
       "    </tr>\n",
       "  </thead>\n",
       "  <tbody>\n",
       "    <tr>\n",
       "      <th>000</th>\n",
       "      <td>587.238769</td>\n",
       "      <td>Morning</td>\n",
       "      <td>206.339623</td>\n",
       "    </tr>\n",
       "    <tr>\n",
       "      <th>001</th>\n",
       "      <td>487.561051</td>\n",
       "      <td>Morning</td>\n",
       "      <td>214.980769</td>\n",
       "    </tr>\n",
       "    <tr>\n",
       "      <th>002</th>\n",
       "      <td>413.403647</td>\n",
       "      <td>Morning</td>\n",
       "      <td>214.673077</td>\n",
       "    </tr>\n",
       "    <tr>\n",
       "      <th>003</th>\n",
       "      <td>378.318955</td>\n",
       "      <td>Morning</td>\n",
       "      <td>215.509615</td>\n",
       "    </tr>\n",
       "    <tr>\n",
       "      <th>004</th>\n",
       "      <td>367.642231</td>\n",
       "      <td>Morning</td>\n",
       "      <td>216.461538</td>\n",
       "    </tr>\n",
       "  </tbody>\n",
       "</table>\n",
       "</div>"
      ],
      "text/plain": [
       "      consumption_kWh  Morn-Ev  CO2_intensity\n",
       "time                                         \n",
       "000        587.238769  Morning     206.339623\n",
       "001        487.561051  Morning     214.980769\n",
       "002        413.403647  Morning     214.673077\n",
       "003        378.318955  Morning     215.509615\n",
       "004        367.642231  Morning     216.461538"
      ]
     },
     "execution_count": 6,
     "metadata": {},
     "output_type": "execute_result"
    },
    {
     "data": {
      "image/png": "[encoded data removed]",
      "text/plain": [
       "<Figure size 432x288 with 1 Axes>"
      ]
     },
     "metadata": {
      "needs_background": "light"
     },
     "output_type": "display_data"
    }
   ],
   "source": [
    "a = df.groupby('time')['consumption_kWh'].apply(lambda x: np.sum(x)).to_frame()\n",
    "\n",
    "a['Morn-Ev'] = 'Morning'\n",
    "a['Morn-Ev'] = a['Morn-Ev'].where(a.index.str[1:].astype(int) <12 , \"Evening\")\n",
    "a.head()\n",
    "\n",
    "z = df.iloc[range(0,168),-3]\n",
    "a[\"CO2_intensity\"] = z\n",
    "\n",
    "morn = a[a['Morn-Ev']=='Morning']\n",
    "ev = a[a['Morn-Ev']=='Evening']\n",
    "\n",
    "\n",
    "plt.scatter(x = morn['consumption_kWh'], y = morn['CO2_intensity'], color = 'C1', label = 'Morning')\n",
    "plt.scatter(x = ev['consumption_kWh'], y = ev['CO2_intensity'], color = 'C2', label = 'Evening')\n",
    "\n",
    "plt.title(\"Relationship between total energy consumption and carbon intensity for London\")\n",
    "plt.xlabel(\"Energy consumption (kWh)\")\n",
    "plt.ylabel(\"Carbon intensity (gCO2/kWh)\")\n",
    "\n",
    "plt.legend()            \n",
    "plt.savefig(\"Carbon Intensity vs Consumption London.png\")\n",
    "\n",
    "morn.head()"
   ]
  },
  {
   "cell_type": "markdown",
   "metadata": {},
   "source": [
    "### Load the best model for consumption-carbon intensity mathing "
   ]
  },
  {
   "cell_type": "markdown",
   "metadata": {},
   "source": [
    "CF London Consumption-Carbon intensity model notebook for model comparison"
   ]
  },
  {
   "cell_type": "code",
   "execution_count": 155,
   "metadata": {},
   "outputs": [
    {
     "data": {
      "text/plain": [
       "<matplotlib.collections.PathCollection at 0x27d62547198>"
      ]
     },
     "execution_count": 155,
     "metadata": {},
     "output_type": "execute_result"
    },
    {
     "data": {
      "image/png": "[encoded data removed]",
      "text/plain": [
       "<Figure size 432x288 with 1 Axes>"
      ]
     },
     "metadata": {
      "needs_background": "light"
     },
     "output_type": "display_data"
    }
   ],
   "source": [
    "week = df.groupby('time')['consumption_kWh'].apply(lambda x: np.sum(x)).to_frame()\n",
    "week[\"day\"] = week.index.str[:1]\n",
    "week[\"hour\"] = week.index.str[1:]\n",
    "\n",
    "z = df.iloc[range(0,168),-3]\n",
    "week[\"CO2_intensity\"] = z\n",
    "\n",
    "train_data, test_data = train_test_split(week, train_size = 0.8, random_state = 3)\n",
    "rf = RandomForestRegressor(max_depth=5, random_state=0)\n",
    "\n",
    "X_train = np.array(train_data[['consumption_kWh','day','hour']],\n",
    "                   dtype = pd.Series)\n",
    "y_train = np.array(train_data['CO2_intensity'], dtype = pd.Series)\n",
    "\n",
    "X_test = np.array(test_data[['consumption_kWh','day','hour']], \n",
    "                    dtype = pd.Series)\n",
    "y_test = np.array(test_data['CO2_intensity'], dtype = pd.Series)\n",
    "\n",
    "\n",
    "rf.fit(X_train, y_train)\n",
    "\n",
    "y_pred = rf.predict(X_test)\n",
    "plt.scatter(y_test,y_pred)"
   ]
  },
  {
   "cell_type": "code",
   "execution_count": 5,
   "metadata": {},
   "outputs": [
    {
     "data": {
      "text/plain": [
       "0.6462240151104416"
      ]
     },
     "execution_count": 5,
     "metadata": {},
     "output_type": "execute_result"
    }
   ],
   "source": [
    "a['consumption_kWh'].corr(a['CO2_intensity'])"
   ]
  },
  {
   "cell_type": "markdown",
   "metadata": {},
   "source": [
    "## Reduction of energy consumption "
   ]
  },
  {
   "cell_type": "markdown",
   "metadata": {},
   "source": [
    "### Peak consumption reduction in cluster 5 "
   ]
  },
  {
   "cell_type": "markdown",
   "metadata": {},
   "source": [
    "Evaluate the impact a X% reduction in energy consumption of a cluster during evening peak could have on overall consumption and co2 emissions. \n",
    "\n",
    "We look at cluster 5 between 6 and 10 pm"
   ]
  },
  {
   "cell_type": "code",
   "execution_count": 12,
   "metadata": {},
   "outputs": [],
   "source": [
    "eff = df.copy()\n",
    "\n",
    "eff[\"Efficiency\"] = 1\n",
    "eff.head()\n",
    "\n",
    "eff[\"Efficiency\"] = eff[\"Efficiency\"].where(\n",
    "    ((eff[\"hour\"] != \"06\") & (eff[\"hour\"] != \"07\") & (eff[\"hour\"] != \"08\")\n",
    "    & (eff[\"hour\"] != \"09\") &(eff[\"hour\"] != \"10\")) | (eff[\"Cluster\"] != 4 ) , 0.98)\n"
   ]
  },
  {
   "cell_type": "code",
   "execution_count": 23,
   "metadata": {},
   "outputs": [
    {
     "data": {
      "text/html": [
       "<div>\n",
       "<style scoped>\n",
       "    .dataframe tbody tr th:only-of-type {\n",
       "        vertical-align: middle;\n",
       "    }\n",
       "\n",
       "    .dataframe tbody tr th {\n",
       "        vertical-align: top;\n",
       "    }\n",
       "\n",
       "    .dataframe thead th {\n",
       "        text-align: right;\n",
       "    }\n",
       "</style>\n",
       "<table border=\"1\" class=\"dataframe\">\n",
       "  <thead>\n",
       "    <tr style=\"text-align: right;\">\n",
       "      <th></th>\n",
       "      <th>Cluster</th>\n",
       "      <th>consumption_kWh</th>\n",
       "      <th>CO2_intensity</th>\n",
       "      <th>day</th>\n",
       "      <th>hour</th>\n",
       "      <th>Efficiency</th>\n",
       "    </tr>\n",
       "    <tr>\n",
       "      <th>time</th>\n",
       "      <th></th>\n",
       "      <th></th>\n",
       "      <th></th>\n",
       "      <th></th>\n",
       "      <th></th>\n",
       "      <th></th>\n",
       "    </tr>\n",
       "  </thead>\n",
       "  <tbody>\n",
       "    <tr>\n",
       "      <th>000</th>\n",
       "      <td>0</td>\n",
       "      <td>33.813385</td>\n",
       "      <td>211.076851</td>\n",
       "      <td>0</td>\n",
       "      <td>00</td>\n",
       "      <td>1.0</td>\n",
       "    </tr>\n",
       "    <tr>\n",
       "      <th>001</th>\n",
       "      <td>0</td>\n",
       "      <td>37.310308</td>\n",
       "      <td>211.317785</td>\n",
       "      <td>0</td>\n",
       "      <td>01</td>\n",
       "      <td>1.0</td>\n",
       "    </tr>\n",
       "    <tr>\n",
       "      <th>002</th>\n",
       "      <td>0</td>\n",
       "      <td>29.514769</td>\n",
       "      <td>211.467915</td>\n",
       "      <td>0</td>\n",
       "      <td>02</td>\n",
       "      <td>1.0</td>\n",
       "    </tr>\n",
       "    <tr>\n",
       "      <th>003</th>\n",
       "      <td>0</td>\n",
       "      <td>31.131462</td>\n",
       "      <td>211.366089</td>\n",
       "      <td>0</td>\n",
       "      <td>03</td>\n",
       "      <td>1.0</td>\n",
       "    </tr>\n",
       "    <tr>\n",
       "      <th>004</th>\n",
       "      <td>0</td>\n",
       "      <td>39.650769</td>\n",
       "      <td>211.484935</td>\n",
       "      <td>0</td>\n",
       "      <td>04</td>\n",
       "      <td>1.0</td>\n",
       "    </tr>\n",
       "  </tbody>\n",
       "</table>\n",
       "</div>"
      ],
      "text/plain": [
       "      Cluster  consumption_kWh  CO2_intensity day hour  Efficiency\n",
       "time                                                              \n",
       "000         0        33.813385     211.076851   0   00         1.0\n",
       "001         0        37.310308     211.317785   0   01         1.0\n",
       "002         0        29.514769     211.467915   0   02         1.0\n",
       "003         0        31.131462     211.366089   0   03         1.0\n",
       "004         0        39.650769     211.484935   0   04         1.0"
      ]
     },
     "execution_count": 23,
     "metadata": {},
     "output_type": "execute_result"
    }
   ],
   "source": [
    "eff[\"consumption_kWh\"] = eff[\"consumption_kWh\"]*eff[\"Efficiency\"]\n",
    "\n",
    "eff[\"CO2_intensity\"] = rf.predict(np.array(eff[['consumption_kWh','day','hour']], \n",
    "                    dtype = pd.Series))\n",
    "\n",
    "\n",
    "\n",
    "#cluster_emissions = eff.groupby('Cluster')[\"Emissions\"].apply(lambda x: np.sum(x\n",
    "                                                     #               )).to_frame()\n",
    "\n",
    "eff.head()"
   ]
  },
  {
   "cell_type": "code",
   "execution_count": 8,
   "metadata": {},
   "outputs": [
    {
     "data": {
      "text/plain": [
       "<BarContainer object of 5 artists>"
      ]
     },
     "execution_count": 8,
     "metadata": {},
     "output_type": "execute_result"
    },
    {
     "data": {
      "image/png": "[encoded data removed]",
      "text/plain": [
       "<Figure size 432x288 with 1 Axes>"
      ]
     },
     "metadata": {
      "needs_background": "light"
     },
     "output_type": "display_data"
    }
   ],
   "source": [
    "plt.title(\"Total emissions for every cluster in London\")\n",
    "plt.xlabel(\"Clusters\")\n",
    "plt.ylabel('Emissions (gCO2)')\n",
    "plt.bar(cluster_emissions.index+1, cluster_emissions['Emissions'], color =[\"C0\", \"C1\", \"C2\", \"C3\", \"C4\"])"
   ]
  },
  {
   "cell_type": "code",
   "execution_count": 9,
   "metadata": {},
   "outputs": [
    {
     "data": {
      "text/plain": [
       "28858493.4298305"
      ]
     },
     "execution_count": 9,
     "metadata": {},
     "output_type": "execute_result"
    }
   ],
   "source": [
    "total_emissions = cluster_emissions['Emissions'].sum()\n",
    "total_emissions"
   ]
  },
  {
   "cell_type": "code",
   "execution_count": 70,
   "metadata": {},
   "outputs": [
    {
     "name": "stdout",
     "output_type": "stream",
     "text": [
      "1eee\n",
      "344.9943846153846\n",
      "73449.23813954147eee\n",
      "73449.23813954147\n",
      "69776.77623256439eee\n",
      "69776.77623256439\n",
      "66104.31432558731eee\n",
      "66104.31432558731\n",
      "62431.85241861024eee\n",
      "62431.85241861024\n",
      "58759.39051163316eee\n",
      "58759.39051163316\n",
      "55086.92860465608eee\n",
      "55086.92860465608\n",
      "51414.46669767901eee\n",
      "51414.46669767901\n",
      "47742.00479070193eee\n",
      "47742.00479070193\n",
      "44069.542883724855eee\n",
      "44069.542883724855\n",
      "40397.08097674778eee\n",
      "40397.08097674778\n"
     ]
    },
    {
     "data": {
      "image/png": "[encoded data removed]",
      "text/plain": [
       "<Figure size 432x288 with 1 Axes>"
      ]
     },
     "metadata": {
      "needs_background": "light"
     },
     "output_type": "display_data"
    }
   ],
   "source": [
    "eff = df.copy()\n",
    "\n",
    "decrease = np.arange(1, 0.45, -0.05)\n",
    "result = [None]*len(decrease)\n",
    "#print(len(decrease))\n",
    "eff[\"Efficiency\"] = 1\n",
    "\n",
    "for i in range(len(decrease)) : \n",
    "    \n",
    "    eff[\"Efficiency\"] = eff[\"Efficiency\"].where(\n",
    "        ((eff[\"hour\"] != \"18\") & (eff[\"hour\"] != \"19\") & (eff[\"hour\"] != \"20\")\n",
    "        & (eff[\"hour\"] != \"21\") &(eff[\"hour\"] != \"22\")) | (eff[\"Cluster\"] != 4 ) , decrease[i])\n",
    "    print(str(eff.iloc[-3,-1]) + 'eee')\n",
    "    eff[\"consumption_kWh1\"] = eff[\"consumption_kWh\"]*eff[\"Efficiency\"]\n",
    "    print(eff.iloc[-3,-1])\n",
    "    eff[\"CO2_intensity\"] = rf.predict(np.array(eff[['consumption_kWh1','day','hour']], \n",
    "                    dtype = pd.Series))\n",
    "    plt.scatter(eff['CO2_intensity'],eff[\"consumption_kWh1\"])\n",
    "    eff[\"Emissions\"] = eff[\"consumption_kWh1\"]*eff[\"CO2_intensity\"]\n",
    "    \n",
    "    result[i] = eff[\"Emissions\"].sum()\n",
    "\n",
    "plt.xlim(1, 0.5)\n",
    "plt.ylabel(\"CO2 Emissions (gCO2)\")\n",
    "plt.xlabel(\"Efficiency improvement (%)\")\n",
    "plt.title(\"Emission reduction for different efficiency improvements of the peak load in cluster 5\")\n",
    "my_xticks = [0,5,10,15,20,25,30,35,40,45,50]\n",
    "plt.xticks(decrease,my_xticks)\n",
    "plt.plot(decrease,result)\n",
    "eff"
   ]
  },
  {
   "cell_type": "code",
   "execution_count": 56,
   "metadata": {},
   "outputs": [
    {
     "data": {
      "text/html": [
       "<div>\n",
       "<style scoped>\n",
       "    .dataframe tbody tr th:only-of-type {\n",
       "        vertical-align: middle;\n",
       "    }\n",
       "\n",
       "    .dataframe tbody tr th {\n",
       "        vertical-align: top;\n",
       "    }\n",
       "\n",
       "    .dataframe thead th {\n",
       "        text-align: right;\n",
       "    }\n",
       "</style>\n",
       "<table border=\"1\" class=\"dataframe\">\n",
       "  <thead>\n",
       "    <tr style=\"text-align: right;\">\n",
       "      <th></th>\n",
       "      <th>Cluster</th>\n",
       "      <th>consumption_kWh</th>\n",
       "      <th>CO2_intensity</th>\n",
       "      <th>day</th>\n",
       "      <th>hour</th>\n",
       "    </tr>\n",
       "    <tr>\n",
       "      <th>time</th>\n",
       "      <th></th>\n",
       "      <th></th>\n",
       "      <th></th>\n",
       "      <th></th>\n",
       "      <th></th>\n",
       "    </tr>\n",
       "  </thead>\n",
       "  <tbody>\n",
       "    <tr>\n",
       "      <th>619</th>\n",
       "      <td>4</td>\n",
       "      <td>402.529833</td>\n",
       "      <td>261.442308</td>\n",
       "      <td>6</td>\n",
       "      <td>19</td>\n",
       "    </tr>\n",
       "    <tr>\n",
       "      <th>620</th>\n",
       "      <td>4</td>\n",
       "      <td>383.303192</td>\n",
       "      <td>255.855769</td>\n",
       "      <td>6</td>\n",
       "      <td>20</td>\n",
       "    </tr>\n",
       "    <tr>\n",
       "      <th>621</th>\n",
       "      <td>4</td>\n",
       "      <td>344.994385</td>\n",
       "      <td>244.259615</td>\n",
       "      <td>6</td>\n",
       "      <td>21</td>\n",
       "    </tr>\n",
       "    <tr>\n",
       "      <th>622</th>\n",
       "      <td>4</td>\n",
       "      <td>279.189365</td>\n",
       "      <td>226.846154</td>\n",
       "      <td>6</td>\n",
       "      <td>22</td>\n",
       "    </tr>\n",
       "    <tr>\n",
       "      <th>623</th>\n",
       "      <td>4</td>\n",
       "      <td>197.887051</td>\n",
       "      <td>210.009615</td>\n",
       "      <td>6</td>\n",
       "      <td>23</td>\n",
       "    </tr>\n",
       "  </tbody>\n",
       "</table>\n",
       "</div>"
      ],
      "text/plain": [
       "      Cluster  consumption_kWh  CO2_intensity day hour\n",
       "time                                                  \n",
       "619         4       402.529833     261.442308   6   19\n",
       "620         4       383.303192     255.855769   6   20\n",
       "621         4       344.994385     244.259615   6   21\n",
       "622         4       279.189365     226.846154   6   22\n",
       "623         4       197.887051     210.009615   6   23"
      ]
     },
     "execution_count": 56,
     "metadata": {},
     "output_type": "execute_result"
    }
   ],
   "source": [
    "eff = df.copy()\n",
    "eff.tail()"
   ]
  },
  {
   "cell_type": "markdown",
   "metadata": {},
   "source": [
    "Emissions reductions is the most optimal for efficiency improvements of 10 to 30%. Afterwards, the effect is significantly reduced. "
   ]
  },
  {
   "cell_type": "markdown",
   "metadata": {},
   "source": [
    "### Overall Cluster 5 Improvement "
   ]
  },
  {
   "cell_type": "code",
   "execution_count": 50,
   "metadata": {},
   "outputs": [
    {
     "name": "stdout",
     "output_type": "stream",
     "text": [
      "11\n"
     ]
    },
    {
     "data": {
      "text/plain": [
       "[<matplotlib.lines.Line2D at 0x27d5e61bcc0>]"
      ]
     },
     "execution_count": 50,
     "metadata": {},
     "output_type": "execute_result"
    },
    {
     "data": {
      "image/png": "[encoded data removed]",
      "text/plain": [
       "<Figure size 432x288 with 1 Axes>"
      ]
     },
     "metadata": {
      "needs_background": "light"
     },
     "output_type": "display_data"
    }
   ],
   "source": [
    "c5_eff = df.copy()\n",
    "\n",
    "decrease = np.arange(1, 0.45, -0.05)\n",
    "result = [None]*len(decrease)\n",
    "print(len(decrease))\n",
    "\n",
    "c5_eff[\"efficiency\"] = 1\n",
    "for i in range(len(decrease)) : \n",
    "    \n",
    "    c5_eff[\"efficiency\"] = c5_eff[\"efficiency\"].where(\n",
    "        eff[\"Cluster\"] != 4 , decrease[i])\n",
    "    c5_eff[\"consumption_kWh1\"] = c5_eff[\"consumption_kWh\"]*c5_eff[\"efficiency\"]\n",
    "\n",
    "    c5_eff[\"CO2_intensity\"] = rf.predict(np.array(c5_eff[['consumption_kWh','day','hour']], \n",
    "                    dtype = pd.Series))\n",
    "\n",
    "    c5_eff[\"Emissions\"] = c5_eff[\"consumption_kWh\"]*eff[\"CO2_intensity\"]\n",
    "    cluster_emissions = c5_eff.groupby('Cluster')[\"Emissions\"].apply(lambda x: np.sum(x\n",
    "                                                                      )).to_frame()\n",
    "    result[i] = cluster_emissions.iloc[4,0]\n",
    "\n",
    "plt.xlim(1, 0.5)\n",
    "plt.ylabel(\"CO2 Emissions (gCO2)\")\n",
    "plt.xlabel(\"Efficiency improvement (%)\")\n",
    "plt.title(\"Emission reduction for overall different efficiency improvements in cluster 5\")\n",
    "my_xticks = [0,5,10,15,20,25,30,35,40,45,50]\n",
    "plt.xticks(decrease,my_xticks)\n",
    "plt.plot(decrease,result)"
   ]
  },
  {
   "cell_type": "code",
   "execution_count": 42,
   "metadata": {},
   "outputs": [
    {
     "data": {
      "text/html": [
       "<div>\n",
       "<style scoped>\n",
       "    .dataframe tbody tr th:only-of-type {\n",
       "        vertical-align: middle;\n",
       "    }\n",
       "\n",
       "    .dataframe tbody tr th {\n",
       "        vertical-align: top;\n",
       "    }\n",
       "\n",
       "    .dataframe thead th {\n",
       "        text-align: right;\n",
       "    }\n",
       "</style>\n",
       "<table border=\"1\" class=\"dataframe\">\n",
       "  <thead>\n",
       "    <tr style=\"text-align: right;\">\n",
       "      <th></th>\n",
       "      <th>Cluster</th>\n",
       "      <th>consumption_kWh</th>\n",
       "      <th>CO2_intensity</th>\n",
       "      <th>day</th>\n",
       "      <th>hour</th>\n",
       "      <th>efficiency</th>\n",
       "    </tr>\n",
       "    <tr>\n",
       "      <th>time</th>\n",
       "      <th></th>\n",
       "      <th></th>\n",
       "      <th></th>\n",
       "      <th></th>\n",
       "      <th></th>\n",
       "      <th></th>\n",
       "    </tr>\n",
       "  </thead>\n",
       "  <tbody>\n",
       "    <tr>\n",
       "      <th>619</th>\n",
       "      <td>4</td>\n",
       "      <td>402.529833</td>\n",
       "      <td>261.442308</td>\n",
       "      <td>6</td>\n",
       "      <td>19</td>\n",
       "      <td>4</td>\n",
       "    </tr>\n",
       "    <tr>\n",
       "      <th>620</th>\n",
       "      <td>4</td>\n",
       "      <td>383.303192</td>\n",
       "      <td>255.855769</td>\n",
       "      <td>6</td>\n",
       "      <td>20</td>\n",
       "      <td>4</td>\n",
       "    </tr>\n",
       "    <tr>\n",
       "      <th>621</th>\n",
       "      <td>4</td>\n",
       "      <td>344.994385</td>\n",
       "      <td>244.259615</td>\n",
       "      <td>6</td>\n",
       "      <td>21</td>\n",
       "      <td>4</td>\n",
       "    </tr>\n",
       "    <tr>\n",
       "      <th>622</th>\n",
       "      <td>4</td>\n",
       "      <td>279.189365</td>\n",
       "      <td>226.846154</td>\n",
       "      <td>6</td>\n",
       "      <td>22</td>\n",
       "      <td>4</td>\n",
       "    </tr>\n",
       "    <tr>\n",
       "      <th>623</th>\n",
       "      <td>4</td>\n",
       "      <td>197.887051</td>\n",
       "      <td>210.009615</td>\n",
       "      <td>6</td>\n",
       "      <td>23</td>\n",
       "      <td>4</td>\n",
       "    </tr>\n",
       "  </tbody>\n",
       "</table>\n",
       "</div>"
      ],
      "text/plain": [
       "      Cluster  consumption_kWh  CO2_intensity day hour  efficiency\n",
       "time                                                              \n",
       "619         4       402.529833     261.442308   6   19           4\n",
       "620         4       383.303192     255.855769   6   20           4\n",
       "621         4       344.994385     244.259615   6   21           4\n",
       "622         4       279.189365     226.846154   6   22           4\n",
       "623         4       197.887051     210.009615   6   23           4"
      ]
     },
     "execution_count": 42,
     "metadata": {},
     "output_type": "execute_result"
    }
   ],
   "source": [
    "c5_eff = df.copy()\n",
    "c5_eff[\"efficiency\"] = 1\n",
    "c5_eff[\"efficiency\"] = c5_eff[\"efficiency\"].where(\n",
    "        eff[\"Cluster\"] != 4 , 4)\n",
    "\n",
    "c5_eff.tail()\n"
   ]
  },
  {
   "cell_type": "markdown",
   "metadata": {},
   "source": [
    "### Overall efficiency improvement "
   ]
  },
  {
   "cell_type": "code",
   "execution_count": 158,
   "metadata": {},
   "outputs": [
    {
     "name": "stdout",
     "output_type": "stream",
     "text": [
      "11\n",
      "26002977.591305\n",
      "24703152.27019855\n",
      "23402991.167800922\n",
      "22102824.99181198\n",
      "20802658.81582304\n",
      "19502492.639834095\n",
      "18202326.463845156\n",
      "16902160.287856214\n",
      "15601994.111867271\n",
      "14301827.93587833\n",
      "13001661.75988939\n"
     ]
    },
    {
     "data": {
      "text/plain": [
       "[<matplotlib.lines.Line2D at 0x27d6269bb38>]"
      ]
     },
     "execution_count": 158,
     "metadata": {},
     "output_type": "execute_result"
    },
    {
     "data": {
      "image/png": "[encoded data removed]",
      "text/plain": [
       "<Figure size 432x288 with 1 Axes>"
      ]
     },
     "metadata": {
      "needs_background": "light"
     },
     "output_type": "display_data"
    }
   ],
   "source": [
    "ov_eff = df.copy()\n",
    "\n",
    "decrease = np.arange(1, 0.45, -0.05)\n",
    "result = [None]*len(decrease)\n",
    "print(len(decrease))\n",
    "\n",
    "columns = decrease\n",
    "\n",
    "df1 = pd.DataFrame(columns = columns)\n",
    "\n",
    "ov_eff[\"efficiency\"] = 1\n",
    "for i in range(len(decrease)) : \n",
    "    \n",
    "    ov_eff[\"efficiency\"] = decrease[i]\n",
    "    ov_eff[\"consumption_kWh1\"] = ov_eff[\"consumption_kWh\"]*ov_eff[\"efficiency\"]\n",
    "    #print(ov_eff[\"consumption_kWh1\"])\n",
    "   \n",
    "    #ov_eff.iloc[]\n",
    "    ov_eff[\"CO2_intensity\"] = rf.predict(np.array(ov_eff[['consumption_kWh1','day','hour']], \n",
    "                    dtype = pd.Series))\n",
    "    #ov_eff[\"CO2_intensity\"]\n",
    "    ov_eff[\"Emissions\"] = ov_eff[\"consumption_kWh1\"]*ov_eff[\"CO2_intensity\"]\n",
    "    \n",
    "    result1[i] = ov_eff[\"Emissions\"].sum()\n",
    "    print(ov_eff[\"Emissions\"].sum())\n",
    "\n",
    "plt.xlim(1, 0.5)\n",
    "plt.ylabel(\"CO2 Emissions (gCO2)\")\n",
    "plt.xlabel(\"Efficiency improvement (%)\")\n",
    "plt.title(\"Emission reduction for overall different efficiency improvements\")\n",
    "my_xticks = [0,5,10,15,20,25,30,35,40,45,50]\n",
    "plt.xticks(decrease,my_xticks)\n",
    "plt.plot(decrease,result1)\n",
    "#ov_eff['CO2_intensity']"
   ]
  },
  {
   "cell_type": "code",
   "execution_count": null,
   "metadata": {},
   "outputs": [],
   "source": []
  },
  {
   "cell_type": "code",
   "execution_count": 159,
   "metadata": {},
   "outputs": [
    {
     "name": "stdout",
     "output_type": "stream",
     "text": [
      "11\n"
     ]
    },
    {
     "data": {
      "text/plain": [
       "[<matplotlib.lines.Line2D at 0x27d6270dda0>]"
      ]
     },
     "execution_count": 159,
     "metadata": {},
     "output_type": "execute_result"
    },
    {
     "data": {
      "image/png": "[encoded data removed]",
      "text/plain": [
       "<Figure size 432x288 with 1 Axes>"
      ]
     },
     "metadata": {
      "needs_background": "light"
     },
     "output_type": "display_data"
    }
   ],
   "source": [
    "ov_eff = df.copy()\n",
    "\n",
    "decrease = np.arange(1, 0.45, -0.05)\n",
    "result = [None]*len(decrease)\n",
    "print(len(decrease))\n",
    "\n",
    "columns = decrease\n",
    "\n",
    "df1 = pd.DataFrame(columns = columns)\n",
    "\n",
    "ov_eff[\"efficiency\"] = 1\n",
    "for i in range(len(decrease)) : \n",
    "    \n",
    "    ov_eff[\"efficiency\"] = decrease[i]\n",
    "    ov_eff[\"consumption_kWh1\"] = ov_eff[\"consumption_kWh\"]*ov_eff[\"efficiency\"]\n",
    "    #print(ov_eff[\"consumption_kWh1\"])\n",
    "    a = ov_eff.groupby(ov_eff.index)[\"consumption_kWh1\"].apply(lambda x: np.sum(x)).to_frame()\n",
    "    a[\"day\"] = a.index.str[:1]\n",
    "    a[\"hour\"] = a.index.str[1:]\n",
    "    \n",
    "    a['CO2_intensity'] = rf.predict(np.array(a[['consumption_kWh1','day','hour']], \n",
    "                    dtype = pd.Series))\n",
    "\n",
    "    #print(a)\n",
    "    #ov_eff.iloc[]\n",
    "    ov_eff[\"CO2_intensity\"] = rf.predict(np.array(ov_eff[['consumption_kWh1','day','hour']], \n",
    "                    dtype = pd.Series))\n",
    "    #ov_eff[\"CO2_intensity\"]\n",
    "    a[\"Emissions\"] = a[\"consumption_kWh1\"]*a[\"CO2_intensity\"]\n",
    "    \n",
    "    result[i] = a[\"Emissions\"].sum()\n",
    "    #print(ov_eff[\"Emissions\"].sum())\n",
    "\n",
    "plt.xlim(1, 0.5)\n",
    "plt.ylabel(\"CO2 Emissions (gCO2)\")\n",
    "plt.xlabel(\"Efficiency improvement (%)\")\n",
    "plt.title(\"Emission reduction for overall different efficiency improvements\")\n",
    "my_xticks = [0,5,10,15,20,25,30,35,40,45,50]\n",
    "plt.xticks(decrease,my_xticks)\n",
    "plt.plot(decrease,result)\n",
    "#ov_eff['CO2_intensity']\n"
   ]
  },
  {
   "cell_type": "code",
   "execution_count": 148,
   "metadata": {},
   "outputs": [
    {
     "data": {
      "text/html": [
       "<div>\n",
       "<style scoped>\n",
       "    .dataframe tbody tr th:only-of-type {\n",
       "        vertical-align: middle;\n",
       "    }\n",
       "\n",
       "    .dataframe tbody tr th {\n",
       "        vertical-align: top;\n",
       "    }\n",
       "\n",
       "    .dataframe thead th {\n",
       "        text-align: right;\n",
       "    }\n",
       "</style>\n",
       "<table border=\"1\" class=\"dataframe\">\n",
       "  <thead>\n",
       "    <tr style=\"text-align: right;\">\n",
       "      <th></th>\n",
       "      <th>consumption_kWh1</th>\n",
       "    </tr>\n",
       "    <tr>\n",
       "      <th>time</th>\n",
       "      <th></th>\n",
       "    </tr>\n",
       "  </thead>\n",
       "  <tbody>\n",
       "    <tr>\n",
       "      <th>000</th>\n",
       "      <td>293.619385</td>\n",
       "    </tr>\n",
       "    <tr>\n",
       "      <th>001</th>\n",
       "      <td>243.780526</td>\n",
       "    </tr>\n",
       "    <tr>\n",
       "      <th>002</th>\n",
       "      <td>206.701824</td>\n",
       "    </tr>\n",
       "    <tr>\n",
       "      <th>003</th>\n",
       "      <td>189.159478</td>\n",
       "    </tr>\n",
       "    <tr>\n",
       "      <th>004</th>\n",
       "      <td>183.821115</td>\n",
       "    </tr>\n",
       "  </tbody>\n",
       "</table>\n",
       "</div>"
      ],
      "text/plain": [
       "      consumption_kWh1\n",
       "time                  \n",
       "000         293.619385\n",
       "001         243.780526\n",
       "002         206.701824\n",
       "003         189.159478\n",
       "004         183.821115"
      ]
     },
     "execution_count": 148,
     "metadata": {},
     "output_type": "execute_result"
    }
   ],
   "source": [
    "a.head()"
   ]
  },
  {
   "cell_type": "code",
   "execution_count": 110,
   "metadata": {},
   "outputs": [
    {
     "data": {
      "text/plain": [
       "array([211.31778483])"
      ]
     },
     "execution_count": 110,
     "metadata": {},
     "output_type": "execute_result"
    }
   ],
   "source": [
    "rf.predict(np.array(ov_eff[['consumption_kWh1','day','hour']].iloc[[1],[0,1,2]]))\n",
    "\n"
   ]
  },
  {
   "cell_type": "code",
   "execution_count": 135,
   "metadata": {},
   "outputs": [
    {
     "data": {
      "text/plain": [
       "array([211.01865507])"
      ]
     },
     "execution_count": 135,
     "metadata": {},
     "output_type": "execute_result"
    }
   ],
   "source": [
    "np.array(ov_eff[['consumption_kWh1','day','hour']].iloc[[1,2,3],[0,1,2]])\n",
    "\n",
    "\n",
    "rf.predict(np.array([[200,'','01']]))"
   ]
  }
 ],
 "metadata": {
  "kernelspec": {
   "display_name": "Python 3",
   "language": "python",
   "name": "python3"
  },
  "language_info": {
   "codemirror_mode": {
    "name": "ipython",
    "version": 3
   },
   "file_extension": ".py",
   "mimetype": "text/x-python",
   "name": "python",
   "nbconvert_exporter": "python",
   "pygments_lexer": "ipython3",
   "version": "3.7.3"
  }
 },
 "nbformat": 4,
 "nbformat_minor": 2
}
