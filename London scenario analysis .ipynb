{
 "cells": [
  {
   "cell_type": "code",
   "execution_count": 8,
   "metadata": {},
   "outputs": [],
   "source": [
    "%matplotlib inline\n",
    "\n",
    "import pandas as pd\n",
    "import numpy as np\n",
    "import matplotlib.pyplot as plt\n",
    "from matplotlib.pyplot import figure"
   ]
  },
  {
   "cell_type": "code",
   "execution_count": 55,
   "metadata": {},
   "outputs": [
    {
     "data": {
      "text/html": [
       "<div>\n",
       "<style scoped>\n",
       "    .dataframe tbody tr th:only-of-type {\n",
       "        vertical-align: middle;\n",
       "    }\n",
       "\n",
       "    .dataframe tbody tr th {\n",
       "        vertical-align: top;\n",
       "    }\n",
       "\n",
       "    .dataframe thead th {\n",
       "        text-align: right;\n",
       "    }\n",
       "</style>\n",
       "<table border=\"1\" class=\"dataframe\">\n",
       "  <thead>\n",
       "    <tr style=\"text-align: right;\">\n",
       "      <th></th>\n",
       "      <th>Cluster</th>\n",
       "      <th>consumption_kWh</th>\n",
       "      <th>CO2_intensity</th>\n",
       "      <th>day</th>\n",
       "      <th>hour</th>\n",
       "    </tr>\n",
       "    <tr>\n",
       "      <th>time</th>\n",
       "      <th></th>\n",
       "      <th></th>\n",
       "      <th></th>\n",
       "      <th></th>\n",
       "      <th></th>\n",
       "    </tr>\n",
       "  </thead>\n",
       "  <tbody>\n",
       "    <tr>\n",
       "      <th>000</th>\n",
       "      <td>0</td>\n",
       "      <td>33.813385</td>\n",
       "      <td>206.339623</td>\n",
       "      <td>0</td>\n",
       "      <td>00</td>\n",
       "    </tr>\n",
       "    <tr>\n",
       "      <th>001</th>\n",
       "      <td>0</td>\n",
       "      <td>37.310308</td>\n",
       "      <td>214.980769</td>\n",
       "      <td>0</td>\n",
       "      <td>01</td>\n",
       "    </tr>\n",
       "    <tr>\n",
       "      <th>002</th>\n",
       "      <td>0</td>\n",
       "      <td>29.514769</td>\n",
       "      <td>214.673077</td>\n",
       "      <td>0</td>\n",
       "      <td>02</td>\n",
       "    </tr>\n",
       "    <tr>\n",
       "      <th>003</th>\n",
       "      <td>0</td>\n",
       "      <td>31.131462</td>\n",
       "      <td>215.509615</td>\n",
       "      <td>0</td>\n",
       "      <td>03</td>\n",
       "    </tr>\n",
       "    <tr>\n",
       "      <th>004</th>\n",
       "      <td>0</td>\n",
       "      <td>39.650769</td>\n",
       "      <td>216.461538</td>\n",
       "      <td>0</td>\n",
       "      <td>04</td>\n",
       "    </tr>\n",
       "  </tbody>\n",
       "</table>\n",
       "</div>"
      ],
      "text/plain": [
       "      Cluster  consumption_kWh  CO2_intensity day hour\n",
       "time                                                  \n",
       "000         0        33.813385     206.339623   0   00\n",
       "001         0        37.310308     214.980769   0   01\n",
       "002         0        29.514769     214.673077   0   02\n",
       "003         0        31.131462     215.509615   0   03\n",
       "004         0        39.650769     216.461538   0   04"
      ]
     },
     "execution_count": 55,
     "metadata": {},
     "output_type": "execute_result"
    }
   ],
   "source": [
    "df = pd.read_csv(\"../Data/Hourly consumtpion per cluster.csv\")\n",
    "df[\"time\"] = df[\"time\"].astype(str).str.zfill(3)\n",
    "df.index = df[\"time\"]\n",
    "df[\"day\"] = df[\"time\"].str[:1]\n",
    "df[\"hour\"] = df[\"time\"].str[1:]\n",
    "df.drop(['time','Unnamed: 0'], axis = 1, inplace = True)\n",
    "df.head()\n"
   ]
  },
  {
   "cell_type": "code",
   "execution_count": 58,
   "metadata": {},
   "outputs": [
    {
     "data": {
      "text/plain": [
       "Text(0, 0.5, 'Carbon intensity (gCO2/kWh)')"
      ]
     },
     "execution_count": 58,
     "metadata": {},
     "output_type": "execute_result"
    },
    {
     "data": {
      "image/png": "[encoded data removed]",
      "text/plain": [
       "<Figure size 432x288 with 1 Axes>"
      ]
     },
     "metadata": {
      "needs_background": "light"
     },
     "output_type": "display_data"
    }
   ],
   "source": [
    "a = df.groupby('time')['consumption_kWh'].apply(lambda x: np.sum(x)).to_frame()\n",
    "\n",
    "z = df.iloc[range(0,168),-3]\n",
    "a[\"CO2_intensity\"] = z\n",
    "\n",
    "plt.scatter(x = a['consumption_kWh'], y = a['CO2_intensity'])\n",
    "plt.title(\"Relationship between total energy consumption and carbon intensity\")\n",
    "plt.xlabel(\"Energy consumption (kWh)\")\n",
    "plt.ylabel(\"Carbon intensity (gCO2/kWh)\")"
   ]
  },
  {
   "cell_type": "code",
   "execution_count": 63,
   "metadata": {},
   "outputs": [
    {
     "data": {
      "text/plain": [
       "0.6462240151104416"
      ]
     },
     "execution_count": 63,
     "metadata": {},
     "output_type": "execute_result"
    }
   ],
   "source": [
    "a['consumption_kWh'].corr(a['CO2_intensity'])"
   ]
  },
  {
   "cell_type": "markdown",
   "metadata": {},
   "source": [
    "## Reduction of energy consumption "
   ]
  },
  {
   "cell_type": "markdown",
   "metadata": {},
   "source": [
    "Evaluate the impact a X% reduction in energy consumption of a cluster during evening peak could have on overall consumption and co2 emissions. \n",
    "\n",
    "We look at cluster 5 between 6 and 10 pm"
   ]
  },
  {
   "cell_type": "code",
   "execution_count": 127,
   "metadata": {},
   "outputs": [],
   "source": [
    "eff = df.copy()\n",
    "\n",
    "eff[\"Efficiency\"] = 1\n",
    "eff.head()\n",
    "\n",
    "eff[\"Efficiency\"] = eff[\"Efficiency\"].where(\n",
    "    ((eff[\"hour\"] != \"06\") & (eff[\"hour\"] != \"07\") & (eff[\"hour\"] != \"08\")\n",
    "    & (eff[\"hour\"] != \"09\") &(eff[\"hour\"] != \"10\")) | (eff[\"Cluster\"] != 4 ) , 0.98)\n"
   ]
  },
  {
   "cell_type": "code",
   "execution_count": 128,
   "metadata": {},
   "outputs": [],
   "source": [
    "eff[\"Emissions\"] = eff[\"consumption_kWh\"]*eff[\"CO2_intensity\"]*eff[\"Efficiency\"]\n",
    "cluster_emissions = eff.groupby('Cluster')[\"Emissions\"].apply(lambda x: np.sum(x\n",
    "                                                                    )).to_frame()\n"
   ]
  },
  {
   "cell_type": "code",
   "execution_count": 129,
   "metadata": {},
   "outputs": [
    {
     "data": {
      "text/plain": [
       "<BarContainer object of 5 artists>"
      ]
     },
     "execution_count": 129,
     "metadata": {},
     "output_type": "execute_result"
    },
    {
     "data": {
      "image/png": "[encoded data removed]",
      "text/plain": [
       "<Figure size 432x288 with 1 Axes>"
      ]
     },
     "metadata": {
      "needs_background": "light"
     },
     "output_type": "display_data"
    }
   ],
   "source": [
    "plt.title(\"Total emissions for every cluster in London\")\n",
    "plt.xlabel(\"Clusters\")\n",
    "plt.ylabel('Emissions (gCO2)')\n",
    "plt.bar(cluster_emissions.index+1, cluster_emissions['Emissions'], color =[\"C0\", \"C1\", \"C2\", \"C3\", \"C4\"])"
   ]
  },
  {
   "cell_type": "code",
   "execution_count": 130,
   "metadata": {},
   "outputs": [
    {
     "data": {
      "text/plain": [
       "28858493.4298305"
      ]
     },
     "execution_count": 130,
     "metadata": {},
     "output_type": "execute_result"
    }
   ],
   "source": [
    "total_emissions = cluster_emissions['Emissions'].sum()\n",
    "total_emissions"
   ]
  },
  {
   "cell_type": "code",
   "execution_count": null,
   "metadata": {},
   "outputs": [],
   "source": [
    "eff = df.copy()\n",
    "\n",
    "decrease = np.arange(1, 0.45, -0.05)\n",
    "result = [None]*len(decrease)\n",
    "print(len(decrease))\n",
    "eff[\"Efficiency\"] = 1\n",
    "eff.head()\n",
    "\n",
    "for i in range(len(decrease)) : \n",
    "    \n",
    "    eff[\"Efficiency\"] = eff[\"Efficiency\"].where(\n",
    "        ((eff[\"hour\"] != \"06\") & (eff[\"hour\"] != \"07\") & (eff[\"hour\"] != \"08\")\n",
    "        & (eff[\"hour\"] != \"09\") &(eff[\"hour\"] != \"10\")) | (eff[\"Cluster\"] != 4 ) , decrease[i])\n",
    "    eff[\"Emissions\"] = eff[\"consumption_kWh\"]*eff[\"CO2_intensity\"]*eff[\"Efficiency\"]\n",
    "    cluster_emissions = eff.groupby('Cluster')[\"Emissions\"].apply(lambda x: np.sum(x\n",
    "                                                                      )).to_frame()\n",
    "    result[i] = cluster_emissions.iloc[4,0]\n",
    "\n",
    "plt.xlim(1, 0.5)\n",
    "plt.plot(decrease,result)\n"
   ]
  }
 ],
 "metadata": {
  "kernelspec": {
   "display_name": "Python 3",
   "language": "python",
   "name": "python3"
  },
  "language_info": {
   "codemirror_mode": {
    "name": "ipython",
    "version": 3
   },
   "file_extension": ".py",
   "mimetype": "text/x-python",
   "name": "python",
   "nbconvert_exporter": "python",
   "pygments_lexer": "ipython3",
   "version": "3.7.3"
  }
 },
 "nbformat": 4,
 "nbformat_minor": 2
}
