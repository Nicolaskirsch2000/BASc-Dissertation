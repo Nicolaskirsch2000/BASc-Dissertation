{
 "cells": [
  {
   "cell_type": "code",
   "execution_count": 22,
   "metadata": {},
   "outputs": [],
   "source": [
    "%matplotlib inline\n",
    "\n",
    "import pandas as pd\n",
    "import numpy as np\n",
    "import matplotlib.pyplot as plt\n",
    "import seaborn as sns\n",
    "from geopy.geocoders import Nominatim\n"
   ]
  },
  {
   "cell_type": "code",
   "execution_count": 3,
   "metadata": {},
   "outputs": [],
   "source": [
    "sa = pd.read_csv(r\"..\\Data\\SAdata\\SA-Metadata\\SA-metadata.csv\")\n"
   ]
  },
  {
   "cell_type": "code",
   "execution_count": 4,
   "metadata": {},
   "outputs": [
    {
     "data": {
      "text/plain": [
       "array([1994, 1995, 1996, 1997, 1998, 1999, 2000, 2001, 2002, 2003, 2004,\n",
       "       2005, 2006, 2008, 2009, 2010, 2011, 2012, 2014], dtype=int64)"
      ]
     },
     "execution_count": 4,
     "metadata": {},
     "output_type": "execute_result"
    }
   ],
   "source": [
    "sa.Year.unique()"
   ]
  },
  {
   "cell_type": "code",
   "execution_count": 11,
   "metadata": {},
   "outputs": [
    {
     "data": {
      "text/plain": [
       "Index(['ProfileID', 'AnswerID', 'Unit of measurement', 'Survey',\n",
       "       'QuestionaireID', 'Year', 'LocName', 'Municipality', 'cb_size',\n",
       "       'females16to24', 'females25to34', 'females35to49', 'femalesolder50',\n",
       "       'femalesyounger16', 'floor_area', 'head emploed part time',\n",
       "       'head on pension', 'head unemployed', 'headparttime', 'headunemployed',\n",
       "       'males16to24', 'males25to34', 'males35to49', 'malesolder50',\n",
       "       'malesyounger16', 'monthly_income', 'number of females: 16-24',\n",
       "       'number of females: 25-34', 'number of females: 35 - 49',\n",
       "       'number of females: <16', 'number of males: 16-24',\n",
       "       'number of males: 25 - 34', 'number of males: 35-49',\n",
       "       'number of males: 50+', 'number of males: <16', 'older16parttime',\n",
       "       'older16unemployed',\n",
       "       'persions younger than 16 year : employed parttime',\n",
       "       'persons older than 16 years: employed parttime',\n",
       "       'persons older than 16 years: employed unemployed',\n",
       "       'persons older than 16 years: pension',\n",
       "       'persons younger than 16 years: pension',\n",
       "       'persons younger than 16 years: unemployed', 'roof_material',\n",
       "       'spouse employed part time', 'spouse on pension', 'spouse unemployed',\n",
       "       'spouseparttime', 'spouseunemployed', 'total_adults', 'total_children',\n",
       "       'total_part_time', 'total_pensioners', 'total_unemployed',\n",
       "       'wall_material', 'water_access', 'years_electrified',\n",
       "       'younger16parttime', 'younger16unemployed', '3_plate', '4_plate',\n",
       "       'fridge_freezer', 'geyser', 'heater', 'hotplate', 'iron', 'kettle',\n",
       "       'microwave', 'tv', 'washing_machine', '3_plate_use', '4_plate_use',\n",
       "       'geyser_use', 'heater_use', 'hotplate_use', 'iron_use', 'kettle_use',\n",
       "       'microwave_use', 'washing_machine_use'],\n",
       "      dtype='object')"
      ]
     },
     "execution_count": 11,
     "metadata": {},
     "output_type": "execute_result"
    }
   ],
   "source": [
    "sa.columns"
   ]
  },
  {
   "cell_type": "code",
   "execution_count": 12,
   "metadata": {},
   "outputs": [
    {
     "data": {
      "text/html": [
       "<div>\n",
       "<style scoped>\n",
       "    .dataframe tbody tr th:only-of-type {\n",
       "        vertical-align: middle;\n",
       "    }\n",
       "\n",
       "    .dataframe tbody tr th {\n",
       "        vertical-align: top;\n",
       "    }\n",
       "\n",
       "    .dataframe thead th {\n",
       "        text-align: right;\n",
       "    }\n",
       "</style>\n",
       "<table border=\"1\" class=\"dataframe\">\n",
       "  <thead>\n",
       "    <tr style=\"text-align: right;\">\n",
       "      <th></th>\n",
       "      <th>ProfileID</th>\n",
       "      <th>AnswerID</th>\n",
       "      <th>Unit of measurement</th>\n",
       "      <th>Survey</th>\n",
       "      <th>QuestionaireID</th>\n",
       "      <th>Year</th>\n",
       "      <th>LocName</th>\n",
       "      <th>Municipality</th>\n",
       "      <th>cb_size</th>\n",
       "      <th>females16to24</th>\n",
       "      <th>...</th>\n",
       "      <th>washing_machine</th>\n",
       "      <th>3_plate_use</th>\n",
       "      <th>4_plate_use</th>\n",
       "      <th>geyser_use</th>\n",
       "      <th>heater_use</th>\n",
       "      <th>hotplate_use</th>\n",
       "      <th>iron_use</th>\n",
       "      <th>kettle_use</th>\n",
       "      <th>microwave_use</th>\n",
       "      <th>washing_machine_use</th>\n",
       "    </tr>\n",
       "  </thead>\n",
       "  <tbody>\n",
       "    <tr>\n",
       "      <th>0</th>\n",
       "      <td>121</td>\n",
       "      <td>1367</td>\n",
       "      <td>2</td>\n",
       "      <td>NRS LR</td>\n",
       "      <td>6</td>\n",
       "      <td>1994</td>\n",
       "      <td>Cloetesville</td>\n",
       "      <td>Stellenbosch</td>\n",
       "      <td>60.0</td>\n",
       "      <td>NaN</td>\n",
       "      <td>...</td>\n",
       "      <td>1.0</td>\n",
       "      <td>NaN</td>\n",
       "      <td>NaN</td>\n",
       "      <td>NaN</td>\n",
       "      <td>NaN</td>\n",
       "      <td>NaN</td>\n",
       "      <td>NaN</td>\n",
       "      <td>NaN</td>\n",
       "      <td>NaN</td>\n",
       "      <td>NaN</td>\n",
       "    </tr>\n",
       "    <tr>\n",
       "      <th>1</th>\n",
       "      <td>122</td>\n",
       "      <td>1368</td>\n",
       "      <td>2</td>\n",
       "      <td>NRS LR</td>\n",
       "      <td>6</td>\n",
       "      <td>1994</td>\n",
       "      <td>Cloetesville</td>\n",
       "      <td>Stellenbosch</td>\n",
       "      <td>60.0</td>\n",
       "      <td>NaN</td>\n",
       "      <td>...</td>\n",
       "      <td>1.0</td>\n",
       "      <td>NaN</td>\n",
       "      <td>NaN</td>\n",
       "      <td>NaN</td>\n",
       "      <td>NaN</td>\n",
       "      <td>NaN</td>\n",
       "      <td>NaN</td>\n",
       "      <td>NaN</td>\n",
       "      <td>NaN</td>\n",
       "      <td>NaN</td>\n",
       "    </tr>\n",
       "    <tr>\n",
       "      <th>2</th>\n",
       "      <td>123</td>\n",
       "      <td>1365</td>\n",
       "      <td>2</td>\n",
       "      <td>NRS LR</td>\n",
       "      <td>6</td>\n",
       "      <td>1994</td>\n",
       "      <td>Cloetesville</td>\n",
       "      <td>Stellenbosch</td>\n",
       "      <td>60.0</td>\n",
       "      <td>NaN</td>\n",
       "      <td>...</td>\n",
       "      <td>1.0</td>\n",
       "      <td>NaN</td>\n",
       "      <td>NaN</td>\n",
       "      <td>NaN</td>\n",
       "      <td>NaN</td>\n",
       "      <td>NaN</td>\n",
       "      <td>NaN</td>\n",
       "      <td>NaN</td>\n",
       "      <td>NaN</td>\n",
       "      <td>NaN</td>\n",
       "    </tr>\n",
       "    <tr>\n",
       "      <th>3</th>\n",
       "      <td>124</td>\n",
       "      <td>1370</td>\n",
       "      <td>2</td>\n",
       "      <td>NRS LR</td>\n",
       "      <td>6</td>\n",
       "      <td>1994</td>\n",
       "      <td>Cloetesville</td>\n",
       "      <td>Stellenbosch</td>\n",
       "      <td>60.0</td>\n",
       "      <td>4.0</td>\n",
       "      <td>...</td>\n",
       "      <td>1.0</td>\n",
       "      <td>NaN</td>\n",
       "      <td>NaN</td>\n",
       "      <td>NaN</td>\n",
       "      <td>NaN</td>\n",
       "      <td>NaN</td>\n",
       "      <td>NaN</td>\n",
       "      <td>NaN</td>\n",
       "      <td>NaN</td>\n",
       "      <td>NaN</td>\n",
       "    </tr>\n",
       "    <tr>\n",
       "      <th>4</th>\n",
       "      <td>125</td>\n",
       "      <td>1364</td>\n",
       "      <td>2</td>\n",
       "      <td>NRS LR</td>\n",
       "      <td>6</td>\n",
       "      <td>1994</td>\n",
       "      <td>Cloetesville</td>\n",
       "      <td>Stellenbosch</td>\n",
       "      <td>60.0</td>\n",
       "      <td>NaN</td>\n",
       "      <td>...</td>\n",
       "      <td>1.0</td>\n",
       "      <td>NaN</td>\n",
       "      <td>NaN</td>\n",
       "      <td>NaN</td>\n",
       "      <td>NaN</td>\n",
       "      <td>NaN</td>\n",
       "      <td>NaN</td>\n",
       "      <td>NaN</td>\n",
       "      <td>NaN</td>\n",
       "      <td>NaN</td>\n",
       "    </tr>\n",
       "  </tbody>\n",
       "</table>\n",
       "<p>5 rows × 79 columns</p>\n",
       "</div>"
      ],
      "text/plain": [
       "   ProfileID  AnswerID  Unit of measurement  Survey  QuestionaireID  Year  \\\n",
       "0        121      1367                    2  NRS LR               6  1994   \n",
       "1        122      1368                    2  NRS LR               6  1994   \n",
       "2        123      1365                    2  NRS LR               6  1994   \n",
       "3        124      1370                    2  NRS LR               6  1994   \n",
       "4        125      1364                    2  NRS LR               6  1994   \n",
       "\n",
       "        LocName  Municipality  cb_size  females16to24  ...  washing_machine  \\\n",
       "0  Cloetesville  Stellenbosch     60.0            NaN  ...              1.0   \n",
       "1  Cloetesville  Stellenbosch     60.0            NaN  ...              1.0   \n",
       "2  Cloetesville  Stellenbosch     60.0            NaN  ...              1.0   \n",
       "3  Cloetesville  Stellenbosch     60.0            4.0  ...              1.0   \n",
       "4  Cloetesville  Stellenbosch     60.0            NaN  ...              1.0   \n",
       "\n",
       "   3_plate_use  4_plate_use  geyser_use  heater_use  hotplate_use  iron_use  \\\n",
       "0          NaN          NaN         NaN         NaN           NaN       NaN   \n",
       "1          NaN          NaN         NaN         NaN           NaN       NaN   \n",
       "2          NaN          NaN         NaN         NaN           NaN       NaN   \n",
       "3          NaN          NaN         NaN         NaN           NaN       NaN   \n",
       "4          NaN          NaN         NaN         NaN           NaN       NaN   \n",
       "\n",
       "   kettle_use  microwave_use  washing_machine_use  \n",
       "0         NaN            NaN                  NaN  \n",
       "1         NaN            NaN                  NaN  \n",
       "2         NaN            NaN                  NaN  \n",
       "3         NaN            NaN                  NaN  \n",
       "4         NaN            NaN                  NaN  \n",
       "\n",
       "[5 rows x 79 columns]"
      ]
     },
     "execution_count": 12,
     "metadata": {},
     "output_type": "execute_result"
    }
   ],
   "source": [
    "sa.head()"
   ]
  },
  {
   "cell_type": "code",
   "execution_count": 8,
   "metadata": {},
   "outputs": [
    {
     "data": {
      "text/plain": [
       "array([nan, 'monthly', 'weekly', 'daily', 'never'], dtype=object)"
      ]
     },
     "execution_count": 8,
     "metadata": {},
     "output_type": "execute_result"
    }
   ],
   "source": [
    "sa.heater_use.unique()"
   ]
  },
  {
   "cell_type": "code",
   "execution_count": 17,
   "metadata": {},
   "outputs": [
    {
     "data": {
      "text/plain": [
       "heater_use\n",
       "daily       704\n",
       "monthly     359\n",
       "never      4924\n",
       "weekly      507\n",
       "dtype: int64"
      ]
     },
     "execution_count": 17,
     "metadata": {},
     "output_type": "execute_result"
    }
   ],
   "source": [
    "groups = sa.groupby(\"heater_use\").apply(lambda x: len(x))\n",
    "groups"
   ]
  },
  {
   "cell_type": "code",
   "execution_count": 12,
   "metadata": {},
   "outputs": [
    {
     "data": {
      "text/plain": [
       "12248"
      ]
     },
     "execution_count": 12,
     "metadata": {},
     "output_type": "execute_result"
    }
   ],
   "source": [
    "len(sa)-len(groups)"
   ]
  },
  {
   "cell_type": "code",
   "execution_count": 14,
   "metadata": {},
   "outputs": [],
   "source": [
    "sa_2014 = sa[sa[\"Year\"] == 2014]"
   ]
  },
  {
   "cell_type": "code",
   "execution_count": 15,
   "metadata": {},
   "outputs": [
    {
     "data": {
      "text/html": [
       "<div>\n",
       "<style scoped>\n",
       "    .dataframe tbody tr th:only-of-type {\n",
       "        vertical-align: middle;\n",
       "    }\n",
       "\n",
       "    .dataframe tbody tr th {\n",
       "        vertical-align: top;\n",
       "    }\n",
       "\n",
       "    .dataframe thead th {\n",
       "        text-align: right;\n",
       "    }\n",
       "</style>\n",
       "<table border=\"1\" class=\"dataframe\">\n",
       "  <thead>\n",
       "    <tr style=\"text-align: right;\">\n",
       "      <th></th>\n",
       "      <th>ProfileID</th>\n",
       "      <th>AnswerID</th>\n",
       "      <th>Unit of measurement</th>\n",
       "      <th>Survey</th>\n",
       "      <th>QuestionaireID</th>\n",
       "      <th>Year</th>\n",
       "      <th>LocName</th>\n",
       "      <th>Municipality</th>\n",
       "      <th>cb_size</th>\n",
       "      <th>females16to24</th>\n",
       "      <th>...</th>\n",
       "      <th>washing_machine</th>\n",
       "      <th>3_plate_use</th>\n",
       "      <th>4_plate_use</th>\n",
       "      <th>geyser_use</th>\n",
       "      <th>heater_use</th>\n",
       "      <th>hotplate_use</th>\n",
       "      <th>iron_use</th>\n",
       "      <th>kettle_use</th>\n",
       "      <th>microwave_use</th>\n",
       "      <th>washing_machine_use</th>\n",
       "    </tr>\n",
       "  </thead>\n",
       "  <tbody>\n",
       "    <tr>\n",
       "      <th>10188</th>\n",
       "      <td>12024365</td>\n",
       "      <td>1004655</td>\n",
       "      <td>2</td>\n",
       "      <td>Eskom LR</td>\n",
       "      <td>3</td>\n",
       "      <td>2014</td>\n",
       "      <td>Butterworth</td>\n",
       "      <td>Mnquma</td>\n",
       "      <td>20.0</td>\n",
       "      <td>NaN</td>\n",
       "      <td>...</td>\n",
       "      <td>0.0</td>\n",
       "      <td>never</td>\n",
       "      <td>never</td>\n",
       "      <td>never</td>\n",
       "      <td>never</td>\n",
       "      <td>daily</td>\n",
       "      <td>weekly</td>\n",
       "      <td>daily</td>\n",
       "      <td>never</td>\n",
       "      <td>never</td>\n",
       "    </tr>\n",
       "    <tr>\n",
       "      <th>10189</th>\n",
       "      <td>12024366</td>\n",
       "      <td>1004655</td>\n",
       "      <td>4</td>\n",
       "      <td>Eskom LR</td>\n",
       "      <td>3</td>\n",
       "      <td>2014</td>\n",
       "      <td>Butterworth</td>\n",
       "      <td>Mnquma</td>\n",
       "      <td>20.0</td>\n",
       "      <td>NaN</td>\n",
       "      <td>...</td>\n",
       "      <td>0.0</td>\n",
       "      <td>never</td>\n",
       "      <td>never</td>\n",
       "      <td>never</td>\n",
       "      <td>never</td>\n",
       "      <td>daily</td>\n",
       "      <td>weekly</td>\n",
       "      <td>daily</td>\n",
       "      <td>never</td>\n",
       "      <td>never</td>\n",
       "    </tr>\n",
       "    <tr>\n",
       "      <th>10190</th>\n",
       "      <td>12024367</td>\n",
       "      <td>1004655</td>\n",
       "      <td>5</td>\n",
       "      <td>Eskom LR</td>\n",
       "      <td>3</td>\n",
       "      <td>2014</td>\n",
       "      <td>Butterworth</td>\n",
       "      <td>Mnquma</td>\n",
       "      <td>20.0</td>\n",
       "      <td>NaN</td>\n",
       "      <td>...</td>\n",
       "      <td>0.0</td>\n",
       "      <td>never</td>\n",
       "      <td>never</td>\n",
       "      <td>never</td>\n",
       "      <td>never</td>\n",
       "      <td>daily</td>\n",
       "      <td>weekly</td>\n",
       "      <td>daily</td>\n",
       "      <td>never</td>\n",
       "      <td>never</td>\n",
       "    </tr>\n",
       "    <tr>\n",
       "      <th>10191</th>\n",
       "      <td>12024369</td>\n",
       "      <td>1004656</td>\n",
       "      <td>2</td>\n",
       "      <td>Eskom LR</td>\n",
       "      <td>3</td>\n",
       "      <td>2014</td>\n",
       "      <td>Butterworth</td>\n",
       "      <td>Mnquma</td>\n",
       "      <td>20.0</td>\n",
       "      <td>NaN</td>\n",
       "      <td>...</td>\n",
       "      <td>0.0</td>\n",
       "      <td>never</td>\n",
       "      <td>never</td>\n",
       "      <td>never</td>\n",
       "      <td>never</td>\n",
       "      <td>daily</td>\n",
       "      <td>weekly</td>\n",
       "      <td>daily</td>\n",
       "      <td>daily</td>\n",
       "      <td>never</td>\n",
       "    </tr>\n",
       "    <tr>\n",
       "      <th>10192</th>\n",
       "      <td>12024370</td>\n",
       "      <td>1004656</td>\n",
       "      <td>4</td>\n",
       "      <td>Eskom LR</td>\n",
       "      <td>3</td>\n",
       "      <td>2014</td>\n",
       "      <td>Butterworth</td>\n",
       "      <td>Mnquma</td>\n",
       "      <td>20.0</td>\n",
       "      <td>NaN</td>\n",
       "      <td>...</td>\n",
       "      <td>0.0</td>\n",
       "      <td>never</td>\n",
       "      <td>never</td>\n",
       "      <td>never</td>\n",
       "      <td>never</td>\n",
       "      <td>daily</td>\n",
       "      <td>weekly</td>\n",
       "      <td>daily</td>\n",
       "      <td>daily</td>\n",
       "      <td>never</td>\n",
       "    </tr>\n",
       "  </tbody>\n",
       "</table>\n",
       "<p>5 rows × 79 columns</p>\n",
       "</div>"
      ],
      "text/plain": [
       "       ProfileID  AnswerID  Unit of measurement    Survey  QuestionaireID  \\\n",
       "10188   12024365   1004655                    2  Eskom LR               3   \n",
       "10189   12024366   1004655                    4  Eskom LR               3   \n",
       "10190   12024367   1004655                    5  Eskom LR               3   \n",
       "10191   12024369   1004656                    2  Eskom LR               3   \n",
       "10192   12024370   1004656                    4  Eskom LR               3   \n",
       "\n",
       "       Year      LocName Municipality  cb_size  females16to24  ...  \\\n",
       "10188  2014  Butterworth       Mnquma     20.0            NaN  ...   \n",
       "10189  2014  Butterworth       Mnquma     20.0            NaN  ...   \n",
       "10190  2014  Butterworth       Mnquma     20.0            NaN  ...   \n",
       "10191  2014  Butterworth       Mnquma     20.0            NaN  ...   \n",
       "10192  2014  Butterworth       Mnquma     20.0            NaN  ...   \n",
       "\n",
       "       washing_machine  3_plate_use  4_plate_use  geyser_use  heater_use  \\\n",
       "10188              0.0        never        never       never       never   \n",
       "10189              0.0        never        never       never       never   \n",
       "10190              0.0        never        never       never       never   \n",
       "10191              0.0        never        never       never       never   \n",
       "10192              0.0        never        never       never       never   \n",
       "\n",
       "       hotplate_use  iron_use  kettle_use  microwave_use  washing_machine_use  \n",
       "10188         daily    weekly       daily          never                never  \n",
       "10189         daily    weekly       daily          never                never  \n",
       "10190         daily    weekly       daily          never                never  \n",
       "10191         daily    weekly       daily          daily                never  \n",
       "10192         daily    weekly       daily          daily                never  \n",
       "\n",
       "[5 rows x 79 columns]"
      ]
     },
     "execution_count": 15,
     "metadata": {},
     "output_type": "execute_result"
    }
   ],
   "source": [
    "sa_2014.head()"
   ]
  },
  {
   "cell_type": "code",
   "execution_count": 16,
   "metadata": {},
   "outputs": [
    {
     "data": {
      "text/plain": [
       "array(['never', 'daily', 'weekly', 'monthly'], dtype=object)"
      ]
     },
     "execution_count": 16,
     "metadata": {},
     "output_type": "execute_result"
    }
   ],
   "source": [
    "sa_2014.heater_use.unique()"
   ]
  },
  {
   "cell_type": "code",
   "execution_count": 26,
   "metadata": {},
   "outputs": [],
   "source": [
    "municipality = sa_2014.Municipality.unique()"
   ]
  },
  {
   "cell_type": "code",
   "execution_count": 38,
   "metadata": {},
   "outputs": [
    {
     "name": "stdout",
     "output_type": "stream",
     "text": [
      "Mnquma Local Municipality, Amathole District Municipality, Eastern Cape, 4960, South Africa\n",
      "Mantsopa Local Municipality, Thabo Mofutsanyana District Municipality, Free State, 9745, South Africa\n",
      "Kouga, Salamat سلامات, Tchad / تشاد\n",
      "Rustenburg, Bojanala Platinum District Municipality, North West, South Africa\n",
      "Mbombela, Ehlanzeni, Mpumalanga, South Africa\n",
      "uMhlathuze Local Municipality, King Cetswayo District Municipality, KwaZulu-Natal, South Africa\n",
      "Emfuleni, Lephalale Ward 3, Lephalale Local Municipality, Waterberg District Municipality, Limpopo, South Africa\n",
      "Matjhabeng Local Municipality, Lejweleputswa District Municipality, Free State, South Africa\n",
      "Mangaung, Bloemfontein, Mangaung Metropolitan Municipality, Free State, South Africa\n",
      "Thembisile Hani Local Municipality, Nkangala, Mpumalanga, 1022, South Africa\n",
      "City of Ekurhuleni Metropolitan Municipality, Gauteng, South Africa\n"
     ]
    }
   ],
   "source": [
    "geolocator = Nominatim(user_agent=\"specify_your_app_name_here\")\n",
    "lat = []\n",
    "lon = []\n",
    "place = []\n",
    "for i in range(len(municipality)): \n",
    "    location = geolocator.geocode(municipality[i])\n",
    "    if location is None: \n",
    "        continue\n",
    "    print(location.address)\n",
    "    lat.append(location.latitude)\n",
    "    lon.append(location.longitude)\n",
    "    place.append(municipality[i])\n",
    "\n"
   ]
  },
  {
   "cell_type": "code",
   "execution_count": 42,
   "metadata": {},
   "outputs": [],
   "source": [
    "import folium\n",
    "import pandas as pd\n",
    " \n",
    "# Make a data frame with dots to show on the map\n",
    "data = pd.DataFrame({\n",
    "'lat':lon,\n",
    "'lon':lat,\n",
    "'name':place\n",
    "})\n",
    "data\n",
    " \n",
    "# Make an empty map\n",
    "m = folium.Map(location=[20, 0], tiles=\"OpenStreetMap\", zoom_start=2)\n",
    " \n",
    "# I can add marker one by one on the map\n",
    "for i in range(0,len(data)):\n",
    "    folium.Marker([data.iloc[i]['lon'], data.iloc[i]['lat']], popup=data.iloc[i]['name']).add_to(m)\n",
    " \n",
    "# Save it as html\n",
    "m.save('312_markers_on_folium_map1.html')"
   ]
  },
  {
   "cell_type": "code",
   "execution_count": 6,
   "metadata": {},
   "outputs": [],
   "source": [
    "usage = sa[['3_plate_use', '4_plate_use',\n",
    "       'geyser_use', 'heater_use', 'hotplate_use', 'iron_use', 'kettle_use',\n",
    "       'microwave_use', 'washing_machine_use']]"
   ]
  },
  {
   "cell_type": "code",
   "execution_count": 17,
   "metadata": {},
   "outputs": [],
   "source": [
    "e = [None]*9\n",
    "ind = 0\n",
    "for i in usage.columns: \n",
    "    e[ind] = usage.groupby(i).apply(lambda x: len(x))\n",
    "    ind+=1\n",
    "    "
   ]
  },
  {
   "cell_type": "code",
   "execution_count": 38,
   "metadata": {},
   "outputs": [
    {
     "data": {
      "image/png": "[encoded data removed]",
      "text/plain": [
       "<Figure size 432x288 with 1 Axes>"
      ]
     },
     "metadata": {
      "needs_background": "light"
     },
     "output_type": "display_data"
    },
    {
     "data": {
      "image/png": "[encoded data removed]",
      "text/plain": [
       "<Figure size 432x288 with 1 Axes>"
      ]
     },
     "metadata": {
      "needs_background": "light"
     },
     "output_type": "display_data"
    },
    {
     "data": {
      "image/png": "[encoded data removed]",
      "text/plain": [
       "<Figure size 432x288 with 1 Axes>"
      ]
     },
     "metadata": {
      "needs_background": "light"
     },
     "output_type": "display_data"
    },
    {
     "data": {
      "image/png": "[encoded data removed]",
      "text/plain": [
       "<Figure size 432x288 with 1 Axes>"
      ]
     },
     "metadata": {
      "needs_background": "light"
     },
     "output_type": "display_data"
    },
    {
     "data": {
      "image/png": "[encoded data removed]",
      "text/plain": [
       "<Figure size 432x288 with 1 Axes>"
      ]
     },
     "metadata": {
      "needs_background": "light"
     },
     "output_type": "display_data"
    },
    {
     "data": {
      "image/png": "[encoded data removed]",
      "text/plain": [
       "<Figure size 432x288 with 1 Axes>"
      ]
     },
     "metadata": {
      "needs_background": "light"
     },
     "output_type": "display_data"
    },
    {
     "data": {
      "image/png": "[encoded data removed]",
      "text/plain": [
       "<Figure size 432x288 with 1 Axes>"
      ]
     },
     "metadata": {
      "needs_background": "light"
     },
     "output_type": "display_data"
    },
    {
     "data": {
      "image/png": "[encoded data removed]",
      "text/plain": [
       "<Figure size 432x288 with 1 Axes>"
      ]
     },
     "metadata": {
      "needs_background": "light"
     },
     "output_type": "display_data"
    },
    {
     "data": {
      "image/png": "[encoded data removed]",
      "text/plain": [
       "<Figure size 432x288 with 1 Axes>"
      ]
     },
     "metadata": {
      "needs_background": "light"
     },
     "output_type": "display_data"
    }
   ],
   "source": [
    "for i in range(len(e)):\n",
    "    plt.figure\n",
    "    e[i].plot.bar()\n",
    "    plt.title(\"Usage frequency of \" + e[i].index.name)\n",
    "    plt.xlabel(\"Frequency\")\n",
    "    plt.ylabel(\"Count\")\n",
    "    plt.show()"
   ]
  },
  {
   "cell_type": "code",
   "execution_count": 32,
   "metadata": {},
   "outputs": [
    {
     "data": {
      "text/plain": [
       "'3_plate_use'"
      ]
     },
     "execution_count": 32,
     "metadata": {},
     "output_type": "execute_result"
    }
   ],
   "source": [
    "e[0].index.name"
   ]
  }
 ],
 "metadata": {
  "kernelspec": {
   "display_name": "Python 3",
   "language": "python",
   "name": "python3"
  },
  "language_info": {
   "codemirror_mode": {
    "name": "ipython",
    "version": 3
   },
   "file_extension": ".py",
   "mimetype": "text/x-python",
   "name": "python",
   "nbconvert_exporter": "python",
   "pygments_lexer": "ipython3",
   "version": "3.7.3"
  }
 },
 "nbformat": 4,
 "nbformat_minor": 2
}
