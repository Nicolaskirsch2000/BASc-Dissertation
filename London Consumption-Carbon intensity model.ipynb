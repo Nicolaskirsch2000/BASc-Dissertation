{
 "cells": [
  {
   "cell_type": "code",
   "execution_count": 49,
   "metadata": {},
   "outputs": [],
   "source": [
    "%matplotlib inline\n",
    "\n",
    "import numpy as np\n",
    "import pandas as pd\n",
    "import matplotlib.pyplot as plt\n",
    "\n",
    "from sklearn.model_selection import train_test_split\n",
    "from sklearn import datasets, metrics\n",
    "from sklearn.metrics import mean_squared_error\n",
    "from sklearn.linear_model import LinearRegression\n",
    "from sklearn.model_selection import cross_val_score\n",
    "from sklearn import tree\n",
    "from sklearn.ensemble import RandomForestRegressor"
   ]
  },
  {
   "cell_type": "code",
   "execution_count": 50,
   "metadata": {},
   "outputs": [
    {
     "data": {
      "text/html": [
       "<div>\n",
       "<style scoped>\n",
       "    .dataframe tbody tr th:only-of-type {\n",
       "        vertical-align: middle;\n",
       "    }\n",
       "\n",
       "    .dataframe tbody tr th {\n",
       "        vertical-align: top;\n",
       "    }\n",
       "\n",
       "    .dataframe thead th {\n",
       "        text-align: right;\n",
       "    }\n",
       "</style>\n",
       "<table border=\"1\" class=\"dataframe\">\n",
       "  <thead>\n",
       "    <tr style=\"text-align: right;\">\n",
       "      <th></th>\n",
       "      <th>Cluster</th>\n",
       "      <th>consumption_kWh</th>\n",
       "      <th>CO2_intensity</th>\n",
       "      <th>day</th>\n",
       "      <th>hour</th>\n",
       "    </tr>\n",
       "    <tr>\n",
       "      <th>time</th>\n",
       "      <th></th>\n",
       "      <th></th>\n",
       "      <th></th>\n",
       "      <th></th>\n",
       "      <th></th>\n",
       "    </tr>\n",
       "  </thead>\n",
       "  <tbody>\n",
       "    <tr>\n",
       "      <th>000</th>\n",
       "      <td>0</td>\n",
       "      <td>33.813385</td>\n",
       "      <td>206.339623</td>\n",
       "      <td>0</td>\n",
       "      <td>00</td>\n",
       "    </tr>\n",
       "    <tr>\n",
       "      <th>001</th>\n",
       "      <td>0</td>\n",
       "      <td>37.310308</td>\n",
       "      <td>214.980769</td>\n",
       "      <td>0</td>\n",
       "      <td>01</td>\n",
       "    </tr>\n",
       "    <tr>\n",
       "      <th>002</th>\n",
       "      <td>0</td>\n",
       "      <td>29.514769</td>\n",
       "      <td>214.673077</td>\n",
       "      <td>0</td>\n",
       "      <td>02</td>\n",
       "    </tr>\n",
       "    <tr>\n",
       "      <th>003</th>\n",
       "      <td>0</td>\n",
       "      <td>31.131462</td>\n",
       "      <td>215.509615</td>\n",
       "      <td>0</td>\n",
       "      <td>03</td>\n",
       "    </tr>\n",
       "    <tr>\n",
       "      <th>004</th>\n",
       "      <td>0</td>\n",
       "      <td>39.650769</td>\n",
       "      <td>216.461538</td>\n",
       "      <td>0</td>\n",
       "      <td>04</td>\n",
       "    </tr>\n",
       "  </tbody>\n",
       "</table>\n",
       "</div>"
      ],
      "text/plain": [
       "      Cluster  consumption_kWh  CO2_intensity day hour\n",
       "time                                                  \n",
       "000         0        33.813385     206.339623   0   00\n",
       "001         0        37.310308     214.980769   0   01\n",
       "002         0        29.514769     214.673077   0   02\n",
       "003         0        31.131462     215.509615   0   03\n",
       "004         0        39.650769     216.461538   0   04"
      ]
     },
     "execution_count": 50,
     "metadata": {},
     "output_type": "execute_result"
    }
   ],
   "source": [
    "df = pd.read_csv(\"../Data/Hourly consumtpion per cluster London.csv\")\n",
    "df[\"time\"] = df[\"time\"].astype(str).str.zfill(3)\n",
    "df.index = df[\"time\"]\n",
    "df[\"day\"] = df[\"time\"].str[:1]\n",
    "df[\"hour\"] = df[\"time\"].str[1:]\n",
    "df.drop(['time','Unnamed: 0'], axis = 1, inplace = True)\n",
    "\n",
    "\n",
    "df.head()"
   ]
  },
  {
   "cell_type": "code",
   "execution_count": 51,
   "metadata": {},
   "outputs": [
    {
     "data": {
      "text/html": [
       "<div>\n",
       "<style scoped>\n",
       "    .dataframe tbody tr th:only-of-type {\n",
       "        vertical-align: middle;\n",
       "    }\n",
       "\n",
       "    .dataframe tbody tr th {\n",
       "        vertical-align: top;\n",
       "    }\n",
       "\n",
       "    .dataframe thead th {\n",
       "        text-align: right;\n",
       "    }\n",
       "</style>\n",
       "<table border=\"1\" class=\"dataframe\">\n",
       "  <thead>\n",
       "    <tr style=\"text-align: right;\">\n",
       "      <th></th>\n",
       "      <th>consumption_kWh</th>\n",
       "      <th>Morn-Ev</th>\n",
       "      <th>CO2_intensity</th>\n",
       "    </tr>\n",
       "    <tr>\n",
       "      <th>time</th>\n",
       "      <th></th>\n",
       "      <th></th>\n",
       "      <th></th>\n",
       "    </tr>\n",
       "  </thead>\n",
       "  <tbody>\n",
       "    <tr>\n",
       "      <th>000</th>\n",
       "      <td>587.238769</td>\n",
       "      <td>Morning</td>\n",
       "      <td>206.339623</td>\n",
       "    </tr>\n",
       "    <tr>\n",
       "      <th>001</th>\n",
       "      <td>487.561051</td>\n",
       "      <td>Morning</td>\n",
       "      <td>214.980769</td>\n",
       "    </tr>\n",
       "    <tr>\n",
       "      <th>002</th>\n",
       "      <td>413.403647</td>\n",
       "      <td>Morning</td>\n",
       "      <td>214.673077</td>\n",
       "    </tr>\n",
       "    <tr>\n",
       "      <th>003</th>\n",
       "      <td>378.318955</td>\n",
       "      <td>Morning</td>\n",
       "      <td>215.509615</td>\n",
       "    </tr>\n",
       "    <tr>\n",
       "      <th>004</th>\n",
       "      <td>367.642231</td>\n",
       "      <td>Morning</td>\n",
       "      <td>216.461538</td>\n",
       "    </tr>\n",
       "  </tbody>\n",
       "</table>\n",
       "</div>"
      ],
      "text/plain": [
       "      consumption_kWh  Morn-Ev  CO2_intensity\n",
       "time                                         \n",
       "000        587.238769  Morning     206.339623\n",
       "001        487.561051  Morning     214.980769\n",
       "002        413.403647  Morning     214.673077\n",
       "003        378.318955  Morning     215.509615\n",
       "004        367.642231  Morning     216.461538"
      ]
     },
     "execution_count": 51,
     "metadata": {},
     "output_type": "execute_result"
    },
    {
     "data": {
      "image/png": "[encoded data removed]",
      "text/plain": [
       "<Figure size 432x288 with 1 Axes>"
      ]
     },
     "metadata": {
      "needs_background": "light"
     },
     "output_type": "display_data"
    }
   ],
   "source": [
    "a = df.groupby('time')['consumption_kWh'].apply(lambda x: np.sum(x)).to_frame()\n",
    "\n",
    "a['Morn-Ev'] = 'Morning'\n",
    "a['Morn-Ev'] = a['Morn-Ev'].where(a.index.str[1:].astype(int) <12 , \"Evening\")\n",
    "\n",
    "\n",
    "z = df.iloc[range(0,168),-3]\n",
    "a[\"CO2_intensity\"] = z\n",
    "\n",
    "morn = a[a['Morn-Ev']=='Morning']\n",
    "ev = a[a['Morn-Ev']=='Evening']\n",
    "\n",
    "\n",
    "plt.scatter(x = morn['consumption_kWh'], y = morn['CO2_intensity'], color = 'C1', label = 'Morning')\n",
    "plt.scatter(x = ev['consumption_kWh'], y = ev['CO2_intensity'], color = 'C2', label = 'Evening')\n",
    "\n",
    "plt.title(\"Relationship between total energy consumption and carbon intensity for London\")\n",
    "plt.xlabel(\"Energy consumption (kWh)\")\n",
    "plt.ylabel(\"Carbon intensity (gCO2/kWh)\")\n",
    "\n",
    "plt.legend()            \n",
    "plt.savefig(\"Carbon Intensity vs Consumption London.png\")\n",
    "\n",
    "a.head()"
   ]
  },
  {
   "cell_type": "code",
   "execution_count": 52,
   "metadata": {},
   "outputs": [
    {
     "data": {
      "text/plain": [
       "0.6462240151104416"
      ]
     },
     "execution_count": 52,
     "metadata": {},
     "output_type": "execute_result"
    }
   ],
   "source": [
    "a['consumption_kWh'].corr(a['CO2_intensity'])"
   ]
  },
  {
   "cell_type": "code",
   "execution_count": 53,
   "metadata": {},
   "outputs": [
    {
     "data": {
      "text/plain": [
       "168"
      ]
     },
     "execution_count": 53,
     "metadata": {},
     "output_type": "execute_result"
    }
   ],
   "source": [
    "week = df.groupby('time')['consumption_kWh'].apply(lambda x: np.sum(x)).to_frame()\n",
    "week[\"day\"] = week.index.str[:1]\n",
    "week[\"hour\"] = week.index.str[1:]\n",
    "\n",
    "z = df.iloc[range(0,168),-3]\n",
    "week[\"CO2_intensity\"] = z\n",
    "\n",
    "\n",
    "len(week)"
   ]
  },
  {
   "cell_type": "markdown",
   "metadata": {},
   "source": [
    "### Multivariate regression"
   ]
  },
  {
   "cell_type": "code",
   "execution_count": 54,
   "metadata": {},
   "outputs": [],
   "source": [
    "train_data, test_data = train_test_split(week, train_size = 0.8, random_state = 3)\n",
    "lr = LinearRegression()\n",
    "\n"
   ]
  },
  {
   "cell_type": "code",
   "execution_count": 55,
   "metadata": {},
   "outputs": [
    {
     "name": "stdout",
     "output_type": "stream",
     "text": [
      "16.728\n"
     ]
    }
   ],
   "source": [
    "X_train = np.array(train_data[['consumption_kWh','day','hour']],\n",
    "                   dtype = pd.Series)\n",
    "y_train = np.array(train_data['CO2_intensity'], dtype = pd.Series)\n",
    "lr.fit(X_train, y_train)\n",
    "\n",
    "X_test = np.array(test_data[['consumption_kWh','day','hour']], \n",
    "                    dtype = pd.Series)\n",
    "y_test = np.array(test_data['CO2_intensity'], dtype = pd.Series)\n",
    "\n",
    "pred = lr.predict(X_test)\n",
    "\n",
    "rmsesm = float(format(np.sqrt(metrics.mean_squared_error(y_test,pred)),'.3f'))\n",
    "\n",
    "print(rmsesm)"
   ]
  },
  {
   "cell_type": "markdown",
   "metadata": {},
   "source": [
    "### Decision tree "
   ]
  },
  {
   "cell_type": "code",
   "execution_count": 56,
   "metadata": {},
   "outputs": [],
   "source": [
    "train_data, test_data = train_test_split(week, train_size = 0.8, random_state = 3)\n",
    "clf = tree.DecisionTreeRegressor()"
   ]
  },
  {
   "cell_type": "code",
   "execution_count": 57,
   "metadata": {},
   "outputs": [
    {
     "name": "stdout",
     "output_type": "stream",
     "text": [
      "7.754\n"
     ]
    }
   ],
   "source": [
    "X_train = np.array(train_data[['consumption_kWh','day','hour']],\n",
    "                   dtype = pd.Series)\n",
    "y_train = np.array(train_data['CO2_intensity'], dtype = pd.Series)\n",
    "clf.fit(X_train, y_train)\n",
    "\n",
    "X_test = np.array(test_data[['consumption_kWh','day','hour']], \n",
    "                    dtype = pd.Series)\n",
    "y_test = np.array(test_data['CO2_intensity'], dtype = pd.Series)\n",
    "\n",
    "pred = clf.predict(X_test)\n",
    "\n",
    "rmsesm = float(format(np.sqrt(metrics.mean_squared_error(y_test,pred)),'.3f'))\n",
    "\n",
    "print(rmsesm)"
   ]
  },
  {
   "cell_type": "markdown",
   "metadata": {},
   "source": [
    "### Random forest "
   ]
  },
  {
   "cell_type": "code",
   "execution_count": 58,
   "metadata": {},
   "outputs": [],
   "source": [
    "train_data, test_data = train_test_split(week, train_size = 0.8, random_state = 3)\n",
    "regr = RandomForestRegressor(max_depth=8, random_state=0)\n"
   ]
  },
  {
   "cell_type": "code",
   "execution_count": 59,
   "metadata": {},
   "outputs": [
    {
     "data": {
      "image/png": "[encoded data removed]",
      "text/plain": [
       "<Figure size 432x288 with 1 Axes>"
      ]
     },
     "metadata": {
      "needs_background": "light"
     },
     "output_type": "display_data"
    }
   ],
   "source": [
    "max_depths = np.linspace(1, 32, 32, endpoint=True)\n",
    "train_results = []\n",
    "test_results = []\n",
    "\n",
    "for max_depth in max_depths:\n",
    "    rf = RandomForestRegressor(max_depth=max_depth, n_jobs=-1)\n",
    "    rf.fit(X_train, y_train)\n",
    "    train_pred = rf.predict(X_train)\n",
    "    train_rmsesm = float(format(np.sqrt(metrics.mean_squared_error(y_train,train_pred)),'.3f'))\n",
    "\n",
    "    train_results.append(train_rmsesm)\n",
    "\n",
    "    y_pred = rf.predict(X_test)\n",
    "\n",
    "    test_rmsesm = float(format(np.sqrt(metrics.mean_squared_error(y_test,y_pred)),'.3f'))\n",
    "    test_results.append(test_rmsesm)\n",
    "    \n",
    "from matplotlib.legend_handler import HandlerLine2D\n",
    "line1, = plt.plot(max_depths, train_results, 'b', label='Train RMSE')\n",
    "line2, = plt.plot(max_depths, test_results, 'r', label='Test RMSE')\n",
    "plt.legend(handler_map={line1: HandlerLine2D(numpoints=2)})\n",
    "plt.ylabel('RMSE score')\n",
    "plt.xlabel('Tree depth')\n",
    "plt.show()\n"
   ]
  },
  {
   "cell_type": "code",
   "execution_count": 60,
   "metadata": {},
   "outputs": [
    {
     "data": {
      "text/html": [
       "<div>\n",
       "<style scoped>\n",
       "    .dataframe tbody tr th:only-of-type {\n",
       "        vertical-align: middle;\n",
       "    }\n",
       "\n",
       "    .dataframe tbody tr th {\n",
       "        vertical-align: top;\n",
       "    }\n",
       "\n",
       "    .dataframe thead th {\n",
       "        text-align: right;\n",
       "    }\n",
       "</style>\n",
       "<table border=\"1\" class=\"dataframe\">\n",
       "  <thead>\n",
       "    <tr style=\"text-align: right;\">\n",
       "      <th></th>\n",
       "      <th>Depth</th>\n",
       "      <th>RMSE</th>\n",
       "    </tr>\n",
       "  </thead>\n",
       "  <tbody>\n",
       "    <tr>\n",
       "      <th>0</th>\n",
       "      <td>1.0</td>\n",
       "      <td>21.465</td>\n",
       "    </tr>\n",
       "    <tr>\n",
       "      <th>1</th>\n",
       "      <td>2.0</td>\n",
       "      <td>14.795</td>\n",
       "    </tr>\n",
       "    <tr>\n",
       "      <th>2</th>\n",
       "      <td>3.0</td>\n",
       "      <td>10.966</td>\n",
       "    </tr>\n",
       "    <tr>\n",
       "      <th>3</th>\n",
       "      <td>4.0</td>\n",
       "      <td>9.395</td>\n",
       "    </tr>\n",
       "    <tr>\n",
       "      <th>4</th>\n",
       "      <td>5.0</td>\n",
       "      <td>8.146</td>\n",
       "    </tr>\n",
       "    <tr>\n",
       "      <th>5</th>\n",
       "      <td>6.0</td>\n",
       "      <td>7.981</td>\n",
       "    </tr>\n",
       "    <tr>\n",
       "      <th>6</th>\n",
       "      <td>7.0</td>\n",
       "      <td>7.845</td>\n",
       "    </tr>\n",
       "    <tr>\n",
       "      <th>7</th>\n",
       "      <td>8.0</td>\n",
       "      <td>7.845</td>\n",
       "    </tr>\n",
       "    <tr>\n",
       "      <th>8</th>\n",
       "      <td>9.0</td>\n",
       "      <td>7.561</td>\n",
       "    </tr>\n",
       "    <tr>\n",
       "      <th>9</th>\n",
       "      <td>10.0</td>\n",
       "      <td>7.676</td>\n",
       "    </tr>\n",
       "    <tr>\n",
       "      <th>10</th>\n",
       "      <td>11.0</td>\n",
       "      <td>7.227</td>\n",
       "    </tr>\n",
       "    <tr>\n",
       "      <th>11</th>\n",
       "      <td>12.0</td>\n",
       "      <td>7.530</td>\n",
       "    </tr>\n",
       "    <tr>\n",
       "      <th>12</th>\n",
       "      <td>13.0</td>\n",
       "      <td>7.363</td>\n",
       "    </tr>\n",
       "    <tr>\n",
       "      <th>13</th>\n",
       "      <td>14.0</td>\n",
       "      <td>7.395</td>\n",
       "    </tr>\n",
       "    <tr>\n",
       "      <th>14</th>\n",
       "      <td>15.0</td>\n",
       "      <td>7.553</td>\n",
       "    </tr>\n",
       "    <tr>\n",
       "      <th>15</th>\n",
       "      <td>16.0</td>\n",
       "      <td>7.931</td>\n",
       "    </tr>\n",
       "    <tr>\n",
       "      <th>16</th>\n",
       "      <td>17.0</td>\n",
       "      <td>7.577</td>\n",
       "    </tr>\n",
       "    <tr>\n",
       "      <th>17</th>\n",
       "      <td>18.0</td>\n",
       "      <td>7.494</td>\n",
       "    </tr>\n",
       "    <tr>\n",
       "      <th>18</th>\n",
       "      <td>19.0</td>\n",
       "      <td>7.312</td>\n",
       "    </tr>\n",
       "    <tr>\n",
       "      <th>19</th>\n",
       "      <td>20.0</td>\n",
       "      <td>7.625</td>\n",
       "    </tr>\n",
       "    <tr>\n",
       "      <th>20</th>\n",
       "      <td>21.0</td>\n",
       "      <td>7.563</td>\n",
       "    </tr>\n",
       "    <tr>\n",
       "      <th>21</th>\n",
       "      <td>22.0</td>\n",
       "      <td>7.064</td>\n",
       "    </tr>\n",
       "    <tr>\n",
       "      <th>22</th>\n",
       "      <td>23.0</td>\n",
       "      <td>7.377</td>\n",
       "    </tr>\n",
       "    <tr>\n",
       "      <th>23</th>\n",
       "      <td>24.0</td>\n",
       "      <td>7.577</td>\n",
       "    </tr>\n",
       "    <tr>\n",
       "      <th>24</th>\n",
       "      <td>25.0</td>\n",
       "      <td>7.712</td>\n",
       "    </tr>\n",
       "    <tr>\n",
       "      <th>25</th>\n",
       "      <td>26.0</td>\n",
       "      <td>7.388</td>\n",
       "    </tr>\n",
       "    <tr>\n",
       "      <th>26</th>\n",
       "      <td>27.0</td>\n",
       "      <td>7.899</td>\n",
       "    </tr>\n",
       "    <tr>\n",
       "      <th>27</th>\n",
       "      <td>28.0</td>\n",
       "      <td>7.493</td>\n",
       "    </tr>\n",
       "    <tr>\n",
       "      <th>28</th>\n",
       "      <td>29.0</td>\n",
       "      <td>7.634</td>\n",
       "    </tr>\n",
       "    <tr>\n",
       "      <th>29</th>\n",
       "      <td>30.0</td>\n",
       "      <td>7.790</td>\n",
       "    </tr>\n",
       "    <tr>\n",
       "      <th>30</th>\n",
       "      <td>31.0</td>\n",
       "      <td>7.547</td>\n",
       "    </tr>\n",
       "    <tr>\n",
       "      <th>31</th>\n",
       "      <td>32.0</td>\n",
       "      <td>7.539</td>\n",
       "    </tr>\n",
       "  </tbody>\n",
       "</table>\n",
       "</div>"
      ],
      "text/plain": [
       "    Depth    RMSE\n",
       "0     1.0  21.465\n",
       "1     2.0  14.795\n",
       "2     3.0  10.966\n",
       "3     4.0   9.395\n",
       "4     5.0   8.146\n",
       "5     6.0   7.981\n",
       "6     7.0   7.845\n",
       "7     8.0   7.845\n",
       "8     9.0   7.561\n",
       "9    10.0   7.676\n",
       "10   11.0   7.227\n",
       "11   12.0   7.530\n",
       "12   13.0   7.363\n",
       "13   14.0   7.395\n",
       "14   15.0   7.553\n",
       "15   16.0   7.931\n",
       "16   17.0   7.577\n",
       "17   18.0   7.494\n",
       "18   19.0   7.312\n",
       "19   20.0   7.625\n",
       "20   21.0   7.563\n",
       "21   22.0   7.064\n",
       "22   23.0   7.377\n",
       "23   24.0   7.577\n",
       "24   25.0   7.712\n",
       "25   26.0   7.388\n",
       "26   27.0   7.899\n",
       "27   28.0   7.493\n",
       "28   29.0   7.634\n",
       "29   30.0   7.790\n",
       "30   31.0   7.547\n",
       "31   32.0   7.539"
      ]
     },
     "execution_count": 60,
     "metadata": {},
     "output_type": "execute_result"
    }
   ],
   "source": [
    "df = pd.DataFrame(list(zip(max_depths, test_results)), \n",
    "               columns =['Depth', 'RMSE']) \n",
    "df"
   ]
  },
  {
   "cell_type": "markdown",
   "metadata": {},
   "source": [
    "So we keep depth equals 10"
   ]
  }
 ],
 "metadata": {
  "kernelspec": {
   "display_name": "Python 3",
   "language": "python",
   "name": "python3"
  },
  "language_info": {
   "codemirror_mode": {
    "name": "ipython",
    "version": 3
   },
   "file_extension": ".py",
   "mimetype": "text/x-python",
   "name": "python",
   "nbconvert_exporter": "python",
   "pygments_lexer": "ipython3",
   "version": "3.7.3"
  }
 },
 "nbformat": 4,
 "nbformat_minor": 2
}
