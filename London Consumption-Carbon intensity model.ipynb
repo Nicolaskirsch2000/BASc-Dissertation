{
 "cells": [
  {
   "cell_type": "code",
   "execution_count": 1,
   "metadata": {},
   "outputs": [],
   "source": [
    "%matplotlib inline\n",
    "\n",
    "import numpy as np\n",
    "import pandas as pd\n",
    "import matplotlib.pyplot as plt\n",
    "import seaborn as sns\n",
    "\n",
    "from sklearn.model_selection import train_test_split\n",
    "from sklearn import datasets, metrics\n",
    "from sklearn.metrics import mean_squared_error\n",
    "from sklearn.linear_model import LinearRegression\n",
    "from sklearn.model_selection import cross_val_score\n",
    "from sklearn import tree\n",
    "from sklearn.ensemble import RandomForestRegressor"
   ]
  },
  {
   "cell_type": "code",
   "execution_count": 2,
   "metadata": {},
   "outputs": [
    {
     "data": {
      "text/html": [
       "<div>\n",
       "<style scoped>\n",
       "    .dataframe tbody tr th:only-of-type {\n",
       "        vertical-align: middle;\n",
       "    }\n",
       "\n",
       "    .dataframe tbody tr th {\n",
       "        vertical-align: top;\n",
       "    }\n",
       "\n",
       "    .dataframe thead th {\n",
       "        text-align: right;\n",
       "    }\n",
       "</style>\n",
       "<table border=\"1\" class=\"dataframe\">\n",
       "  <thead>\n",
       "    <tr style=\"text-align: right;\">\n",
       "      <th></th>\n",
       "      <th>Cluster</th>\n",
       "      <th>consumption_kWh</th>\n",
       "      <th>CO2_intensity</th>\n",
       "      <th>day</th>\n",
       "      <th>hour</th>\n",
       "    </tr>\n",
       "    <tr>\n",
       "      <th>time</th>\n",
       "      <th></th>\n",
       "      <th></th>\n",
       "      <th></th>\n",
       "      <th></th>\n",
       "      <th></th>\n",
       "    </tr>\n",
       "  </thead>\n",
       "  <tbody>\n",
       "    <tr>\n",
       "      <th>000</th>\n",
       "      <td>0</td>\n",
       "      <td>33.813385</td>\n",
       "      <td>206.339623</td>\n",
       "      <td>0</td>\n",
       "      <td>00</td>\n",
       "    </tr>\n",
       "    <tr>\n",
       "      <th>001</th>\n",
       "      <td>0</td>\n",
       "      <td>37.310308</td>\n",
       "      <td>214.980769</td>\n",
       "      <td>0</td>\n",
       "      <td>01</td>\n",
       "    </tr>\n",
       "    <tr>\n",
       "      <th>002</th>\n",
       "      <td>0</td>\n",
       "      <td>29.514769</td>\n",
       "      <td>214.673077</td>\n",
       "      <td>0</td>\n",
       "      <td>02</td>\n",
       "    </tr>\n",
       "    <tr>\n",
       "      <th>003</th>\n",
       "      <td>0</td>\n",
       "      <td>31.131462</td>\n",
       "      <td>215.509615</td>\n",
       "      <td>0</td>\n",
       "      <td>03</td>\n",
       "    </tr>\n",
       "    <tr>\n",
       "      <th>004</th>\n",
       "      <td>0</td>\n",
       "      <td>39.650769</td>\n",
       "      <td>216.461538</td>\n",
       "      <td>0</td>\n",
       "      <td>04</td>\n",
       "    </tr>\n",
       "  </tbody>\n",
       "</table>\n",
       "</div>"
      ],
      "text/plain": [
       "      Cluster  consumption_kWh  CO2_intensity day hour\n",
       "time                                                  \n",
       "000         0        33.813385     206.339623   0   00\n",
       "001         0        37.310308     214.980769   0   01\n",
       "002         0        29.514769     214.673077   0   02\n",
       "003         0        31.131462     215.509615   0   03\n",
       "004         0        39.650769     216.461538   0   04"
      ]
     },
     "execution_count": 2,
     "metadata": {},
     "output_type": "execute_result"
    }
   ],
   "source": [
    "df = pd.read_csv(\"../Data/Hourly consumtpion per cluster London.csv\")\n",
    "df[\"time\"] = df[\"time\"].astype(str).str.zfill(3)\n",
    "df.index = df[\"time\"]\n",
    "df[\"day\"] = df[\"time\"].str[:1]\n",
    "df[\"hour\"] = df[\"time\"].str[1:]\n",
    "df.drop(['time','Unnamed: 0'], axis = 1, inplace = True)\n",
    "\n",
    "\n",
    "df.head()"
   ]
  },
  {
   "cell_type": "code",
   "execution_count": 3,
   "metadata": {},
   "outputs": [
    {
     "ename": "NameError",
     "evalue": "name 'a' is not defined",
     "output_type": "error",
     "traceback": [
      "\u001b[1;31m---------------------------------------------------------------------------\u001b[0m",
      "\u001b[1;31mNameError\u001b[0m                                 Traceback (most recent call last)",
      "\u001b[1;32m<ipython-input-3-4d0f5672653e>\u001b[0m in \u001b[0;36m<module>\u001b[1;34m\u001b[0m\n\u001b[1;32m----> 1\u001b[1;33m \u001b[0ma\u001b[0m\u001b[1;33m.\u001b[0m\u001b[0mhead\u001b[0m\u001b[1;33m(\u001b[0m\u001b[1;33m)\u001b[0m\u001b[1;33m\u001b[0m\u001b[1;33m\u001b[0m\u001b[0m\n\u001b[0m",
      "\u001b[1;31mNameError\u001b[0m: name 'a' is not defined"
     ]
    }
   ],
   "source": []
  },
  {
   "cell_type": "code",
   "execution_count": 5,
   "metadata": {},
   "outputs": [
    {
     "data": {
      "text/html": [
       "<div>\n",
       "<style scoped>\n",
       "    .dataframe tbody tr th:only-of-type {\n",
       "        vertical-align: middle;\n",
       "    }\n",
       "\n",
       "    .dataframe tbody tr th {\n",
       "        vertical-align: top;\n",
       "    }\n",
       "\n",
       "    .dataframe thead th {\n",
       "        text-align: right;\n",
       "    }\n",
       "</style>\n",
       "<table border=\"1\" class=\"dataframe\">\n",
       "  <thead>\n",
       "    <tr style=\"text-align: right;\">\n",
       "      <th></th>\n",
       "      <th>consumption_kWh</th>\n",
       "      <th>hour</th>\n",
       "      <th>CO2_intensity</th>\n",
       "    </tr>\n",
       "    <tr>\n",
       "      <th>time</th>\n",
       "      <th></th>\n",
       "      <th></th>\n",
       "      <th></th>\n",
       "    </tr>\n",
       "  </thead>\n",
       "  <tbody>\n",
       "    <tr>\n",
       "      <th>000</th>\n",
       "      <td>587.238769</td>\n",
       "      <td>0</td>\n",
       "      <td>206.339623</td>\n",
       "    </tr>\n",
       "    <tr>\n",
       "      <th>001</th>\n",
       "      <td>487.561051</td>\n",
       "      <td>0</td>\n",
       "      <td>214.980769</td>\n",
       "    </tr>\n",
       "    <tr>\n",
       "      <th>002</th>\n",
       "      <td>413.403647</td>\n",
       "      <td>0</td>\n",
       "      <td>214.673077</td>\n",
       "    </tr>\n",
       "    <tr>\n",
       "      <th>003</th>\n",
       "      <td>378.318955</td>\n",
       "      <td>0</td>\n",
       "      <td>215.509615</td>\n",
       "    </tr>\n",
       "    <tr>\n",
       "      <th>004</th>\n",
       "      <td>367.642231</td>\n",
       "      <td>0</td>\n",
       "      <td>216.461538</td>\n",
       "    </tr>\n",
       "  </tbody>\n",
       "</table>\n",
       "</div>"
      ],
      "text/plain": [
       "      consumption_kWh  hour  CO2_intensity\n",
       "time                                      \n",
       "000        587.238769     0     206.339623\n",
       "001        487.561051     0     214.980769\n",
       "002        413.403647     0     214.673077\n",
       "003        378.318955     0     215.509615\n",
       "004        367.642231     0     216.461538"
      ]
     },
     "execution_count": 5,
     "metadata": {},
     "output_type": "execute_result"
    },
    {
     "data": {
      "image/png": "[encoded data removed]",
      "text/plain": [
       "<Figure size 432x288 with 2 Axes>"
      ]
     },
     "metadata": {
      "needs_background": "light"
     },
     "output_type": "display_data"
    }
   ],
   "source": [
    "a = df.groupby('time')['consumption_kWh'].apply(lambda x: np.sum(x)).to_frame()\n",
    "\n",
    "a['hour'] = a.index.str[:1].astype(int)\n",
    "\n",
    "\n",
    "z = df.iloc[range(0,168),-3]\n",
    "a[\"CO2_intensity\"] = z\n",
    "\n",
    "\n",
    "cmap = sns.cubehelix_palette(as_cmap=True)\n",
    "f, ax = plt.subplots()\n",
    "points = ax.scatter(a['consumption_kWh'], y = a['CO2_intensity'], c=a['hour'], s=50, cmap=cmap)\n",
    "f.colorbar(points)\n",
    "\n",
    "\n",
    "plt.title(\"Relationship between total energy consumption and carbon intensity for London\")\n",
    "plt.xlabel(\"Energy consumption (kWh)\")\n",
    "plt.ylabel(\"Carbon intensity (gCO2/kWh)\")\n",
    "\n",
    "plt.savefig(\"Carbon Intensity vs Consumption London.png\")\n",
    "\n",
    "a.head()"
   ]
  },
  {
   "cell_type": "code",
   "execution_count": 6,
   "metadata": {},
   "outputs": [
    {
     "data": {
      "text/plain": [
       "0.6462240151104416"
      ]
     },
     "execution_count": 6,
     "metadata": {},
     "output_type": "execute_result"
    }
   ],
   "source": [
    "a['consumption_kWh'].corr(a['CO2_intensity'])"
   ]
  },
  {
   "cell_type": "code",
   "execution_count": 7,
   "metadata": {},
   "outputs": [
    {
     "data": {
      "text/plain": [
       "168"
      ]
     },
     "execution_count": 7,
     "metadata": {},
     "output_type": "execute_result"
    }
   ],
   "source": [
    "week = df.groupby('time')['consumption_kWh'].apply(lambda x: np.sum(x)).to_frame()\n",
    "week[\"day\"] = week.index.str[:1]\n",
    "week[\"hour\"] = week.index.str[1:]\n",
    "\n",
    "z = df.iloc[range(0,168),-3]\n",
    "week[\"CO2_intensity\"] = z\n",
    "\n",
    "\n",
    "len(week)"
   ]
  },
  {
   "cell_type": "markdown",
   "metadata": {},
   "source": [
    "### Multivariate regression"
   ]
  },
  {
   "cell_type": "code",
   "execution_count": 8,
   "metadata": {},
   "outputs": [],
   "source": [
    "train_data, test_data = train_test_split(week, train_size = 0.8, random_state = 3)\n",
    "lr = LinearRegression()\n",
    "\n"
   ]
  },
  {
   "cell_type": "code",
   "execution_count": 41,
   "metadata": {},
   "outputs": [
    {
     "name": "stdout",
     "output_type": "stream",
     "text": [
      "16.728\n"
     ]
    }
   ],
   "source": [
    "X_train = np.array(train_data[['consumption_kWh','day','hour']],\n",
    "                   dtype = pd.Series)\n",
    "y_train = np.array(train_data['CO2_intensity'], dtype = pd.Series)\n",
    "lr.fit(X_train, y_train)\n",
    "\n",
    "X_test = np.array(test_data[['consumption_kWh','day','hour']], \n",
    "                    dtype = pd.Series)\n",
    "y_test = np.array(test_data['CO2_intensity'], dtype = pd.Series)\n",
    "\n",
    "pred = lr.predict(X_test)\n",
    "\n",
    "rmsesm = float(format(np.sqrt(metrics.mean_squared_error(y_test,pred)),'.3f'))\n",
    "\n",
    "print(rmsesm)"
   ]
  },
  {
   "cell_type": "markdown",
   "metadata": {},
   "source": [
    "### Decision tree "
   ]
  },
  {
   "cell_type": "code",
   "execution_count": 10,
   "metadata": {},
   "outputs": [],
   "source": [
    "train_data, test_data = train_test_split(week, train_size = 0.8, random_state = 3)\n",
    "clf = tree.DecisionTreeRegressor()"
   ]
  },
  {
   "cell_type": "code",
   "execution_count": 54,
   "metadata": {},
   "outputs": [
    {
     "name": "stdout",
     "output_type": "stream",
     "text": [
      "7.790096024006011\n"
     ]
    }
   ],
   "source": [
    "sm = 0\n",
    "r = 0\n",
    "for i in range(1,4000):\n",
    "\n",
    "    X_train = np.array(train_data[['consumption_kWh','day','hour']],\n",
    "                       dtype = pd.Series)\n",
    "    y_train = np.array(train_data['CO2_intensity'], dtype = pd.Series)\n",
    "    clf.fit(X_train, y_train)\n",
    "\n",
    "    X_test = np.array(test_data[['consumption_kWh','day','hour']], \n",
    "                        dtype = pd.Series)\n",
    "    y_test = np.array(test_data['CO2_intensity'], dtype = pd.Series)\n",
    "\n",
    "    pred = clf.predict(X_test)\n",
    "\n",
    "    rmsesm = float(format(np.sqrt(metrics.mean_squared_error(y_test,pred)),'.3f'))\n",
    "    \n",
    "    sm +=rmsesm\n",
    "    r+=1\n",
    "    \n",
    "print(sm/r)"
   ]
  },
  {
   "cell_type": "markdown",
   "metadata": {},
   "source": [
    "### Random forest "
   ]
  },
  {
   "cell_type": "code",
   "execution_count": 61,
   "metadata": {},
   "outputs": [],
   "source": [
    "train_data, test_data = train_test_split(week, train_size = 0.8, random_state = 3)\n",
    "regr = RandomForestRegressor(max_depth= 8, random_state=0)\n"
   ]
  },
  {
   "cell_type": "code",
   "execution_count": 10,
   "metadata": {},
   "outputs": [
    {
     "data": {
      "image/png": "[encoded data removed]",
      "text/plain": [
       "<Figure size 432x288 with 1 Axes>"
      ]
     },
     "metadata": {
      "needs_background": "light"
     },
     "output_type": "display_data"
    }
   ],
   "source": [
    "max_depths = np.linspace(1, 32, 32, endpoint=True)\n",
    "train_results = []\n",
    "test_results = []\n",
    "\n",
    "X_train = np.array(train_data[['consumption_kWh','day','hour']],\n",
    "                   dtype = pd.Series)\n",
    "y_train = np.array(train_data['CO2_intensity'], dtype = pd.Series)\n",
    "\n",
    "X_test = np.array(test_data[['consumption_kWh','day','hour']], \n",
    "                    dtype = pd.Series)\n",
    "y_test = np.array(test_data['CO2_intensity'], dtype = pd.Series)\n",
    "\n",
    "\n",
    "for max_depth in max_depths:\n",
    "    rf = RandomForestRegressor(max_depth=max_depth, n_jobs=-1)\n",
    "    rf.fit(X_train, y_train)\n",
    "    train_pred = rf.predict(X_train)\n",
    "    train_rmsesm = float(format(np.sqrt(metrics.mean_squared_error(y_train,train_pred)),'.3f'))\n",
    "\n",
    "    train_results.append(train_rmsesm)\n",
    "\n",
    "    y_pred = rf.predict(X_test)\n",
    "\n",
    "    test_rmsesm = float(format(np.sqrt(metrics.mean_squared_error(y_test,y_pred)),'.3f'))\n",
    "    test_results.append(test_rmsesm)\n",
    "    \n",
    "from matplotlib.legend_handler import HandlerLine2D\n",
    "line1, = plt.plot(max_depths, train_results, 'b', label='Train RMSE')\n",
    "line2, = plt.plot(max_depths, test_results, 'r', label='Test RMSE')\n",
    "plt.legend(handler_map={line1: HandlerLine2D(numpoints=2)})\n",
    "plt.ylabel('RMSE score')\n",
    "plt.xlabel('Tree depth')\n",
    "plt.show()\n"
   ]
  },
  {
   "cell_type": "code",
   "execution_count": 62,
   "metadata": {},
   "outputs": [
    {
     "name": "stdout",
     "output_type": "stream",
     "text": [
      "7.755\n"
     ]
    }
   ],
   "source": [
    "train_results = []\n",
    "test_results = []\n",
    "\n",
    "X_train = np.array(train_data[['consumption_kWh','day','hour']],\n",
    "                   dtype = pd.Series)\n",
    "y_train = np.array(train_data['CO2_intensity'], dtype = pd.Series)\n",
    "\n",
    "X_test = np.array(test_data[['consumption_kWh','day','hour']], \n",
    "                    dtype = pd.Series)\n",
    "y_test = np.array(test_data['CO2_intensity'], dtype = pd.Series)\n",
    "\n",
    "regr.fit(X_train, y_train)\n",
    "\n",
    "pred = regr.predict(X_test)\n",
    "rmsesr = float(format(np.sqrt(metrics.mean_squared_error(y_test,pred)),'.3f'))\n",
    "\n",
    "print(rmsesr)"
   ]
  },
  {
   "cell_type": "code",
   "execution_count": 12,
   "metadata": {},
   "outputs": [],
   "source": [
    "df = pd.DataFrame(list(zip(max_depths, test_results)), \n",
    "               columns =['Depth', 'RMSE']) "
   ]
  },
  {
   "cell_type": "markdown",
   "metadata": {},
   "source": [
    "So we keep depth equals 10"
   ]
  },
  {
   "cell_type": "code",
   "execution_count": 14,
   "metadata": {},
   "outputs": [
    {
     "data": {
      "text/plain": [
       "<matplotlib.collections.PathCollection at 0x1d39d70da20>"
      ]
     },
     "execution_count": 14,
     "metadata": {},
     "output_type": "execute_result"
    },
    {
     "data": {
      "image/png": "[encoded data removed]",
      "text/plain": [
       "<Figure size 432x288 with 1 Axes>"
      ]
     },
     "metadata": {
      "needs_background": "light"
     },
     "output_type": "display_data"
    }
   ],
   "source": [
    "train_data, test_data = train_test_split(week, train_size = 0.8, random_state = 3)\n",
    "rf = RandomForestRegressor(max_depth=10, random_state=0)\n",
    "rf.fit(X_train, y_train)\n",
    "y_pred = rf.predict(X_test)\n",
    "\n",
    "\n",
    "plt.scatter(y_test,y_pred)"
   ]
  }
 ],
 "metadata": {
  "kernelspec": {
   "display_name": "Python 3",
   "language": "python",
   "name": "python3"
  },
  "language_info": {
   "codemirror_mode": {
    "name": "ipython",
    "version": 3
   },
   "file_extension": ".py",
   "mimetype": "text/x-python",
   "name": "python",
   "nbconvert_exporter": "python",
   "pygments_lexer": "ipython3",
   "version": "3.7.3"
  }
 },
 "nbformat": 4,
 "nbformat_minor": 2
}
