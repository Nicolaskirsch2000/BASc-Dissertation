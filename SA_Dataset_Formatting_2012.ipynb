{
 "cells": [
  {
   "cell_type": "code",
   "execution_count": 1,
   "metadata": {},
   "outputs": [],
   "source": [
    "%matplotlib inline\n",
    "\n",
    "import pandas as pd\n",
    "import numpy as np\n",
    "import matplotlib.pyplot as plt"
   ]
  },
  {
   "cell_type": "code",
   "execution_count": 2,
   "metadata": {},
   "outputs": [],
   "source": [
    "df = pd.read_csv(r\"..\\Data\\SAdata\\2012_A.csv\")"
   ]
  },
  {
   "cell_type": "code",
   "execution_count": 3,
   "metadata": {},
   "outputs": [
    {
     "data": {
      "text/html": [
       "<div>\n",
       "<style scoped>\n",
       "    .dataframe tbody tr th:only-of-type {\n",
       "        vertical-align: middle;\n",
       "    }\n",
       "\n",
       "    .dataframe tbody tr th {\n",
       "        vertical-align: top;\n",
       "    }\n",
       "\n",
       "    .dataframe thead th {\n",
       "        text-align: right;\n",
       "    }\n",
       "</style>\n",
       "<table border=\"1\" class=\"dataframe\">\n",
       "  <thead>\n",
       "    <tr style=\"text-align: right;\">\n",
       "      <th></th>\n",
       "      <th>RecorderID</th>\n",
       "      <th>ProfileID</th>\n",
       "      <th>Datefield</th>\n",
       "      <th>Unitsread</th>\n",
       "      <th>Valid</th>\n",
       "    </tr>\n",
       "  </thead>\n",
       "  <tbody>\n",
       "    <tr>\n",
       "      <th>0</th>\n",
       "      <td>BTW001</td>\n",
       "      <td>12005762</td>\n",
       "      <td>2012-10-01 00:00:00</td>\n",
       "      <td>1.200000</td>\n",
       "      <td>1.0</td>\n",
       "    </tr>\n",
       "    <tr>\n",
       "      <th>1</th>\n",
       "      <td>BTW001</td>\n",
       "      <td>12005762</td>\n",
       "      <td>2012-10-01 01:00:00</td>\n",
       "      <td>1.300000</td>\n",
       "      <td>1.0</td>\n",
       "    </tr>\n",
       "    <tr>\n",
       "      <th>2</th>\n",
       "      <td>BTW001</td>\n",
       "      <td>12005762</td>\n",
       "      <td>2012-10-01 02:00:00</td>\n",
       "      <td>1.216667</td>\n",
       "      <td>1.0</td>\n",
       "    </tr>\n",
       "    <tr>\n",
       "      <th>3</th>\n",
       "      <td>BTW001</td>\n",
       "      <td>12005762</td>\n",
       "      <td>2012-10-01 03:00:00</td>\n",
       "      <td>1.233333</td>\n",
       "      <td>1.0</td>\n",
       "    </tr>\n",
       "    <tr>\n",
       "      <th>4</th>\n",
       "      <td>BTW001</td>\n",
       "      <td>12005762</td>\n",
       "      <td>2012-10-01 04:00:00</td>\n",
       "      <td>1.316667</td>\n",
       "      <td>1.0</td>\n",
       "    </tr>\n",
       "  </tbody>\n",
       "</table>\n",
       "</div>"
      ],
      "text/plain": [
       "  RecorderID  ProfileID            Datefield  Unitsread  Valid\n",
       "0     BTW001   12005762  2012-10-01 00:00:00   1.200000    1.0\n",
       "1     BTW001   12005762  2012-10-01 01:00:00   1.300000    1.0\n",
       "2     BTW001   12005762  2012-10-01 02:00:00   1.216667    1.0\n",
       "3     BTW001   12005762  2012-10-01 03:00:00   1.233333    1.0\n",
       "4     BTW001   12005762  2012-10-01 04:00:00   1.316667    1.0"
      ]
     },
     "execution_count": 3,
     "metadata": {},
     "output_type": "execute_result"
    }
   ],
   "source": [
    "df.head()"
   ]
  },
  {
   "cell_type": "markdown",
   "metadata": {},
   "source": [
    "The unitsread are in Amps, to get them in kWh, we multiply by the South Africa Voltage (as it is 1 hour timestamps) and divide by 1000"
   ]
  },
  {
   "cell_type": "code",
   "execution_count": 4,
   "metadata": {},
   "outputs": [],
   "source": [
    "df[\"Unitsread\"] = df[\"Unitsread\"]*220/1000"
   ]
  },
  {
   "cell_type": "code",
   "execution_count": 5,
   "metadata": {},
   "outputs": [
    {
     "data": {
      "text/html": [
       "<div>\n",
       "<style scoped>\n",
       "    .dataframe tbody tr th:only-of-type {\n",
       "        vertical-align: middle;\n",
       "    }\n",
       "\n",
       "    .dataframe tbody tr th {\n",
       "        vertical-align: top;\n",
       "    }\n",
       "\n",
       "    .dataframe thead th {\n",
       "        text-align: right;\n",
       "    }\n",
       "</style>\n",
       "<table border=\"1\" class=\"dataframe\">\n",
       "  <thead>\n",
       "    <tr style=\"text-align: right;\">\n",
       "      <th></th>\n",
       "      <th>RecorderID</th>\n",
       "      <th>ProfileID</th>\n",
       "      <th>Datefield</th>\n",
       "      <th>Unitsread</th>\n",
       "      <th>Valid</th>\n",
       "    </tr>\n",
       "  </thead>\n",
       "  <tbody>\n",
       "    <tr>\n",
       "      <th>0</th>\n",
       "      <td>BTW001</td>\n",
       "      <td>12005762</td>\n",
       "      <td>2012-10-01 00:00:00</td>\n",
       "      <td>0.264000</td>\n",
       "      <td>1.0</td>\n",
       "    </tr>\n",
       "    <tr>\n",
       "      <th>1</th>\n",
       "      <td>BTW001</td>\n",
       "      <td>12005762</td>\n",
       "      <td>2012-10-01 01:00:00</td>\n",
       "      <td>0.286000</td>\n",
       "      <td>1.0</td>\n",
       "    </tr>\n",
       "    <tr>\n",
       "      <th>2</th>\n",
       "      <td>BTW001</td>\n",
       "      <td>12005762</td>\n",
       "      <td>2012-10-01 02:00:00</td>\n",
       "      <td>0.267667</td>\n",
       "      <td>1.0</td>\n",
       "    </tr>\n",
       "    <tr>\n",
       "      <th>3</th>\n",
       "      <td>BTW001</td>\n",
       "      <td>12005762</td>\n",
       "      <td>2012-10-01 03:00:00</td>\n",
       "      <td>0.271333</td>\n",
       "      <td>1.0</td>\n",
       "    </tr>\n",
       "    <tr>\n",
       "      <th>4</th>\n",
       "      <td>BTW001</td>\n",
       "      <td>12005762</td>\n",
       "      <td>2012-10-01 04:00:00</td>\n",
       "      <td>0.289667</td>\n",
       "      <td>1.0</td>\n",
       "    </tr>\n",
       "  </tbody>\n",
       "</table>\n",
       "</div>"
      ],
      "text/plain": [
       "  RecorderID  ProfileID            Datefield  Unitsread  Valid\n",
       "0     BTW001   12005762  2012-10-01 00:00:00   0.264000    1.0\n",
       "1     BTW001   12005762  2012-10-01 01:00:00   0.286000    1.0\n",
       "2     BTW001   12005762  2012-10-01 02:00:00   0.267667    1.0\n",
       "3     BTW001   12005762  2012-10-01 03:00:00   0.271333    1.0\n",
       "4     BTW001   12005762  2012-10-01 04:00:00   0.289667    1.0"
      ]
     },
     "execution_count": 5,
     "metadata": {},
     "output_type": "execute_result"
    }
   ],
   "source": [
    "df.head()"
   ]
  },
  {
   "cell_type": "code",
   "execution_count": 6,
   "metadata": {},
   "outputs": [
    {
     "name": "stdout",
     "output_type": "stream",
     "text": [
      "ProfileID\n",
      "12006364    8769\n",
      "12006416    8769\n",
      "12006299    8769\n",
      "12006303    8769\n",
      "12006433    8769\n",
      "Name: Unitsread, dtype: int64\n"
     ]
    },
    {
     "data": {
      "text/plain": [
       "1587"
      ]
     },
     "execution_count": 6,
     "metadata": {},
     "output_type": "execute_result"
    }
   ],
   "source": [
    "#Lengths of Profile ID groups\n",
    "groups1 = df.groupby(\"ProfileID\")['Unitsread'].apply(lambda x: len(x))\n",
    "groups1 = groups1.sort_values(ascending = False)\n",
    "print(groups1.head())\n",
    "len(groups1)"
   ]
  },
  {
   "cell_type": "markdown",
   "metadata": {},
   "source": [
    "We can see that the right ID is the profile ID. There is however not exactly 8760 values, lets plot the number of values for each ID to get more insight"
   ]
  },
  {
   "cell_type": "code",
   "execution_count": 7,
   "metadata": {},
   "outputs": [
    {
     "name": "stdout",
     "output_type": "stream",
     "text": [
      "1587\n"
     ]
    },
    {
     "data": {
      "text/plain": [
       "<matplotlib.axes._subplots.AxesSubplot at 0x195e03bc470>"
      ]
     },
     "execution_count": 7,
     "metadata": {},
     "output_type": "execute_result"
    },
    {
     "data": {
      "image/png": "[encoded data removed]",
      "text/plain": [
       "<Figure size 432x288 with 1 Axes>"
      ]
     },
     "metadata": {
      "needs_background": "light"
     },
     "output_type": "display_data"
    }
   ],
   "source": [
    "#groups1 = groups1[groups1<2000]\n",
    "#groups1 = groups1[groups1 > 1400]\n",
    "\n",
    "print(len(groups1))\n",
    "\n",
    "groups1.hist(bins = 50)\n"
   ]
  },
  {
   "cell_type": "markdown",
   "metadata": {},
   "source": [
    "\n",
    "\n",
    "There is an enormous peak around 1500 datapoints. As this represents 1.5x more households as the complete households, it is interesting to understand what is happening. \n",
    "\n",
    "\n"
   ]
  },
  {
   "cell_type": "markdown",
   "metadata": {},
   "source": [
    "## Analysing the peak at 1500 datapoints"
   ]
  },
  {
   "cell_type": "code",
   "execution_count": 8,
   "metadata": {},
   "outputs": [],
   "source": [
    "less_data = groups1[groups1<2000]\n",
    "less_data = less_data[less_data>1450]"
   ]
  },
  {
   "cell_type": "code",
   "execution_count": 9,
   "metadata": {},
   "outputs": [
    {
     "data": {
      "text/plain": [
       "<matplotlib.axes._subplots.AxesSubplot at 0x195878526d8>"
      ]
     },
     "execution_count": 9,
     "metadata": {},
     "output_type": "execute_result"
    },
    {
     "data": {
      "image/png": "[encoded data removed]",
      "text/plain": [
       "<Figure size 432x288 with 1 Axes>"
      ]
     },
     "metadata": {
      "needs_background": "light"
     },
     "output_type": "display_data"
    }
   ],
   "source": [
    "less_data.hist(bins = 50)"
   ]
  },
  {
   "cell_type": "code",
   "execution_count": 10,
   "metadata": {},
   "outputs": [],
   "source": [
    "ld = df[df[\"ProfileID\"].isin(less_data.index)]"
   ]
  },
  {
   "cell_type": "code",
   "execution_count": 11,
   "metadata": {},
   "outputs": [
    {
     "data": {
      "text/html": [
       "<div>\n",
       "<style scoped>\n",
       "    .dataframe tbody tr th:only-of-type {\n",
       "        vertical-align: middle;\n",
       "    }\n",
       "\n",
       "    .dataframe tbody tr th {\n",
       "        vertical-align: top;\n",
       "    }\n",
       "\n",
       "    .dataframe thead th {\n",
       "        text-align: right;\n",
       "    }\n",
       "</style>\n",
       "<table border=\"1\" class=\"dataframe\">\n",
       "  <thead>\n",
       "    <tr style=\"text-align: right;\">\n",
       "      <th></th>\n",
       "      <th>RecorderID</th>\n",
       "      <th>ProfileID</th>\n",
       "      <th>Datefield</th>\n",
       "      <th>Unitsread</th>\n",
       "      <th>Valid</th>\n",
       "    </tr>\n",
       "  </thead>\n",
       "  <tbody>\n",
       "    <tr>\n",
       "      <th>1138464</th>\n",
       "      <td>BTW001</td>\n",
       "      <td>12019685</td>\n",
       "      <td>2012-11-01 00:00:00</td>\n",
       "      <td>1.272333</td>\n",
       "      <td>1.0</td>\n",
       "    </tr>\n",
       "    <tr>\n",
       "      <th>1138465</th>\n",
       "      <td>BTW001</td>\n",
       "      <td>12019685</td>\n",
       "      <td>2012-11-01 01:00:00</td>\n",
       "      <td>0.564667</td>\n",
       "      <td>1.0</td>\n",
       "    </tr>\n",
       "    <tr>\n",
       "      <th>1138466</th>\n",
       "      <td>BTW001</td>\n",
       "      <td>12019685</td>\n",
       "      <td>2012-11-01 02:00:00</td>\n",
       "      <td>0.264000</td>\n",
       "      <td>1.0</td>\n",
       "    </tr>\n",
       "    <tr>\n",
       "      <th>1138467</th>\n",
       "      <td>BTW001</td>\n",
       "      <td>12019685</td>\n",
       "      <td>2012-11-01 03:00:00</td>\n",
       "      <td>0.319000</td>\n",
       "      <td>1.0</td>\n",
       "    </tr>\n",
       "    <tr>\n",
       "      <th>1138468</th>\n",
       "      <td>BTW001</td>\n",
       "      <td>12019685</td>\n",
       "      <td>2012-11-01 04:00:00</td>\n",
       "      <td>0.264000</td>\n",
       "      <td>1.0</td>\n",
       "    </tr>\n",
       "  </tbody>\n",
       "</table>\n",
       "</div>"
      ],
      "text/plain": [
       "        RecorderID  ProfileID            Datefield  Unitsread  Valid\n",
       "1138464     BTW001   12019685  2012-11-01 00:00:00   1.272333    1.0\n",
       "1138465     BTW001   12019685  2012-11-01 01:00:00   0.564667    1.0\n",
       "1138466     BTW001   12019685  2012-11-01 02:00:00   0.264000    1.0\n",
       "1138467     BTW001   12019685  2012-11-01 03:00:00   0.319000    1.0\n",
       "1138468     BTW001   12019685  2012-11-01 04:00:00   0.264000    1.0"
      ]
     },
     "execution_count": 11,
     "metadata": {},
     "output_type": "execute_result"
    }
   ],
   "source": [
    "ld.head()"
   ]
  },
  {
   "cell_type": "code",
   "execution_count": 13,
   "metadata": {},
   "outputs": [
    {
     "name": "stderr",
     "output_type": "stream",
     "text": [
      "C:\\Users\\Kirsch\\Anaconda3\\lib\\site-packages\\ipykernel_launcher.py:1: SettingWithCopyWarning: \n",
      "A value is trying to be set on a copy of a slice from a DataFrame.\n",
      "Try using .loc[row_indexer,col_indexer] = value instead\n",
      "\n",
      "See the caveats in the documentation: http://pandas.pydata.org/pandas-docs/stable/indexing.html#indexing-view-versus-copy\n",
      "  \"\"\"Entry point for launching an IPython kernel.\n"
     ]
    }
   ],
   "source": [
    "ld[\"date\"] = pd.to_datetime(df[\"Datefield\"]).dt.date"
   ]
  },
  {
   "cell_type": "code",
   "execution_count": 14,
   "metadata": {},
   "outputs": [
    {
     "name": "stderr",
     "output_type": "stream",
     "text": [
      "C:\\Users\\Kirsch\\Anaconda3\\lib\\site-packages\\ipykernel_launcher.py:1: SettingWithCopyWarning: \n",
      "A value is trying to be set on a copy of a slice from a DataFrame.\n",
      "Try using .loc[row_indexer,col_indexer] = value instead\n",
      "\n",
      "See the caveats in the documentation: http://pandas.pydata.org/pandas-docs/stable/indexing.html#indexing-view-versus-copy\n",
      "  \"\"\"Entry point for launching an IPython kernel.\n"
     ]
    }
   ],
   "source": [
    "ld[\"Month\"] = pd.to_datetime(df[\"Datefield\"]).dt.month"
   ]
  },
  {
   "cell_type": "markdown",
   "metadata": {},
   "source": [
    "Select a random ID from the sub set"
   ]
  },
  {
   "cell_type": "code",
   "execution_count": 15,
   "metadata": {},
   "outputs": [],
   "source": [
    "ld1 = ld[ld[\"ProfileID\"] == 12020725]"
   ]
  },
  {
   "cell_type": "code",
   "execution_count": 16,
   "metadata": {},
   "outputs": [
    {
     "data": {
      "text/html": [
       "<div>\n",
       "<style scoped>\n",
       "    .dataframe tbody tr th:only-of-type {\n",
       "        vertical-align: middle;\n",
       "    }\n",
       "\n",
       "    .dataframe tbody tr th {\n",
       "        vertical-align: top;\n",
       "    }\n",
       "\n",
       "    .dataframe thead th {\n",
       "        text-align: right;\n",
       "    }\n",
       "</style>\n",
       "<table border=\"1\" class=\"dataframe\">\n",
       "  <thead>\n",
       "    <tr style=\"text-align: right;\">\n",
       "      <th></th>\n",
       "      <th>RecorderID</th>\n",
       "      <th>ProfileID</th>\n",
       "      <th>Datefield</th>\n",
       "      <th>Unitsread</th>\n",
       "      <th>Valid</th>\n",
       "      <th>date</th>\n",
       "      <th>Month</th>\n",
       "    </tr>\n",
       "  </thead>\n",
       "  <tbody>\n",
       "    <tr>\n",
       "      <th>1309065</th>\n",
       "      <td>HKY020</td>\n",
       "      <td>12020725</td>\n",
       "      <td>2012-11-01 00:00:00</td>\n",
       "      <td>0.0</td>\n",
       "      <td>1.0</td>\n",
       "      <td>2012-11-01</td>\n",
       "      <td>11</td>\n",
       "    </tr>\n",
       "    <tr>\n",
       "      <th>1309066</th>\n",
       "      <td>HKY020</td>\n",
       "      <td>12020725</td>\n",
       "      <td>2012-11-01 01:00:00</td>\n",
       "      <td>0.0</td>\n",
       "      <td>1.0</td>\n",
       "      <td>2012-11-01</td>\n",
       "      <td>11</td>\n",
       "    </tr>\n",
       "    <tr>\n",
       "      <th>1309067</th>\n",
       "      <td>HKY020</td>\n",
       "      <td>12020725</td>\n",
       "      <td>2012-11-01 02:00:00</td>\n",
       "      <td>0.0</td>\n",
       "      <td>1.0</td>\n",
       "      <td>2012-11-01</td>\n",
       "      <td>11</td>\n",
       "    </tr>\n",
       "    <tr>\n",
       "      <th>1309068</th>\n",
       "      <td>HKY020</td>\n",
       "      <td>12020725</td>\n",
       "      <td>2012-11-01 03:00:00</td>\n",
       "      <td>0.0</td>\n",
       "      <td>1.0</td>\n",
       "      <td>2012-11-01</td>\n",
       "      <td>11</td>\n",
       "    </tr>\n",
       "    <tr>\n",
       "      <th>1309069</th>\n",
       "      <td>HKY020</td>\n",
       "      <td>12020725</td>\n",
       "      <td>2012-11-01 04:00:00</td>\n",
       "      <td>0.0</td>\n",
       "      <td>1.0</td>\n",
       "      <td>2012-11-01</td>\n",
       "      <td>11</td>\n",
       "    </tr>\n",
       "  </tbody>\n",
       "</table>\n",
       "</div>"
      ],
      "text/plain": [
       "        RecorderID  ProfileID            Datefield  Unitsread  Valid  \\\n",
       "1309065     HKY020   12020725  2012-11-01 00:00:00        0.0    1.0   \n",
       "1309066     HKY020   12020725  2012-11-01 01:00:00        0.0    1.0   \n",
       "1309067     HKY020   12020725  2012-11-01 02:00:00        0.0    1.0   \n",
       "1309068     HKY020   12020725  2012-11-01 03:00:00        0.0    1.0   \n",
       "1309069     HKY020   12020725  2012-11-01 04:00:00        0.0    1.0   \n",
       "\n",
       "               date  Month  \n",
       "1309065  2012-11-01     11  \n",
       "1309066  2012-11-01     11  \n",
       "1309067  2012-11-01     11  \n",
       "1309068  2012-11-01     11  \n",
       "1309069  2012-11-01     11  "
      ]
     },
     "execution_count": 16,
     "metadata": {},
     "output_type": "execute_result"
    }
   ],
   "source": [
    "ld1.head()"
   ]
  },
  {
   "cell_type": "code",
   "execution_count": 17,
   "metadata": {},
   "outputs": [],
   "source": [
    "day = ld1.groupby(\"date\")['Unitsread'].apply(lambda x: len(x))\n"
   ]
  },
  {
   "cell_type": "code",
   "execution_count": 18,
   "metadata": {},
   "outputs": [
    {
     "data": {
      "text/plain": [
       "<matplotlib.axes._subplots.AxesSubplot at 0x19587c0c828>"
      ]
     },
     "execution_count": 18,
     "metadata": {},
     "output_type": "execute_result"
    },
    {
     "data": {
      "image/png": "[encoded data removed]",
      "text/plain": [
       "<Figure size 432x288 with 1 Axes>"
      ]
     },
     "metadata": {
      "needs_background": "light"
     },
     "output_type": "display_data"
    }
   ],
   "source": [
    "day.hist(bins = 50)"
   ]
  },
  {
   "cell_type": "markdown",
   "metadata": {},
   "source": [
    "All days for this household have 24 entries - full days are missing not hours in a day"
   ]
  },
  {
   "cell_type": "code",
   "execution_count": 19,
   "metadata": {},
   "outputs": [
    {
     "data": {
      "text/html": [
       "<div>\n",
       "<style scoped>\n",
       "    .dataframe tbody tr th:only-of-type {\n",
       "        vertical-align: middle;\n",
       "    }\n",
       "\n",
       "    .dataframe tbody tr th {\n",
       "        vertical-align: top;\n",
       "    }\n",
       "\n",
       "    .dataframe thead th {\n",
       "        text-align: right;\n",
       "    }\n",
       "</style>\n",
       "<table border=\"1\" class=\"dataframe\">\n",
       "  <thead>\n",
       "    <tr style=\"text-align: right;\">\n",
       "      <th></th>\n",
       "      <th>RecorderID</th>\n",
       "      <th>ProfileID</th>\n",
       "      <th>Datefield</th>\n",
       "      <th>Unitsread</th>\n",
       "      <th>Valid</th>\n",
       "      <th>date</th>\n",
       "      <th>Month</th>\n",
       "    </tr>\n",
       "  </thead>\n",
       "  <tbody>\n",
       "    <tr>\n",
       "      <th>1309065</th>\n",
       "      <td>HKY020</td>\n",
       "      <td>12020725</td>\n",
       "      <td>2012-11-01 00:00:00</td>\n",
       "      <td>0.0</td>\n",
       "      <td>1.0</td>\n",
       "      <td>2012-11-01</td>\n",
       "      <td>11</td>\n",
       "    </tr>\n",
       "    <tr>\n",
       "      <th>1309066</th>\n",
       "      <td>HKY020</td>\n",
       "      <td>12020725</td>\n",
       "      <td>2012-11-01 01:00:00</td>\n",
       "      <td>0.0</td>\n",
       "      <td>1.0</td>\n",
       "      <td>2012-11-01</td>\n",
       "      <td>11</td>\n",
       "    </tr>\n",
       "    <tr>\n",
       "      <th>1309067</th>\n",
       "      <td>HKY020</td>\n",
       "      <td>12020725</td>\n",
       "      <td>2012-11-01 02:00:00</td>\n",
       "      <td>0.0</td>\n",
       "      <td>1.0</td>\n",
       "      <td>2012-11-01</td>\n",
       "      <td>11</td>\n",
       "    </tr>\n",
       "    <tr>\n",
       "      <th>1309068</th>\n",
       "      <td>HKY020</td>\n",
       "      <td>12020725</td>\n",
       "      <td>2012-11-01 03:00:00</td>\n",
       "      <td>0.0</td>\n",
       "      <td>1.0</td>\n",
       "      <td>2012-11-01</td>\n",
       "      <td>11</td>\n",
       "    </tr>\n",
       "    <tr>\n",
       "      <th>1309069</th>\n",
       "      <td>HKY020</td>\n",
       "      <td>12020725</td>\n",
       "      <td>2012-11-01 04:00:00</td>\n",
       "      <td>0.0</td>\n",
       "      <td>1.0</td>\n",
       "      <td>2012-11-01</td>\n",
       "      <td>11</td>\n",
       "    </tr>\n",
       "  </tbody>\n",
       "</table>\n",
       "</div>"
      ],
      "text/plain": [
       "        RecorderID  ProfileID            Datefield  Unitsread  Valid  \\\n",
       "1309065     HKY020   12020725  2012-11-01 00:00:00        0.0    1.0   \n",
       "1309066     HKY020   12020725  2012-11-01 01:00:00        0.0    1.0   \n",
       "1309067     HKY020   12020725  2012-11-01 02:00:00        0.0    1.0   \n",
       "1309068     HKY020   12020725  2012-11-01 03:00:00        0.0    1.0   \n",
       "1309069     HKY020   12020725  2012-11-01 04:00:00        0.0    1.0   \n",
       "\n",
       "               date  Month  \n",
       "1309065  2012-11-01     11  \n",
       "1309066  2012-11-01     11  \n",
       "1309067  2012-11-01     11  \n",
       "1309068  2012-11-01     11  \n",
       "1309069  2012-11-01     11  "
      ]
     },
     "execution_count": 19,
     "metadata": {},
     "output_type": "execute_result"
    }
   ],
   "source": [
    "ld1.head()\n"
   ]
  },
  {
   "cell_type": "code",
   "execution_count": 20,
   "metadata": {},
   "outputs": [
    {
     "data": {
      "text/plain": [
       "Month\n",
       "11    720\n",
       "12    744\n",
       "Name: Unitsread, dtype: int64"
      ]
     },
     "execution_count": 20,
     "metadata": {},
     "output_type": "execute_result"
    }
   ],
   "source": [
    "month = ld1.groupby(\"Month\")['Unitsread'].apply(lambda x: len(x))\n",
    "month.head()"
   ]
  },
  {
   "cell_type": "markdown",
   "metadata": {},
   "source": [
    "There is only November and December data "
   ]
  },
  {
   "cell_type": "markdown",
   "metadata": {},
   "source": [
    "## Formatting the dataset \n"
   ]
  },
  {
   "cell_type": "markdown",
   "metadata": {},
   "source": [
    "Keep only the households with more than 8700 readings"
   ]
  },
  {
   "cell_type": "code",
   "execution_count": 21,
   "metadata": {},
   "outputs": [],
   "source": [
    "group = df.groupby(\"ProfileID\")['Unitsread'].apply(lambda x: len(x))\n",
    "group = group.sort_values(ascending = False)"
   ]
  },
  {
   "cell_type": "code",
   "execution_count": 22,
   "metadata": {},
   "outputs": [
    {
     "data": {
      "text/plain": [
       "480"
      ]
     },
     "execution_count": 22,
     "metadata": {},
     "output_type": "execute_result"
    }
   ],
   "source": [
    "group = group[group>8700]\n",
    "len(group)"
   ]
  },
  {
   "cell_type": "code",
   "execution_count": 23,
   "metadata": {},
   "outputs": [],
   "source": [
    "ndf= df[df[\"ProfileID\"].isin(group.index)]"
   ]
  },
  {
   "cell_type": "code",
   "execution_count": 24,
   "metadata": {},
   "outputs": [
    {
     "data": {
      "text/plain": [
       "92"
      ]
     },
     "execution_count": 24,
     "metadata": {},
     "output_type": "execute_result"
    }
   ],
   "source": [
    "grp = ndf.groupby(\"ProfileID\")['Unitsread'].sum()\n",
    "\n",
    "len(grp[grp == 0])"
   ]
  },
  {
   "cell_type": "code",
   "execution_count": 25,
   "metadata": {},
   "outputs": [
    {
     "name": "stdout",
     "output_type": "stream",
     "text": [
      "387\n"
     ]
    }
   ],
   "source": [
    "grp = grp[grp>1]\n",
    "\n",
    "print(len(grp))\n",
    "\n",
    "ndf = ndf[ndf[\"ProfileID\"].isin(grp.index)]"
   ]
  },
  {
   "cell_type": "markdown",
   "metadata": {},
   "source": [
    "Complete the number of readings for each households with NANs, so that every households has a whole year"
   ]
  },
  {
   "cell_type": "code",
   "execution_count": 26,
   "metadata": {},
   "outputs": [
    {
     "name": "stdout",
     "output_type": "stream",
     "text": [
      "0\n",
      "0\n",
      "0\n",
      "0\n",
      "0\n",
      "0\n",
      "0\n",
      "0\n",
      "0\n",
      "0\n",
      "0\n",
      "0\n",
      "0\n",
      "0\n",
      "0\n",
      "0\n",
      "0\n",
      "0\n",
      "0\n",
      "0\n",
      "0\n",
      "0\n",
      "0\n",
      "0\n",
      "0\n",
      "0\n",
      "0\n",
      "0\n",
      "0\n",
      "0\n",
      "0\n",
      "0\n",
      "0\n",
      "0\n",
      "0\n",
      "0\n",
      "0\n",
      "0\n",
      "0\n",
      "0\n",
      "0\n",
      "0\n",
      "0\n",
      "0\n",
      "0\n",
      "0\n",
      "0\n",
      "0\n",
      "0\n",
      "0\n",
      "0\n",
      "0\n",
      "0\n",
      "0\n",
      "0\n",
      "0\n",
      "0\n",
      "0\n",
      "0\n",
      "0\n",
      "0\n",
      "0\n",
      "0\n",
      "0\n",
      "0\n",
      "0\n",
      "0\n",
      "0\n",
      "0\n",
      "0\n",
      "0\n",
      "0\n",
      "0\n",
      "0\n",
      "0\n",
      "0\n",
      "0\n",
      "0\n",
      "0\n",
      "0\n",
      "0\n",
      "0\n",
      "0\n",
      "0\n",
      "0\n",
      "0\n",
      "0\n",
      "0\n",
      "0\n",
      "0\n",
      "0\n",
      "0\n",
      "0\n",
      "0\n",
      "0\n",
      "0\n",
      "0\n",
      "0\n",
      "0\n",
      "0\n",
      "0\n",
      "0\n",
      "0\n",
      "0\n",
      "0\n",
      "0\n",
      "0\n",
      "0\n",
      "0\n",
      "0\n",
      "0\n",
      "0\n",
      "0\n",
      "0\n",
      "0\n",
      "0\n",
      "0\n",
      "0\n",
      "0\n",
      "0\n",
      "0\n",
      "0\n",
      "0\n",
      "0\n",
      "0\n",
      "0\n",
      "0\n",
      "0\n",
      "0\n",
      "0\n",
      "0\n",
      "0\n",
      "0\n",
      "0\n",
      "0\n",
      "0\n",
      "0\n",
      "0\n",
      "0\n",
      "0\n",
      "0\n",
      "0\n",
      "0\n",
      "0\n",
      "0\n",
      "0\n",
      "0\n",
      "0\n",
      "0\n",
      "0\n",
      "0\n",
      "0\n",
      "0\n",
      "0\n",
      "0\n",
      "0\n",
      "0\n",
      "0\n",
      "0\n",
      "0\n",
      "0\n",
      "0\n",
      "0\n",
      "0\n",
      "0\n",
      "0\n",
      "0\n",
      "0\n",
      "0\n",
      "0\n",
      "0\n",
      "0\n",
      "0\n",
      "0\n",
      "0\n",
      "0\n",
      "0\n",
      "0\n",
      "0\n",
      "0\n",
      "0\n",
      "0\n",
      "0\n",
      "0\n",
      "0\n",
      "0\n",
      "0\n",
      "0\n",
      "0\n",
      "0\n",
      "0\n",
      "0\n",
      "0\n",
      "0\n",
      "0\n",
      "0\n",
      "0\n",
      "0\n",
      "0\n",
      "0\n",
      "0\n",
      "0\n",
      "0\n",
      "0\n",
      "0\n",
      "0\n",
      "0\n",
      "0\n",
      "0\n",
      "0\n",
      "0\n",
      "0\n",
      "0\n",
      "0\n",
      "0\n",
      "0\n",
      "0\n",
      "0\n",
      "0\n",
      "0\n",
      "0\n",
      "0\n",
      "0\n",
      "0\n",
      "0\n",
      "0\n",
      "0\n",
      "0\n",
      "0\n",
      "0\n",
      "0\n",
      "0\n",
      "0\n",
      "0\n",
      "0\n",
      "0\n",
      "0\n",
      "0\n",
      "0\n",
      "0\n",
      "0\n",
      "0\n",
      "0\n",
      "0\n",
      "0\n",
      "0\n",
      "0\n",
      "0\n",
      "0\n",
      "0\n",
      "0\n",
      "0\n",
      "0\n",
      "0\n",
      "0\n",
      "0\n",
      "0\n",
      "0\n",
      "0\n",
      "0\n",
      "0\n",
      "0\n",
      "0\n",
      "0\n",
      "0\n",
      "0\n",
      "0\n",
      "0\n",
      "0\n",
      "0\n",
      "0\n",
      "0\n",
      "0\n",
      "0\n",
      "0\n",
      "0\n",
      "0\n",
      "0\n",
      "0\n",
      "0\n",
      "0\n",
      "0\n",
      "0\n",
      "0\n",
      "0\n",
      "0\n",
      "0\n",
      "0\n",
      "0\n",
      "0\n",
      "0\n",
      "0\n",
      "0\n",
      "0\n",
      "0\n",
      "0\n",
      "0\n",
      "0\n",
      "0\n",
      "0\n",
      "0\n",
      "0\n",
      "0\n",
      "0\n",
      "0\n",
      "0\n",
      "0\n",
      "0\n",
      "0\n",
      "0\n",
      "0\n",
      "0\n",
      "0\n",
      "0\n",
      "0\n",
      "0\n",
      "0\n",
      "0\n",
      "0\n",
      "0\n",
      "0\n",
      "0\n",
      "0\n",
      "0\n",
      "0\n",
      "0\n",
      "0\n",
      "0\n",
      "0\n",
      "0\n",
      "0\n",
      "0\n",
      "0\n",
      "0\n",
      "0\n",
      "0\n",
      "0\n",
      "0\n",
      "0\n",
      "0\n",
      "0\n",
      "0\n",
      "0\n",
      "0\n",
      "0\n",
      "0\n",
      "0\n",
      "0\n",
      "0\n",
      "0\n",
      "0\n",
      "0\n",
      "0\n",
      "0\n",
      "0\n",
      "0\n",
      "0\n",
      "0\n",
      "0\n",
      "0\n",
      "0\n",
      "0\n",
      "0\n",
      "0\n",
      "0\n",
      "0\n",
      "0\n",
      "0\n",
      "0\n",
      "0\n",
      "0\n",
      "0\n",
      "0\n",
      "0\n",
      "0\n",
      "0\n",
      "0\n",
      "0\n",
      "0\n",
      "0\n",
      "0\n",
      "0\n",
      "0\n",
      "0\n",
      "0\n",
      "0\n",
      "0\n"
     ]
    }
   ],
   "source": [
    "year = pd.date_range(\"01/01/2012 00:00\", \"31/12/2012 23:00\", freq=\"1h\")\n",
    "\n",
    "ndf2 = ndf\n",
    "\n",
    "d = [None]*387\n",
    "add = [None]*387\n",
    "ids = list(grp.index)\n",
    "for i in range(len(ids)):\n",
    "    d[i] = df[df[\"ProfileID\"] == ids[i]]\n",
    "    r = list(d[i][\"Datefield\"])\n",
    "    years = [x.strftime(\"%Y-%m-%d %H:%M:%S\") for x in year]\n",
    "    main_list = np.setdiff1d(list(years),r)\n",
    "    add[i] = pd.DataFrame({\"RecorderID\": \"BTW001\", \"ProfileID\":ids[i], \"Datefield\": main_list,\"Unitsread\": np.nan, \"Valid\": 1})\n",
    "    print(len(add[i])+len(r)-8784)\n",
    "    ndf2 = ndf2.append(add[i])\n",
    "    \n",
    "ndf2 = ndf2.sort_values(['ProfileID', 'Datefield'])\n",
    "\n",
    "ndf2 = ndf2.reset_index(drop = True)\n",
    "\n"
   ]
  },
  {
   "cell_type": "code",
   "execution_count": 30,
   "metadata": {},
   "outputs": [
    {
     "data": {
      "text/plain": [
       "387.0"
      ]
     },
     "execution_count": 30,
     "metadata": {},
     "output_type": "execute_result"
    }
   ],
   "source": [
    "len(ndf2)/8784"
   ]
  },
  {
   "cell_type": "code",
   "execution_count": 31,
   "metadata": {},
   "outputs": [],
   "source": [
    "group1 = ndf2.groupby(\"ProfileID\")['Unitsread'].apply(lambda x: len(x))"
   ]
  },
  {
   "cell_type": "code",
   "execution_count": 32,
   "metadata": {},
   "outputs": [
    {
     "data": {
      "text/plain": [
       "ProfileID\n",
       "12005372    8784\n",
       "12005376    8784\n",
       "12005385    8784\n",
       "12005389    8784\n",
       "12005398    8784\n",
       "Name: Unitsread, dtype: int64"
      ]
     },
     "execution_count": 32,
     "metadata": {},
     "output_type": "execute_result"
    }
   ],
   "source": [
    "group1.head()"
   ]
  },
  {
   "cell_type": "markdown",
   "metadata": {},
   "source": [
    "We now have full households"
   ]
  },
  {
   "cell_type": "markdown",
   "metadata": {},
   "source": [
    "## Having mean hourly data per weekday per season"
   ]
  },
  {
   "cell_type": "markdown",
   "metadata": {},
   "source": [
    "### Getting all the info we need "
   ]
  },
  {
   "cell_type": "code",
   "execution_count": 33,
   "metadata": {},
   "outputs": [],
   "source": [
    "ndf2[\"Month\"] = pd.to_datetime(ndf2[\"Datefield\"]).dt.month\n",
    "ndf2[\"Hour\"] = pd.to_datetime(ndf2[\"Datefield\"]).dt.hour\n"
   ]
  },
  {
   "cell_type": "code",
   "execution_count": 34,
   "metadata": {},
   "outputs": [
    {
     "data": {
      "text/html": [
       "<div>\n",
       "<style scoped>\n",
       "    .dataframe tbody tr th:only-of-type {\n",
       "        vertical-align: middle;\n",
       "    }\n",
       "\n",
       "    .dataframe tbody tr th {\n",
       "        vertical-align: top;\n",
       "    }\n",
       "\n",
       "    .dataframe thead th {\n",
       "        text-align: right;\n",
       "    }\n",
       "</style>\n",
       "<table border=\"1\" class=\"dataframe\">\n",
       "  <thead>\n",
       "    <tr style=\"text-align: right;\">\n",
       "      <th></th>\n",
       "      <th>RecorderID</th>\n",
       "      <th>ProfileID</th>\n",
       "      <th>Datefield</th>\n",
       "      <th>Unitsread</th>\n",
       "      <th>Valid</th>\n",
       "      <th>Month</th>\n",
       "      <th>Hour</th>\n",
       "    </tr>\n",
       "  </thead>\n",
       "  <tbody>\n",
       "    <tr>\n",
       "      <th>0</th>\n",
       "      <td>LUK002</td>\n",
       "      <td>12005372</td>\n",
       "      <td>2012-01-01 00:00:00</td>\n",
       "      <td>0.0</td>\n",
       "      <td>0.0</td>\n",
       "      <td>1</td>\n",
       "      <td>0</td>\n",
       "    </tr>\n",
       "    <tr>\n",
       "      <th>1</th>\n",
       "      <td>LUK002</td>\n",
       "      <td>12005372</td>\n",
       "      <td>2012-01-01 01:00:00</td>\n",
       "      <td>0.0</td>\n",
       "      <td>0.0</td>\n",
       "      <td>1</td>\n",
       "      <td>1</td>\n",
       "    </tr>\n",
       "    <tr>\n",
       "      <th>2</th>\n",
       "      <td>LUK002</td>\n",
       "      <td>12005372</td>\n",
       "      <td>2012-01-01 02:00:00</td>\n",
       "      <td>0.0</td>\n",
       "      <td>0.0</td>\n",
       "      <td>1</td>\n",
       "      <td>2</td>\n",
       "    </tr>\n",
       "    <tr>\n",
       "      <th>3</th>\n",
       "      <td>LUK002</td>\n",
       "      <td>12005372</td>\n",
       "      <td>2012-01-01 03:00:00</td>\n",
       "      <td>0.0</td>\n",
       "      <td>0.0</td>\n",
       "      <td>1</td>\n",
       "      <td>3</td>\n",
       "    </tr>\n",
       "    <tr>\n",
       "      <th>4</th>\n",
       "      <td>LUK002</td>\n",
       "      <td>12005372</td>\n",
       "      <td>2012-01-01 04:00:00</td>\n",
       "      <td>0.0</td>\n",
       "      <td>0.0</td>\n",
       "      <td>1</td>\n",
       "      <td>4</td>\n",
       "    </tr>\n",
       "  </tbody>\n",
       "</table>\n",
       "</div>"
      ],
      "text/plain": [
       "  RecorderID  ProfileID            Datefield  Unitsread  Valid  Month  Hour\n",
       "0     LUK002   12005372  2012-01-01 00:00:00        0.0    0.0      1     0\n",
       "1     LUK002   12005372  2012-01-01 01:00:00        0.0    0.0      1     1\n",
       "2     LUK002   12005372  2012-01-01 02:00:00        0.0    0.0      1     2\n",
       "3     LUK002   12005372  2012-01-01 03:00:00        0.0    0.0      1     3\n",
       "4     LUK002   12005372  2012-01-01 04:00:00        0.0    0.0      1     4"
      ]
     },
     "execution_count": 34,
     "metadata": {},
     "output_type": "execute_result"
    }
   ],
   "source": [
    "ndf2.head()"
   ]
  },
  {
   "cell_type": "markdown",
   "metadata": {},
   "source": [
    "Careful, the seasons are opposite to the London seasons"
   ]
  },
  {
   "cell_type": "code",
   "execution_count": 35,
   "metadata": {},
   "outputs": [],
   "source": [
    "season = ndf2[\"Month\"].where(\n",
    "    (ndf2[\"Month\"] != 12), 'Summer').where(\n",
    "    (ndf2[\"Month\"] != 1), 'Summer').where(\n",
    "    (ndf2[\"Month\"] != 2), 'Summer').where(\n",
    "    (ndf2[\"Month\"] != 3), 'Autumn').where(\n",
    "    (ndf2[\"Month\"] != 4), 'Autumn').where(\n",
    "    (ndf2[\"Month\"] != 5), 'Autumn').where(\n",
    "    (ndf2[\"Month\"] != 6), 'Winter').where(\n",
    "    (ndf2[\"Month\"] != 7), 'Winter').where(\n",
    "    (ndf2[\"Month\"] != 8), 'Winter').where(\n",
    "    (ndf2[\"Month\"] != 9), 'Spring').where(\n",
    "    (ndf2[\"Month\"] != 10), 'Spring').where(\n",
    "    (ndf2[\"Month\"] != 11), 'Spring')"
   ]
  },
  {
   "cell_type": "code",
   "execution_count": 36,
   "metadata": {},
   "outputs": [
    {
     "data": {
      "text/plain": [
       "array(['Summer', 'Autumn', 'Winter', 'Spring'], dtype=object)"
      ]
     },
     "execution_count": 36,
     "metadata": {},
     "output_type": "execute_result"
    }
   ],
   "source": [
    "season.unique()"
   ]
  },
  {
   "cell_type": "code",
   "execution_count": 37,
   "metadata": {},
   "outputs": [],
   "source": [
    "ndf2[\"Season\"] = season"
   ]
  },
  {
   "cell_type": "code",
   "execution_count": 38,
   "metadata": {},
   "outputs": [
    {
     "data": {
      "text/html": [
       "<div>\n",
       "<style scoped>\n",
       "    .dataframe tbody tr th:only-of-type {\n",
       "        vertical-align: middle;\n",
       "    }\n",
       "\n",
       "    .dataframe tbody tr th {\n",
       "        vertical-align: top;\n",
       "    }\n",
       "\n",
       "    .dataframe thead th {\n",
       "        text-align: right;\n",
       "    }\n",
       "</style>\n",
       "<table border=\"1\" class=\"dataframe\">\n",
       "  <thead>\n",
       "    <tr style=\"text-align: right;\">\n",
       "      <th></th>\n",
       "      <th>RecorderID</th>\n",
       "      <th>ProfileID</th>\n",
       "      <th>Datefield</th>\n",
       "      <th>Unitsread</th>\n",
       "      <th>Valid</th>\n",
       "      <th>Month</th>\n",
       "      <th>Hour</th>\n",
       "      <th>Season</th>\n",
       "    </tr>\n",
       "  </thead>\n",
       "  <tbody>\n",
       "    <tr>\n",
       "      <th>0</th>\n",
       "      <td>LUK002</td>\n",
       "      <td>12005372</td>\n",
       "      <td>2012-01-01 00:00:00</td>\n",
       "      <td>0.0</td>\n",
       "      <td>0.0</td>\n",
       "      <td>1</td>\n",
       "      <td>0</td>\n",
       "      <td>Summer</td>\n",
       "    </tr>\n",
       "    <tr>\n",
       "      <th>1</th>\n",
       "      <td>LUK002</td>\n",
       "      <td>12005372</td>\n",
       "      <td>2012-01-01 01:00:00</td>\n",
       "      <td>0.0</td>\n",
       "      <td>0.0</td>\n",
       "      <td>1</td>\n",
       "      <td>1</td>\n",
       "      <td>Summer</td>\n",
       "    </tr>\n",
       "    <tr>\n",
       "      <th>2</th>\n",
       "      <td>LUK002</td>\n",
       "      <td>12005372</td>\n",
       "      <td>2012-01-01 02:00:00</td>\n",
       "      <td>0.0</td>\n",
       "      <td>0.0</td>\n",
       "      <td>1</td>\n",
       "      <td>2</td>\n",
       "      <td>Summer</td>\n",
       "    </tr>\n",
       "    <tr>\n",
       "      <th>3</th>\n",
       "      <td>LUK002</td>\n",
       "      <td>12005372</td>\n",
       "      <td>2012-01-01 03:00:00</td>\n",
       "      <td>0.0</td>\n",
       "      <td>0.0</td>\n",
       "      <td>1</td>\n",
       "      <td>3</td>\n",
       "      <td>Summer</td>\n",
       "    </tr>\n",
       "    <tr>\n",
       "      <th>4</th>\n",
       "      <td>LUK002</td>\n",
       "      <td>12005372</td>\n",
       "      <td>2012-01-01 04:00:00</td>\n",
       "      <td>0.0</td>\n",
       "      <td>0.0</td>\n",
       "      <td>1</td>\n",
       "      <td>4</td>\n",
       "      <td>Summer</td>\n",
       "    </tr>\n",
       "  </tbody>\n",
       "</table>\n",
       "</div>"
      ],
      "text/plain": [
       "  RecorderID  ProfileID            Datefield  Unitsread  Valid  Month  Hour  \\\n",
       "0     LUK002   12005372  2012-01-01 00:00:00        0.0    0.0      1     0   \n",
       "1     LUK002   12005372  2012-01-01 01:00:00        0.0    0.0      1     1   \n",
       "2     LUK002   12005372  2012-01-01 02:00:00        0.0    0.0      1     2   \n",
       "3     LUK002   12005372  2012-01-01 03:00:00        0.0    0.0      1     3   \n",
       "4     LUK002   12005372  2012-01-01 04:00:00        0.0    0.0      1     4   \n",
       "\n",
       "   Season  \n",
       "0  Summer  \n",
       "1  Summer  \n",
       "2  Summer  \n",
       "3  Summer  \n",
       "4  Summer  "
      ]
     },
     "execution_count": 38,
     "metadata": {},
     "output_type": "execute_result"
    }
   ],
   "source": [
    "ndf2.head()"
   ]
  },
  {
   "cell_type": "code",
   "execution_count": 39,
   "metadata": {},
   "outputs": [],
   "source": [
    "ndf2[\"Weekday\"] = pd.to_datetime(ndf2[\"Datefield\"]).dt.weekday"
   ]
  },
  {
   "cell_type": "code",
   "execution_count": 40,
   "metadata": {},
   "outputs": [
    {
     "data": {
      "text/html": [
       "<div>\n",
       "<style scoped>\n",
       "    .dataframe tbody tr th:only-of-type {\n",
       "        vertical-align: middle;\n",
       "    }\n",
       "\n",
       "    .dataframe tbody tr th {\n",
       "        vertical-align: top;\n",
       "    }\n",
       "\n",
       "    .dataframe thead th {\n",
       "        text-align: right;\n",
       "    }\n",
       "</style>\n",
       "<table border=\"1\" class=\"dataframe\">\n",
       "  <thead>\n",
       "    <tr style=\"text-align: right;\">\n",
       "      <th></th>\n",
       "      <th>RecorderID</th>\n",
       "      <th>ProfileID</th>\n",
       "      <th>Datefield</th>\n",
       "      <th>Unitsread</th>\n",
       "      <th>Valid</th>\n",
       "      <th>Month</th>\n",
       "      <th>Hour</th>\n",
       "      <th>Season</th>\n",
       "      <th>Weekday</th>\n",
       "    </tr>\n",
       "  </thead>\n",
       "  <tbody>\n",
       "    <tr>\n",
       "      <th>0</th>\n",
       "      <td>LUK002</td>\n",
       "      <td>12005372</td>\n",
       "      <td>2012-01-01 00:00:00</td>\n",
       "      <td>0.0</td>\n",
       "      <td>0.0</td>\n",
       "      <td>1</td>\n",
       "      <td>0</td>\n",
       "      <td>Summer</td>\n",
       "      <td>6</td>\n",
       "    </tr>\n",
       "    <tr>\n",
       "      <th>1</th>\n",
       "      <td>LUK002</td>\n",
       "      <td>12005372</td>\n",
       "      <td>2012-01-01 01:00:00</td>\n",
       "      <td>0.0</td>\n",
       "      <td>0.0</td>\n",
       "      <td>1</td>\n",
       "      <td>1</td>\n",
       "      <td>Summer</td>\n",
       "      <td>6</td>\n",
       "    </tr>\n",
       "    <tr>\n",
       "      <th>2</th>\n",
       "      <td>LUK002</td>\n",
       "      <td>12005372</td>\n",
       "      <td>2012-01-01 02:00:00</td>\n",
       "      <td>0.0</td>\n",
       "      <td>0.0</td>\n",
       "      <td>1</td>\n",
       "      <td>2</td>\n",
       "      <td>Summer</td>\n",
       "      <td>6</td>\n",
       "    </tr>\n",
       "    <tr>\n",
       "      <th>3</th>\n",
       "      <td>LUK002</td>\n",
       "      <td>12005372</td>\n",
       "      <td>2012-01-01 03:00:00</td>\n",
       "      <td>0.0</td>\n",
       "      <td>0.0</td>\n",
       "      <td>1</td>\n",
       "      <td>3</td>\n",
       "      <td>Summer</td>\n",
       "      <td>6</td>\n",
       "    </tr>\n",
       "    <tr>\n",
       "      <th>4</th>\n",
       "      <td>LUK002</td>\n",
       "      <td>12005372</td>\n",
       "      <td>2012-01-01 04:00:00</td>\n",
       "      <td>0.0</td>\n",
       "      <td>0.0</td>\n",
       "      <td>1</td>\n",
       "      <td>4</td>\n",
       "      <td>Summer</td>\n",
       "      <td>6</td>\n",
       "    </tr>\n",
       "  </tbody>\n",
       "</table>\n",
       "</div>"
      ],
      "text/plain": [
       "  RecorderID  ProfileID            Datefield  Unitsread  Valid  Month  Hour  \\\n",
       "0     LUK002   12005372  2012-01-01 00:00:00        0.0    0.0      1     0   \n",
       "1     LUK002   12005372  2012-01-01 01:00:00        0.0    0.0      1     1   \n",
       "2     LUK002   12005372  2012-01-01 02:00:00        0.0    0.0      1     2   \n",
       "3     LUK002   12005372  2012-01-01 03:00:00        0.0    0.0      1     3   \n",
       "4     LUK002   12005372  2012-01-01 04:00:00        0.0    0.0      1     4   \n",
       "\n",
       "   Season  Weekday  \n",
       "0  Summer        6  \n",
       "1  Summer        6  \n",
       "2  Summer        6  \n",
       "3  Summer        6  \n",
       "4  Summer        6  "
      ]
     },
     "execution_count": 40,
     "metadata": {},
     "output_type": "execute_result"
    }
   ],
   "source": [
    "ndf2.head()"
   ]
  },
  {
   "cell_type": "code",
   "execution_count": 41,
   "metadata": {},
   "outputs": [],
   "source": [
    "ndf2[\"Weekday\"] = ndf2[\"Weekday\"].where(\n",
    "    (ndf2[\"Weekday\"] != 0), 'Monday').where(\n",
    "    (ndf2[\"Weekday\"] != 1), 'Tuesday').where(\n",
    "    (ndf2[\"Weekday\"] != 2), 'Wednesday').where(\n",
    "    (ndf2[\"Weekday\"] != 3), 'Thursday').where(\n",
    "    (ndf2[\"Weekday\"] != 4), 'Friday').where(\n",
    "    (ndf2[\"Weekday\"] != 5), 'Saturday').where(\n",
    "    (ndf2[\"Weekday\"] != 6), 'Sunday')"
   ]
  },
  {
   "cell_type": "code",
   "execution_count": 42,
   "metadata": {},
   "outputs": [
    {
     "data": {
      "text/html": [
       "<div>\n",
       "<style scoped>\n",
       "    .dataframe tbody tr th:only-of-type {\n",
       "        vertical-align: middle;\n",
       "    }\n",
       "\n",
       "    .dataframe tbody tr th {\n",
       "        vertical-align: top;\n",
       "    }\n",
       "\n",
       "    .dataframe thead th {\n",
       "        text-align: right;\n",
       "    }\n",
       "</style>\n",
       "<table border=\"1\" class=\"dataframe\">\n",
       "  <thead>\n",
       "    <tr style=\"text-align: right;\">\n",
       "      <th></th>\n",
       "      <th>RecorderID</th>\n",
       "      <th>ProfileID</th>\n",
       "      <th>Datefield</th>\n",
       "      <th>Unitsread</th>\n",
       "      <th>Valid</th>\n",
       "      <th>Month</th>\n",
       "      <th>Hour</th>\n",
       "      <th>Season</th>\n",
       "      <th>Weekday</th>\n",
       "    </tr>\n",
       "  </thead>\n",
       "  <tbody>\n",
       "    <tr>\n",
       "      <th>0</th>\n",
       "      <td>LUK002</td>\n",
       "      <td>12005372</td>\n",
       "      <td>2012-01-01 00:00:00</td>\n",
       "      <td>0.0</td>\n",
       "      <td>0.0</td>\n",
       "      <td>1</td>\n",
       "      <td>0</td>\n",
       "      <td>Summer</td>\n",
       "      <td>Sunday</td>\n",
       "    </tr>\n",
       "    <tr>\n",
       "      <th>1</th>\n",
       "      <td>LUK002</td>\n",
       "      <td>12005372</td>\n",
       "      <td>2012-01-01 01:00:00</td>\n",
       "      <td>0.0</td>\n",
       "      <td>0.0</td>\n",
       "      <td>1</td>\n",
       "      <td>1</td>\n",
       "      <td>Summer</td>\n",
       "      <td>Sunday</td>\n",
       "    </tr>\n",
       "    <tr>\n",
       "      <th>2</th>\n",
       "      <td>LUK002</td>\n",
       "      <td>12005372</td>\n",
       "      <td>2012-01-01 02:00:00</td>\n",
       "      <td>0.0</td>\n",
       "      <td>0.0</td>\n",
       "      <td>1</td>\n",
       "      <td>2</td>\n",
       "      <td>Summer</td>\n",
       "      <td>Sunday</td>\n",
       "    </tr>\n",
       "    <tr>\n",
       "      <th>3</th>\n",
       "      <td>LUK002</td>\n",
       "      <td>12005372</td>\n",
       "      <td>2012-01-01 03:00:00</td>\n",
       "      <td>0.0</td>\n",
       "      <td>0.0</td>\n",
       "      <td>1</td>\n",
       "      <td>3</td>\n",
       "      <td>Summer</td>\n",
       "      <td>Sunday</td>\n",
       "    </tr>\n",
       "    <tr>\n",
       "      <th>4</th>\n",
       "      <td>LUK002</td>\n",
       "      <td>12005372</td>\n",
       "      <td>2012-01-01 04:00:00</td>\n",
       "      <td>0.0</td>\n",
       "      <td>0.0</td>\n",
       "      <td>1</td>\n",
       "      <td>4</td>\n",
       "      <td>Summer</td>\n",
       "      <td>Sunday</td>\n",
       "    </tr>\n",
       "  </tbody>\n",
       "</table>\n",
       "</div>"
      ],
      "text/plain": [
       "  RecorderID  ProfileID            Datefield  Unitsread  Valid  Month  Hour  \\\n",
       "0     LUK002   12005372  2012-01-01 00:00:00        0.0    0.0      1     0   \n",
       "1     LUK002   12005372  2012-01-01 01:00:00        0.0    0.0      1     1   \n",
       "2     LUK002   12005372  2012-01-01 02:00:00        0.0    0.0      1     2   \n",
       "3     LUK002   12005372  2012-01-01 03:00:00        0.0    0.0      1     3   \n",
       "4     LUK002   12005372  2012-01-01 04:00:00        0.0    0.0      1     4   \n",
       "\n",
       "   Season Weekday  \n",
       "0  Summer  Sunday  \n",
       "1  Summer  Sunday  \n",
       "2  Summer  Sunday  \n",
       "3  Summer  Sunday  \n",
       "4  Summer  Sunday  "
      ]
     },
     "execution_count": 42,
     "metadata": {},
     "output_type": "execute_result"
    }
   ],
   "source": [
    "ndf2.head()"
   ]
  },
  {
   "cell_type": "markdown",
   "metadata": {},
   "source": [
    "### Isolating the seasons and creating the mean profiles"
   ]
  },
  {
   "cell_type": "code",
   "execution_count": 75,
   "metadata": {},
   "outputs": [],
   "source": [
    "summer = ndf2[ndf2[\"Season\"] == \"Summer\"]\n",
    "winter = ndf2[ndf2[\"Season\"] == \"Winter\"]\n",
    "autumn = ndf2[ndf2[\"Season\"] == \"Autumn\"]\n",
    "spring = ndf2[ndf2[\"Season\"] == \"Spring\"]"
   ]
  },
  {
   "cell_type": "markdown",
   "metadata": {},
   "source": [
    "##### Summer"
   ]
  },
  {
   "cell_type": "code",
   "execution_count": 76,
   "metadata": {},
   "outputs": [],
   "source": [
    "summer_mean_gb = summer.groupby([\"ProfileID\",\"Weekday\",\"Hour\"])['Unitsread'].apply(lambda x: np.mean(x))"
   ]
  },
  {
   "cell_type": "code",
   "execution_count": 77,
   "metadata": {},
   "outputs": [
    {
     "data": {
      "text/plain": [
       "ProfileID  Weekday  Hour\n",
       "12005372   Friday   0       0.110917\n",
       "                    1       0.107250\n",
       "                    2       0.107556\n",
       "                    3       0.100528\n",
       "                    4       0.096556\n",
       "Name: Unitsread, dtype: float64"
      ]
     },
     "execution_count": 77,
     "metadata": {},
     "output_type": "execute_result"
    }
   ],
   "source": [
    "summer_mean_gb.head()"
   ]
  },
  {
   "cell_type": "code",
   "execution_count": 78,
   "metadata": {},
   "outputs": [
    {
     "data": {
      "text/html": [
       "<div>\n",
       "<style scoped>\n",
       "    .dataframe tbody tr th:only-of-type {\n",
       "        vertical-align: middle;\n",
       "    }\n",
       "\n",
       "    .dataframe tbody tr th {\n",
       "        vertical-align: top;\n",
       "    }\n",
       "\n",
       "    .dataframe thead th {\n",
       "        text-align: right;\n",
       "    }\n",
       "</style>\n",
       "<table border=\"1\" class=\"dataframe\">\n",
       "  <thead>\n",
       "    <tr style=\"text-align: right;\">\n",
       "      <th></th>\n",
       "      <th></th>\n",
       "      <th></th>\n",
       "      <th>Unitsread</th>\n",
       "    </tr>\n",
       "    <tr>\n",
       "      <th>ProfileID</th>\n",
       "      <th>Weekday</th>\n",
       "      <th>Hour</th>\n",
       "      <th></th>\n",
       "    </tr>\n",
       "  </thead>\n",
       "  <tbody>\n",
       "    <tr>\n",
       "      <th rowspan=\"5\" valign=\"top\">12005372</th>\n",
       "      <th rowspan=\"5\" valign=\"top\">Friday</th>\n",
       "      <th>0</th>\n",
       "      <td>0.110917</td>\n",
       "    </tr>\n",
       "    <tr>\n",
       "      <th>1</th>\n",
       "      <td>0.107250</td>\n",
       "    </tr>\n",
       "    <tr>\n",
       "      <th>2</th>\n",
       "      <td>0.107556</td>\n",
       "    </tr>\n",
       "    <tr>\n",
       "      <th>3</th>\n",
       "      <td>0.100528</td>\n",
       "    </tr>\n",
       "    <tr>\n",
       "      <th>4</th>\n",
       "      <td>0.096556</td>\n",
       "    </tr>\n",
       "  </tbody>\n",
       "</table>\n",
       "</div>"
      ],
      "text/plain": [
       "                        Unitsread\n",
       "ProfileID Weekday Hour           \n",
       "12005372  Friday  0      0.110917\n",
       "                  1      0.107250\n",
       "                  2      0.107556\n",
       "                  3      0.100528\n",
       "                  4      0.096556"
      ]
     },
     "execution_count": 78,
     "metadata": {},
     "output_type": "execute_result"
    }
   ],
   "source": [
    "summer_mean = summer_mean_gb.to_frame()\n",
    "summer_mean.head()"
   ]
  },
  {
   "cell_type": "code",
   "execution_count": 79,
   "metadata": {},
   "outputs": [],
   "source": [
    "summer_mean.reset_index(inplace = True)"
   ]
  },
  {
   "cell_type": "code",
   "execution_count": 80,
   "metadata": {},
   "outputs": [],
   "source": [
    "summer_mean[\"season\"] = \"Summer\""
   ]
  },
  {
   "cell_type": "code",
   "execution_count": 81,
   "metadata": {},
   "outputs": [],
   "source": [
    "summer_mean.columns = ['profile_ID', 'day_of_the_week', 'hour', 'consumption_kWh', 'season']"
   ]
  },
  {
   "cell_type": "code",
   "execution_count": 82,
   "metadata": {},
   "outputs": [],
   "source": [
    "columns = ['profile_ID', 'season', 'day_of_the_week', 'hour', 'consumption_kWh']"
   ]
  },
  {
   "cell_type": "code",
   "execution_count": 83,
   "metadata": {},
   "outputs": [],
   "source": [
    "summer_mean = summer_mean[columns]"
   ]
  },
  {
   "cell_type": "code",
   "execution_count": 84,
   "metadata": {},
   "outputs": [
    {
     "data": {
      "text/html": [
       "<div>\n",
       "<style scoped>\n",
       "    .dataframe tbody tr th:only-of-type {\n",
       "        vertical-align: middle;\n",
       "    }\n",
       "\n",
       "    .dataframe tbody tr th {\n",
       "        vertical-align: top;\n",
       "    }\n",
       "\n",
       "    .dataframe thead th {\n",
       "        text-align: right;\n",
       "    }\n",
       "</style>\n",
       "<table border=\"1\" class=\"dataframe\">\n",
       "  <thead>\n",
       "    <tr style=\"text-align: right;\">\n",
       "      <th></th>\n",
       "      <th>profile_ID</th>\n",
       "      <th>season</th>\n",
       "      <th>day_of_the_week</th>\n",
       "      <th>hour</th>\n",
       "      <th>consumption_kWh</th>\n",
       "    </tr>\n",
       "  </thead>\n",
       "  <tbody>\n",
       "    <tr>\n",
       "      <th>0</th>\n",
       "      <td>12005372</td>\n",
       "      <td>Summer</td>\n",
       "      <td>Friday</td>\n",
       "      <td>0</td>\n",
       "      <td>0.110917</td>\n",
       "    </tr>\n",
       "    <tr>\n",
       "      <th>1</th>\n",
       "      <td>12005372</td>\n",
       "      <td>Summer</td>\n",
       "      <td>Friday</td>\n",
       "      <td>1</td>\n",
       "      <td>0.107250</td>\n",
       "    </tr>\n",
       "    <tr>\n",
       "      <th>2</th>\n",
       "      <td>12005372</td>\n",
       "      <td>Summer</td>\n",
       "      <td>Friday</td>\n",
       "      <td>2</td>\n",
       "      <td>0.107556</td>\n",
       "    </tr>\n",
       "    <tr>\n",
       "      <th>3</th>\n",
       "      <td>12005372</td>\n",
       "      <td>Summer</td>\n",
       "      <td>Friday</td>\n",
       "      <td>3</td>\n",
       "      <td>0.100528</td>\n",
       "    </tr>\n",
       "    <tr>\n",
       "      <th>4</th>\n",
       "      <td>12005372</td>\n",
       "      <td>Summer</td>\n",
       "      <td>Friday</td>\n",
       "      <td>4</td>\n",
       "      <td>0.096556</td>\n",
       "    </tr>\n",
       "  </tbody>\n",
       "</table>\n",
       "</div>"
      ],
      "text/plain": [
       "   profile_ID  season day_of_the_week  hour  consumption_kWh\n",
       "0    12005372  Summer          Friday     0         0.110917\n",
       "1    12005372  Summer          Friday     1         0.107250\n",
       "2    12005372  Summer          Friday     2         0.107556\n",
       "3    12005372  Summer          Friday     3         0.100528\n",
       "4    12005372  Summer          Friday     4         0.096556"
      ]
     },
     "execution_count": 84,
     "metadata": {},
     "output_type": "execute_result"
    }
   ],
   "source": [
    "summer_mean.head()"
   ]
  },
  {
   "cell_type": "markdown",
   "metadata": {},
   "source": [
    "##### Winter"
   ]
  },
  {
   "cell_type": "code",
   "execution_count": 85,
   "metadata": {},
   "outputs": [],
   "source": [
    "winter_mean_gb = winter.groupby([\"ProfileID\",\"Weekday\",\"Hour\"])['Unitsread'].apply(lambda x: np.mean(x))"
   ]
  },
  {
   "cell_type": "code",
   "execution_count": 86,
   "metadata": {},
   "outputs": [
    {
     "data": {
      "text/plain": [
       "ProfileID  Weekday  Hour\n",
       "12005372   Friday   0       0.142214\n",
       "                    1       0.138024\n",
       "                    2       0.124143\n",
       "                    3       0.132000\n",
       "                    4       0.147452\n",
       "Name: Unitsread, dtype: float64"
      ]
     },
     "execution_count": 86,
     "metadata": {},
     "output_type": "execute_result"
    }
   ],
   "source": [
    "winter_mean_gb.head()"
   ]
  },
  {
   "cell_type": "code",
   "execution_count": 87,
   "metadata": {
    "scrolled": true
   },
   "outputs": [
    {
     "data": {
      "text/html": [
       "<div>\n",
       "<style scoped>\n",
       "    .dataframe tbody tr th:only-of-type {\n",
       "        vertical-align: middle;\n",
       "    }\n",
       "\n",
       "    .dataframe tbody tr th {\n",
       "        vertical-align: top;\n",
       "    }\n",
       "\n",
       "    .dataframe thead th {\n",
       "        text-align: right;\n",
       "    }\n",
       "</style>\n",
       "<table border=\"1\" class=\"dataframe\">\n",
       "  <thead>\n",
       "    <tr style=\"text-align: right;\">\n",
       "      <th></th>\n",
       "      <th>ProfileID</th>\n",
       "      <th>Weekday</th>\n",
       "      <th>Hour</th>\n",
       "      <th>Unitsread</th>\n",
       "    </tr>\n",
       "  </thead>\n",
       "  <tbody>\n",
       "    <tr>\n",
       "      <th>0</th>\n",
       "      <td>12005372</td>\n",
       "      <td>Friday</td>\n",
       "      <td>0</td>\n",
       "      <td>0.142214</td>\n",
       "    </tr>\n",
       "    <tr>\n",
       "      <th>1</th>\n",
       "      <td>12005372</td>\n",
       "      <td>Friday</td>\n",
       "      <td>1</td>\n",
       "      <td>0.138024</td>\n",
       "    </tr>\n",
       "    <tr>\n",
       "      <th>2</th>\n",
       "      <td>12005372</td>\n",
       "      <td>Friday</td>\n",
       "      <td>2</td>\n",
       "      <td>0.124143</td>\n",
       "    </tr>\n",
       "    <tr>\n",
       "      <th>3</th>\n",
       "      <td>12005372</td>\n",
       "      <td>Friday</td>\n",
       "      <td>3</td>\n",
       "      <td>0.132000</td>\n",
       "    </tr>\n",
       "    <tr>\n",
       "      <th>4</th>\n",
       "      <td>12005372</td>\n",
       "      <td>Friday</td>\n",
       "      <td>4</td>\n",
       "      <td>0.147452</td>\n",
       "    </tr>\n",
       "  </tbody>\n",
       "</table>\n",
       "</div>"
      ],
      "text/plain": [
       "   ProfileID Weekday  Hour  Unitsread\n",
       "0   12005372  Friday     0   0.142214\n",
       "1   12005372  Friday     1   0.138024\n",
       "2   12005372  Friday     2   0.124143\n",
       "3   12005372  Friday     3   0.132000\n",
       "4   12005372  Friday     4   0.147452"
      ]
     },
     "execution_count": 87,
     "metadata": {},
     "output_type": "execute_result"
    }
   ],
   "source": [
    "winter_mean = winter_mean_gb.to_frame()\n",
    "winter_mean.reset_index(inplace = True)\n",
    "winter_mean.head()"
   ]
  },
  {
   "cell_type": "code",
   "execution_count": 88,
   "metadata": {},
   "outputs": [
    {
     "data": {
      "text/html": [
       "<div>\n",
       "<style scoped>\n",
       "    .dataframe tbody tr th:only-of-type {\n",
       "        vertical-align: middle;\n",
       "    }\n",
       "\n",
       "    .dataframe tbody tr th {\n",
       "        vertical-align: top;\n",
       "    }\n",
       "\n",
       "    .dataframe thead th {\n",
       "        text-align: right;\n",
       "    }\n",
       "</style>\n",
       "<table border=\"1\" class=\"dataframe\">\n",
       "  <thead>\n",
       "    <tr style=\"text-align: right;\">\n",
       "      <th></th>\n",
       "      <th>profile_ID</th>\n",
       "      <th>season</th>\n",
       "      <th>day_of_the_week</th>\n",
       "      <th>hour</th>\n",
       "      <th>consumption_kWh</th>\n",
       "    </tr>\n",
       "  </thead>\n",
       "  <tbody>\n",
       "    <tr>\n",
       "      <th>0</th>\n",
       "      <td>12005372</td>\n",
       "      <td>Winter</td>\n",
       "      <td>Friday</td>\n",
       "      <td>0</td>\n",
       "      <td>0.142214</td>\n",
       "    </tr>\n",
       "    <tr>\n",
       "      <th>1</th>\n",
       "      <td>12005372</td>\n",
       "      <td>Winter</td>\n",
       "      <td>Friday</td>\n",
       "      <td>1</td>\n",
       "      <td>0.138024</td>\n",
       "    </tr>\n",
       "    <tr>\n",
       "      <th>2</th>\n",
       "      <td>12005372</td>\n",
       "      <td>Winter</td>\n",
       "      <td>Friday</td>\n",
       "      <td>2</td>\n",
       "      <td>0.124143</td>\n",
       "    </tr>\n",
       "    <tr>\n",
       "      <th>3</th>\n",
       "      <td>12005372</td>\n",
       "      <td>Winter</td>\n",
       "      <td>Friday</td>\n",
       "      <td>3</td>\n",
       "      <td>0.132000</td>\n",
       "    </tr>\n",
       "    <tr>\n",
       "      <th>4</th>\n",
       "      <td>12005372</td>\n",
       "      <td>Winter</td>\n",
       "      <td>Friday</td>\n",
       "      <td>4</td>\n",
       "      <td>0.147452</td>\n",
       "    </tr>\n",
       "  </tbody>\n",
       "</table>\n",
       "</div>"
      ],
      "text/plain": [
       "   profile_ID  season day_of_the_week  hour  consumption_kWh\n",
       "0    12005372  Winter          Friday     0         0.142214\n",
       "1    12005372  Winter          Friday     1         0.138024\n",
       "2    12005372  Winter          Friday     2         0.124143\n",
       "3    12005372  Winter          Friday     3         0.132000\n",
       "4    12005372  Winter          Friday     4         0.147452"
      ]
     },
     "execution_count": 88,
     "metadata": {},
     "output_type": "execute_result"
    }
   ],
   "source": [
    "winter_mean[\"season\"] = \"Winter\"\n",
    "\n",
    "winter_mean.columns = ['profile_ID', 'day_of_the_week', 'hour', 'consumption_kWh', 'season']\n",
    "\n",
    "columns = ['profile_ID', 'season', 'day_of_the_week', 'hour', 'consumption_kWh']\n",
    "\n",
    "winter_mean = winter_mean[columns]\n",
    "\n",
    "winter_mean.head()"
   ]
  },
  {
   "cell_type": "markdown",
   "metadata": {},
   "source": [
    "##### Spring"
   ]
  },
  {
   "cell_type": "code",
   "execution_count": 89,
   "metadata": {},
   "outputs": [],
   "source": [
    "spring_mean_gb = spring.groupby([\"ProfileID\",\"Weekday\",\"Hour\"])['Unitsread'].apply(lambda x: np.mean(x))"
   ]
  },
  {
   "cell_type": "code",
   "execution_count": 90,
   "metadata": {},
   "outputs": [
    {
     "data": {
      "text/plain": [
       "ProfileID  Weekday  Hour\n",
       "12005372   Friday   0       0.251026\n",
       "                    1       0.254692\n",
       "                    2       0.232974\n",
       "                    3       0.227333\n",
       "                    4       0.229308\n",
       "Name: Unitsread, dtype: float64"
      ]
     },
     "execution_count": 90,
     "metadata": {},
     "output_type": "execute_result"
    }
   ],
   "source": [
    "spring_mean_gb.head()"
   ]
  },
  {
   "cell_type": "code",
   "execution_count": 91,
   "metadata": {},
   "outputs": [
    {
     "data": {
      "text/html": [
       "<div>\n",
       "<style scoped>\n",
       "    .dataframe tbody tr th:only-of-type {\n",
       "        vertical-align: middle;\n",
       "    }\n",
       "\n",
       "    .dataframe tbody tr th {\n",
       "        vertical-align: top;\n",
       "    }\n",
       "\n",
       "    .dataframe thead th {\n",
       "        text-align: right;\n",
       "    }\n",
       "</style>\n",
       "<table border=\"1\" class=\"dataframe\">\n",
       "  <thead>\n",
       "    <tr style=\"text-align: right;\">\n",
       "      <th></th>\n",
       "      <th>ProfileID</th>\n",
       "      <th>Weekday</th>\n",
       "      <th>Hour</th>\n",
       "      <th>Unitsread</th>\n",
       "    </tr>\n",
       "  </thead>\n",
       "  <tbody>\n",
       "    <tr>\n",
       "      <th>0</th>\n",
       "      <td>12005372</td>\n",
       "      <td>Friday</td>\n",
       "      <td>0</td>\n",
       "      <td>0.251026</td>\n",
       "    </tr>\n",
       "    <tr>\n",
       "      <th>1</th>\n",
       "      <td>12005372</td>\n",
       "      <td>Friday</td>\n",
       "      <td>1</td>\n",
       "      <td>0.254692</td>\n",
       "    </tr>\n",
       "    <tr>\n",
       "      <th>2</th>\n",
       "      <td>12005372</td>\n",
       "      <td>Friday</td>\n",
       "      <td>2</td>\n",
       "      <td>0.232974</td>\n",
       "    </tr>\n",
       "    <tr>\n",
       "      <th>3</th>\n",
       "      <td>12005372</td>\n",
       "      <td>Friday</td>\n",
       "      <td>3</td>\n",
       "      <td>0.227333</td>\n",
       "    </tr>\n",
       "    <tr>\n",
       "      <th>4</th>\n",
       "      <td>12005372</td>\n",
       "      <td>Friday</td>\n",
       "      <td>4</td>\n",
       "      <td>0.229308</td>\n",
       "    </tr>\n",
       "  </tbody>\n",
       "</table>\n",
       "</div>"
      ],
      "text/plain": [
       "   ProfileID Weekday  Hour  Unitsread\n",
       "0   12005372  Friday     0   0.251026\n",
       "1   12005372  Friday     1   0.254692\n",
       "2   12005372  Friday     2   0.232974\n",
       "3   12005372  Friday     3   0.227333\n",
       "4   12005372  Friday     4   0.229308"
      ]
     },
     "execution_count": 91,
     "metadata": {},
     "output_type": "execute_result"
    }
   ],
   "source": [
    "spring_mean = spring_mean_gb.to_frame()\n",
    "spring_mean.reset_index(inplace = True)\n",
    "spring_mean.head()"
   ]
  },
  {
   "cell_type": "code",
   "execution_count": 92,
   "metadata": {},
   "outputs": [
    {
     "data": {
      "text/html": [
       "<div>\n",
       "<style scoped>\n",
       "    .dataframe tbody tr th:only-of-type {\n",
       "        vertical-align: middle;\n",
       "    }\n",
       "\n",
       "    .dataframe tbody tr th {\n",
       "        vertical-align: top;\n",
       "    }\n",
       "\n",
       "    .dataframe thead th {\n",
       "        text-align: right;\n",
       "    }\n",
       "</style>\n",
       "<table border=\"1\" class=\"dataframe\">\n",
       "  <thead>\n",
       "    <tr style=\"text-align: right;\">\n",
       "      <th></th>\n",
       "      <th>profile_ID</th>\n",
       "      <th>season</th>\n",
       "      <th>day_of_the_week</th>\n",
       "      <th>hour</th>\n",
       "      <th>consumption_kWh</th>\n",
       "    </tr>\n",
       "  </thead>\n",
       "  <tbody>\n",
       "    <tr>\n",
       "      <th>0</th>\n",
       "      <td>12005372</td>\n",
       "      <td>Spring</td>\n",
       "      <td>Friday</td>\n",
       "      <td>0</td>\n",
       "      <td>0.251026</td>\n",
       "    </tr>\n",
       "    <tr>\n",
       "      <th>1</th>\n",
       "      <td>12005372</td>\n",
       "      <td>Spring</td>\n",
       "      <td>Friday</td>\n",
       "      <td>1</td>\n",
       "      <td>0.254692</td>\n",
       "    </tr>\n",
       "    <tr>\n",
       "      <th>2</th>\n",
       "      <td>12005372</td>\n",
       "      <td>Spring</td>\n",
       "      <td>Friday</td>\n",
       "      <td>2</td>\n",
       "      <td>0.232974</td>\n",
       "    </tr>\n",
       "    <tr>\n",
       "      <th>3</th>\n",
       "      <td>12005372</td>\n",
       "      <td>Spring</td>\n",
       "      <td>Friday</td>\n",
       "      <td>3</td>\n",
       "      <td>0.227333</td>\n",
       "    </tr>\n",
       "    <tr>\n",
       "      <th>4</th>\n",
       "      <td>12005372</td>\n",
       "      <td>Spring</td>\n",
       "      <td>Friday</td>\n",
       "      <td>4</td>\n",
       "      <td>0.229308</td>\n",
       "    </tr>\n",
       "  </tbody>\n",
       "</table>\n",
       "</div>"
      ],
      "text/plain": [
       "   profile_ID  season day_of_the_week  hour  consumption_kWh\n",
       "0    12005372  Spring          Friday     0         0.251026\n",
       "1    12005372  Spring          Friday     1         0.254692\n",
       "2    12005372  Spring          Friday     2         0.232974\n",
       "3    12005372  Spring          Friday     3         0.227333\n",
       "4    12005372  Spring          Friday     4         0.229308"
      ]
     },
     "execution_count": 92,
     "metadata": {},
     "output_type": "execute_result"
    }
   ],
   "source": [
    "spring_mean[\"season\"] = \"Spring\"\n",
    "\n",
    "spring_mean.columns = ['profile_ID', 'day_of_the_week', 'hour', 'consumption_kWh', 'season']\n",
    "\n",
    "columns = ['profile_ID', 'season', 'day_of_the_week', 'hour', 'consumption_kWh']\n",
    "\n",
    "spring_mean = spring_mean[columns]\n",
    "\n",
    "spring_mean.head()"
   ]
  },
  {
   "cell_type": "markdown",
   "metadata": {},
   "source": [
    "##### Autumn"
   ]
  },
  {
   "cell_type": "code",
   "execution_count": 93,
   "metadata": {},
   "outputs": [],
   "source": [
    "autumn_mean_gb = autumn.groupby([\"ProfileID\",\"Weekday\",\"Hour\"])['Unitsread'].apply(lambda x: np.mean(x))"
   ]
  },
  {
   "cell_type": "code",
   "execution_count": 94,
   "metadata": {},
   "outputs": [
    {
     "data": {
      "text/plain": [
       "ProfileID  Weekday  Hour\n",
       "12005372   Friday   0       0.133128\n",
       "                    1       0.121282\n",
       "                    2       0.127205\n",
       "                    3       0.119026\n",
       "                    4       0.120718\n",
       "Name: Unitsread, dtype: float64"
      ]
     },
     "execution_count": 94,
     "metadata": {},
     "output_type": "execute_result"
    }
   ],
   "source": [
    "autumn_mean_gb.head()"
   ]
  },
  {
   "cell_type": "code",
   "execution_count": 95,
   "metadata": {},
   "outputs": [
    {
     "data": {
      "text/html": [
       "<div>\n",
       "<style scoped>\n",
       "    .dataframe tbody tr th:only-of-type {\n",
       "        vertical-align: middle;\n",
       "    }\n",
       "\n",
       "    .dataframe tbody tr th {\n",
       "        vertical-align: top;\n",
       "    }\n",
       "\n",
       "    .dataframe thead th {\n",
       "        text-align: right;\n",
       "    }\n",
       "</style>\n",
       "<table border=\"1\" class=\"dataframe\">\n",
       "  <thead>\n",
       "    <tr style=\"text-align: right;\">\n",
       "      <th></th>\n",
       "      <th>ProfileID</th>\n",
       "      <th>Weekday</th>\n",
       "      <th>Hour</th>\n",
       "      <th>Unitsread</th>\n",
       "    </tr>\n",
       "  </thead>\n",
       "  <tbody>\n",
       "    <tr>\n",
       "      <th>0</th>\n",
       "      <td>12005372</td>\n",
       "      <td>Friday</td>\n",
       "      <td>0</td>\n",
       "      <td>0.133128</td>\n",
       "    </tr>\n",
       "    <tr>\n",
       "      <th>1</th>\n",
       "      <td>12005372</td>\n",
       "      <td>Friday</td>\n",
       "      <td>1</td>\n",
       "      <td>0.121282</td>\n",
       "    </tr>\n",
       "    <tr>\n",
       "      <th>2</th>\n",
       "      <td>12005372</td>\n",
       "      <td>Friday</td>\n",
       "      <td>2</td>\n",
       "      <td>0.127205</td>\n",
       "    </tr>\n",
       "    <tr>\n",
       "      <th>3</th>\n",
       "      <td>12005372</td>\n",
       "      <td>Friday</td>\n",
       "      <td>3</td>\n",
       "      <td>0.119026</td>\n",
       "    </tr>\n",
       "    <tr>\n",
       "      <th>4</th>\n",
       "      <td>12005372</td>\n",
       "      <td>Friday</td>\n",
       "      <td>4</td>\n",
       "      <td>0.120718</td>\n",
       "    </tr>\n",
       "  </tbody>\n",
       "</table>\n",
       "</div>"
      ],
      "text/plain": [
       "   ProfileID Weekday  Hour  Unitsread\n",
       "0   12005372  Friday     0   0.133128\n",
       "1   12005372  Friday     1   0.121282\n",
       "2   12005372  Friday     2   0.127205\n",
       "3   12005372  Friday     3   0.119026\n",
       "4   12005372  Friday     4   0.120718"
      ]
     },
     "execution_count": 95,
     "metadata": {},
     "output_type": "execute_result"
    }
   ],
   "source": [
    "autumn_mean = autumn_mean_gb.to_frame()\n",
    "autumn_mean.reset_index(inplace = True)\n",
    "autumn_mean.head()"
   ]
  },
  {
   "cell_type": "code",
   "execution_count": 96,
   "metadata": {},
   "outputs": [
    {
     "data": {
      "text/html": [
       "<div>\n",
       "<style scoped>\n",
       "    .dataframe tbody tr th:only-of-type {\n",
       "        vertical-align: middle;\n",
       "    }\n",
       "\n",
       "    .dataframe tbody tr th {\n",
       "        vertical-align: top;\n",
       "    }\n",
       "\n",
       "    .dataframe thead th {\n",
       "        text-align: right;\n",
       "    }\n",
       "</style>\n",
       "<table border=\"1\" class=\"dataframe\">\n",
       "  <thead>\n",
       "    <tr style=\"text-align: right;\">\n",
       "      <th></th>\n",
       "      <th>profile_ID</th>\n",
       "      <th>season</th>\n",
       "      <th>day_of_the_week</th>\n",
       "      <th>hour</th>\n",
       "      <th>consumption_kWh</th>\n",
       "    </tr>\n",
       "  </thead>\n",
       "  <tbody>\n",
       "    <tr>\n",
       "      <th>0</th>\n",
       "      <td>12005372</td>\n",
       "      <td>Autumn</td>\n",
       "      <td>Friday</td>\n",
       "      <td>0</td>\n",
       "      <td>0.133128</td>\n",
       "    </tr>\n",
       "    <tr>\n",
       "      <th>1</th>\n",
       "      <td>12005372</td>\n",
       "      <td>Autumn</td>\n",
       "      <td>Friday</td>\n",
       "      <td>1</td>\n",
       "      <td>0.121282</td>\n",
       "    </tr>\n",
       "    <tr>\n",
       "      <th>2</th>\n",
       "      <td>12005372</td>\n",
       "      <td>Autumn</td>\n",
       "      <td>Friday</td>\n",
       "      <td>2</td>\n",
       "      <td>0.127205</td>\n",
       "    </tr>\n",
       "    <tr>\n",
       "      <th>3</th>\n",
       "      <td>12005372</td>\n",
       "      <td>Autumn</td>\n",
       "      <td>Friday</td>\n",
       "      <td>3</td>\n",
       "      <td>0.119026</td>\n",
       "    </tr>\n",
       "    <tr>\n",
       "      <th>4</th>\n",
       "      <td>12005372</td>\n",
       "      <td>Autumn</td>\n",
       "      <td>Friday</td>\n",
       "      <td>4</td>\n",
       "      <td>0.120718</td>\n",
       "    </tr>\n",
       "  </tbody>\n",
       "</table>\n",
       "</div>"
      ],
      "text/plain": [
       "   profile_ID  season day_of_the_week  hour  consumption_kWh\n",
       "0    12005372  Autumn          Friday     0         0.133128\n",
       "1    12005372  Autumn          Friday     1         0.121282\n",
       "2    12005372  Autumn          Friday     2         0.127205\n",
       "3    12005372  Autumn          Friday     3         0.119026\n",
       "4    12005372  Autumn          Friday     4         0.120718"
      ]
     },
     "execution_count": 96,
     "metadata": {},
     "output_type": "execute_result"
    }
   ],
   "source": [
    "autumn_mean[\"season\"] = \"Autumn\"\n",
    "\n",
    "autumn_mean.columns = ['profile_ID', 'day_of_the_week', 'hour', 'consumption_kWh', 'season']\n",
    "\n",
    "columns = ['profile_ID', 'season', 'day_of_the_week', 'hour', 'consumption_kWh']\n",
    "\n",
    "autumn_mean = autumn_mean[columns]\n",
    "\n",
    "autumn_mean.head()"
   ]
  },
  {
   "cell_type": "markdown",
   "metadata": {},
   "source": [
    "### Merging the data into one dataset"
   ]
  },
  {
   "cell_type": "code",
   "execution_count": 97,
   "metadata": {},
   "outputs": [],
   "source": [
    "sa_analysis = pd.concat([winter_mean, summer_mean, spring_mean, autumn_mean])"
   ]
  },
  {
   "cell_type": "code",
   "execution_count": 98,
   "metadata": {},
   "outputs": [
    {
     "data": {
      "text/html": [
       "<div>\n",
       "<style scoped>\n",
       "    .dataframe tbody tr th:only-of-type {\n",
       "        vertical-align: middle;\n",
       "    }\n",
       "\n",
       "    .dataframe tbody tr th {\n",
       "        vertical-align: top;\n",
       "    }\n",
       "\n",
       "    .dataframe thead th {\n",
       "        text-align: right;\n",
       "    }\n",
       "</style>\n",
       "<table border=\"1\" class=\"dataframe\">\n",
       "  <thead>\n",
       "    <tr style=\"text-align: right;\">\n",
       "      <th></th>\n",
       "      <th>profile_ID</th>\n",
       "      <th>season</th>\n",
       "      <th>day_of_the_week</th>\n",
       "      <th>hour</th>\n",
       "      <th>consumption_kWh</th>\n",
       "    </tr>\n",
       "  </thead>\n",
       "  <tbody>\n",
       "    <tr>\n",
       "      <th>0</th>\n",
       "      <td>12005372</td>\n",
       "      <td>Winter</td>\n",
       "      <td>Friday</td>\n",
       "      <td>0</td>\n",
       "      <td>0.142214</td>\n",
       "    </tr>\n",
       "    <tr>\n",
       "      <th>1</th>\n",
       "      <td>12005372</td>\n",
       "      <td>Winter</td>\n",
       "      <td>Friday</td>\n",
       "      <td>1</td>\n",
       "      <td>0.138024</td>\n",
       "    </tr>\n",
       "    <tr>\n",
       "      <th>2</th>\n",
       "      <td>12005372</td>\n",
       "      <td>Winter</td>\n",
       "      <td>Friday</td>\n",
       "      <td>2</td>\n",
       "      <td>0.124143</td>\n",
       "    </tr>\n",
       "    <tr>\n",
       "      <th>3</th>\n",
       "      <td>12005372</td>\n",
       "      <td>Winter</td>\n",
       "      <td>Friday</td>\n",
       "      <td>3</td>\n",
       "      <td>0.132000</td>\n",
       "    </tr>\n",
       "    <tr>\n",
       "      <th>4</th>\n",
       "      <td>12005372</td>\n",
       "      <td>Winter</td>\n",
       "      <td>Friday</td>\n",
       "      <td>4</td>\n",
       "      <td>0.147452</td>\n",
       "    </tr>\n",
       "  </tbody>\n",
       "</table>\n",
       "</div>"
      ],
      "text/plain": [
       "   profile_ID  season day_of_the_week  hour  consumption_kWh\n",
       "0    12005372  Winter          Friday     0         0.142214\n",
       "1    12005372  Winter          Friday     1         0.138024\n",
       "2    12005372  Winter          Friday     2         0.124143\n",
       "3    12005372  Winter          Friday     3         0.132000\n",
       "4    12005372  Winter          Friday     4         0.147452"
      ]
     },
     "execution_count": 98,
     "metadata": {},
     "output_type": "execute_result"
    }
   ],
   "source": [
    "sa_analysis.head()"
   ]
  },
  {
   "cell_type": "code",
   "execution_count": 99,
   "metadata": {},
   "outputs": [],
   "source": [
    "sa_analysis.to_csv(r\"..\\Data\\SAdata\\SA_revised_narrow.csv\", sep = \",\")"
   ]
  }
 ],
 "metadata": {
  "kernelspec": {
   "display_name": "Python 3",
   "language": "python",
   "name": "python3"
  },
  "language_info": {
   "codemirror_mode": {
    "name": "ipython",
    "version": 3
   },
   "file_extension": ".py",
   "mimetype": "text/x-python",
   "name": "python",
   "nbconvert_exporter": "python",
   "pygments_lexer": "ipython3",
   "version": "3.7.3"
  }
 },
 "nbformat": 4,
 "nbformat_minor": 2
}
