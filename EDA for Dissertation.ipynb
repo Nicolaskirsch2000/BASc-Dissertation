{
 "cells": [
  {
   "cell_type": "markdown",
   "metadata": {},
   "source": [
    "# Exploratory data analysis on London Data"
   ]
  },
  {
   "cell_type": "markdown",
   "metadata": {},
   "source": [
    "This notebook will serve for exploring the London Dataset and gainging insight on how to process it "
   ]
  },
  {
   "cell_type": "markdown",
   "metadata": {},
   "source": [
    "First, we recuperate the necessary packages "
   ]
  },
  {
   "cell_type": "code",
   "execution_count": 1,
   "metadata": {},
   "outputs": [],
   "source": [
    "import pandas as pd\n",
    "import numpy as np"
   ]
  },
  {
   "cell_type": "markdown",
   "metadata": {},
   "source": [
    "The data is divided in 163 datasets of 1 million entries.\n",
    "\n",
    "We upload the data from several csv file and merge them together"
   ]
  },
  {
   "cell_type": "code",
   "execution_count": 2,
   "metadata": {},
   "outputs": [],
   "source": [
    "df = pd.read_csv(r\"..\\Data\\Londondata\\Power-Networks-LCL-June2015(withAcornGps)v2_34.csv\")\n",
    "\n",
    "for i in range(1,3): \n",
    "    dataframe = pd.read_csv(r\"..\\Data\\Londondata\\Power-Networks-LCL-June2015(withAcornGps)v2_\"+str(i)+\".csv\")\n",
    "    df = df.append(dataframe)\n"
   ]
  },
  {
   "cell_type": "code",
   "execution_count": 6,
   "metadata": {},
   "outputs": [
    {
     "data": {
      "text/html": [
       "<div>\n",
       "<style scoped>\n",
       "    .dataframe tbody tr th:only-of-type {\n",
       "        vertical-align: middle;\n",
       "    }\n",
       "\n",
       "    .dataframe tbody tr th {\n",
       "        vertical-align: top;\n",
       "    }\n",
       "\n",
       "    .dataframe thead th {\n",
       "        text-align: right;\n",
       "    }\n",
       "</style>\n",
       "<table border=\"1\" class=\"dataframe\">\n",
       "  <thead>\n",
       "    <tr style=\"text-align: right;\">\n",
       "      <th></th>\n",
       "      <th>LCLid</th>\n",
       "      <th>stdorToU</th>\n",
       "      <th>DateTime</th>\n",
       "      <th>KWH/hh (per half hour)</th>\n",
       "      <th>Acorn</th>\n",
       "      <th>Acorn_grouped</th>\n",
       "    </tr>\n",
       "  </thead>\n",
       "  <tbody>\n",
       "    <tr>\n",
       "      <th>0</th>\n",
       "      <td>MAC001262</td>\n",
       "      <td>Std</td>\n",
       "      <td>2012-08-05 04:00:00.0000000</td>\n",
       "      <td>0.047</td>\n",
       "      <td>ACORN-F</td>\n",
       "      <td>Comfortable</td>\n",
       "    </tr>\n",
       "    <tr>\n",
       "      <th>1</th>\n",
       "      <td>MAC001262</td>\n",
       "      <td>Std</td>\n",
       "      <td>2012-08-05 04:30:00.0000000</td>\n",
       "      <td>0.073</td>\n",
       "      <td>ACORN-F</td>\n",
       "      <td>Comfortable</td>\n",
       "    </tr>\n",
       "    <tr>\n",
       "      <th>2</th>\n",
       "      <td>MAC001262</td>\n",
       "      <td>Std</td>\n",
       "      <td>2012-08-05 05:00:00.0000000</td>\n",
       "      <td>0.04</td>\n",
       "      <td>ACORN-F</td>\n",
       "      <td>Comfortable</td>\n",
       "    </tr>\n",
       "    <tr>\n",
       "      <th>3</th>\n",
       "      <td>MAC001262</td>\n",
       "      <td>Std</td>\n",
       "      <td>2012-08-05 05:30:00.0000000</td>\n",
       "      <td>0.054</td>\n",
       "      <td>ACORN-F</td>\n",
       "      <td>Comfortable</td>\n",
       "    </tr>\n",
       "    <tr>\n",
       "      <th>4</th>\n",
       "      <td>MAC001262</td>\n",
       "      <td>Std</td>\n",
       "      <td>2012-08-05 06:00:00.0000000</td>\n",
       "      <td>0.058</td>\n",
       "      <td>ACORN-F</td>\n",
       "      <td>Comfortable</td>\n",
       "    </tr>\n",
       "  </tbody>\n",
       "</table>\n",
       "</div>"
      ],
      "text/plain": [
       "       LCLid stdorToU                     DateTime KWH/hh (per half hour)   \\\n",
       "0  MAC001262      Std  2012-08-05 04:00:00.0000000                  0.047    \n",
       "1  MAC001262      Std  2012-08-05 04:30:00.0000000                  0.073    \n",
       "2  MAC001262      Std  2012-08-05 05:00:00.0000000                   0.04    \n",
       "3  MAC001262      Std  2012-08-05 05:30:00.0000000                  0.054    \n",
       "4  MAC001262      Std  2012-08-05 06:00:00.0000000                  0.058    \n",
       "\n",
       "     Acorn Acorn_grouped  \n",
       "0  ACORN-F   Comfortable  \n",
       "1  ACORN-F   Comfortable  \n",
       "2  ACORN-F   Comfortable  \n",
       "3  ACORN-F   Comfortable  \n",
       "4  ACORN-F   Comfortable  "
      ]
     },
     "execution_count": 6,
     "metadata": {},
     "output_type": "execute_result"
    }
   ],
   "source": [
    "df.head()"
   ]
  },
  {
   "cell_type": "markdown",
   "metadata": {},
   "source": [
    "The data ranges from 2012 to 2014, we will keep the data from 2013"
   ]
  },
  {
   "cell_type": "code",
   "execution_count": 7,
   "metadata": {},
   "outputs": [],
   "source": [
    "#Get the year of observation\n",
    "df[\"year\"] = pd.to_datetime(df[\"DateTime\"]).dt.year\n",
    "df.index = df.index - 3840\n",
    "\n",
    "\n",
    "#Isolate the year 2013\n",
    "df = df[df[\"year\"] == 2013]"
   ]
  },
  {
   "cell_type": "markdown",
   "metadata": {},
   "source": [
    "Lets look at how many data points there is for each households (LCLid) for the 2013 year"
   ]
  },
  {
   "cell_type": "code",
   "execution_count": 8,
   "metadata": {},
   "outputs": [
    {
     "data": {
      "text/plain": [
       "LCLid\n",
       "MAC000002    17532\n",
       "MAC000003    17530\n",
       "MAC000004    17531\n",
       "MAC000006    17532\n",
       "MAC000007    17529\n",
       "MAC000008    14505\n",
       "MAC000009    17523\n",
       "MAC000010    17532\n",
       "MAC000011    17531\n",
       "MAC000012    17531\n",
       "MAC000013    17531\n",
       "MAC000016      721\n",
       "MAC000018    17532\n",
       "MAC000019    17532\n",
       "MAC000020    17530\n",
       "MAC000021    17531\n",
       "MAC000022    17531\n",
       "MAC000023    17531\n",
       "MAC000024    17531\n",
       "MAC000025    17526\n",
       "MAC000026    17519\n",
       "MAC000027    17532\n",
       "MAC000028    13401\n",
       "MAC000029    17520\n",
       "MAC000030    17523\n",
       "MAC000032    17531\n",
       "MAC000033    17531\n",
       "MAC000034    17528\n",
       "MAC000035    17530\n",
       "MAC000036    17531\n",
       "             ...  \n",
       "MAC001267    17523\n",
       "MAC001268    17527\n",
       "MAC001269    17530\n",
       "MAC001271    17531\n",
       "MAC001272    17529\n",
       "MAC001273    17523\n",
       "MAC001275    17531\n",
       "MAC001276    17526\n",
       "MAC001277    17530\n",
       "MAC001280    17531\n",
       "MAC001282    17527\n",
       "MAC001283    17532\n",
       "MAC001284     2018\n",
       "MAC001286    17530\n",
       "MAC001287     2736\n",
       "MAC001288    15658\n",
       "MAC001289    17530\n",
       "MAC001291    17531\n",
       "MAC001292    17531\n",
       "MAC001293    17531\n",
       "MAC001294    17532\n",
       "MAC001295    17484\n",
       "MAC001296    17528\n",
       "MAC001298    17525\n",
       "MAC001301    17527\n",
       "MAC001302    17532\n",
       "MAC001304    17530\n",
       "MAC001306    17530\n",
       "MAC001307    17530\n",
       "MAC001308     1120\n",
       "Name: KWH/hh (per half hour) , Length: 90, dtype: int64"
      ]
     },
     "execution_count": 8,
     "metadata": {},
     "output_type": "execute_result"
    }
   ],
   "source": [
    "df.groupby(\"LCLid\")['KWH/hh (per half hour) '].apply(lambda x: len(x))"
   ]
  },
  {
   "cell_type": "markdown",
   "metadata": {},
   "source": [
    "We can see that most Households have around 17530 entries, which makes sens as there are 17520 half hours in a year\n",
    "\n",
    "Some are however far from this value. As we have plenty of data, lets delete all Household with less than 17520 data points\n"
   ]
  },
  {
   "cell_type": "code",
   "execution_count": 13,
   "metadata": {},
   "outputs": [],
   "source": [
    "groups = df.groupby(\"LCLid\")['KWH/hh (per half hour) '].apply(lambda x: len(x))\n",
    "groups = groups[groups>17520]\n",
    "\n",
    "ind = groups.index\n",
    "\n",
    "df = df[df[\"LCLid\"].isin(ind)]"
   ]
  }
 ],
 "metadata": {
  "kernelspec": {
   "display_name": "Python 3",
   "language": "python",
   "name": "python3"
  },
  "language_info": {
   "codemirror_mode": {
    "name": "ipython",
    "version": 3
   },
   "file_extension": ".py",
   "mimetype": "text/x-python",
   "name": "python",
   "nbconvert_exporter": "python",
   "pygments_lexer": "ipython3",
   "version": "3.7.3"
  }
 },
 "nbformat": 4,
 "nbformat_minor": 2
}
