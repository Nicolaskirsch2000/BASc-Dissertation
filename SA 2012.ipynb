{
 "cells": [
  {
   "cell_type": "code",
   "execution_count": 1,
   "metadata": {},
   "outputs": [],
   "source": [
    "%matplotlib inline\n",
    "\n",
    "import pandas as pd\n",
    "import numpy as np\n",
    "import matplotlib.pyplot as plt"
   ]
  },
  {
   "cell_type": "code",
   "execution_count": 2,
   "metadata": {},
   "outputs": [],
   "source": [
    "df = pd.read_csv(r\"..\\Data\\SAdata\\2012_A.csv\")"
   ]
  },
  {
   "cell_type": "code",
   "execution_count": 44,
   "metadata": {},
   "outputs": [
    {
     "data": {
      "text/html": [
       "<div>\n",
       "<style scoped>\n",
       "    .dataframe tbody tr th:only-of-type {\n",
       "        vertical-align: middle;\n",
       "    }\n",
       "\n",
       "    .dataframe tbody tr th {\n",
       "        vertical-align: top;\n",
       "    }\n",
       "\n",
       "    .dataframe thead th {\n",
       "        text-align: right;\n",
       "    }\n",
       "</style>\n",
       "<table border=\"1\" class=\"dataframe\">\n",
       "  <thead>\n",
       "    <tr style=\"text-align: right;\">\n",
       "      <th></th>\n",
       "      <th>RecorderID</th>\n",
       "      <th>ProfileID</th>\n",
       "      <th>Datefield</th>\n",
       "      <th>Unitsread</th>\n",
       "      <th>Valid</th>\n",
       "    </tr>\n",
       "  </thead>\n",
       "  <tbody>\n",
       "    <tr>\n",
       "      <th>0</th>\n",
       "      <td>BTW001</td>\n",
       "      <td>12005762</td>\n",
       "      <td>2012-10-01 00:00:00</td>\n",
       "      <td>1.200000</td>\n",
       "      <td>1.0</td>\n",
       "    </tr>\n",
       "    <tr>\n",
       "      <th>1</th>\n",
       "      <td>BTW001</td>\n",
       "      <td>12005762</td>\n",
       "      <td>2012-10-01 01:00:00</td>\n",
       "      <td>1.300000</td>\n",
       "      <td>1.0</td>\n",
       "    </tr>\n",
       "    <tr>\n",
       "      <th>2</th>\n",
       "      <td>BTW001</td>\n",
       "      <td>12005762</td>\n",
       "      <td>2012-10-01 02:00:00</td>\n",
       "      <td>1.216667</td>\n",
       "      <td>1.0</td>\n",
       "    </tr>\n",
       "    <tr>\n",
       "      <th>3</th>\n",
       "      <td>BTW001</td>\n",
       "      <td>12005762</td>\n",
       "      <td>2012-10-01 03:00:00</td>\n",
       "      <td>1.233333</td>\n",
       "      <td>1.0</td>\n",
       "    </tr>\n",
       "    <tr>\n",
       "      <th>4</th>\n",
       "      <td>BTW001</td>\n",
       "      <td>12005762</td>\n",
       "      <td>2012-10-01 04:00:00</td>\n",
       "      <td>1.316667</td>\n",
       "      <td>1.0</td>\n",
       "    </tr>\n",
       "  </tbody>\n",
       "</table>\n",
       "</div>"
      ],
      "text/plain": [
       "  RecorderID  ProfileID            Datefield  Unitsread  Valid\n",
       "0     BTW001   12005762  2012-10-01 00:00:00   1.200000    1.0\n",
       "1     BTW001   12005762  2012-10-01 01:00:00   1.300000    1.0\n",
       "2     BTW001   12005762  2012-10-01 02:00:00   1.216667    1.0\n",
       "3     BTW001   12005762  2012-10-01 03:00:00   1.233333    1.0\n",
       "4     BTW001   12005762  2012-10-01 04:00:00   1.316667    1.0"
      ]
     },
     "execution_count": 44,
     "metadata": {},
     "output_type": "execute_result"
    }
   ],
   "source": [
    "df.head()"
   ]
  },
  {
   "cell_type": "code",
   "execution_count": 3,
   "metadata": {},
   "outputs": [
    {
     "name": "stdout",
     "output_type": "stream",
     "text": [
      "ProfileID\n",
      "12006364    8769\n",
      "12006416    8769\n",
      "12006299    8769\n",
      "12006303    8769\n",
      "12006433    8769\n",
      "Name: Unitsread, dtype: int64\n"
     ]
    },
    {
     "data": {
      "text/plain": [
       "1587"
      ]
     },
     "execution_count": 3,
     "metadata": {},
     "output_type": "execute_result"
    }
   ],
   "source": [
    "#Lengths of Profile ID groups\n",
    "groups1 = df.groupby(\"ProfileID\")['Unitsread'].apply(lambda x: len(x))\n",
    "groups1 = groups1.sort_values(ascending = False)\n",
    "print(groups1.head())\n",
    "len(groups1)"
   ]
  },
  {
   "cell_type": "markdown",
   "metadata": {},
   "source": [
    "We can see that the right ID is the profile ID. There is however not exactly 8760 values, lets plot the number of values for each ID to get more insight"
   ]
  },
  {
   "cell_type": "code",
   "execution_count": 4,
   "metadata": {},
   "outputs": [
    {
     "name": "stdout",
     "output_type": "stream",
     "text": [
      "1587\n"
     ]
    },
    {
     "data": {
      "text/plain": [
       "<matplotlib.axes._subplots.AxesSubplot at 0x1ebb9f2bbe0>"
      ]
     },
     "execution_count": 4,
     "metadata": {},
     "output_type": "execute_result"
    },
    {
     "data": {
      "image/png": "[encoded data removed]",
      "text/plain": [
       "<Figure size 432x288 with 1 Axes>"
      ]
     },
     "metadata": {
      "needs_background": "light"
     },
     "output_type": "display_data"
    }
   ],
   "source": [
    "#groups1 = groups1[groups1<2000]\n",
    "#groups1 = groups1[groups1 > 1400]\n",
    "\n",
    "print(len(groups1))\n",
    "\n",
    "groups1.hist(bins = 50)\n"
   ]
  },
  {
   "cell_type": "code",
   "execution_count": 8,
   "metadata": {},
   "outputs": [],
   "source": [
    "less_data = groups1[groups1<2000]\n",
    "less_data = less_data[less_data>1450]"
   ]
  },
  {
   "cell_type": "code",
   "execution_count": 9,
   "metadata": {},
   "outputs": [
    {
     "data": {
      "text/plain": [
       "<matplotlib.axes._subplots.AxesSubplot at 0x1eba913f6a0>"
      ]
     },
     "execution_count": 9,
     "metadata": {},
     "output_type": "execute_result"
    },
    {
     "data": {
      "image/png": "[encoded data removed]",
      "text/plain": [
       "<Figure size 432x288 with 1 Axes>"
      ]
     },
     "metadata": {
      "needs_background": "light"
     },
     "output_type": "display_data"
    }
   ],
   "source": [
    "less_data.hist(bins = 50)"
   ]
  },
  {
   "cell_type": "code",
   "execution_count": 12,
   "metadata": {},
   "outputs": [],
   "source": [
    "ld = df[df[\"ProfileID\"].isin(less_data.index)]"
   ]
  },
  {
   "cell_type": "code",
   "execution_count": 16,
   "metadata": {},
   "outputs": [
    {
     "data": {
      "text/html": [
       "<div>\n",
       "<style scoped>\n",
       "    .dataframe tbody tr th:only-of-type {\n",
       "        vertical-align: middle;\n",
       "    }\n",
       "\n",
       "    .dataframe tbody tr th {\n",
       "        vertical-align: top;\n",
       "    }\n",
       "\n",
       "    .dataframe thead th {\n",
       "        text-align: right;\n",
       "    }\n",
       "</style>\n",
       "<table border=\"1\" class=\"dataframe\">\n",
       "  <thead>\n",
       "    <tr style=\"text-align: right;\">\n",
       "      <th></th>\n",
       "      <th>RecorderID</th>\n",
       "      <th>ProfileID</th>\n",
       "      <th>Datefield</th>\n",
       "      <th>Unitsread</th>\n",
       "      <th>Valid</th>\n",
       "      <th>date</th>\n",
       "    </tr>\n",
       "  </thead>\n",
       "  <tbody>\n",
       "    <tr>\n",
       "      <th>1138464</th>\n",
       "      <td>BTW001</td>\n",
       "      <td>12019685</td>\n",
       "      <td>2012-11-01 00:00:00</td>\n",
       "      <td>5.783333</td>\n",
       "      <td>1.0</td>\n",
       "      <td>2012-11-01</td>\n",
       "    </tr>\n",
       "    <tr>\n",
       "      <th>1138465</th>\n",
       "      <td>BTW001</td>\n",
       "      <td>12019685</td>\n",
       "      <td>2012-11-01 01:00:00</td>\n",
       "      <td>2.566667</td>\n",
       "      <td>1.0</td>\n",
       "      <td>2012-11-01</td>\n",
       "    </tr>\n",
       "    <tr>\n",
       "      <th>1138466</th>\n",
       "      <td>BTW001</td>\n",
       "      <td>12019685</td>\n",
       "      <td>2012-11-01 02:00:00</td>\n",
       "      <td>1.200000</td>\n",
       "      <td>1.0</td>\n",
       "      <td>2012-11-01</td>\n",
       "    </tr>\n",
       "    <tr>\n",
       "      <th>1138467</th>\n",
       "      <td>BTW001</td>\n",
       "      <td>12019685</td>\n",
       "      <td>2012-11-01 03:00:00</td>\n",
       "      <td>1.450000</td>\n",
       "      <td>1.0</td>\n",
       "      <td>2012-11-01</td>\n",
       "    </tr>\n",
       "    <tr>\n",
       "      <th>1138468</th>\n",
       "      <td>BTW001</td>\n",
       "      <td>12019685</td>\n",
       "      <td>2012-11-01 04:00:00</td>\n",
       "      <td>1.200000</td>\n",
       "      <td>1.0</td>\n",
       "      <td>2012-11-01</td>\n",
       "    </tr>\n",
       "  </tbody>\n",
       "</table>\n",
       "</div>"
      ],
      "text/plain": [
       "        RecorderID  ProfileID            Datefield  Unitsread  Valid  \\\n",
       "1138464     BTW001   12019685  2012-11-01 00:00:00   5.783333    1.0   \n",
       "1138465     BTW001   12019685  2012-11-01 01:00:00   2.566667    1.0   \n",
       "1138466     BTW001   12019685  2012-11-01 02:00:00   1.200000    1.0   \n",
       "1138467     BTW001   12019685  2012-11-01 03:00:00   1.450000    1.0   \n",
       "1138468     BTW001   12019685  2012-11-01 04:00:00   1.200000    1.0   \n",
       "\n",
       "               date  \n",
       "1138464  2012-11-01  \n",
       "1138465  2012-11-01  \n",
       "1138466  2012-11-01  \n",
       "1138467  2012-11-01  \n",
       "1138468  2012-11-01  "
      ]
     },
     "execution_count": 16,
     "metadata": {},
     "output_type": "execute_result"
    }
   ],
   "source": [
    "ld.head()"
   ]
  },
  {
   "cell_type": "code",
   "execution_count": 26,
   "metadata": {},
   "outputs": [
    {
     "data": {
      "text/plain": [
       "array([12019685, 12019689, 12019693, 12019698, 12019702, 12019706,\n",
       "       12019711, 12019715, 12019719, 12019724, 12019728, 12019732,\n",
       "       12019737, 12019741, 12019745, 12019750, 12019754, 12019758,\n",
       "       12019763, 12019767, 12019771, 12019776, 12019780, 12019784,\n",
       "       12019789, 12019793, 12019797, 12019802, 12019806, 12019810,\n",
       "       12019815, 12019819, 12019823, 12019828, 12019832, 12019836,\n",
       "       12019841, 12019845, 12019849, 12019854, 12019858, 12019862,\n",
       "       12019867, 12019871, 12019875, 12019880, 12019884, 12019888,\n",
       "       12019893, 12019897, 12019901, 12019906, 12019910, 12019914,\n",
       "       12019919, 12019923, 12019927, 12019932, 12019936, 12019940,\n",
       "       12019945, 12019949, 12019953, 12019958, 12019962, 12019966,\n",
       "       12019971, 12019975, 12019979, 12019984, 12019988, 12019992,\n",
       "       12019997, 12020001, 12020005, 12020010, 12020014, 12020018,\n",
       "       12020023, 12020027, 12020031, 12020036, 12020040, 12020044,\n",
       "       12020049, 12020053, 12020057, 12020062, 12020066, 12020070,\n",
       "       12020075, 12020079, 12020083, 12020088, 12020092, 12020096,\n",
       "       12020127, 12020131, 12020135, 12020140, 12020144, 12020148,\n",
       "       12020153, 12020157, 12020161, 12020166, 12020170, 12020174,\n",
       "       12020179, 12020183, 12020187, 12020205, 12020209, 12020213,\n",
       "       12020270, 12020274, 12020278, 12020296, 12020300, 12020304,\n",
       "       12020309, 12020313, 12020317, 12020322, 12020326, 12020330,\n",
       "       12020335, 12020339, 12020343, 12020374, 12020378, 12020382,\n",
       "       12020387, 12020391, 12020395, 12020400, 12020404, 12020408,\n",
       "       12020413, 12020417, 12020421, 12020426, 12020430, 12020434,\n",
       "       12020439, 12020443, 12020447, 12020452, 12020456, 12020460,\n",
       "       12020465, 12020469, 12020473, 12020478, 12020482, 12020486,\n",
       "       12020491, 12020495, 12020499, 12020504, 12020508, 12020512,\n",
       "       12020517, 12020521, 12020525, 12020530, 12020534, 12020538,\n",
       "       12020543, 12020547, 12020551, 12020556, 12020560, 12020564,\n",
       "       12020569, 12020573, 12020577, 12020582, 12020586, 12020590,\n",
       "       12020595, 12020599, 12020603, 12020608, 12020612, 12020616,\n",
       "       12020621, 12020625, 12020629, 12020634, 12020638, 12020642,\n",
       "       12020647, 12020651, 12020655, 12020660, 12020664, 12020668,\n",
       "       12020673, 12020677, 12020681, 12020686, 12020690, 12020694,\n",
       "       12020699, 12020703, 12020707, 12020712, 12020716, 12020720,\n",
       "       12020725, 12020729, 12020733, 12020738, 12020742, 12020746,\n",
       "       12020751, 12020755, 12020759, 12020764, 12020768, 12020772,\n",
       "       12020777, 12020781, 12020785, 12020790, 12020794, 12020798,\n",
       "       12020803, 12020807, 12020811, 12020816, 12020820, 12020824,\n",
       "       12020842, 12020846, 12020850, 12020855, 12020859, 12020863,\n",
       "       12020868, 12020872, 12020876, 12020881, 12020885, 12020889,\n",
       "       12020894, 12020898, 12020902, 12020907, 12020911, 12020915,\n",
       "       12020920, 12020924, 12020928, 12020933, 12020937, 12020941,\n",
       "       12020946, 12020950, 12020954, 12020959, 12020963, 12020967,\n",
       "       12020985, 12020989, 12020993, 12021011, 12021015, 12021019,\n",
       "       12021050, 12021054, 12021058, 12021063, 12021067, 12021071,\n",
       "       12021076, 12021080, 12021084, 12021089, 12021093, 12021097,\n",
       "       12021102, 12021106, 12021110, 12021128, 12021132, 12021136,\n",
       "       12021141, 12021145, 12021149, 12021154, 12021158, 12021162,\n",
       "       12021219, 12021223, 12021227, 12021232, 12021236, 12021240,\n",
       "       12021245, 12021249, 12021253, 12021258, 12021262, 12021266,\n",
       "       12021271, 12021275, 12021279, 12021284, 12021288, 12021292,\n",
       "       12021297, 12021301, 12021305, 12021310, 12021314, 12021318,\n",
       "       12021323, 12021327, 12021331, 12021336, 12021340, 12021344,\n",
       "       12021349, 12021353, 12021357, 12021362, 12021366, 12021370,\n",
       "       12021375, 12021379, 12021383, 12021388, 12021392, 12021396,\n",
       "       12021401, 12021405, 12021409, 12021414, 12021418, 12021422,\n",
       "       12021427, 12021431, 12021435, 12021466, 12021470, 12021474,\n",
       "       12021479, 12021483, 12021487, 12021492, 12021496, 12021500,\n",
       "       12021505, 12021509, 12021513, 12021518, 12021522, 12021526,\n",
       "       12021544, 12021548, 12021552, 12021557, 12021561, 12021565,\n",
       "       12021570, 12021574, 12021578, 12021583, 12021587, 12021591,\n",
       "       12021596, 12021600, 12021604, 12021609, 12021613, 12021617,\n",
       "       12021648, 12021652, 12021656, 12021661, 12021665, 12021669,\n",
       "       12021674, 12021678, 12021682, 12021687, 12021691, 12021695,\n",
       "       12021700, 12021704, 12021708, 12021726, 12021730, 12021734,\n",
       "       12021739, 12021743, 12021747, 12021752, 12021756, 12021760,\n",
       "       12021778, 12021782, 12021786, 12021791, 12021795, 12021799,\n",
       "       12021804, 12021808, 12021812, 12021817, 12021821, 12021825,\n",
       "       12021843, 12021847, 12021851, 12021856, 12021860, 12021864,\n",
       "       12021869, 12021873, 12021877, 12021882, 12021886, 12021890,\n",
       "       12021921, 12021925, 12021929, 12021934, 12021938, 12021942,\n",
       "       12021947, 12021951, 12021955, 12021973, 12021977, 12021981,\n",
       "       12021986, 12021990, 12021994, 12021999, 12022003, 12022007,\n",
       "       12022012, 12022016, 12022020, 12022025, 12022029, 12022033,\n",
       "       12022038, 12022042, 12022046, 12022051, 12022055, 12022059,\n",
       "       12022064, 12022068, 12022072, 12022077, 12022081, 12022085,\n",
       "       12022090, 12022094, 12022098, 12022103, 12022107, 12022111,\n",
       "       12022116, 12022120, 12022124, 12022129, 12022133, 12022137,\n",
       "       12022142, 12022146, 12022150, 12022155, 12022159, 12022163,\n",
       "       12022168, 12022172, 12022176, 12022181, 12022185, 12022189,\n",
       "       12022207, 12022211, 12022215, 12022220, 12022224, 12022228,\n",
       "       12022233, 12022237, 12022241, 12022246, 12022250, 12022254,\n",
       "       12022259, 12022263, 12022267, 12022285, 12022289, 12022293,\n",
       "       12022298, 12022302, 12022306, 12022311, 12022315, 12022319,\n",
       "       12022324, 12022328, 12022332, 12022337, 12022341, 12022345,\n",
       "       12022350, 12022354, 12022358, 12022363, 12022367, 12022371,\n",
       "       12022376, 12022380, 12022384, 12022389, 12022393, 12022397,\n",
       "       12022402, 12022406, 12022410, 12022415, 12022419, 12022423,\n",
       "       12022428, 12022432, 12022436, 12022441, 12022445, 12022449,\n",
       "       12022454, 12022458, 12022462, 12022467, 12022471, 12022475,\n",
       "       12022480, 12022484, 12022488, 12022493, 12022497, 12022501,\n",
       "       12022506, 12022510, 12022514, 12022519, 12022523, 12022527,\n",
       "       12022532, 12022536, 12022540, 12022558, 12022562, 12022566,\n",
       "       12022584, 12022588, 12022592, 12022597, 12022601, 12022605,\n",
       "       12022623, 12022627, 12022631, 12022636, 12022640, 12022644,\n",
       "       12022649, 12022653, 12022657, 12022662, 12022666, 12022670,\n",
       "       12022675, 12022679, 12022683, 12022701, 12022705, 12022709,\n",
       "       12022727, 12022731, 12022735, 12022740, 12022744, 12022748,\n",
       "       12022753, 12022757, 12022761, 12022779, 12022783, 12022787,\n",
       "       12022818, 12022822, 12022826, 12022831, 12022835, 12022839,\n",
       "       12022857, 12022861, 12022865, 12022870, 12022874, 12022878,\n",
       "       12022883, 12022887, 12022891, 12022896, 12022900, 12022904,\n",
       "       12022909, 12022913, 12022917, 12022922, 12022926, 12022930,\n",
       "       12022935, 12022939, 12022943, 12022948, 12022952, 12022956,\n",
       "       12022961, 12022965, 12022969, 12022974, 12022978, 12022982,\n",
       "       12022987, 12022991, 12022995, 12023013, 12023017, 12023021,\n",
       "       12023026, 12023030, 12023034, 12023039, 12023043, 12023047,\n",
       "       12023052, 12023056, 12023060, 12023065, 12023069, 12023073,\n",
       "       12023078, 12023082, 12023086, 12023104, 12023108, 12023112,\n",
       "       12023130, 12023134, 12023138, 12023143, 12023147, 12023151,\n",
       "       12023156, 12023160, 12023164, 12023169, 12023173, 12023177,\n",
       "       12023182, 12023186, 12023190], dtype=int64)"
      ]
     },
     "execution_count": 26,
     "metadata": {},
     "output_type": "execute_result"
    }
   ],
   "source": [
    "ld.ProfileID.unique()"
   ]
  },
  {
   "cell_type": "code",
   "execution_count": 15,
   "metadata": {},
   "outputs": [
    {
     "name": "stderr",
     "output_type": "stream",
     "text": [
      "C:\\Users\\Kirsch\\Anaconda3\\lib\\site-packages\\ipykernel_launcher.py:1: SettingWithCopyWarning: \n",
      "A value is trying to be set on a copy of a slice from a DataFrame.\n",
      "Try using .loc[row_indexer,col_indexer] = value instead\n",
      "\n",
      "See the caveats in the documentation: http://pandas.pydata.org/pandas-docs/stable/indexing.html#indexing-view-versus-copy\n",
      "  \"\"\"Entry point for launching an IPython kernel.\n"
     ]
    }
   ],
   "source": [
    "ld[\"date\"] = pd.to_datetime(df[\"Datefield\"]).dt.date"
   ]
  },
  {
   "cell_type": "code",
   "execution_count": 31,
   "metadata": {},
   "outputs": [
    {
     "name": "stderr",
     "output_type": "stream",
     "text": [
      "C:\\Users\\Kirsch\\Anaconda3\\lib\\site-packages\\ipykernel_launcher.py:1: SettingWithCopyWarning: \n",
      "A value is trying to be set on a copy of a slice from a DataFrame.\n",
      "Try using .loc[row_indexer,col_indexer] = value instead\n",
      "\n",
      "See the caveats in the documentation: http://pandas.pydata.org/pandas-docs/stable/indexing.html#indexing-view-versus-copy\n",
      "  \"\"\"Entry point for launching an IPython kernel.\n"
     ]
    }
   ],
   "source": [
    "ld[\"Month\"] = pd.to_datetime(df[\"Datefield\"]).dt.month"
   ]
  },
  {
   "cell_type": "code",
   "execution_count": 38,
   "metadata": {},
   "outputs": [],
   "source": [
    "ld1 = ld[ld[\"ProfileID\"] == 12020725]"
   ]
  },
  {
   "cell_type": "code",
   "execution_count": 39,
   "metadata": {},
   "outputs": [
    {
     "data": {
      "text/html": [
       "<div>\n",
       "<style scoped>\n",
       "    .dataframe tbody tr th:only-of-type {\n",
       "        vertical-align: middle;\n",
       "    }\n",
       "\n",
       "    .dataframe tbody tr th {\n",
       "        vertical-align: top;\n",
       "    }\n",
       "\n",
       "    .dataframe thead th {\n",
       "        text-align: right;\n",
       "    }\n",
       "</style>\n",
       "<table border=\"1\" class=\"dataframe\">\n",
       "  <thead>\n",
       "    <tr style=\"text-align: right;\">\n",
       "      <th></th>\n",
       "      <th>RecorderID</th>\n",
       "      <th>ProfileID</th>\n",
       "      <th>Datefield</th>\n",
       "      <th>Unitsread</th>\n",
       "      <th>Valid</th>\n",
       "      <th>date</th>\n",
       "      <th>Month</th>\n",
       "    </tr>\n",
       "  </thead>\n",
       "  <tbody>\n",
       "    <tr>\n",
       "      <th>1309065</th>\n",
       "      <td>HKY020</td>\n",
       "      <td>12020725</td>\n",
       "      <td>2012-11-01 00:00:00</td>\n",
       "      <td>0.0</td>\n",
       "      <td>1.0</td>\n",
       "      <td>2012-11-01</td>\n",
       "      <td>11</td>\n",
       "    </tr>\n",
       "    <tr>\n",
       "      <th>1309066</th>\n",
       "      <td>HKY020</td>\n",
       "      <td>12020725</td>\n",
       "      <td>2012-11-01 01:00:00</td>\n",
       "      <td>0.0</td>\n",
       "      <td>1.0</td>\n",
       "      <td>2012-11-01</td>\n",
       "      <td>11</td>\n",
       "    </tr>\n",
       "    <tr>\n",
       "      <th>1309067</th>\n",
       "      <td>HKY020</td>\n",
       "      <td>12020725</td>\n",
       "      <td>2012-11-01 02:00:00</td>\n",
       "      <td>0.0</td>\n",
       "      <td>1.0</td>\n",
       "      <td>2012-11-01</td>\n",
       "      <td>11</td>\n",
       "    </tr>\n",
       "    <tr>\n",
       "      <th>1309068</th>\n",
       "      <td>HKY020</td>\n",
       "      <td>12020725</td>\n",
       "      <td>2012-11-01 03:00:00</td>\n",
       "      <td>0.0</td>\n",
       "      <td>1.0</td>\n",
       "      <td>2012-11-01</td>\n",
       "      <td>11</td>\n",
       "    </tr>\n",
       "    <tr>\n",
       "      <th>1309069</th>\n",
       "      <td>HKY020</td>\n",
       "      <td>12020725</td>\n",
       "      <td>2012-11-01 04:00:00</td>\n",
       "      <td>0.0</td>\n",
       "      <td>1.0</td>\n",
       "      <td>2012-11-01</td>\n",
       "      <td>11</td>\n",
       "    </tr>\n",
       "  </tbody>\n",
       "</table>\n",
       "</div>"
      ],
      "text/plain": [
       "        RecorderID  ProfileID            Datefield  Unitsread  Valid  \\\n",
       "1309065     HKY020   12020725  2012-11-01 00:00:00        0.0    1.0   \n",
       "1309066     HKY020   12020725  2012-11-01 01:00:00        0.0    1.0   \n",
       "1309067     HKY020   12020725  2012-11-01 02:00:00        0.0    1.0   \n",
       "1309068     HKY020   12020725  2012-11-01 03:00:00        0.0    1.0   \n",
       "1309069     HKY020   12020725  2012-11-01 04:00:00        0.0    1.0   \n",
       "\n",
       "               date  Month  \n",
       "1309065  2012-11-01     11  \n",
       "1309066  2012-11-01     11  \n",
       "1309067  2012-11-01     11  \n",
       "1309068  2012-11-01     11  \n",
       "1309069  2012-11-01     11  "
      ]
     },
     "execution_count": 39,
     "metadata": {},
     "output_type": "execute_result"
    }
   ],
   "source": [
    "ld1.head()"
   ]
  },
  {
   "cell_type": "code",
   "execution_count": 40,
   "metadata": {},
   "outputs": [],
   "source": [
    "day = ld1.groupby(\"date\")['Unitsread'].apply(lambda x: len(x))\n"
   ]
  },
  {
   "cell_type": "code",
   "execution_count": 41,
   "metadata": {},
   "outputs": [
    {
     "data": {
      "text/plain": [
       "<matplotlib.axes._subplots.AxesSubplot at 0x1ebae59a358>"
      ]
     },
     "execution_count": 41,
     "metadata": {},
     "output_type": "execute_result"
    },
    {
     "data": {
      "image/png": "[encoded data removed]",
      "text/plain": [
       "<Figure size 432x288 with 1 Axes>"
      ]
     },
     "metadata": {
      "needs_background": "light"
     },
     "output_type": "display_data"
    }
   ],
   "source": [
    "day.hist(bins = 50)"
   ]
  },
  {
   "cell_type": "markdown",
   "metadata": {},
   "source": [
    "All days for this household have 24 entries - full days are missing not hours in a day"
   ]
  },
  {
   "cell_type": "code",
   "execution_count": 42,
   "metadata": {},
   "outputs": [
    {
     "data": {
      "text/html": [
       "<div>\n",
       "<style scoped>\n",
       "    .dataframe tbody tr th:only-of-type {\n",
       "        vertical-align: middle;\n",
       "    }\n",
       "\n",
       "    .dataframe tbody tr th {\n",
       "        vertical-align: top;\n",
       "    }\n",
       "\n",
       "    .dataframe thead th {\n",
       "        text-align: right;\n",
       "    }\n",
       "</style>\n",
       "<table border=\"1\" class=\"dataframe\">\n",
       "  <thead>\n",
       "    <tr style=\"text-align: right;\">\n",
       "      <th></th>\n",
       "      <th>RecorderID</th>\n",
       "      <th>ProfileID</th>\n",
       "      <th>Datefield</th>\n",
       "      <th>Unitsread</th>\n",
       "      <th>Valid</th>\n",
       "      <th>date</th>\n",
       "      <th>Month</th>\n",
       "    </tr>\n",
       "  </thead>\n",
       "  <tbody>\n",
       "    <tr>\n",
       "      <th>1309065</th>\n",
       "      <td>HKY020</td>\n",
       "      <td>12020725</td>\n",
       "      <td>2012-11-01 00:00:00</td>\n",
       "      <td>0.0</td>\n",
       "      <td>1.0</td>\n",
       "      <td>2012-11-01</td>\n",
       "      <td>11</td>\n",
       "    </tr>\n",
       "    <tr>\n",
       "      <th>1309066</th>\n",
       "      <td>HKY020</td>\n",
       "      <td>12020725</td>\n",
       "      <td>2012-11-01 01:00:00</td>\n",
       "      <td>0.0</td>\n",
       "      <td>1.0</td>\n",
       "      <td>2012-11-01</td>\n",
       "      <td>11</td>\n",
       "    </tr>\n",
       "    <tr>\n",
       "      <th>1309067</th>\n",
       "      <td>HKY020</td>\n",
       "      <td>12020725</td>\n",
       "      <td>2012-11-01 02:00:00</td>\n",
       "      <td>0.0</td>\n",
       "      <td>1.0</td>\n",
       "      <td>2012-11-01</td>\n",
       "      <td>11</td>\n",
       "    </tr>\n",
       "    <tr>\n",
       "      <th>1309068</th>\n",
       "      <td>HKY020</td>\n",
       "      <td>12020725</td>\n",
       "      <td>2012-11-01 03:00:00</td>\n",
       "      <td>0.0</td>\n",
       "      <td>1.0</td>\n",
       "      <td>2012-11-01</td>\n",
       "      <td>11</td>\n",
       "    </tr>\n",
       "    <tr>\n",
       "      <th>1309069</th>\n",
       "      <td>HKY020</td>\n",
       "      <td>12020725</td>\n",
       "      <td>2012-11-01 04:00:00</td>\n",
       "      <td>0.0</td>\n",
       "      <td>1.0</td>\n",
       "      <td>2012-11-01</td>\n",
       "      <td>11</td>\n",
       "    </tr>\n",
       "  </tbody>\n",
       "</table>\n",
       "</div>"
      ],
      "text/plain": [
       "        RecorderID  ProfileID            Datefield  Unitsread  Valid  \\\n",
       "1309065     HKY020   12020725  2012-11-01 00:00:00        0.0    1.0   \n",
       "1309066     HKY020   12020725  2012-11-01 01:00:00        0.0    1.0   \n",
       "1309067     HKY020   12020725  2012-11-01 02:00:00        0.0    1.0   \n",
       "1309068     HKY020   12020725  2012-11-01 03:00:00        0.0    1.0   \n",
       "1309069     HKY020   12020725  2012-11-01 04:00:00        0.0    1.0   \n",
       "\n",
       "               date  Month  \n",
       "1309065  2012-11-01     11  \n",
       "1309066  2012-11-01     11  \n",
       "1309067  2012-11-01     11  \n",
       "1309068  2012-11-01     11  \n",
       "1309069  2012-11-01     11  "
      ]
     },
     "execution_count": 42,
     "metadata": {},
     "output_type": "execute_result"
    }
   ],
   "source": [
    "ld1.head()\n"
   ]
  },
  {
   "cell_type": "code",
   "execution_count": 43,
   "metadata": {},
   "outputs": [
    {
     "data": {
      "text/plain": [
       "Month\n",
       "11    720\n",
       "12    744\n",
       "Name: Unitsread, dtype: int64"
      ]
     },
     "execution_count": 43,
     "metadata": {},
     "output_type": "execute_result"
    }
   ],
   "source": [
    "month = ld1.groupby(\"Month\")['Unitsread'].apply(lambda x: len(x))\n",
    "month.head()"
   ]
  }
 ],
 "metadata": {
  "kernelspec": {
   "display_name": "Python 3",
   "language": "python",
   "name": "python3"
  },
  "language_info": {
   "codemirror_mode": {
    "name": "ipython",
    "version": 3
   },
   "file_extension": ".py",
   "mimetype": "text/x-python",
   "name": "python",
   "nbconvert_exporter": "python",
   "pygments_lexer": "ipython3",
   "version": "3.7.3"
  }
 },
 "nbformat": 4,
 "nbformat_minor": 2
}
