{
 "cells": [
  {
   "cell_type": "code",
   "execution_count": 1,
   "metadata": {},
   "outputs": [],
   "source": [
    "import pandas as pd\n",
    "import numpy as np\n",
    "import matplotlib.pyplot as plt"
   ]
  },
  {
   "cell_type": "code",
   "execution_count": 2,
   "metadata": {},
   "outputs": [
    {
     "data": {
      "text/plain": [
       "Date_Time_Hour_Beginning            2021-03-01 16:00:002021-03-01 17:00:002021-03-...\n",
       "Thermal_Gen_Excl_Pumping_and_SCO                                           3.4925e+06\n",
       "Eskom_OCGT_SCO_Pumping                                                        -530.07\n",
       "Eskom_Gas_SCO_Pumping                                                            -336\n",
       "Hydro_Water_SCO_Pumping                                                             0\n",
       "Pumped_Water_SCO_Pumping                                                      -117837\n",
       "Thermal_Generation                                                         3.6112e+06\n",
       "Nuclear_Generation                                                             155877\n",
       "International_Imports                                                          188894\n",
       "Eskom_OCGT_Generation                                                               0\n",
       "Eskom_Gas_Generation                                                                0\n",
       "Dispatchable_IPP_OCGT                                                         1715.66\n",
       "Hydro_Water_Generation                                                          66040\n",
       "Pumped_Water_Generation                                                         80632\n",
       "IOS_Excl_ILS_and_MLR                                                          3929.52\n",
       "ILS_Usage                                                                         390\n",
       "Manual_Load_Reduction_MLR                                                           0\n",
       "Wind                                                                           141614\n",
       "PV                                                                             106897\n",
       "CSP                                                                           43060.5\n",
       "Other_RE                                                                       1914.6\n",
       "dtype: object"
      ]
     },
     "execution_count": 2,
     "metadata": {},
     "output_type": "execute_result"
    }
   ],
   "source": [
    "df = pd.read_csv(\"../Data/Station_Build_Up (1).csv\")\n",
    "df.sum()"
   ]
  },
  {
   "cell_type": "markdown",
   "metadata": {},
   "source": [
    "We keep thermal generation, nuclear generation, international imports, IPP OCGT, Hydro water, pumped water, Wind, PV, CSP, Other RE. International imports is mainly crude oil"
   ]
  },
  {
   "cell_type": "code",
   "execution_count": 3,
   "metadata": {},
   "outputs": [],
   "source": [
    "#Look only at energy generation emissions rather than LCA\n",
    "\n",
    "energy_sources = {\n",
    "    'Thermal_Generation' : 955, #Value for coal, main thermal resource in South Africa\n",
    "    'Nuclear_Generation' : 0, #\n",
    "    'International_Imports' : 893, #Crude oil, most of the imports \n",
    "    'Hydro_Water_Generation' : 0,\n",
    "    'Pumped_Water_Generation' : 0, \n",
    "    'Wind' : 0,\n",
    "    'PV' : 0,\n",
    "    'CSP' : 0, \n",
    "    'Other_RE' :0 \n",
    "}\n",
    "\n",
    "#So only thermal and imports have carbon intensity"
   ]
  },
  {
   "cell_type": "code",
   "execution_count": 4,
   "metadata": {},
   "outputs": [],
   "source": [
    "df.index = df[\"Date_Time_Hour_Beginning\"]\n",
    "df.drop(['Date_Time_Hour_Beginning','Thermal_Gen_Excl_Pumping_and_SCO',\n",
    "       'Eskom_OCGT_SCO_Pumping', 'Eskom_Gas_SCO_Pumping',\n",
    "       'Hydro_Water_SCO_Pumping', 'Pumped_Water_SCO_Pumping',\n",
    "       'IOS_Excl_ILS_and_MLR', 'ILS_Usage',\n",
    "       'Manual_Load_Reduction_MLR', 'Eskom_OCGT_Generation', 'Eskom_Gas_Generation',\n",
    "       'Dispatchable_IPP_OCGT'], axis = 1, inplace = True)\n",
    "\n",
    "\n",
    "df1 = df.divide(df.sum(axis = 1), axis=0)"
   ]
  },
  {
   "cell_type": "code",
   "execution_count": 5,
   "metadata": {},
   "outputs": [
    {
     "data": {
      "text/html": [
       "<div>\n",
       "<style scoped>\n",
       "    .dataframe tbody tr th:only-of-type {\n",
       "        vertical-align: middle;\n",
       "    }\n",
       "\n",
       "    .dataframe tbody tr th {\n",
       "        vertical-align: top;\n",
       "    }\n",
       "\n",
       "    .dataframe thead th {\n",
       "        text-align: right;\n",
       "    }\n",
       "</style>\n",
       "<table border=\"1\" class=\"dataframe\">\n",
       "  <thead>\n",
       "    <tr style=\"text-align: right;\">\n",
       "      <th></th>\n",
       "      <th>Thermal_Generation</th>\n",
       "      <th>Nuclear_Generation</th>\n",
       "      <th>International_Imports</th>\n",
       "      <th>Hydro_Water_Generation</th>\n",
       "      <th>Pumped_Water_Generation</th>\n",
       "      <th>Wind</th>\n",
       "      <th>PV</th>\n",
       "      <th>CSP</th>\n",
       "      <th>Other_RE</th>\n",
       "    </tr>\n",
       "    <tr>\n",
       "      <th>Date_Time_Hour_Beginning</th>\n",
       "      <th></th>\n",
       "      <th></th>\n",
       "      <th></th>\n",
       "      <th></th>\n",
       "      <th></th>\n",
       "      <th></th>\n",
       "      <th></th>\n",
       "      <th></th>\n",
       "      <th></th>\n",
       "    </tr>\n",
       "  </thead>\n",
       "  <tbody>\n",
       "    <tr>\n",
       "      <th>2021-03-01 16:00:00</th>\n",
       "      <td>0.783863</td>\n",
       "      <td>0.033274</td>\n",
       "      <td>0.041404</td>\n",
       "      <td>0.021597</td>\n",
       "      <td>0.034491</td>\n",
       "      <td>0.035687</td>\n",
       "      <td>0.036964</td>\n",
       "      <td>0.012259</td>\n",
       "      <td>0.000460</td>\n",
       "    </tr>\n",
       "    <tr>\n",
       "      <th>2021-03-01 17:00:00</th>\n",
       "      <td>0.804688</td>\n",
       "      <td>0.032909</td>\n",
       "      <td>0.041233</td>\n",
       "      <td>0.021361</td>\n",
       "      <td>0.026674</td>\n",
       "      <td>0.037260</td>\n",
       "      <td>0.023519</td>\n",
       "      <td>0.011918</td>\n",
       "      <td>0.000439</td>\n",
       "    </tr>\n",
       "    <tr>\n",
       "      <th>2021-03-01 18:00:00</th>\n",
       "      <td>0.823158</td>\n",
       "      <td>0.032656</td>\n",
       "      <td>0.040292</td>\n",
       "      <td>0.021219</td>\n",
       "      <td>0.032691</td>\n",
       "      <td>0.035097</td>\n",
       "      <td>0.003376</td>\n",
       "      <td>0.011079</td>\n",
       "      <td>0.000431</td>\n",
       "    </tr>\n",
       "    <tr>\n",
       "      <th>2021-03-01 19:00:00</th>\n",
       "      <td>0.804551</td>\n",
       "      <td>0.031843</td>\n",
       "      <td>0.038322</td>\n",
       "      <td>0.020669</td>\n",
       "      <td>0.061939</td>\n",
       "      <td>0.031329</td>\n",
       "      <td>0.000006</td>\n",
       "      <td>0.010902</td>\n",
       "      <td>0.000439</td>\n",
       "    </tr>\n",
       "    <tr>\n",
       "      <th>2021-03-01 20:00:00</th>\n",
       "      <td>0.844195</td>\n",
       "      <td>0.033226</td>\n",
       "      <td>0.039657</td>\n",
       "      <td>0.021400</td>\n",
       "      <td>0.021150</td>\n",
       "      <td>0.028905</td>\n",
       "      <td>0.000000</td>\n",
       "      <td>0.011006</td>\n",
       "      <td>0.000461</td>\n",
       "    </tr>\n",
       "  </tbody>\n",
       "</table>\n",
       "</div>"
      ],
      "text/plain": [
       "                          Thermal_Generation  Nuclear_Generation  \\\n",
       "Date_Time_Hour_Beginning                                           \n",
       "2021-03-01 16:00:00                 0.783863            0.033274   \n",
       "2021-03-01 17:00:00                 0.804688            0.032909   \n",
       "2021-03-01 18:00:00                 0.823158            0.032656   \n",
       "2021-03-01 19:00:00                 0.804551            0.031843   \n",
       "2021-03-01 20:00:00                 0.844195            0.033226   \n",
       "\n",
       "                          International_Imports  Hydro_Water_Generation  \\\n",
       "Date_Time_Hour_Beginning                                                  \n",
       "2021-03-01 16:00:00                    0.041404                0.021597   \n",
       "2021-03-01 17:00:00                    0.041233                0.021361   \n",
       "2021-03-01 18:00:00                    0.040292                0.021219   \n",
       "2021-03-01 19:00:00                    0.038322                0.020669   \n",
       "2021-03-01 20:00:00                    0.039657                0.021400   \n",
       "\n",
       "                          Pumped_Water_Generation      Wind        PV  \\\n",
       "Date_Time_Hour_Beginning                                                \n",
       "2021-03-01 16:00:00                      0.034491  0.035687  0.036964   \n",
       "2021-03-01 17:00:00                      0.026674  0.037260  0.023519   \n",
       "2021-03-01 18:00:00                      0.032691  0.035097  0.003376   \n",
       "2021-03-01 19:00:00                      0.061939  0.031329  0.000006   \n",
       "2021-03-01 20:00:00                      0.021150  0.028905  0.000000   \n",
       "\n",
       "                               CSP  Other_RE  \n",
       "Date_Time_Hour_Beginning                      \n",
       "2021-03-01 16:00:00       0.012259  0.000460  \n",
       "2021-03-01 17:00:00       0.011918  0.000439  \n",
       "2021-03-01 18:00:00       0.011079  0.000431  \n",
       "2021-03-01 19:00:00       0.010902  0.000439  \n",
       "2021-03-01 20:00:00       0.011006  0.000461  "
      ]
     },
     "execution_count": 5,
     "metadata": {},
     "output_type": "execute_result"
    }
   ],
   "source": [
    "df1.head()"
   ]
  },
  {
   "cell_type": "code",
   "execution_count": 6,
   "metadata": {},
   "outputs": [
    {
     "name": "stderr",
     "output_type": "stream",
     "text": [
      "C:\\Users\\Kirsch\\Anaconda3\\lib\\site-packages\\pandas\\core\\frame.py:6692: FutureWarning: Sorting because non-concatenation axis is not aligned. A future version\n",
      "of pandas will change to not sort by default.\n",
      "\n",
      "To accept the future behavior, pass 'sort=False'.\n",
      "\n",
      "To retain the current behavior and silence the warning, pass 'sort=True'.\n",
      "\n",
      "  sort=sort)\n"
     ]
    }
   ],
   "source": [
    "therm = df1[\"Thermal_Generation\"].to_frame()\n",
    "therm[\"Energy_Source\"] = \"Thermal_Generation\"\n",
    "therm.rename(columns={0:'Energy generation (%)'}, inplace=True)\n",
    "therm.drop(therm.tail(1).index,inplace=True)\n",
    "therm.tail()\n",
    "\n",
    "nuc = df1[\"Nuclear_Generation\"].to_frame()\n",
    "nuc[\"Energy_Source\"] = \"Nuclear_Generation\"\n",
    "nuc.rename(columns={\"Nuclear_Generation\":'Energy generation (%)'}, inplace=True)\n",
    "\n",
    "inte = df1[\"International_Imports\"].to_frame()\n",
    "inte[\"Energy_Source\"] = \"International_Imports\"\n",
    "inte.rename(columns={\"International_Imports\":'Energy generation (%)'}, inplace=True)\n",
    "\n",
    "hydro = df1[\"Hydro_Water_Generation\"].to_frame()\n",
    "hydro[\"Energy_Source\"] = \"Hydro_Water_Generation\"\n",
    "hydro.rename(columns={\"Hydro_Water_Generation\":'Energy generation (%)'}, inplace=True)\n",
    "\n",
    "wat = df1[\"Pumped_Water_Generation\"].to_frame()\n",
    "wat[\"Energy_Source\"] = \"Pumped_Water_Generation\"\n",
    "wat.rename(columns={\"Pumped_Water_Generation\":'Energy generation (%)'}, inplace=True)\n",
    "\n",
    "wind = df1[\"Wind\"].to_frame()\n",
    "wind[\"Energy_Source\"] = \"Wind\"\n",
    "wind.rename(columns={\"Wind\":'Energy generation (%)'}, inplace=True)\n",
    "\n",
    "pv = df1[\"PV\"].to_frame()\n",
    "pv[\"Energy_Source\"] = \"PV\"\n",
    "pv.rename(columns={\"PV\":'Energy generation (%)'}, inplace=True)\n",
    "\n",
    "csp = df1[\"CSP\"].to_frame()\n",
    "csp[\"Energy_Source\"] = \"CSP\"\n",
    "csp.rename(columns={\"CSP\":'Energy generation (%)'}, inplace=True)\n",
    "\n",
    "ore = df1[\"Other_RE\"].to_frame()\n",
    "ore[\"Energy_Source\"] = \"Other_RE\"\n",
    "ore.rename(columns={\"Other_RE\":'Energy generation (%)'}, inplace=True)\n",
    "\n",
    "\n",
    "gene_sa = therm.append(nuc).append(inte).append(hydro).append(wat).append(wind).append(pv).append(csp).append(ore)"
   ]
  },
  {
   "cell_type": "code",
   "execution_count": 26,
   "metadata": {},
   "outputs": [
    {
     "data": {
      "text/plain": [
       "Index(['2021-03-01 16:00:00', '2021-03-01 17:00:00', '2021-03-01 18:00:00',\n",
       "       '2021-03-01 19:00:00', '2021-03-01 20:00:00', '2021-03-01 21:00:00',\n",
       "       '2021-03-01 22:00:00', '2021-03-01 23:00:00', '2021-03-02 00:00:00',\n",
       "       '2021-03-02 01:00:00',\n",
       "       ...\n",
       "       '2021-02-27 09:00:00', '2021-02-27 10:00:00', '2021-02-27 11:00:00',\n",
       "       '2021-02-27 12:00:00', '2021-03-01 10:00:00', '2021-03-01 11:00:00',\n",
       "       '2021-03-01 12:00:00', '2021-03-01 13:00:00', '2021-03-01 14:00:00',\n",
       "       '2021-03-01 15:00:00'],\n",
       "      dtype='object', name='Date_Time_Hour_Beginning', length=1511)"
      ]
     },
     "execution_count": 26,
     "metadata": {},
     "output_type": "execute_result"
    }
   ],
   "source": [
    "gene_sa['Technology_Intensity'] = gene_sa['Energy_Source'].map(energy_sources)\n",
    "gene_sa['Emission_Intensity'] = gene_sa['Technology_Intensity']*gene_sa['Thermal_Generation']\n",
    "gene_sa.index\n"
   ]
  },
  {
   "cell_type": "code",
   "execution_count": 25,
   "metadata": {},
   "outputs": [
    {
     "name": "stdout",
     "output_type": "stream",
     "text": [
      "168\n"
     ]
    },
    {
     "data": {
      "text/plain": [
       "168"
      ]
     },
     "execution_count": 25,
     "metadata": {},
     "output_type": "execute_result"
    },
    {
     "data": {
      "image/png": "[encoded data removed]",
      "text/plain": [
       "<Figure size 432x288 with 1 Axes>"
      ]
     },
     "metadata": {
      "needs_background": "light"
     },
     "output_type": "display_data"
    }
   ],
   "source": [
    "c_int = gene_sa.groupby(gene_sa.index)[\"Emission_Intensity\"].apply(lambda x: np.sum(x)).to_frame()\n",
    "print(len(c_int))\n",
    "c_int.index = pd.to_datetime(c_int.index)\n",
    "c_int[\"Weekday\"] = c_int.index.weekday \n",
    "c_int[\"Hour\"] = c_int.index.hour\n",
    "c_int.head()\n",
    "c_int.set_index(['Weekday', 'Hour'], inplace=True)\n",
    "c_int.sort_index(ascending=True, inplace = True)\n",
    "c_int.to_csv(\"../Data/SA_carbon_intensity.csv\")\n",
    "\n",
    "\n",
    "#Plot the carbon intensity evolution over a week \n",
    "c_int.plot(legend=None, color = \"C1\")\n",
    "plt.title(\"Carbon intensity of South Africa energy generation for a mean week\")\n",
    "plt.xlabel(\"Weekday,Hour\")\n",
    "plt.ylabel(\"Carbon Intensity (gCO2/KWH)\")\n",
    "plt.savefig(\"carbonint_SA.png\")\n",
    "\n",
    "len(c_int)"
   ]
  }
 ],
 "metadata": {
  "kernelspec": {
   "display_name": "Python 3",
   "language": "python",
   "name": "python3"
  },
  "language_info": {
   "codemirror_mode": {
    "name": "ipython",
    "version": 3
   },
   "file_extension": ".py",
   "mimetype": "text/x-python",
   "name": "python",
   "nbconvert_exporter": "python",
   "pygments_lexer": "ipython3",
   "version": "3.7.3"
  }
 },
 "nbformat": 4,
 "nbformat_minor": 2
}
