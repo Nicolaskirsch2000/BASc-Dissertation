{
 "cells": [
  {
   "cell_type": "markdown",
   "metadata": {},
   "source": [
    "# EDA and Plots"
   ]
  },
  {
   "cell_type": "code",
   "execution_count": 1,
   "metadata": {},
   "outputs": [],
   "source": [
    "%matplotlib inline\n",
    "\n",
    "import pandas as pd\n",
    "import numpy as np\n",
    "import matplotlib.pyplot as plt\n",
    "import seaborn as sns"
   ]
  },
  {
   "cell_type": "code",
   "execution_count": 2,
   "metadata": {},
   "outputs": [],
   "source": [
    "sa = pd.read_csv(r\"..\\Data\\SAdata\\SA_revised.csv\")\n",
    "uk = pd.read_csv(\"../Data/Londondata/revised.csv\")"
   ]
  },
  {
   "cell_type": "code",
   "execution_count": 3,
   "metadata": {},
   "outputs": [],
   "source": [
    "sa[\"Country\"] = \"South Africa\"\n",
    "sa[\"Unitsread\"] = (sa[\"Unitsread\"]*220)/1000\n",
    "uk[\"Country\"] = \"United Kingdom\""
   ]
  },
  {
   "cell_type": "code",
   "execution_count": 4,
   "metadata": {},
   "outputs": [
    {
     "data": {
      "text/html": [
       "<div>\n",
       "<style scoped>\n",
       "    .dataframe tbody tr th:only-of-type {\n",
       "        vertical-align: middle;\n",
       "    }\n",
       "\n",
       "    .dataframe tbody tr th {\n",
       "        vertical-align: top;\n",
       "    }\n",
       "\n",
       "    .dataframe thead th {\n",
       "        text-align: right;\n",
       "    }\n",
       "</style>\n",
       "<table border=\"1\" class=\"dataframe\">\n",
       "  <thead>\n",
       "    <tr style=\"text-align: right;\">\n",
       "      <th></th>\n",
       "      <th>Unnamed: 0</th>\n",
       "      <th>RecorderID</th>\n",
       "      <th>ProfileID</th>\n",
       "      <th>Datefield</th>\n",
       "      <th>Unitsread</th>\n",
       "      <th>Valid</th>\n",
       "      <th>Country</th>\n",
       "    </tr>\n",
       "  </thead>\n",
       "  <tbody>\n",
       "    <tr>\n",
       "      <th>0</th>\n",
       "      <td>0</td>\n",
       "      <td>BTW001</td>\n",
       "      <td>12019685</td>\n",
       "      <td>2013-01-01 00:00:00</td>\n",
       "      <td>0.176</td>\n",
       "      <td>1.0</td>\n",
       "      <td>South Africa</td>\n",
       "    </tr>\n",
       "    <tr>\n",
       "      <th>1</th>\n",
       "      <td>1</td>\n",
       "      <td>BTW001</td>\n",
       "      <td>12019685</td>\n",
       "      <td>2013-01-01 01:00:00</td>\n",
       "      <td>0.176</td>\n",
       "      <td>1.0</td>\n",
       "      <td>South Africa</td>\n",
       "    </tr>\n",
       "    <tr>\n",
       "      <th>2</th>\n",
       "      <td>2</td>\n",
       "      <td>BTW001</td>\n",
       "      <td>12019685</td>\n",
       "      <td>2013-01-01 02:00:00</td>\n",
       "      <td>0.176</td>\n",
       "      <td>1.0</td>\n",
       "      <td>South Africa</td>\n",
       "    </tr>\n",
       "    <tr>\n",
       "      <th>3</th>\n",
       "      <td>3</td>\n",
       "      <td>BTW001</td>\n",
       "      <td>12019685</td>\n",
       "      <td>2013-01-01 03:00:00</td>\n",
       "      <td>0.176</td>\n",
       "      <td>1.0</td>\n",
       "      <td>South Africa</td>\n",
       "    </tr>\n",
       "    <tr>\n",
       "      <th>4</th>\n",
       "      <td>4</td>\n",
       "      <td>BTW001</td>\n",
       "      <td>12019685</td>\n",
       "      <td>2013-01-01 04:00:00</td>\n",
       "      <td>0.176</td>\n",
       "      <td>1.0</td>\n",
       "      <td>South Africa</td>\n",
       "    </tr>\n",
       "  </tbody>\n",
       "</table>\n",
       "</div>"
      ],
      "text/plain": [
       "   Unnamed: 0 RecorderID  ProfileID            Datefield  Unitsread  Valid  \\\n",
       "0           0     BTW001   12019685  2013-01-01 00:00:00      0.176    1.0   \n",
       "1           1     BTW001   12019685  2013-01-01 01:00:00      0.176    1.0   \n",
       "2           2     BTW001   12019685  2013-01-01 02:00:00      0.176    1.0   \n",
       "3           3     BTW001   12019685  2013-01-01 03:00:00      0.176    1.0   \n",
       "4           4     BTW001   12019685  2013-01-01 04:00:00      0.176    1.0   \n",
       "\n",
       "        Country  \n",
       "0  South Africa  \n",
       "1  South Africa  \n",
       "2  South Africa  \n",
       "3  South Africa  \n",
       "4  South Africa  "
      ]
     },
     "execution_count": 4,
     "metadata": {},
     "output_type": "execute_result"
    }
   ],
   "source": [
    "sa.head()"
   ]
  },
  {
   "cell_type": "code",
   "execution_count": 5,
   "metadata": {},
   "outputs": [
    {
     "data": {
      "text/html": [
       "<div>\n",
       "<style scoped>\n",
       "    .dataframe tbody tr th:only-of-type {\n",
       "        vertical-align: middle;\n",
       "    }\n",
       "\n",
       "    .dataframe tbody tr th {\n",
       "        vertical-align: top;\n",
       "    }\n",
       "\n",
       "    .dataframe thead th {\n",
       "        text-align: right;\n",
       "    }\n",
       "</style>\n",
       "<table border=\"1\" class=\"dataframe\">\n",
       "  <thead>\n",
       "    <tr style=\"text-align: right;\">\n",
       "      <th></th>\n",
       "      <th>DateTime</th>\n",
       "      <th>Acorn</th>\n",
       "      <th>Acorn_grouped</th>\n",
       "      <th>KWH/hh (per half hour)</th>\n",
       "      <th>LCLid</th>\n",
       "      <th>stdorToU</th>\n",
       "      <th>year</th>\n",
       "      <th>Country</th>\n",
       "    </tr>\n",
       "  </thead>\n",
       "  <tbody>\n",
       "    <tr>\n",
       "      <th>0</th>\n",
       "      <td>2013-01-01 00:00:00</td>\n",
       "      <td>ACORN-A</td>\n",
       "      <td>Affluent</td>\n",
       "      <td>0.460</td>\n",
       "      <td>MAC000002</td>\n",
       "      <td>Std</td>\n",
       "      <td>2013</td>\n",
       "      <td>United Kingdom</td>\n",
       "    </tr>\n",
       "    <tr>\n",
       "      <th>1</th>\n",
       "      <td>2013-01-01 01:00:00</td>\n",
       "      <td>ACORN-A</td>\n",
       "      <td>Affluent</td>\n",
       "      <td>0.426</td>\n",
       "      <td>MAC000002</td>\n",
       "      <td>Std</td>\n",
       "      <td>2013</td>\n",
       "      <td>United Kingdom</td>\n",
       "    </tr>\n",
       "    <tr>\n",
       "      <th>2</th>\n",
       "      <td>2013-01-01 02:00:00</td>\n",
       "      <td>ACORN-A</td>\n",
       "      <td>Affluent</td>\n",
       "      <td>0.411</td>\n",
       "      <td>MAC000002</td>\n",
       "      <td>Std</td>\n",
       "      <td>2013</td>\n",
       "      <td>United Kingdom</td>\n",
       "    </tr>\n",
       "    <tr>\n",
       "      <th>3</th>\n",
       "      <td>2013-01-01 03:00:00</td>\n",
       "      <td>ACORN-A</td>\n",
       "      <td>Affluent</td>\n",
       "      <td>0.395</td>\n",
       "      <td>MAC000002</td>\n",
       "      <td>Std</td>\n",
       "      <td>2013</td>\n",
       "      <td>United Kingdom</td>\n",
       "    </tr>\n",
       "    <tr>\n",
       "      <th>4</th>\n",
       "      <td>2013-01-01 04:00:00</td>\n",
       "      <td>ACORN-A</td>\n",
       "      <td>Affluent</td>\n",
       "      <td>0.221</td>\n",
       "      <td>MAC000002</td>\n",
       "      <td>Std</td>\n",
       "      <td>2013</td>\n",
       "      <td>United Kingdom</td>\n",
       "    </tr>\n",
       "  </tbody>\n",
       "</table>\n",
       "</div>"
      ],
      "text/plain": [
       "              DateTime    Acorn Acorn_grouped  KWH/hh (per half hour)   \\\n",
       "0  2013-01-01 00:00:00  ACORN-A      Affluent                    0.460   \n",
       "1  2013-01-01 01:00:00  ACORN-A      Affluent                    0.426   \n",
       "2  2013-01-01 02:00:00  ACORN-A      Affluent                    0.411   \n",
       "3  2013-01-01 03:00:00  ACORN-A      Affluent                    0.395   \n",
       "4  2013-01-01 04:00:00  ACORN-A      Affluent                    0.221   \n",
       "\n",
       "       LCLid stdorToU  year         Country  \n",
       "0  MAC000002      Std  2013  United Kingdom  \n",
       "1  MAC000002      Std  2013  United Kingdom  \n",
       "2  MAC000002      Std  2013  United Kingdom  \n",
       "3  MAC000002      Std  2013  United Kingdom  \n",
       "4  MAC000002      Std  2013  United Kingdom  "
      ]
     },
     "execution_count": 5,
     "metadata": {},
     "output_type": "execute_result"
    }
   ],
   "source": [
    "uk.head()"
   ]
  },
  {
   "cell_type": "code",
   "execution_count": 6,
   "metadata": {},
   "outputs": [
    {
     "data": {
      "text/plain": [
       "1261440"
      ]
     },
     "execution_count": 6,
     "metadata": {},
     "output_type": "execute_result"
    }
   ],
   "source": [
    "sa_plot = sa.drop(sa.columns[[0,1,5]], axis=1)\n",
    "\n",
    "sa_plot.rename(columns = {'Unitsread':'KWh', 'Country':'Countries'}, inplace = True)\n",
    "\n",
    "uk_plot = uk.drop(uk.columns[[1,2,5,6]], axis = 1)\n",
    "\n",
    "uk_plot.rename(columns = {\"KWH/hh (per half hour) \":'KWh', 'Country':'Countries'}, inplace = True) \n",
    "\n",
    "uk_plot.head()\n",
    "sa_plot.head()\n",
    "len(uk_plot)\n",
    "\n",
    "\n"
   ]
  },
  {
   "cell_type": "code",
   "execution_count": 7,
   "metadata": {},
   "outputs": [
    {
     "data": {
      "text/plain": [
       "0.12474433567536608"
      ]
     },
     "execution_count": 7,
     "metadata": {},
     "output_type": "execute_result"
    }
   ],
   "source": [
    "uk_plot = uk_plot.dropna()\n",
    "sa_plot = sa_plot.dropna()\n",
    "\n",
    "uk_plot.head()\n",
    "\n",
    "len(sa_plot[sa_plot[\"KWh\"] == 0 ])/len(sa_plot)"
   ]
  },
  {
   "cell_type": "code",
   "execution_count": 8,
   "metadata": {},
   "outputs": [
    {
     "data": {
      "image/png": "[encoded data removed]",
      "text/plain": [
       "<Figure size 432x288 with 1 Axes>"
      ]
     },
     "metadata": {
      "needs_background": "light"
     },
     "output_type": "display_data"
    }
   ],
   "source": [
    "sns.distplot(uk_plot.iloc[:,1],hist = False, norm_hist = False, label = \"UK\")\n",
    "sns.distplot(sa_plot.iloc[:,2], hist = False, norm_hist = False, label = \"South Africa\")\n",
    "plt.title(\"Distribution of hourly smart meter data in the UK and in South Africa\")\n",
    "plt.xlabel(\"KWh consumed in an hour\")\n",
    "plt.savefig(\"Plots/Distributions.png\")\n",
    "plt.show()\n"
   ]
  },
  {
   "cell_type": "code",
   "execution_count": 9,
   "metadata": {},
   "outputs": [
    {
     "data": {
      "image/png": "[encoded data removed]",
      "text/plain": [
       "<Figure size 432x288 with 1 Axes>"
      ]
     },
     "metadata": {
      "needs_background": "light"
     },
     "output_type": "display_data"
    }
   ],
   "source": [
    "sns.distplot(uk_plot.iloc[:,1],hist = False, norm_hist = False, label = \"UK\")\n",
    "sns.distplot(sa_plot.iloc[:,2], hist = False, norm_hist = False, label = \"South Africa\")\n",
    "plt.xlim(0,2)\n",
    "plt.title(\"Distribution of hourly smart meter data in the UK and in South Africa \\n Zoom on the 0 to 2 kWh Region\")\n",
    "plt.xlabel(\"KWh consumed in an hour\")\n",
    "plt.savefig(\"Plots/Distributions_0_to_2.png\")\n",
    "plt.show()"
   ]
  },
  {
   "cell_type": "code",
   "execution_count": 10,
   "metadata": {},
   "outputs": [
    {
     "data": {
      "text/html": [
       "<div>\n",
       "<style scoped>\n",
       "    .dataframe tbody tr th:only-of-type {\n",
       "        vertical-align: middle;\n",
       "    }\n",
       "\n",
       "    .dataframe tbody tr th {\n",
       "        vertical-align: top;\n",
       "    }\n",
       "\n",
       "    .dataframe thead th {\n",
       "        text-align: right;\n",
       "    }\n",
       "</style>\n",
       "<table border=\"1\" class=\"dataframe\">\n",
       "  <thead>\n",
       "    <tr style=\"text-align: right;\">\n",
       "      <th></th>\n",
       "      <th>KWh</th>\n",
       "      <th>LCLid</th>\n",
       "      <th>Countries</th>\n",
       "    </tr>\n",
       "    <tr>\n",
       "      <th>DateTime</th>\n",
       "      <th></th>\n",
       "      <th></th>\n",
       "      <th></th>\n",
       "    </tr>\n",
       "  </thead>\n",
       "  <tbody>\n",
       "    <tr>\n",
       "      <th>2013-01-01 00:00:00</th>\n",
       "      <td>0.460</td>\n",
       "      <td>MAC000002</td>\n",
       "      <td>United Kingdom</td>\n",
       "    </tr>\n",
       "    <tr>\n",
       "      <th>2013-01-01 01:00:00</th>\n",
       "      <td>0.426</td>\n",
       "      <td>MAC000002</td>\n",
       "      <td>United Kingdom</td>\n",
       "    </tr>\n",
       "    <tr>\n",
       "      <th>2013-01-01 02:00:00</th>\n",
       "      <td>0.411</td>\n",
       "      <td>MAC000002</td>\n",
       "      <td>United Kingdom</td>\n",
       "    </tr>\n",
       "    <tr>\n",
       "      <th>2013-01-01 03:00:00</th>\n",
       "      <td>0.395</td>\n",
       "      <td>MAC000002</td>\n",
       "      <td>United Kingdom</td>\n",
       "    </tr>\n",
       "    <tr>\n",
       "      <th>2013-01-01 04:00:00</th>\n",
       "      <td>0.221</td>\n",
       "      <td>MAC000002</td>\n",
       "      <td>United Kingdom</td>\n",
       "    </tr>\n",
       "  </tbody>\n",
       "</table>\n",
       "</div>"
      ],
      "text/plain": [
       "                       KWh      LCLid       Countries\n",
       "DateTime                                             \n",
       "2013-01-01 00:00:00  0.460  MAC000002  United Kingdom\n",
       "2013-01-01 01:00:00  0.426  MAC000002  United Kingdom\n",
       "2013-01-01 02:00:00  0.411  MAC000002  United Kingdom\n",
       "2013-01-01 03:00:00  0.395  MAC000002  United Kingdom\n",
       "2013-01-01 04:00:00  0.221  MAC000002  United Kingdom"
      ]
     },
     "execution_count": 10,
     "metadata": {},
     "output_type": "execute_result"
    }
   ],
   "source": [
    "uk_plot1 = uk_plot\n",
    "uk_plot1.index= pd.DatetimeIndex(uk_plot[\"DateTime\"])\n",
    "uk_plot1 = uk_plot1.drop([\"DateTime\"], axis = 1)\n",
    "uk_plot1.head()\n"
   ]
  },
  {
   "cell_type": "code",
   "execution_count": 11,
   "metadata": {},
   "outputs": [
    {
     "data": {
      "text/html": [
       "<div>\n",
       "<style scoped>\n",
       "    .dataframe tbody tr th:only-of-type {\n",
       "        vertical-align: middle;\n",
       "    }\n",
       "\n",
       "    .dataframe tbody tr th {\n",
       "        vertical-align: top;\n",
       "    }\n",
       "\n",
       "    .dataframe thead th {\n",
       "        text-align: right;\n",
       "    }\n",
       "</style>\n",
       "<table border=\"1\" class=\"dataframe\">\n",
       "  <thead>\n",
       "    <tr style=\"text-align: right;\">\n",
       "      <th></th>\n",
       "      <th>ProfileID</th>\n",
       "      <th>KWh</th>\n",
       "      <th>Countries</th>\n",
       "    </tr>\n",
       "    <tr>\n",
       "      <th>Datefield</th>\n",
       "      <th></th>\n",
       "      <th></th>\n",
       "      <th></th>\n",
       "    </tr>\n",
       "  </thead>\n",
       "  <tbody>\n",
       "    <tr>\n",
       "      <th>2013-01-01 00:00:00</th>\n",
       "      <td>12019685</td>\n",
       "      <td>0.176</td>\n",
       "      <td>South Africa</td>\n",
       "    </tr>\n",
       "    <tr>\n",
       "      <th>2013-01-01 01:00:00</th>\n",
       "      <td>12019685</td>\n",
       "      <td>0.176</td>\n",
       "      <td>South Africa</td>\n",
       "    </tr>\n",
       "    <tr>\n",
       "      <th>2013-01-01 02:00:00</th>\n",
       "      <td>12019685</td>\n",
       "      <td>0.176</td>\n",
       "      <td>South Africa</td>\n",
       "    </tr>\n",
       "    <tr>\n",
       "      <th>2013-01-01 03:00:00</th>\n",
       "      <td>12019685</td>\n",
       "      <td>0.176</td>\n",
       "      <td>South Africa</td>\n",
       "    </tr>\n",
       "    <tr>\n",
       "      <th>2013-01-01 04:00:00</th>\n",
       "      <td>12019685</td>\n",
       "      <td>0.176</td>\n",
       "      <td>South Africa</td>\n",
       "    </tr>\n",
       "  </tbody>\n",
       "</table>\n",
       "</div>"
      ],
      "text/plain": [
       "                     ProfileID    KWh     Countries\n",
       "Datefield                                          \n",
       "2013-01-01 00:00:00   12019685  0.176  South Africa\n",
       "2013-01-01 01:00:00   12019685  0.176  South Africa\n",
       "2013-01-01 02:00:00   12019685  0.176  South Africa\n",
       "2013-01-01 03:00:00   12019685  0.176  South Africa\n",
       "2013-01-01 04:00:00   12019685  0.176  South Africa"
      ]
     },
     "execution_count": 11,
     "metadata": {},
     "output_type": "execute_result"
    }
   ],
   "source": [
    "sa_plot1 = sa_plot\n",
    "sa_plot1.index= pd.DatetimeIndex(sa_plot[\"Datefield\"])\n",
    "sa_plot1 = sa_plot1.drop([\"Datefield\"], axis = 1)\n",
    "sa_plot1.head()"
   ]
  },
  {
   "cell_type": "code",
   "execution_count": 12,
   "metadata": {},
   "outputs": [],
   "source": [
    "groups = uk_plot1.groupby(\"LCLid\").apply(lambda x: len(x))\n",
    "ind = groups.index\n",
    "\n",
    "uk_day = uk_plot1[uk_plot1[\"LCLid\"] == ind[0]]\n",
    "uk_days = uk_day.resample('D').apply(lambda x: x.values.sum())\n",
    "uk_days[\"LCLid\"] = uk_day[\"LCLid\"]\n",
    "uk_days[\"Countries\"] = uk_day[\"Countries\"]\n",
    "\n",
    "\n",
    "\n",
    "for i in range(1, len(ind)):\n",
    "    uk_day1 = uk_plot1[uk_plot1[\"LCLid\"] == ind[i]]\n",
    "    uk_days1 = uk_day1.resample('D').apply(lambda x: x.values.sum())\n",
    "    uk_days1[\"LCLid\"] = uk_day1[\"LCLid\"]\n",
    "    uk_days1[\"Countries\"] = uk_day1[\"Countries\"]\n",
    "    \n",
    "    uk_days = uk_days.append(uk_days1)\n",
    "    \n",
    "uk_days = uk_days.sort_values(['LCLid','DateTime'])"
   ]
  },
  {
   "cell_type": "code",
   "execution_count": 13,
   "metadata": {},
   "outputs": [
    {
     "data": {
      "text/plain": [
       "52560"
      ]
     },
     "execution_count": 13,
     "metadata": {},
     "output_type": "execute_result"
    }
   ],
   "source": [
    "uk_days.head()\n",
    "\n",
    "uk_days[uk_days[\"KWh\"] == 0]\n",
    "\n",
    "len(uk_days)"
   ]
  },
  {
   "cell_type": "code",
   "execution_count": 14,
   "metadata": {},
   "outputs": [],
   "source": [
    "groups = sa_plot1.groupby(\"ProfileID\").apply(lambda x: len(x))\n",
    "ind = groups.index\n",
    "\n",
    "sa_day = sa_plot1[sa_plot1[\"ProfileID\"] == ind[0]]\n",
    "sa_days = sa_day.resample('D').apply(lambda x: x.values.sum())\n",
    "sa_days[\"ProfileID\"] = sa_day[\"ProfileID\"]\n",
    "sa_days[\"Countries\"] = sa_day[\"Countries\"]\n",
    "\n",
    "\n",
    "\n",
    "for i in range(1, len(ind)):\n",
    "    sa_day1 = sa_plot1[sa_plot1[\"ProfileID\"] == ind[i]]\n",
    "    sa_days1 = sa_day1.resample('D').apply(lambda x: x.values.sum())\n",
    "    sa_days1[\"ProfileID\"] = str(sa_day1[\"ProfileID\"])\n",
    "    sa_days1[\"Countries\"] = sa_day1[\"Countries\"]\n",
    "    \n",
    "    sa_days = sa_days.append(sa_days1)\n",
    "    \n",
    "sa_days = sa_days.sort_values(['ProfileID','Datefield'])"
   ]
  },
  {
   "cell_type": "code",
   "execution_count": 16,
   "metadata": {},
   "outputs": [
    {
     "data": {
      "text/html": [
       "<div>\n",
       "<style scoped>\n",
       "    .dataframe tbody tr th:only-of-type {\n",
       "        vertical-align: middle;\n",
       "    }\n",
       "\n",
       "    .dataframe tbody tr th {\n",
       "        vertical-align: top;\n",
       "    }\n",
       "\n",
       "    .dataframe thead th {\n",
       "        text-align: right;\n",
       "    }\n",
       "</style>\n",
       "<table border=\"1\" class=\"dataframe\">\n",
       "  <thead>\n",
       "    <tr style=\"text-align: right;\">\n",
       "      <th></th>\n",
       "      <th>ProfileID</th>\n",
       "      <th>KWh</th>\n",
       "      <th>Countries</th>\n",
       "    </tr>\n",
       "    <tr>\n",
       "      <th>Datefield</th>\n",
       "      <th></th>\n",
       "      <th></th>\n",
       "      <th></th>\n",
       "    </tr>\n",
       "  </thead>\n",
       "  <tbody>\n",
       "    <tr>\n",
       "      <th>2013-01-01</th>\n",
       "      <td>12019685</td>\n",
       "      <td>6.057333</td>\n",
       "      <td>South Africa</td>\n",
       "    </tr>\n",
       "    <tr>\n",
       "      <th>2013-01-02</th>\n",
       "      <td>12019685</td>\n",
       "      <td>7.546000</td>\n",
       "      <td>South Africa</td>\n",
       "    </tr>\n",
       "    <tr>\n",
       "      <th>2013-01-03</th>\n",
       "      <td>12019685</td>\n",
       "      <td>7.612000</td>\n",
       "      <td>South Africa</td>\n",
       "    </tr>\n",
       "    <tr>\n",
       "      <th>2013-01-04</th>\n",
       "      <td>12019685</td>\n",
       "      <td>11.403333</td>\n",
       "      <td>South Africa</td>\n",
       "    </tr>\n",
       "    <tr>\n",
       "      <th>2013-01-05</th>\n",
       "      <td>12019685</td>\n",
       "      <td>10.384000</td>\n",
       "      <td>South Africa</td>\n",
       "    </tr>\n",
       "  </tbody>\n",
       "</table>\n",
       "</div>"
      ],
      "text/plain": [
       "           ProfileID        KWh     Countries\n",
       "Datefield                                    \n",
       "2013-01-01  12019685   6.057333  South Africa\n",
       "2013-01-02  12019685   7.546000  South Africa\n",
       "2013-01-03  12019685   7.612000  South Africa\n",
       "2013-01-04  12019685  11.403333  South Africa\n",
       "2013-01-05  12019685  10.384000  South Africa"
      ]
     },
     "execution_count": 16,
     "metadata": {},
     "output_type": "execute_result"
    }
   ],
   "source": [
    "sa_days.head()\n"
   ]
  },
  {
   "cell_type": "code",
   "execution_count": 19,
   "metadata": {},
   "outputs": [
    {
     "data": {
      "image/png": "[encoded data removed]",
      "text/plain": [
       "<Figure size 432x288 with 1 Axes>"
      ]
     },
     "metadata": {
      "needs_background": "light"
     },
     "output_type": "display_data"
    }
   ],
   "source": [
    "sns.distplot(uk_days.iloc[:,0],hist = False, label = \"UK\")\n",
    "sns.distplot(sa_days.iloc[:,1], hist = False, label = \"South Africa\")\n",
    "plt.title(\"Distribution of daily smart meter data in the UK and in South Africa\")\n",
    "plt.xlabel(\"KWh consumed in a day\")\n",
    "plt.savefig(\"Plots/Distributions daily.png\")\n",
    "plt.show()\n"
   ]
  },
  {
   "cell_type": "code",
   "execution_count": 18,
   "metadata": {},
   "outputs": [
    {
     "data": {
      "image/png": "[encoded data removed]",
      "text/plain": [
       "<Figure size 432x288 with 1 Axes>"
      ]
     },
     "metadata": {
      "needs_background": "light"
     },
     "output_type": "display_data"
    }
   ],
   "source": [
    "sns.distplot(uk_days.iloc[:,0],hist = False, label = \"UK\")\n",
    "sns.distplot(sa_days.iloc[:,1], hist = False, label = \"South Africa\")\n",
    "plt.title(\"Distribution of daily smart meter data in the UK and in South Africa \\n from 0 to 70 kWh\")\n",
    "plt.xlabel(\"KWh consumed in a day\")\n",
    "plt.xlim(0,70)\n",
    "plt.savefig(\"Plots/Distributions daily - from 0 to 70.png\")\n",
    "plt.show()\n"
   ]
  },
  {
   "cell_type": "code",
   "execution_count": 30,
   "metadata": {},
   "outputs": [],
   "source": [
    "mean_day_sa = sa_days.iloc[:,1].mean()\n",
    "mean_day_uk = uk_days.iloc[:,0].mean()\n",
    "sd_day_sa = sa_days.iloc[:,1].std()\n",
    "sd_day_uk = uk_days.iloc[:,0].std()\n",
    "min_day_sa = min(sa_days.iloc[:,1])\n",
    "min_day_uk = min(uk_days.iloc[:,0])\n",
    "max_day_sa = max(sa_days.iloc[:,1])\n",
    "max_day_uk = max(uk_days.iloc[:,0])"
   ]
  },
  {
   "cell_type": "code",
   "execution_count": 36,
   "metadata": {},
   "outputs": [
    {
     "data": {
      "text/plain": [
       "204035"
      ]
     },
     "execution_count": 36,
     "metadata": {},
     "output_type": "execute_result"
    }
   ],
   "source": [
    "day = sa_days.append(uk_days)\n",
    "\n"
   ]
  }
 ],
 "metadata": {
  "kernelspec": {
   "display_name": "Python 3",
   "language": "python",
   "name": "python3"
  },
  "language_info": {
   "codemirror_mode": {
    "name": "ipython",
    "version": 3
   },
   "file_extension": ".py",
   "mimetype": "text/x-python",
   "name": "python",
   "nbconvert_exporter": "python",
   "pygments_lexer": "ipython3",
   "version": "3.7.3"
  }
 },
 "nbformat": 4,
 "nbformat_minor": 2
}
