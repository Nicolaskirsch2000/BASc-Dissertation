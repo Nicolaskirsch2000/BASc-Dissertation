{
 "cells": [
  {
   "cell_type": "markdown",
   "metadata": {},
   "source": [
    "# Exploratory Data Analysis for the south African Data"
   ]
  },
  {
   "cell_type": "markdown",
   "metadata": {},
   "source": [
    " "
   ]
  },
  {
   "cell_type": "markdown",
   "metadata": {},
   "source": [
    "We load the necessary packages"
   ]
  },
  {
   "cell_type": "code",
   "execution_count": 3,
   "metadata": {},
   "outputs": [],
   "source": [
    "%matplotlib inline\n",
    "\n",
    "import pandas as pd\n",
    "import numpy as np\n",
    "import matplotlib.pyplot as plt"
   ]
  },
  {
   "cell_type": "markdown",
   "metadata": {},
   "source": [
    "We fist load the data from the University of Cape Town"
   ]
  },
  {
   "cell_type": "code",
   "execution_count": 4,
   "metadata": {},
   "outputs": [],
   "source": [
    "df = pd.read_csv(r\"..\\Data\\SAdata\\2013_A.csv\")"
   ]
  },
  {
   "cell_type": "markdown",
   "metadata": {},
   "source": [
    "Lets get a sight of the data "
   ]
  },
  {
   "cell_type": "code",
   "execution_count": 5,
   "metadata": {},
   "outputs": [
    {
     "data": {
      "text/html": [
       "<div>\n",
       "<style scoped>\n",
       "    .dataframe tbody tr th:only-of-type {\n",
       "        vertical-align: middle;\n",
       "    }\n",
       "\n",
       "    .dataframe tbody tr th {\n",
       "        vertical-align: top;\n",
       "    }\n",
       "\n",
       "    .dataframe thead th {\n",
       "        text-align: right;\n",
       "    }\n",
       "</style>\n",
       "<table border=\"1\" class=\"dataframe\">\n",
       "  <thead>\n",
       "    <tr style=\"text-align: right;\">\n",
       "      <th></th>\n",
       "      <th>RecorderID</th>\n",
       "      <th>ProfileID</th>\n",
       "      <th>Datefield</th>\n",
       "      <th>Unitsread</th>\n",
       "      <th>Valid</th>\n",
       "    </tr>\n",
       "  </thead>\n",
       "  <tbody>\n",
       "    <tr>\n",
       "      <th>0</th>\n",
       "      <td>BTW001</td>\n",
       "      <td>12019685</td>\n",
       "      <td>2013-10-01 00:00:00</td>\n",
       "      <td>1.2</td>\n",
       "      <td>1.0</td>\n",
       "    </tr>\n",
       "    <tr>\n",
       "      <th>1</th>\n",
       "      <td>BTW001</td>\n",
       "      <td>12019685</td>\n",
       "      <td>2013-10-01 01:00:00</td>\n",
       "      <td>1.2</td>\n",
       "      <td>1.0</td>\n",
       "    </tr>\n",
       "    <tr>\n",
       "      <th>2</th>\n",
       "      <td>BTW001</td>\n",
       "      <td>12019685</td>\n",
       "      <td>2013-10-01 02:00:00</td>\n",
       "      <td>1.2</td>\n",
       "      <td>1.0</td>\n",
       "    </tr>\n",
       "    <tr>\n",
       "      <th>3</th>\n",
       "      <td>BTW001</td>\n",
       "      <td>12019685</td>\n",
       "      <td>2013-10-01 03:00:00</td>\n",
       "      <td>1.2</td>\n",
       "      <td>1.0</td>\n",
       "    </tr>\n",
       "    <tr>\n",
       "      <th>4</th>\n",
       "      <td>BTW001</td>\n",
       "      <td>12019685</td>\n",
       "      <td>2013-10-01 04:00:00</td>\n",
       "      <td>1.2</td>\n",
       "      <td>1.0</td>\n",
       "    </tr>\n",
       "  </tbody>\n",
       "</table>\n",
       "</div>"
      ],
      "text/plain": [
       "  RecorderID  ProfileID            Datefield  Unitsread  Valid\n",
       "0     BTW001   12019685  2013-10-01 00:00:00        1.2    1.0\n",
       "1     BTW001   12019685  2013-10-01 01:00:00        1.2    1.0\n",
       "2     BTW001   12019685  2013-10-01 02:00:00        1.2    1.0\n",
       "3     BTW001   12019685  2013-10-01 03:00:00        1.2    1.0\n",
       "4     BTW001   12019685  2013-10-01 04:00:00        1.2    1.0"
      ]
     },
     "execution_count": 5,
     "metadata": {},
     "output_type": "execute_result"
    }
   ],
   "source": [
    "df.head()"
   ]
  },
  {
   "cell_type": "markdown",
   "metadata": {},
   "source": [
    "There is two IDs, we need to find out which one refers to households. To do so, we will look at the number of data points per ID. There are 8760 hours in a year, we need to look for lengths around this value"
   ]
  },
  {
   "cell_type": "code",
   "execution_count": 17,
   "metadata": {},
   "outputs": [
    {
     "name": "stdout",
     "output_type": "stream",
     "text": [
      "RecorderID\n",
      "HKY024    26856\n",
      "HKY023    26856\n",
      "HKY022    26856\n",
      "HKY021    26856\n",
      "HKY025    26856\n",
      "Name: Unitsread, dtype: int64\n",
      "ProfileID\n",
      "12020638    8757\n",
      "12020790    8757\n",
      "12020621    8757\n",
      "12020616    8757\n",
      "12020612    8757\n",
      "Name: Unitsread, dtype: int64\n"
     ]
    }
   ],
   "source": [
    "#Lengths of Recorder ID groups\n",
    "groups = df.groupby(\"RecorderID\")['Unitsread'].apply(lambda x: len(x))\n",
    "groups = groups.sort_values(ascending = False)\n",
    "print(groups.head())\n",
    "\n",
    "#Lengths of Profile ID groups\n",
    "groups1 = df.groupby(\"ProfileID\")['Unitsread'].apply(lambda x: len(x))\n",
    "groups1 = groups1.sort_values(ascending = False)\n",
    "print(groups1.head())"
   ]
  },
  {
   "cell_type": "markdown",
   "metadata": {},
   "source": [
    "We can see that the right ID is the profile ID. There is however not exactly 8760 values, lets plot the number of values for each ID to get more insight"
   ]
  },
  {
   "cell_type": "code",
   "execution_count": 19,
   "metadata": {},
   "outputs": [
    {
     "data": {
      "text/plain": [
       "<matplotlib.axes._subplots.AxesSubplot at 0x11187cd1da0>"
      ]
     },
     "execution_count": 19,
     "metadata": {},
     "output_type": "execute_result"
    },
    {
     "data": {
      "image/png": "[encoded data removed]",
      "text/plain": [
       "<Figure size 432x288 with 1 Axes>"
      ]
     },
     "metadata": {
      "needs_background": "light"
     },
     "output_type": "display_data"
    }
   ],
   "source": [
    "groups1.hist()"
   ]
  },
  {
   "cell_type": "markdown",
   "metadata": {},
   "source": [
    "There is a lot of IDs with very few values, we should filter them to keep only IDs with enough values"
   ]
  },
  {
   "cell_type": "code",
   "execution_count": 20,
   "metadata": {},
   "outputs": [],
   "source": [
    "groups1 = groups1[groups1>8700]\n",
    "\n",
    "\n",
    "df= df[df[\"ProfileID\"].isin(groups1.index)]"
   ]
  },
  {
   "cell_type": "markdown",
   "metadata": {},
   "source": [
    "When now need to see if the Ids kept have real value or not. To do so, we will sum the reading for each ID and check if some are equal to 0"
   ]
  },
  {
   "cell_type": "code",
   "execution_count": 26,
   "metadata": {},
   "outputs": [
    {
     "data": {
      "text/plain": [
       "109"
      ]
     },
     "execution_count": 26,
     "metadata": {},
     "output_type": "execute_result"
    }
   ],
   "source": [
    "grp = df.groupby(\"ProfileID\")['Unitsread'].sum()\n",
    "\n",
    "len(grp[grp == 0])"
   ]
  },
  {
   "cell_type": "markdown",
   "metadata": {},
   "source": [
    "There is a lot of IDs equal to 0, we will filter them out"
   ]
  },
  {
   "cell_type": "code",
   "execution_count": 29,
   "metadata": {},
   "outputs": [],
   "source": [
    "grp = grp[grp>1]\n",
    "\n",
    "df= df[df[\"ProfileID\"].isin(grp.index)]"
   ]
  },
  {
   "cell_type": "markdown",
   "metadata": {},
   "source": [
    "Most of the IDs are still not full for a whole year, there is some timestamps missing. We should identify these timestamp, include nans there and add these to the main dataset. Afterwards, we will have a full dataset, with 8760 entries per remaining Ids\n"
   ]
  },
  {
   "cell_type": "code",
   "execution_count": 30,
   "metadata": {},
   "outputs": [],
   "source": [
    "year = pd.date_range(\"01/01/2013 00:00\", \"31/12/2013 23:00\", freq=\"1h\")\n",
    "\n",
    "d = [None]*415\n",
    "add = [None]*415\n",
    "ids = list(grp.index)\n",
    "for i in range(len(d)):\n",
    "    d[i] = df[df[\"ProfileID\"] == ids[i]]\n",
    "    r = d[i][\"Datefield\"]\n",
    "    years = [x.strftime(\"%Y-%m-%d %H:%M:%S\") for x in year]\n",
    "    main_list = np.setdiff1d(list(years),list(r))\n",
    "    \n",
    "    add[i] = pd.DataFrame({\"RecorderID\": \"BTW001\", \"ProfileID\":ids[i], \"Datefield\": main_list,\"Unitsread\": np.nan, \"Valid\": 1})\n",
    "    \n",
    "    #d[i] = d[i].append(add[i])\n",
    "    \n",
    "    #d[i] = d[i].sort_values(['ProfileID', 'Datefield'])\n",
    "    \n",
    "    #d[i] = d[i].reset_index(drop = True)\n",
    "    \n",
    "    df = df.append(add[i])\n",
    "    \n",
    "df = df.sort_values(['ProfileID', 'Datefield'])\n",
    "\n",
    "df = df.reset_index(drop = True)\n",
    "\n"
   ]
  },
  {
   "cell_type": "markdown",
   "metadata": {},
   "source": [
    "We now have to handle the nans in the dataset\n"
   ]
  }
 ],
 "metadata": {
  "kernelspec": {
   "display_name": "Python 3",
   "language": "python",
   "name": "python3"
  },
  "language_info": {
   "codemirror_mode": {
    "name": "ipython",
    "version": 3
   },
   "file_extension": ".py",
   "mimetype": "text/x-python",
   "name": "python",
   "nbconvert_exporter": "python",
   "pygments_lexer": "ipython3",
   "version": "3.7.3"
  }
 },
 "nbformat": 4,
 "nbformat_minor": 2
}
