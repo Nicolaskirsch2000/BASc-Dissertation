{
 "cells": [
  {
   "cell_type": "markdown",
   "metadata": {},
   "source": [
    "# Exploratory data analysis on London Data"
   ]
  },
  {
   "cell_type": "markdown",
   "metadata": {},
   "source": [
    "This notebook will serve for exploring the London Dataset and gainging insight on how to process it "
   ]
  },
  {
   "cell_type": "markdown",
   "metadata": {},
   "source": [
    "First, we recuperate the necessary packages "
   ]
  },
  {
   "cell_type": "code",
   "execution_count": 1,
   "metadata": {},
   "outputs": [],
   "source": [
    "%matplotlib inline\n",
    "\n",
    "import pandas as pd\n",
    "import numpy as np\n",
    "import matplotlib.pyplot as plt"
   ]
  },
  {
   "cell_type": "markdown",
   "metadata": {},
   "source": [
    "The data is divided in 163 datasets of 1 million entries.\n",
    "\n",
    "We upload the data from several csv file and merge them together"
   ]
  },
  {
   "cell_type": "code",
   "execution_count": 24,
   "metadata": {},
   "outputs": [],
   "source": [
    "df = pd.read_csv(\"../Data/Londondata/Power-Networks-LCL-June2015(withAcornGps)v2_1.csv\")"
   ]
  },
  {
   "cell_type": "markdown",
   "metadata": {},
   "source": [
    "Add as many datasets as needed"
   ]
  },
  {
   "cell_type": "code",
   "execution_count": 52,
   "metadata": {},
   "outputs": [],
   "source": [
    "for i in range(2,20): \n",
    "    dataframe = pd.read_csv(r\"../Data/Londondata/Power-Networks-LCL-June2015(withAcornGps)v2_\"+str(i)+\".csv\")\n",
    "    df = df.append(dataframe)"
   ]
  },
  {
   "cell_type": "code",
   "execution_count": 53,
   "metadata": {},
   "outputs": [
    {
     "data": {
      "text/plain": [
       "24236309"
      ]
     },
     "execution_count": 53,
     "metadata": {},
     "output_type": "execute_result"
    }
   ],
   "source": [
    "df.head()\n",
    "len(df)"
   ]
  },
  {
   "cell_type": "markdown",
   "metadata": {},
   "source": [
    "The data ranges from 2012 to 2014, we will keep the data from 2013"
   ]
  },
  {
   "cell_type": "code",
   "execution_count": 54,
   "metadata": {},
   "outputs": [],
   "source": [
    "#Get the year of observation\n",
    "df[\"year\"] = pd.to_datetime(df[\"DateTime\"]).dt.year\n",
    "df.index = df.index - 3840\n",
    "\n",
    "\n",
    "#Isolate the year 2013\n",
    "df = df[df[\"year\"] == 2013]"
   ]
  },
  {
   "cell_type": "markdown",
   "metadata": {},
   "source": [
    "Mak the usage be floats rather than strings"
   ]
  },
  {
   "cell_type": "code",
   "execution_count": 55,
   "metadata": {},
   "outputs": [],
   "source": [
    "#Get rid of Null values\n",
    "df[\"KWH/hh (per half hour) \"] = df[\"KWH/hh (per half hour) \"].replace('Null',np.nan)\n",
    "\n",
    "#Get values as float\n",
    "df[\"KWH/hh (per half hour) \"] = pd.to_numeric(df[\"KWH/hh (per half hour) \"], downcast=\"float\")\n"
   ]
  },
  {
   "cell_type": "markdown",
   "metadata": {},
   "source": [
    "Lets look at how many data points there is for each households (LCLid) for the 2013 year"
   ]
  },
  {
   "cell_type": "code",
   "execution_count": 56,
   "metadata": {},
   "outputs": [
    {
     "data": {
      "text/plain": [
       "LCLid\n",
       "MAC000036    35050\n",
       "MAC000037    35050\n",
       "MAC000038    35046\n",
       "MAC000039    35034\n",
       "MAC000040    35052\n",
       "MAC000041    35048\n",
       "MAC000042    35038\n",
       "MAC000043    35048\n",
       "MAC000045    35050\n",
       "MAC000047    17518\n",
       "MAC000049    35052\n",
       "MAC000050     5092\n",
       "MAC000053    35044\n",
       "MAC000054    35050\n",
       "MAC000055    35046\n",
       "MAC000056    35048\n",
       "MAC000057    35052\n",
       "MAC000058    35048\n",
       "MAC000059    35048\n",
       "MAC000060    35052\n",
       "MAC000061    35050\n",
       "MAC000062    35046\n",
       "MAC000063    12775\n",
       "MAC000066    35048\n",
       "MAC000067    35048\n",
       "MAC000068    17520\n",
       "MAC000069    35046\n",
       "MAC000070    35048\n",
       "MAC000072    35050\n",
       "MAC000073    17517\n",
       "             ...  \n",
       "MAC000638    17532\n",
       "MAC000639    17531\n",
       "MAC000642    17530\n",
       "MAC000643    17528\n",
       "MAC000644    17532\n",
       "MAC000645    17531\n",
       "MAC000646    17523\n",
       "MAC000647    17530\n",
       "MAC000648    17530\n",
       "MAC000649    17532\n",
       "MAC000650    17531\n",
       "MAC000651    17481\n",
       "MAC000652    17532\n",
       "MAC000654    17532\n",
       "MAC000655    17514\n",
       "MAC000656    17521\n",
       "MAC000657    17528\n",
       "MAC000658    17527\n",
       "MAC000659    17524\n",
       "MAC000660    17528\n",
       "MAC000661    17530\n",
       "MAC000662    17530\n",
       "MAC000663    17532\n",
       "MAC000664    17531\n",
       "MAC000667    17530\n",
       "MAC000668    11817\n",
       "MAC000669    17530\n",
       "MAC000670    17532\n",
       "MAC000671    17516\n",
       "MAC000674    17402\n",
       "Name: KWH/hh (per half hour) , Length: 521, dtype: int64"
      ]
     },
     "execution_count": 56,
     "metadata": {},
     "output_type": "execute_result"
    }
   ],
   "source": [
    "df.groupby(\"LCLid\")['KWH/hh (per half hour) '].apply(lambda x: len(x))\n",
    "\n"
   ]
  },
  {
   "cell_type": "markdown",
   "metadata": {},
   "source": [
    "We can see that most Households have around 17530 entries, which makes sens as there are 17520 half hours in a year\n",
    "\n",
    "Some are however far from this value. As we have plenty of data, lets delete all Household with less than 17520 data points\n"
   ]
  },
  {
   "cell_type": "code",
   "execution_count": 57,
   "metadata": {},
   "outputs": [],
   "source": [
    "groups = df.groupby(\"LCLid\")['KWH/hh (per half hour) '].apply(lambda x: len(x))\n",
    "groups = groups[groups>17520]\n",
    "\n",
    "ind = groups.index\n",
    "\n",
    "df = df[df[\"LCLid\"].isin(ind)]"
   ]
  },
  {
   "cell_type": "code",
   "execution_count": 58,
   "metadata": {},
   "outputs": [
    {
     "data": {
      "text/plain": [
       "405"
      ]
     },
     "execution_count": 58,
     "metadata": {},
     "output_type": "execute_result"
    }
   ],
   "source": [
    "len(ind)"
   ]
  },
  {
   "cell_type": "code",
   "execution_count": 59,
   "metadata": {},
   "outputs": [
    {
     "data": {
      "text/plain": [
       "0"
      ]
     },
     "execution_count": 59,
     "metadata": {},
     "output_type": "execute_result"
    }
   ],
   "source": [
    "grp = df.groupby(\"LCLid\")['KWH/hh (per half hour) '].sum()\n",
    "\n",
    "len(grp[grp == 0])"
   ]
  },
  {
   "cell_type": "markdown",
   "metadata": {},
   "source": [
    "We now have N households (this is easily modulable by calling more datasets at the beginning) \n",
    "\n",
    "We however have more data points than half hours. Lets identify how. It can be some repeated half hour. Lets test for this on one household"
   ]
  },
  {
   "cell_type": "code",
   "execution_count": 60,
   "metadata": {},
   "outputs": [
    {
     "data": {
      "text/html": [
       "<div>\n",
       "<style scoped>\n",
       "    .dataframe tbody tr th:only-of-type {\n",
       "        vertical-align: middle;\n",
       "    }\n",
       "\n",
       "    .dataframe tbody tr th {\n",
       "        vertical-align: top;\n",
       "    }\n",
       "\n",
       "    .dataframe thead th {\n",
       "        text-align: right;\n",
       "    }\n",
       "</style>\n",
       "<table border=\"1\" class=\"dataframe\">\n",
       "  <thead>\n",
       "    <tr style=\"text-align: right;\">\n",
       "      <th></th>\n",
       "      <th>Acorn</th>\n",
       "      <th>Acorn_grouped</th>\n",
       "      <th>DateTime</th>\n",
       "      <th>KWH/hh (per half hour)</th>\n",
       "      <th>LCLid</th>\n",
       "      <th>stdorToU</th>\n",
       "      <th>year</th>\n",
       "    </tr>\n",
       "  </thead>\n",
       "  <tbody>\n",
       "    <tr>\n",
       "      <th>-8946</th>\n",
       "      <td>ACORN-E</td>\n",
       "      <td>Affluent</td>\n",
       "      <td>2013-01-01 00:00:00.0000000</td>\n",
       "      <td>0.006</td>\n",
       "      <td>MAC000036</td>\n",
       "      <td>Std</td>\n",
       "      <td>2013</td>\n",
       "    </tr>\n",
       "    <tr>\n",
       "      <th>-8945</th>\n",
       "      <td>ACORN-E</td>\n",
       "      <td>Affluent</td>\n",
       "      <td>2013-01-01 00:30:00.0000000</td>\n",
       "      <td>0.017</td>\n",
       "      <td>MAC000036</td>\n",
       "      <td>Std</td>\n",
       "      <td>2013</td>\n",
       "    </tr>\n",
       "    <tr>\n",
       "      <th>-8944</th>\n",
       "      <td>ACORN-E</td>\n",
       "      <td>Affluent</td>\n",
       "      <td>2013-01-01 01:00:00.0000000</td>\n",
       "      <td>0.059</td>\n",
       "      <td>MAC000036</td>\n",
       "      <td>Std</td>\n",
       "      <td>2013</td>\n",
       "    </tr>\n",
       "    <tr>\n",
       "      <th>-8943</th>\n",
       "      <td>ACORN-E</td>\n",
       "      <td>Affluent</td>\n",
       "      <td>2013-01-01 01:30:00.0000000</td>\n",
       "      <td>0.000</td>\n",
       "      <td>MAC000036</td>\n",
       "      <td>Std</td>\n",
       "      <td>2013</td>\n",
       "    </tr>\n",
       "    <tr>\n",
       "      <th>-8942</th>\n",
       "      <td>ACORN-E</td>\n",
       "      <td>Affluent</td>\n",
       "      <td>2013-01-01 02:00:00.0000000</td>\n",
       "      <td>0.000</td>\n",
       "      <td>MAC000036</td>\n",
       "      <td>Std</td>\n",
       "      <td>2013</td>\n",
       "    </tr>\n",
       "  </tbody>\n",
       "</table>\n",
       "</div>"
      ],
      "text/plain": [
       "         Acorn Acorn_grouped                     DateTime  \\\n",
       "-8946  ACORN-E      Affluent  2013-01-01 00:00:00.0000000   \n",
       "-8945  ACORN-E      Affluent  2013-01-01 00:30:00.0000000   \n",
       "-8944  ACORN-E      Affluent  2013-01-01 01:00:00.0000000   \n",
       "-8943  ACORN-E      Affluent  2013-01-01 01:30:00.0000000   \n",
       "-8942  ACORN-E      Affluent  2013-01-01 02:00:00.0000000   \n",
       "\n",
       "       KWH/hh (per half hour)       LCLid stdorToU  year  \n",
       "-8946                    0.006  MAC000036      Std  2013  \n",
       "-8945                    0.017  MAC000036      Std  2013  \n",
       "-8944                    0.059  MAC000036      Std  2013  \n",
       "-8943                    0.000  MAC000036      Std  2013  \n",
       "-8942                    0.000  MAC000036      Std  2013  "
      ]
     },
     "execution_count": 60,
     "metadata": {},
     "output_type": "execute_result"
    }
   ],
   "source": [
    "house1 = df[df[\"LCLid\"] == \"MAC000036\"]\n",
    "house1[house1.duplicated()]\n",
    "house1.head()"
   ]
  },
  {
   "cell_type": "markdown",
   "metadata": {},
   "source": [
    "There is indeed some duplicates. Lets drop them"
   ]
  },
  {
   "cell_type": "code",
   "execution_count": 61,
   "metadata": {},
   "outputs": [
    {
     "name": "stderr",
     "output_type": "stream",
     "text": [
      "C:\\Users\\Kirsch\\Anaconda3\\lib\\site-packages\\ipykernel_launcher.py:1: SettingWithCopyWarning: \n",
      "A value is trying to be set on a copy of a slice from a DataFrame\n",
      "\n",
      "See the caveats in the documentation: http://pandas.pydata.org/pandas-docs/stable/indexing.html#indexing-view-versus-copy\n",
      "  \"\"\"Entry point for launching an IPython kernel.\n"
     ]
    },
    {
     "data": {
      "text/plain": [
       "17519"
      ]
     },
     "execution_count": 61,
     "metadata": {},
     "output_type": "execute_result"
    }
   ],
   "source": [
    "house1.drop_duplicates(inplace = True)\n",
    "len(house1)"
   ]
  },
  {
   "cell_type": "markdown",
   "metadata": {},
   "source": [
    "We now have a normal number of values. There is just one value missing, which will be taken care of afterwards. First, lets modify the whole dataset"
   ]
  },
  {
   "cell_type": "code",
   "execution_count": 62,
   "metadata": {},
   "outputs": [
    {
     "name": "stdout",
     "output_type": "stream",
     "text": [
      "17517.723456790125\n"
     ]
    }
   ],
   "source": [
    "df.drop_duplicates(inplace = True)\n",
    "\n",
    "print(len(df)/len(ind))"
   ]
  },
  {
   "cell_type": "markdown",
   "metadata": {},
   "source": [
    "The average number of data points per households is now 17517, which is much better. It is however below the 17520 half hours. Lets find which half hours are missing and include them with a nan reading\n",
    "\n",
    "!!!! Takes a while !!!!"
   ]
  },
  {
   "cell_type": "code",
   "execution_count": 63,
   "metadata": {},
   "outputs": [],
   "source": [
    "df_full = df"
   ]
  },
  {
   "cell_type": "code",
   "execution_count": 68,
   "metadata": {},
   "outputs": [
    {
     "name": "stdout",
     "output_type": "stream",
     "text": [
      "0\n"
     ]
    }
   ],
   "source": [
    "year = pd.date_range(\"01/01/2013 00:00.0000000\", \"31/12/2013 23:30.0000000\", freq=\"30min\")\n",
    "\n",
    "d = [None]*len(ind)\n",
    "add = [None]*len(ind)\n",
    "for i in range(len(i)):\n",
    "    d[i] = df_full[df_full[\"LCLid\"] == ind[i]]\n",
    "    r = pd.to_datetime(d[i][\"DateTime\"])\n",
    "    years = [x.strftime(\"%Y-%m-%d %H:%M:%S\") for x in year]\n",
    "    r = [x.strftime(\"%Y-%m-%d %H:%M:%S\") for x in r]\n",
    "    main_list = np.setdiff1d(list(years),list(r))\n",
    "\n",
    "    add[i] = pd.DataFrame({\"LCLid\":ind[i], \"DateTime\": main_list,\"KWH/hh (per half hour) \": np.nan, 'Acorn': \"ACORN-A\",\n",
    "                          \"Acorn_grouped\": \"Affluent\", \"year\": 2013,'stdorToU': \"Std\"})\n",
    "\n",
    "    df_full = df_full.append(add[i])\n",
    "    print(i)\n",
    "    \n",
    "    \n",
    "    \n",
    "df_full = df_full.sort_values(['LCLid', 'DateTime'])\n",
    "\n",
    "df_full = df_full.reset_index(drop = True)\n",
    "\n"
   ]
  },
  {
   "cell_type": "code",
   "execution_count": 70,
   "metadata": {},
   "outputs": [
    {
     "name": "stdout",
     "output_type": "stream",
     "text": [
      "LCLid\n",
      "MAC000036    17520\n",
      "MAC000037    17520\n",
      "MAC000038    17520\n",
      "MAC000039    17520\n",
      "MAC000040    17520\n",
      "MAC000041    17520\n",
      "MAC000042    17520\n",
      "MAC000043    17520\n",
      "MAC000045    17520\n",
      "MAC000049    17520\n",
      "MAC000053    17520\n",
      "MAC000054    17520\n",
      "MAC000055    17520\n",
      "MAC000056    17520\n",
      "MAC000057    17520\n",
      "MAC000058    17520\n",
      "MAC000059    17520\n",
      "MAC000060    17520\n",
      "MAC000061    17520\n",
      "MAC000062    17520\n",
      "MAC000066    17520\n",
      "MAC000067    17520\n",
      "MAC000069    17520\n",
      "MAC000070    17520\n",
      "MAC000072    17520\n",
      "MAC000074    17520\n",
      "MAC000077    17520\n",
      "MAC000078    17520\n",
      "MAC000081    17520\n",
      "MAC000083    17520\n",
      "             ...  \n",
      "MAC000630    17520\n",
      "MAC000631    17520\n",
      "MAC000632    17520\n",
      "MAC000634    17520\n",
      "MAC000637    17520\n",
      "MAC000638    17520\n",
      "MAC000639    17520\n",
      "MAC000642    17520\n",
      "MAC000643    17520\n",
      "MAC000644    17520\n",
      "MAC000645    17520\n",
      "MAC000646    17520\n",
      "MAC000647    17520\n",
      "MAC000648    17520\n",
      "MAC000649    17520\n",
      "MAC000650    17520\n",
      "MAC000652    17520\n",
      "MAC000654    17520\n",
      "MAC000656    17520\n",
      "MAC000657    17520\n",
      "MAC000658    17520\n",
      "MAC000659    17520\n",
      "MAC000660    17520\n",
      "MAC000661    17520\n",
      "MAC000662    17520\n",
      "MAC000663    17520\n",
      "MAC000664    17520\n",
      "MAC000667    17520\n",
      "MAC000669    17520\n",
      "MAC000670    17520\n",
      "Length: 405, dtype: int64\n"
     ]
    }
   ],
   "source": [
    "print(df_full.groupby(\"LCLid\").size())"
   ]
  },
  {
   "cell_type": "markdown",
   "metadata": {},
   "source": [
    "We now have the right number of data for each households. We however need to change the granularity of the data, for it to match the South African data "
   ]
  },
  {
   "cell_type": "code",
   "execution_count": 71,
   "metadata": {},
   "outputs": [],
   "source": [
    "df_full_h = df_full"
   ]
  },
  {
   "cell_type": "markdown",
   "metadata": {},
   "source": [
    "Make the DateTIme the index"
   ]
  },
  {
   "cell_type": "code",
   "execution_count": 72,
   "metadata": {},
   "outputs": [
    {
     "data": {
      "text/html": [
       "<div>\n",
       "<style scoped>\n",
       "    .dataframe tbody tr th:only-of-type {\n",
       "        vertical-align: middle;\n",
       "    }\n",
       "\n",
       "    .dataframe tbody tr th {\n",
       "        vertical-align: top;\n",
       "    }\n",
       "\n",
       "    .dataframe thead th {\n",
       "        text-align: right;\n",
       "    }\n",
       "</style>\n",
       "<table border=\"1\" class=\"dataframe\">\n",
       "  <thead>\n",
       "    <tr style=\"text-align: right;\">\n",
       "      <th></th>\n",
       "      <th>Acorn</th>\n",
       "      <th>Acorn_grouped</th>\n",
       "      <th>KWH/hh (per half hour)</th>\n",
       "      <th>LCLid</th>\n",
       "      <th>stdorToU</th>\n",
       "      <th>year</th>\n",
       "    </tr>\n",
       "    <tr>\n",
       "      <th>DateTime</th>\n",
       "      <th></th>\n",
       "      <th></th>\n",
       "      <th></th>\n",
       "      <th></th>\n",
       "      <th></th>\n",
       "      <th></th>\n",
       "    </tr>\n",
       "  </thead>\n",
       "  <tbody>\n",
       "    <tr>\n",
       "      <th>2013-01-01 00:00:00</th>\n",
       "      <td>ACORN-E</td>\n",
       "      <td>Affluent</td>\n",
       "      <td>0.006</td>\n",
       "      <td>MAC000036</td>\n",
       "      <td>Std</td>\n",
       "      <td>2013</td>\n",
       "    </tr>\n",
       "    <tr>\n",
       "      <th>2013-01-01 00:30:00</th>\n",
       "      <td>ACORN-E</td>\n",
       "      <td>Affluent</td>\n",
       "      <td>0.017</td>\n",
       "      <td>MAC000036</td>\n",
       "      <td>Std</td>\n",
       "      <td>2013</td>\n",
       "    </tr>\n",
       "    <tr>\n",
       "      <th>2013-01-01 01:00:00</th>\n",
       "      <td>ACORN-E</td>\n",
       "      <td>Affluent</td>\n",
       "      <td>0.059</td>\n",
       "      <td>MAC000036</td>\n",
       "      <td>Std</td>\n",
       "      <td>2013</td>\n",
       "    </tr>\n",
       "    <tr>\n",
       "      <th>2013-01-01 01:30:00</th>\n",
       "      <td>ACORN-E</td>\n",
       "      <td>Affluent</td>\n",
       "      <td>0.000</td>\n",
       "      <td>MAC000036</td>\n",
       "      <td>Std</td>\n",
       "      <td>2013</td>\n",
       "    </tr>\n",
       "    <tr>\n",
       "      <th>2013-01-01 02:00:00</th>\n",
       "      <td>ACORN-E</td>\n",
       "      <td>Affluent</td>\n",
       "      <td>0.000</td>\n",
       "      <td>MAC000036</td>\n",
       "      <td>Std</td>\n",
       "      <td>2013</td>\n",
       "    </tr>\n",
       "  </tbody>\n",
       "</table>\n",
       "</div>"
      ],
      "text/plain": [
       "                       Acorn Acorn_grouped  KWH/hh (per half hour)   \\\n",
       "DateTime                                                              \n",
       "2013-01-01 00:00:00  ACORN-E      Affluent                    0.006   \n",
       "2013-01-01 00:30:00  ACORN-E      Affluent                    0.017   \n",
       "2013-01-01 01:00:00  ACORN-E      Affluent                    0.059   \n",
       "2013-01-01 01:30:00  ACORN-E      Affluent                    0.000   \n",
       "2013-01-01 02:00:00  ACORN-E      Affluent                    0.000   \n",
       "\n",
       "                         LCLid stdorToU  year  \n",
       "DateTime                                       \n",
       "2013-01-01 00:00:00  MAC000036      Std  2013  \n",
       "2013-01-01 00:30:00  MAC000036      Std  2013  \n",
       "2013-01-01 01:00:00  MAC000036      Std  2013  \n",
       "2013-01-01 01:30:00  MAC000036      Std  2013  \n",
       "2013-01-01 02:00:00  MAC000036      Std  2013  "
      ]
     },
     "execution_count": 72,
     "metadata": {},
     "output_type": "execute_result"
    }
   ],
   "source": [
    "df_full_h.index = pd.DatetimeIndex(df_full_h[\"DateTime\"])\n",
    "df_full_h = df_full_h.drop([\"DateTime\"], axis = 1)\n",
    "df_full_h.head()"
   ]
  },
  {
   "cell_type": "markdown",
   "metadata": {},
   "source": [
    "Merge Half-hours into hours \n",
    "\n",
    "!!!! Takes a while !!!!"
   ]
  },
  {
   "cell_type": "code",
   "execution_count": 26,
   "metadata": {},
   "outputs": [
    {
     "name": "stdout",
     "output_type": "stream",
     "text": [
      "eee\n",
      "dddd\n",
      "1\n",
      "2\n",
      "3\n",
      "4\n",
      "5\n",
      "6\n",
      "7\n",
      "8\n",
      "9\n",
      "10\n",
      "11\n",
      "12\n",
      "13\n",
      "14\n",
      "15\n",
      "16\n",
      "17\n",
      "18\n",
      "19\n",
      "20\n",
      "21\n",
      "22\n",
      "23\n",
      "24\n",
      "25\n",
      "26\n",
      "27\n",
      "28\n",
      "29\n",
      "30\n",
      "31\n",
      "32\n",
      "33\n",
      "34\n",
      "35\n",
      "36\n",
      "37\n",
      "38\n",
      "39\n",
      "40\n",
      "41\n",
      "42\n",
      "43\n",
      "44\n",
      "45\n",
      "46\n",
      "47\n",
      "48\n",
      "49\n",
      "50\n",
      "51\n",
      "52\n",
      "53\n",
      "54\n",
      "55\n",
      "56\n",
      "57\n",
      "58\n",
      "59\n",
      "60\n",
      "61\n",
      "62\n",
      "63\n",
      "64\n",
      "65\n",
      "66\n",
      "67\n",
      "68\n",
      "69\n",
      "70\n",
      "71\n",
      "72\n",
      "73\n",
      "74\n",
      "75\n",
      "76\n",
      "77\n",
      "78\n",
      "79\n",
      "80\n",
      "81\n",
      "82\n",
      "83\n",
      "84\n",
      "85\n",
      "86\n",
      "87\n",
      "88\n",
      "89\n",
      "90\n",
      "91\n",
      "92\n",
      "93\n",
      "94\n",
      "95\n",
      "96\n",
      "97\n",
      "98\n",
      "99\n",
      "100\n",
      "101\n",
      "102\n",
      "103\n",
      "104\n",
      "105\n",
      "106\n",
      "107\n",
      "108\n",
      "109\n",
      "110\n",
      "111\n",
      "112\n",
      "113\n",
      "114\n",
      "115\n",
      "116\n",
      "117\n",
      "118\n",
      "119\n",
      "120\n",
      "121\n",
      "122\n",
      "123\n",
      "124\n",
      "125\n",
      "126\n",
      "127\n",
      "128\n",
      "129\n",
      "130\n",
      "131\n",
      "132\n",
      "133\n",
      "134\n",
      "135\n",
      "136\n",
      "137\n",
      "138\n",
      "139\n",
      "140\n",
      "141\n",
      "142\n",
      "143\n",
      "144\n",
      "145\n",
      "146\n",
      "147\n",
      "148\n",
      "149\n",
      "150\n",
      "151\n",
      "152\n",
      "153\n",
      "154\n",
      "155\n",
      "156\n",
      "157\n",
      "158\n",
      "159\n",
      "160\n",
      "161\n",
      "162\n",
      "163\n",
      "164\n",
      "165\n",
      "166\n",
      "167\n",
      "168\n",
      "169\n",
      "170\n",
      "171\n",
      "172\n",
      "173\n",
      "174\n",
      "175\n",
      "176\n",
      "177\n",
      "178\n",
      "179\n",
      "180\n",
      "181\n",
      "182\n",
      "183\n",
      "184\n",
      "185\n",
      "186\n",
      "187\n",
      "188\n",
      "189\n",
      "190\n",
      "191\n",
      "192\n",
      "193\n",
      "194\n",
      "195\n",
      "196\n",
      "197\n",
      "198\n",
      "199\n",
      "200\n",
      "201\n",
      "202\n",
      "203\n",
      "204\n",
      "205\n",
      "206\n",
      "207\n",
      "208\n",
      "209\n",
      "210\n",
      "211\n",
      "212\n",
      "213\n",
      "214\n",
      "215\n",
      "216\n",
      "217\n",
      "218\n",
      "219\n",
      "220\n",
      "221\n",
      "222\n",
      "223\n",
      "224\n",
      "225\n",
      "226\n",
      "227\n",
      "228\n",
      "229\n",
      "230\n",
      "231\n",
      "232\n",
      "233\n",
      "234\n",
      "235\n",
      "236\n",
      "237\n",
      "238\n",
      "239\n",
      "240\n",
      "241\n",
      "242\n",
      "243\n",
      "244\n",
      "245\n",
      "246\n",
      "247\n",
      "248\n",
      "249\n",
      "250\n",
      "251\n",
      "252\n",
      "253\n",
      "254\n",
      "255\n",
      "256\n",
      "257\n",
      "258\n",
      "259\n",
      "260\n",
      "261\n",
      "262\n",
      "263\n",
      "264\n",
      "265\n",
      "266\n",
      "267\n",
      "268\n",
      "269\n",
      "270\n",
      "271\n",
      "272\n",
      "273\n",
      "274\n",
      "275\n",
      "276\n",
      "277\n",
      "278\n",
      "279\n",
      "280\n",
      "281\n",
      "282\n",
      "283\n",
      "284\n",
      "285\n",
      "286\n",
      "287\n",
      "288\n",
      "289\n",
      "290\n",
      "291\n",
      "292\n",
      "293\n",
      "294\n",
      "295\n",
      "296\n",
      "297\n",
      "298\n",
      "299\n",
      "300\n",
      "301\n",
      "302\n",
      "303\n",
      "304\n",
      "305\n",
      "306\n",
      "307\n",
      "308\n",
      "309\n",
      "310\n",
      "311\n",
      "312\n",
      "313\n",
      "314\n",
      "315\n",
      "316\n",
      "317\n",
      "318\n",
      "319\n",
      "320\n",
      "321\n",
      "322\n",
      "323\n",
      "324\n",
      "325\n",
      "326\n",
      "327\n",
      "328\n",
      "329\n",
      "330\n",
      "331\n",
      "332\n",
      "333\n",
      "334\n",
      "335\n",
      "336\n",
      "337\n",
      "338\n",
      "339\n",
      "340\n",
      "341\n",
      "342\n",
      "343\n",
      "344\n",
      "345\n",
      "346\n",
      "347\n",
      "348\n",
      "349\n",
      "350\n",
      "351\n",
      "352\n",
      "353\n",
      "354\n",
      "355\n",
      "356\n",
      "357\n",
      "358\n",
      "359\n",
      "360\n",
      "361\n",
      "362\n",
      "363\n",
      "364\n",
      "365\n",
      "366\n",
      "367\n",
      "368\n",
      "369\n",
      "370\n",
      "371\n",
      "372\n",
      "373\n",
      "374\n",
      "375\n",
      "376\n",
      "377\n",
      "378\n",
      "379\n",
      "380\n",
      "381\n",
      "382\n",
      "383\n",
      "384\n",
      "385\n",
      "386\n",
      "387\n",
      "388\n",
      "389\n",
      "390\n",
      "391\n",
      "392\n",
      "393\n",
      "394\n",
      "395\n",
      "396\n",
      "397\n",
      "398\n",
      "399\n",
      "400\n",
      "401\n",
      "402\n",
      "403\n",
      "404\n"
     ]
    },
    {
     "ename": "ValueError",
     "evalue": "'DateTime' is both an index level and a column label, which is ambiguous.",
     "output_type": "error",
     "traceback": [
      "\u001b[1;31m---------------------------------------------------------------------------\u001b[0m",
      "\u001b[1;31mValueError\u001b[0m                                Traceback (most recent call last)",
      "\u001b[1;32m<ipython-input-26-f486c8b2837b>\u001b[0m in \u001b[0;36m<module>\u001b[1;34m\u001b[0m\n\u001b[0;32m     26\u001b[0m     \u001b[0mdf_hours\u001b[0m \u001b[1;33m=\u001b[0m \u001b[0mdf_hours\u001b[0m\u001b[1;33m.\u001b[0m\u001b[0mappend\u001b[0m\u001b[1;33m(\u001b[0m\u001b[0mdf_hours1\u001b[0m\u001b[1;33m)\u001b[0m\u001b[1;33m\u001b[0m\u001b[1;33m\u001b[0m\u001b[0m\n\u001b[0;32m     27\u001b[0m \u001b[1;33m\u001b[0m\u001b[0m\n\u001b[1;32m---> 28\u001b[1;33m \u001b[0mdf_hours\u001b[0m \u001b[1;33m=\u001b[0m \u001b[0mdf_hours\u001b[0m\u001b[1;33m.\u001b[0m\u001b[0msort_values\u001b[0m\u001b[1;33m(\u001b[0m\u001b[1;33m[\u001b[0m\u001b[1;34m'LCLid'\u001b[0m\u001b[1;33m,\u001b[0m\u001b[1;34m'DateTime'\u001b[0m\u001b[1;33m]\u001b[0m\u001b[1;33m)\u001b[0m\u001b[1;33m\u001b[0m\u001b[1;33m\u001b[0m\u001b[0m\n\u001b[0m",
      "\u001b[1;32m~\\Anaconda3\\lib\\site-packages\\pandas\\core\\frame.py\u001b[0m in \u001b[0;36msort_values\u001b[1;34m(self, by, axis, ascending, inplace, kind, na_position)\u001b[0m\n\u001b[0;32m   4709\u001b[0m \u001b[1;33m\u001b[0m\u001b[0m\n\u001b[0;32m   4710\u001b[0m             keys = [self._get_label_or_level_values(x, axis=axis)\n\u001b[1;32m-> 4711\u001b[1;33m                     for x in by]\n\u001b[0m\u001b[0;32m   4712\u001b[0m             indexer = lexsort_indexer(keys, orders=ascending,\n\u001b[0;32m   4713\u001b[0m                                       na_position=na_position)\n",
      "\u001b[1;32m~\\Anaconda3\\lib\\site-packages\\pandas\\core\\frame.py\u001b[0m in \u001b[0;36m<listcomp>\u001b[1;34m(.0)\u001b[0m\n\u001b[0;32m   4709\u001b[0m \u001b[1;33m\u001b[0m\u001b[0m\n\u001b[0;32m   4710\u001b[0m             keys = [self._get_label_or_level_values(x, axis=axis)\n\u001b[1;32m-> 4711\u001b[1;33m                     for x in by]\n\u001b[0m\u001b[0;32m   4712\u001b[0m             indexer = lexsort_indexer(keys, orders=ascending,\n\u001b[0;32m   4713\u001b[0m                                       na_position=na_position)\n",
      "\u001b[1;32m~\\Anaconda3\\lib\\site-packages\\pandas\\core\\generic.py\u001b[0m in \u001b[0;36m_get_label_or_level_values\u001b[1;34m(self, key, axis)\u001b[0m\n\u001b[0;32m   1699\u001b[0m \u001b[1;33m\u001b[0m\u001b[0m\n\u001b[0;32m   1700\u001b[0m         \u001b[1;32mif\u001b[0m \u001b[0mself\u001b[0m\u001b[1;33m.\u001b[0m\u001b[0m_is_label_reference\u001b[0m\u001b[1;33m(\u001b[0m\u001b[0mkey\u001b[0m\u001b[1;33m,\u001b[0m \u001b[0maxis\u001b[0m\u001b[1;33m=\u001b[0m\u001b[0maxis\u001b[0m\u001b[1;33m)\u001b[0m\u001b[1;33m:\u001b[0m\u001b[1;33m\u001b[0m\u001b[1;33m\u001b[0m\u001b[0m\n\u001b[1;32m-> 1701\u001b[1;33m             \u001b[0mself\u001b[0m\u001b[1;33m.\u001b[0m\u001b[0m_check_label_or_level_ambiguity\u001b[0m\u001b[1;33m(\u001b[0m\u001b[0mkey\u001b[0m\u001b[1;33m,\u001b[0m \u001b[0maxis\u001b[0m\u001b[1;33m=\u001b[0m\u001b[0maxis\u001b[0m\u001b[1;33m)\u001b[0m\u001b[1;33m\u001b[0m\u001b[1;33m\u001b[0m\u001b[0m\n\u001b[0m\u001b[0;32m   1702\u001b[0m             \u001b[0mvalues\u001b[0m \u001b[1;33m=\u001b[0m \u001b[0mself\u001b[0m\u001b[1;33m.\u001b[0m\u001b[0mxs\u001b[0m\u001b[1;33m(\u001b[0m\u001b[0mkey\u001b[0m\u001b[1;33m,\u001b[0m \u001b[0maxis\u001b[0m\u001b[1;33m=\u001b[0m\u001b[0mother_axes\u001b[0m\u001b[1;33m[\u001b[0m\u001b[1;36m0\u001b[0m\u001b[1;33m]\u001b[0m\u001b[1;33m)\u001b[0m\u001b[1;33m.\u001b[0m\u001b[0m_values\u001b[0m\u001b[1;33m\u001b[0m\u001b[1;33m\u001b[0m\u001b[0m\n\u001b[0;32m   1703\u001b[0m         \u001b[1;32melif\u001b[0m \u001b[0mself\u001b[0m\u001b[1;33m.\u001b[0m\u001b[0m_is_level_reference\u001b[0m\u001b[1;33m(\u001b[0m\u001b[0mkey\u001b[0m\u001b[1;33m,\u001b[0m \u001b[0maxis\u001b[0m\u001b[1;33m=\u001b[0m\u001b[0maxis\u001b[0m\u001b[1;33m)\u001b[0m\u001b[1;33m:\u001b[0m\u001b[1;33m\u001b[0m\u001b[1;33m\u001b[0m\u001b[0m\n",
      "\u001b[1;32m~\\Anaconda3\\lib\\site-packages\\pandas\\core\\generic.py\u001b[0m in \u001b[0;36m_check_label_or_level_ambiguity\u001b[1;34m(self, key, axis)\u001b[0m\n\u001b[0;32m   1653\u001b[0m                             \u001b[0mlabel_article\u001b[0m\u001b[1;33m=\u001b[0m\u001b[0mlabel_article\u001b[0m\u001b[1;33m,\u001b[0m\u001b[1;33m\u001b[0m\u001b[1;33m\u001b[0m\u001b[0m\n\u001b[0;32m   1654\u001b[0m                             label_type=label_type)\n\u001b[1;32m-> 1655\u001b[1;33m             \u001b[1;32mraise\u001b[0m \u001b[0mValueError\u001b[0m\u001b[1;33m(\u001b[0m\u001b[0mmsg\u001b[0m\u001b[1;33m)\u001b[0m\u001b[1;33m\u001b[0m\u001b[1;33m\u001b[0m\u001b[0m\n\u001b[0m\u001b[0;32m   1656\u001b[0m \u001b[1;33m\u001b[0m\u001b[0m\n\u001b[0;32m   1657\u001b[0m     \u001b[1;32mdef\u001b[0m \u001b[0m_get_label_or_level_values\u001b[0m\u001b[1;33m(\u001b[0m\u001b[0mself\u001b[0m\u001b[1;33m,\u001b[0m \u001b[0mkey\u001b[0m\u001b[1;33m,\u001b[0m \u001b[0maxis\u001b[0m\u001b[1;33m=\u001b[0m\u001b[1;36m0\u001b[0m\u001b[1;33m)\u001b[0m\u001b[1;33m:\u001b[0m\u001b[1;33m\u001b[0m\u001b[1;33m\u001b[0m\u001b[0m\n",
      "\u001b[1;31mValueError\u001b[0m: 'DateTime' is both an index level and a column label, which is ambiguous."
     ]
    }
   ],
   "source": [
    "df_hour = df_full_h[df_full_h[\"LCLid\"] == ind[0]]\n",
    "df_hour.index = pd.to_datetime(df_hour[\"DateTime\"])\n",
    "df_hours = df_hour.resample('H').apply(lambda x: x.values.sum())\n",
    "df_hours[\"Acorn\"] = df_hour[\"Acorn\"]\n",
    "df_hours[\"Acorn_grouped\"] = df_hour[\"Acorn_grouped\"]\n",
    "df_hours[\"LCLid\"] = ind[0]\n",
    "df_hours['stdorToU'] = df_hour['stdorToU']\n",
    "df_hours['year'] = df_hour['year']\n",
    "\n",
    "\n",
    "for i in range(1, len(ind)):\n",
    "    df_hour1 = df_full_h[df_full_h[\"LCLid\"] == ind[i]]\n",
    "    df_hour1.index = pd.to_datetime(df_hour1[\"DateTime\"])\n",
    "    df_hours1 = df_hour1.resample('H').apply(lambda x: x.values.sum())\n",
    "    df_hours1[\"Acorn\"] = df_hour1[\"Acorn\"]\n",
    "    df_hours1[\"Acorn_grouped\"] = df_hour1[\"Acorn_grouped\"]\n",
    "    df_hours1[\"LCLid\"] = ind[i]\n",
    "    df_hours1['stdorToU'] = df_hour1['stdorToU']\n",
    "    df_hours1['year'] = df_hour1['year']\n",
    "    \n",
    "    print(i)\n",
    "\n",
    "    \n",
    "    df_hours = df_hours.append(df_hours1)\n",
    "    \n",
    "df_hours = df_hours.sort_values(['LCLid','DateTime'])"
   ]
  },
  {
   "cell_type": "markdown",
   "metadata": {},
   "source": [
    "We now have a dataset of the right number of entries for each household. \n",
    "\n",
    "Lets now study the distribution for each household, to see how it differs from one to another "
   ]
  },
  {
   "cell_type": "code",
   "execution_count": 30,
   "metadata": {},
   "outputs": [],
   "source": [
    "df_hours.drop(\"DateTime\", axis = 1, inplace = True)"
   ]
  },
  {
   "cell_type": "markdown",
   "metadata": {},
   "source": [
    "We dropped the DateTIme column, which is redundant with the index"
   ]
  },
  {
   "cell_type": "markdown",
   "metadata": {},
   "source": [
    "Checkpoint for the dataset, safety to not have to redo the long steps all the time"
   ]
  },
  {
   "cell_type": "code",
   "execution_count": 32,
   "metadata": {},
   "outputs": [
    {
     "data": {
      "text/plain": [
       "405.0"
      ]
     },
     "execution_count": 32,
     "metadata": {},
     "output_type": "execute_result"
    }
   ],
   "source": [
    "df_hours.to_csv(\"../Data/Londondata/revised_new.csv\")\n",
    "\n",
    "len(df_hours)/8760"
   ]
  },
  {
   "cell_type": "markdown",
   "metadata": {},
   "source": [
    "## Having mean hourly data per weekday per season"
   ]
  },
  {
   "cell_type": "markdown",
   "metadata": {},
   "source": [
    "### Getting all the info we need "
   ]
  },
  {
   "cell_type": "markdown",
   "metadata": {},
   "source": [
    "First we add the month (to get the seasons) and the hours of each reading"
   ]
  },
  {
   "cell_type": "code",
   "execution_count": 35,
   "metadata": {},
   "outputs": [],
   "source": [
    "londonf = df_hours"
   ]
  },
  {
   "cell_type": "code",
   "execution_count": 37,
   "metadata": {},
   "outputs": [],
   "source": [
    "londonf[\"Month\"] = pd.to_datetime(londonf.index).month\n",
    "londonf[\"Hour\"] = pd.to_datetime(londonf.index).hour\n"
   ]
  },
  {
   "cell_type": "code",
   "execution_count": 38,
   "metadata": {},
   "outputs": [
    {
     "data": {
      "text/html": [
       "<div>\n",
       "<style scoped>\n",
       "    .dataframe tbody tr th:only-of-type {\n",
       "        vertical-align: middle;\n",
       "    }\n",
       "\n",
       "    .dataframe tbody tr th {\n",
       "        vertical-align: top;\n",
       "    }\n",
       "\n",
       "    .dataframe thead th {\n",
       "        text-align: right;\n",
       "    }\n",
       "</style>\n",
       "<table border=\"1\" class=\"dataframe\">\n",
       "  <thead>\n",
       "    <tr style=\"text-align: right;\">\n",
       "      <th></th>\n",
       "      <th>Acorn</th>\n",
       "      <th>Acorn_grouped</th>\n",
       "      <th>KWH/hh (per half hour)</th>\n",
       "      <th>LCLid</th>\n",
       "      <th>stdorToU</th>\n",
       "      <th>year</th>\n",
       "      <th>Month</th>\n",
       "      <th>Hour</th>\n",
       "    </tr>\n",
       "    <tr>\n",
       "      <th>DateTime</th>\n",
       "      <th></th>\n",
       "      <th></th>\n",
       "      <th></th>\n",
       "      <th></th>\n",
       "      <th></th>\n",
       "      <th></th>\n",
       "      <th></th>\n",
       "      <th></th>\n",
       "    </tr>\n",
       "  </thead>\n",
       "  <tbody>\n",
       "    <tr>\n",
       "      <th>2013-01-01 00:00:00</th>\n",
       "      <td>ACORN-E</td>\n",
       "      <td>Affluent</td>\n",
       "      <td>0.023</td>\n",
       "      <td>MAC000036</td>\n",
       "      <td>Std</td>\n",
       "      <td>2013</td>\n",
       "      <td>1</td>\n",
       "      <td>0</td>\n",
       "    </tr>\n",
       "    <tr>\n",
       "      <th>2013-01-01 01:00:00</th>\n",
       "      <td>ACORN-E</td>\n",
       "      <td>Affluent</td>\n",
       "      <td>0.059</td>\n",
       "      <td>MAC000036</td>\n",
       "      <td>Std</td>\n",
       "      <td>2013</td>\n",
       "      <td>1</td>\n",
       "      <td>1</td>\n",
       "    </tr>\n",
       "    <tr>\n",
       "      <th>2013-01-01 02:00:00</th>\n",
       "      <td>ACORN-E</td>\n",
       "      <td>Affluent</td>\n",
       "      <td>0.000</td>\n",
       "      <td>MAC000036</td>\n",
       "      <td>Std</td>\n",
       "      <td>2013</td>\n",
       "      <td>1</td>\n",
       "      <td>2</td>\n",
       "    </tr>\n",
       "    <tr>\n",
       "      <th>2013-01-01 03:00:00</th>\n",
       "      <td>ACORN-E</td>\n",
       "      <td>Affluent</td>\n",
       "      <td>0.068</td>\n",
       "      <td>MAC000036</td>\n",
       "      <td>Std</td>\n",
       "      <td>2013</td>\n",
       "      <td>1</td>\n",
       "      <td>3</td>\n",
       "    </tr>\n",
       "    <tr>\n",
       "      <th>2013-01-01 04:00:00</th>\n",
       "      <td>ACORN-E</td>\n",
       "      <td>Affluent</td>\n",
       "      <td>0.000</td>\n",
       "      <td>MAC000036</td>\n",
       "      <td>Std</td>\n",
       "      <td>2013</td>\n",
       "      <td>1</td>\n",
       "      <td>4</td>\n",
       "    </tr>\n",
       "  </tbody>\n",
       "</table>\n",
       "</div>"
      ],
      "text/plain": [
       "                       Acorn Acorn_grouped  KWH/hh (per half hour)   \\\n",
       "DateTime                                                              \n",
       "2013-01-01 00:00:00  ACORN-E      Affluent                    0.023   \n",
       "2013-01-01 01:00:00  ACORN-E      Affluent                    0.059   \n",
       "2013-01-01 02:00:00  ACORN-E      Affluent                    0.000   \n",
       "2013-01-01 03:00:00  ACORN-E      Affluent                    0.068   \n",
       "2013-01-01 04:00:00  ACORN-E      Affluent                    0.000   \n",
       "\n",
       "                         LCLid stdorToU  year  Month  Hour  \n",
       "DateTime                                                    \n",
       "2013-01-01 00:00:00  MAC000036      Std  2013      1     0  \n",
       "2013-01-01 01:00:00  MAC000036      Std  2013      1     1  \n",
       "2013-01-01 02:00:00  MAC000036      Std  2013      1     2  \n",
       "2013-01-01 03:00:00  MAC000036      Std  2013      1     3  \n",
       "2013-01-01 04:00:00  MAC000036      Std  2013      1     4  "
      ]
     },
     "execution_count": 38,
     "metadata": {},
     "output_type": "execute_result"
    }
   ],
   "source": [
    "londonf.head()"
   ]
  },
  {
   "cell_type": "markdown",
   "metadata": {},
   "source": [
    "Assign the seasons based on the months"
   ]
  },
  {
   "cell_type": "code",
   "execution_count": 42,
   "metadata": {},
   "outputs": [],
   "source": [
    "season = londonf[\"Month\"].where(\n",
    "    (londonf[\"Month\"] != 12), 'Winter').where(\n",
    "    (londonf[\"Month\"] != 1), 'Winter').where(\n",
    "    (londonf[\"Month\"] != 2), 'Winter').where(\n",
    "    (londonf[\"Month\"] != 3), 'Spring').where(\n",
    "    (londonf[\"Month\"] != 4), 'Spring').where(\n",
    "    (londonf[\"Month\"] != 5), 'Spring').where(\n",
    "    (londonf[\"Month\"] != 6), 'Summer').where(\n",
    "    (londonf[\"Month\"] != 7), 'Summer').where(\n",
    "    (londonf[\"Month\"] != 8), 'Summer').where(\n",
    "    (londonf[\"Month\"] != 9), 'Autumn').where(\n",
    "    (londonf[\"Month\"] != 10), 'Autumn').where(\n",
    "    (londonf[\"Month\"] != 11), 'Autumn')"
   ]
  },
  {
   "cell_type": "code",
   "execution_count": 43,
   "metadata": {},
   "outputs": [
    {
     "data": {
      "text/plain": [
       "array(['Winter', 'Spring', 'Summer', 'Autumn'], dtype=object)"
      ]
     },
     "execution_count": 43,
     "metadata": {},
     "output_type": "execute_result"
    }
   ],
   "source": [
    "season.unique()"
   ]
  },
  {
   "cell_type": "code",
   "execution_count": 44,
   "metadata": {},
   "outputs": [],
   "source": [
    "londonf[\"Season\"] = season"
   ]
  },
  {
   "cell_type": "code",
   "execution_count": 45,
   "metadata": {},
   "outputs": [
    {
     "data": {
      "text/html": [
       "<div>\n",
       "<style scoped>\n",
       "    .dataframe tbody tr th:only-of-type {\n",
       "        vertical-align: middle;\n",
       "    }\n",
       "\n",
       "    .dataframe tbody tr th {\n",
       "        vertical-align: top;\n",
       "    }\n",
       "\n",
       "    .dataframe thead th {\n",
       "        text-align: right;\n",
       "    }\n",
       "</style>\n",
       "<table border=\"1\" class=\"dataframe\">\n",
       "  <thead>\n",
       "    <tr style=\"text-align: right;\">\n",
       "      <th></th>\n",
       "      <th>Acorn</th>\n",
       "      <th>Acorn_grouped</th>\n",
       "      <th>KWH/hh (per half hour)</th>\n",
       "      <th>LCLid</th>\n",
       "      <th>stdorToU</th>\n",
       "      <th>year</th>\n",
       "      <th>Month</th>\n",
       "      <th>Hour</th>\n",
       "      <th>Season</th>\n",
       "    </tr>\n",
       "    <tr>\n",
       "      <th>DateTime</th>\n",
       "      <th></th>\n",
       "      <th></th>\n",
       "      <th></th>\n",
       "      <th></th>\n",
       "      <th></th>\n",
       "      <th></th>\n",
       "      <th></th>\n",
       "      <th></th>\n",
       "      <th></th>\n",
       "    </tr>\n",
       "  </thead>\n",
       "  <tbody>\n",
       "    <tr>\n",
       "      <th>2013-01-01 00:00:00</th>\n",
       "      <td>ACORN-E</td>\n",
       "      <td>Affluent</td>\n",
       "      <td>0.023</td>\n",
       "      <td>MAC000036</td>\n",
       "      <td>Std</td>\n",
       "      <td>2013</td>\n",
       "      <td>1</td>\n",
       "      <td>0</td>\n",
       "      <td>Winter</td>\n",
       "    </tr>\n",
       "    <tr>\n",
       "      <th>2013-01-01 01:00:00</th>\n",
       "      <td>ACORN-E</td>\n",
       "      <td>Affluent</td>\n",
       "      <td>0.059</td>\n",
       "      <td>MAC000036</td>\n",
       "      <td>Std</td>\n",
       "      <td>2013</td>\n",
       "      <td>1</td>\n",
       "      <td>1</td>\n",
       "      <td>Winter</td>\n",
       "    </tr>\n",
       "    <tr>\n",
       "      <th>2013-01-01 02:00:00</th>\n",
       "      <td>ACORN-E</td>\n",
       "      <td>Affluent</td>\n",
       "      <td>0.000</td>\n",
       "      <td>MAC000036</td>\n",
       "      <td>Std</td>\n",
       "      <td>2013</td>\n",
       "      <td>1</td>\n",
       "      <td>2</td>\n",
       "      <td>Winter</td>\n",
       "    </tr>\n",
       "    <tr>\n",
       "      <th>2013-01-01 03:00:00</th>\n",
       "      <td>ACORN-E</td>\n",
       "      <td>Affluent</td>\n",
       "      <td>0.068</td>\n",
       "      <td>MAC000036</td>\n",
       "      <td>Std</td>\n",
       "      <td>2013</td>\n",
       "      <td>1</td>\n",
       "      <td>3</td>\n",
       "      <td>Winter</td>\n",
       "    </tr>\n",
       "    <tr>\n",
       "      <th>2013-01-01 04:00:00</th>\n",
       "      <td>ACORN-E</td>\n",
       "      <td>Affluent</td>\n",
       "      <td>0.000</td>\n",
       "      <td>MAC000036</td>\n",
       "      <td>Std</td>\n",
       "      <td>2013</td>\n",
       "      <td>1</td>\n",
       "      <td>4</td>\n",
       "      <td>Winter</td>\n",
       "    </tr>\n",
       "  </tbody>\n",
       "</table>\n",
       "</div>"
      ],
      "text/plain": [
       "                       Acorn Acorn_grouped  KWH/hh (per half hour)   \\\n",
       "DateTime                                                              \n",
       "2013-01-01 00:00:00  ACORN-E      Affluent                    0.023   \n",
       "2013-01-01 01:00:00  ACORN-E      Affluent                    0.059   \n",
       "2013-01-01 02:00:00  ACORN-E      Affluent                    0.000   \n",
       "2013-01-01 03:00:00  ACORN-E      Affluent                    0.068   \n",
       "2013-01-01 04:00:00  ACORN-E      Affluent                    0.000   \n",
       "\n",
       "                         LCLid stdorToU  year  Month  Hour  Season  \n",
       "DateTime                                                            \n",
       "2013-01-01 00:00:00  MAC000036      Std  2013      1     0  Winter  \n",
       "2013-01-01 01:00:00  MAC000036      Std  2013      1     1  Winter  \n",
       "2013-01-01 02:00:00  MAC000036      Std  2013      1     2  Winter  \n",
       "2013-01-01 03:00:00  MAC000036      Std  2013      1     3  Winter  \n",
       "2013-01-01 04:00:00  MAC000036      Std  2013      1     4  Winter  "
      ]
     },
     "execution_count": 45,
     "metadata": {},
     "output_type": "execute_result"
    }
   ],
   "source": [
    "londonf.head()"
   ]
  },
  {
   "cell_type": "markdown",
   "metadata": {},
   "source": [
    "To create the mean weekly profile, we need the weekday of each obeservation"
   ]
  },
  {
   "cell_type": "code",
   "execution_count": 46,
   "metadata": {},
   "outputs": [],
   "source": [
    "londonf[\"Weekday\"] = pd.to_datetime(londonf.index).weekday"
   ]
  },
  {
   "cell_type": "code",
   "execution_count": 47,
   "metadata": {},
   "outputs": [
    {
     "data": {
      "text/html": [
       "<div>\n",
       "<style scoped>\n",
       "    .dataframe tbody tr th:only-of-type {\n",
       "        vertical-align: middle;\n",
       "    }\n",
       "\n",
       "    .dataframe tbody tr th {\n",
       "        vertical-align: top;\n",
       "    }\n",
       "\n",
       "    .dataframe thead th {\n",
       "        text-align: right;\n",
       "    }\n",
       "</style>\n",
       "<table border=\"1\" class=\"dataframe\">\n",
       "  <thead>\n",
       "    <tr style=\"text-align: right;\">\n",
       "      <th></th>\n",
       "      <th>Acorn</th>\n",
       "      <th>Acorn_grouped</th>\n",
       "      <th>KWH/hh (per half hour)</th>\n",
       "      <th>LCLid</th>\n",
       "      <th>stdorToU</th>\n",
       "      <th>year</th>\n",
       "      <th>Month</th>\n",
       "      <th>Hour</th>\n",
       "      <th>Season</th>\n",
       "      <th>Weekday</th>\n",
       "    </tr>\n",
       "    <tr>\n",
       "      <th>DateTime</th>\n",
       "      <th></th>\n",
       "      <th></th>\n",
       "      <th></th>\n",
       "      <th></th>\n",
       "      <th></th>\n",
       "      <th></th>\n",
       "      <th></th>\n",
       "      <th></th>\n",
       "      <th></th>\n",
       "      <th></th>\n",
       "    </tr>\n",
       "  </thead>\n",
       "  <tbody>\n",
       "    <tr>\n",
       "      <th>2013-01-01 00:00:00</th>\n",
       "      <td>ACORN-E</td>\n",
       "      <td>Affluent</td>\n",
       "      <td>0.023</td>\n",
       "      <td>MAC000036</td>\n",
       "      <td>Std</td>\n",
       "      <td>2013</td>\n",
       "      <td>1</td>\n",
       "      <td>0</td>\n",
       "      <td>Winter</td>\n",
       "      <td>1</td>\n",
       "    </tr>\n",
       "    <tr>\n",
       "      <th>2013-01-01 01:00:00</th>\n",
       "      <td>ACORN-E</td>\n",
       "      <td>Affluent</td>\n",
       "      <td>0.059</td>\n",
       "      <td>MAC000036</td>\n",
       "      <td>Std</td>\n",
       "      <td>2013</td>\n",
       "      <td>1</td>\n",
       "      <td>1</td>\n",
       "      <td>Winter</td>\n",
       "      <td>1</td>\n",
       "    </tr>\n",
       "    <tr>\n",
       "      <th>2013-01-01 02:00:00</th>\n",
       "      <td>ACORN-E</td>\n",
       "      <td>Affluent</td>\n",
       "      <td>0.000</td>\n",
       "      <td>MAC000036</td>\n",
       "      <td>Std</td>\n",
       "      <td>2013</td>\n",
       "      <td>1</td>\n",
       "      <td>2</td>\n",
       "      <td>Winter</td>\n",
       "      <td>1</td>\n",
       "    </tr>\n",
       "    <tr>\n",
       "      <th>2013-01-01 03:00:00</th>\n",
       "      <td>ACORN-E</td>\n",
       "      <td>Affluent</td>\n",
       "      <td>0.068</td>\n",
       "      <td>MAC000036</td>\n",
       "      <td>Std</td>\n",
       "      <td>2013</td>\n",
       "      <td>1</td>\n",
       "      <td>3</td>\n",
       "      <td>Winter</td>\n",
       "      <td>1</td>\n",
       "    </tr>\n",
       "    <tr>\n",
       "      <th>2013-01-01 04:00:00</th>\n",
       "      <td>ACORN-E</td>\n",
       "      <td>Affluent</td>\n",
       "      <td>0.000</td>\n",
       "      <td>MAC000036</td>\n",
       "      <td>Std</td>\n",
       "      <td>2013</td>\n",
       "      <td>1</td>\n",
       "      <td>4</td>\n",
       "      <td>Winter</td>\n",
       "      <td>1</td>\n",
       "    </tr>\n",
       "  </tbody>\n",
       "</table>\n",
       "</div>"
      ],
      "text/plain": [
       "                       Acorn Acorn_grouped  KWH/hh (per half hour)   \\\n",
       "DateTime                                                              \n",
       "2013-01-01 00:00:00  ACORN-E      Affluent                    0.023   \n",
       "2013-01-01 01:00:00  ACORN-E      Affluent                    0.059   \n",
       "2013-01-01 02:00:00  ACORN-E      Affluent                    0.000   \n",
       "2013-01-01 03:00:00  ACORN-E      Affluent                    0.068   \n",
       "2013-01-01 04:00:00  ACORN-E      Affluent                    0.000   \n",
       "\n",
       "                         LCLid stdorToU  year  Month  Hour  Season  Weekday  \n",
       "DateTime                                                                     \n",
       "2013-01-01 00:00:00  MAC000036      Std  2013      1     0  Winter        1  \n",
       "2013-01-01 01:00:00  MAC000036      Std  2013      1     1  Winter        1  \n",
       "2013-01-01 02:00:00  MAC000036      Std  2013      1     2  Winter        1  \n",
       "2013-01-01 03:00:00  MAC000036      Std  2013      1     3  Winter        1  \n",
       "2013-01-01 04:00:00  MAC000036      Std  2013      1     4  Winter        1  "
      ]
     },
     "execution_count": 47,
     "metadata": {},
     "output_type": "execute_result"
    }
   ],
   "source": [
    "londonf.head()"
   ]
  },
  {
   "cell_type": "code",
   "execution_count": 48,
   "metadata": {},
   "outputs": [],
   "source": [
    "londonf[\"Weekday\"] = londonf[\"Weekday\"].where(\n",
    "    (londonf[\"Weekday\"] != 0), 'Monday').where(\n",
    "    (londonf[\"Weekday\"] != 1), 'Tuesday').where(\n",
    "    (londonf[\"Weekday\"] != 2), 'Wednesday').where(\n",
    "    (londonf[\"Weekday\"] != 3), 'Thursday').where(\n",
    "    (londonf[\"Weekday\"] != 4), 'Friday').where(\n",
    "    (londonf[\"Weekday\"] != 5), 'Saturday').where(\n",
    "    (londonf[\"Weekday\"] != 6), 'Sunday')"
   ]
  },
  {
   "cell_type": "code",
   "execution_count": 49,
   "metadata": {},
   "outputs": [
    {
     "data": {
      "text/html": [
       "<div>\n",
       "<style scoped>\n",
       "    .dataframe tbody tr th:only-of-type {\n",
       "        vertical-align: middle;\n",
       "    }\n",
       "\n",
       "    .dataframe tbody tr th {\n",
       "        vertical-align: top;\n",
       "    }\n",
       "\n",
       "    .dataframe thead th {\n",
       "        text-align: right;\n",
       "    }\n",
       "</style>\n",
       "<table border=\"1\" class=\"dataframe\">\n",
       "  <thead>\n",
       "    <tr style=\"text-align: right;\">\n",
       "      <th></th>\n",
       "      <th>Acorn</th>\n",
       "      <th>Acorn_grouped</th>\n",
       "      <th>KWH/hh (per half hour)</th>\n",
       "      <th>LCLid</th>\n",
       "      <th>stdorToU</th>\n",
       "      <th>year</th>\n",
       "      <th>Month</th>\n",
       "      <th>Hour</th>\n",
       "      <th>Season</th>\n",
       "      <th>Weekday</th>\n",
       "    </tr>\n",
       "    <tr>\n",
       "      <th>DateTime</th>\n",
       "      <th></th>\n",
       "      <th></th>\n",
       "      <th></th>\n",
       "      <th></th>\n",
       "      <th></th>\n",
       "      <th></th>\n",
       "      <th></th>\n",
       "      <th></th>\n",
       "      <th></th>\n",
       "      <th></th>\n",
       "    </tr>\n",
       "  </thead>\n",
       "  <tbody>\n",
       "    <tr>\n",
       "      <th>2013-01-01 00:00:00</th>\n",
       "      <td>ACORN-E</td>\n",
       "      <td>Affluent</td>\n",
       "      <td>0.023</td>\n",
       "      <td>MAC000036</td>\n",
       "      <td>Std</td>\n",
       "      <td>2013</td>\n",
       "      <td>1</td>\n",
       "      <td>0</td>\n",
       "      <td>Winter</td>\n",
       "      <td>Tuesday</td>\n",
       "    </tr>\n",
       "    <tr>\n",
       "      <th>2013-01-01 01:00:00</th>\n",
       "      <td>ACORN-E</td>\n",
       "      <td>Affluent</td>\n",
       "      <td>0.059</td>\n",
       "      <td>MAC000036</td>\n",
       "      <td>Std</td>\n",
       "      <td>2013</td>\n",
       "      <td>1</td>\n",
       "      <td>1</td>\n",
       "      <td>Winter</td>\n",
       "      <td>Tuesday</td>\n",
       "    </tr>\n",
       "    <tr>\n",
       "      <th>2013-01-01 02:00:00</th>\n",
       "      <td>ACORN-E</td>\n",
       "      <td>Affluent</td>\n",
       "      <td>0.000</td>\n",
       "      <td>MAC000036</td>\n",
       "      <td>Std</td>\n",
       "      <td>2013</td>\n",
       "      <td>1</td>\n",
       "      <td>2</td>\n",
       "      <td>Winter</td>\n",
       "      <td>Tuesday</td>\n",
       "    </tr>\n",
       "    <tr>\n",
       "      <th>2013-01-01 03:00:00</th>\n",
       "      <td>ACORN-E</td>\n",
       "      <td>Affluent</td>\n",
       "      <td>0.068</td>\n",
       "      <td>MAC000036</td>\n",
       "      <td>Std</td>\n",
       "      <td>2013</td>\n",
       "      <td>1</td>\n",
       "      <td>3</td>\n",
       "      <td>Winter</td>\n",
       "      <td>Tuesday</td>\n",
       "    </tr>\n",
       "    <tr>\n",
       "      <th>2013-01-01 04:00:00</th>\n",
       "      <td>ACORN-E</td>\n",
       "      <td>Affluent</td>\n",
       "      <td>0.000</td>\n",
       "      <td>MAC000036</td>\n",
       "      <td>Std</td>\n",
       "      <td>2013</td>\n",
       "      <td>1</td>\n",
       "      <td>4</td>\n",
       "      <td>Winter</td>\n",
       "      <td>Tuesday</td>\n",
       "    </tr>\n",
       "  </tbody>\n",
       "</table>\n",
       "</div>"
      ],
      "text/plain": [
       "                       Acorn Acorn_grouped  KWH/hh (per half hour)   \\\n",
       "DateTime                                                              \n",
       "2013-01-01 00:00:00  ACORN-E      Affluent                    0.023   \n",
       "2013-01-01 01:00:00  ACORN-E      Affluent                    0.059   \n",
       "2013-01-01 02:00:00  ACORN-E      Affluent                    0.000   \n",
       "2013-01-01 03:00:00  ACORN-E      Affluent                    0.068   \n",
       "2013-01-01 04:00:00  ACORN-E      Affluent                    0.000   \n",
       "\n",
       "                         LCLid stdorToU  year  Month  Hour  Season  Weekday  \n",
       "DateTime                                                                     \n",
       "2013-01-01 00:00:00  MAC000036      Std  2013      1     0  Winter  Tuesday  \n",
       "2013-01-01 01:00:00  MAC000036      Std  2013      1     1  Winter  Tuesday  \n",
       "2013-01-01 02:00:00  MAC000036      Std  2013      1     2  Winter  Tuesday  \n",
       "2013-01-01 03:00:00  MAC000036      Std  2013      1     3  Winter  Tuesday  \n",
       "2013-01-01 04:00:00  MAC000036      Std  2013      1     4  Winter  Tuesday  "
      ]
     },
     "execution_count": 49,
     "metadata": {},
     "output_type": "execute_result"
    }
   ],
   "source": [
    "londonf.head()"
   ]
  },
  {
   "cell_type": "markdown",
   "metadata": {},
   "source": [
    "We now have all the information we need"
   ]
  },
  {
   "cell_type": "markdown",
   "metadata": {},
   "source": [
    "### Isolating the seasons and creating the mean profiles"
   ]
  },
  {
   "cell_type": "markdown",
   "metadata": {},
   "source": [
    "We need to isolate each season to get the mean weekly profile for each season"
   ]
  },
  {
   "cell_type": "code",
   "execution_count": 50,
   "metadata": {},
   "outputs": [],
   "source": [
    "summer = londonf[londonf[\"Season\"] == \"Summer\"]\n",
    "winter = londonf[londonf[\"Season\"] == \"Winter\"]\n",
    "autumn = londonf[londonf[\"Season\"] == \"Autumn\"]\n",
    "spring = londonf[londonf[\"Season\"] == \"Spring\"]"
   ]
  },
  {
   "cell_type": "markdown",
   "metadata": {},
   "source": [
    "##### Summer"
   ]
  },
  {
   "cell_type": "markdown",
   "metadata": {},
   "source": [
    "For each household, get the mean value for each hour of a week (168 hours) "
   ]
  },
  {
   "cell_type": "code",
   "execution_count": 52,
   "metadata": {},
   "outputs": [],
   "source": [
    "summer_mean_gb = summer.groupby([\"LCLid\",\"Weekday\",\"Hour\"])['KWH/hh (per half hour) '].apply(lambda x: np.mean(x))"
   ]
  },
  {
   "cell_type": "code",
   "execution_count": 53,
   "metadata": {},
   "outputs": [
    {
     "data": {
      "text/plain": [
       "LCLid      Weekday  Hour\n",
       "MAC000036  Friday   0       0.055308\n",
       "                    1       0.040769\n",
       "                    2       0.060308\n",
       "                    3       0.048615\n",
       "                    4       0.051615\n",
       "Name: KWH/hh (per half hour) , dtype: float64"
      ]
     },
     "execution_count": 53,
     "metadata": {},
     "output_type": "execute_result"
    }
   ],
   "source": [
    "summer_mean_gb.head()"
   ]
  },
  {
   "cell_type": "markdown",
   "metadata": {},
   "source": [
    "Convert to a dataframe "
   ]
  },
  {
   "cell_type": "code",
   "execution_count": 54,
   "metadata": {},
   "outputs": [
    {
     "data": {
      "text/html": [
       "<div>\n",
       "<style scoped>\n",
       "    .dataframe tbody tr th:only-of-type {\n",
       "        vertical-align: middle;\n",
       "    }\n",
       "\n",
       "    .dataframe tbody tr th {\n",
       "        vertical-align: top;\n",
       "    }\n",
       "\n",
       "    .dataframe thead th {\n",
       "        text-align: right;\n",
       "    }\n",
       "</style>\n",
       "<table border=\"1\" class=\"dataframe\">\n",
       "  <thead>\n",
       "    <tr style=\"text-align: right;\">\n",
       "      <th></th>\n",
       "      <th></th>\n",
       "      <th></th>\n",
       "      <th>KWH/hh (per half hour)</th>\n",
       "    </tr>\n",
       "    <tr>\n",
       "      <th>LCLid</th>\n",
       "      <th>Weekday</th>\n",
       "      <th>Hour</th>\n",
       "      <th></th>\n",
       "    </tr>\n",
       "  </thead>\n",
       "  <tbody>\n",
       "    <tr>\n",
       "      <th rowspan=\"5\" valign=\"top\">MAC000036</th>\n",
       "      <th rowspan=\"5\" valign=\"top\">Friday</th>\n",
       "      <th>0</th>\n",
       "      <td>0.055308</td>\n",
       "    </tr>\n",
       "    <tr>\n",
       "      <th>1</th>\n",
       "      <td>0.040769</td>\n",
       "    </tr>\n",
       "    <tr>\n",
       "      <th>2</th>\n",
       "      <td>0.060308</td>\n",
       "    </tr>\n",
       "    <tr>\n",
       "      <th>3</th>\n",
       "      <td>0.048615</td>\n",
       "    </tr>\n",
       "    <tr>\n",
       "      <th>4</th>\n",
       "      <td>0.051615</td>\n",
       "    </tr>\n",
       "  </tbody>\n",
       "</table>\n",
       "</div>"
      ],
      "text/plain": [
       "                        KWH/hh (per half hour) \n",
       "LCLid     Weekday Hour                         \n",
       "MAC000036 Friday  0                    0.055308\n",
       "                  1                    0.040769\n",
       "                  2                    0.060308\n",
       "                  3                    0.048615\n",
       "                  4                    0.051615"
      ]
     },
     "execution_count": 54,
     "metadata": {},
     "output_type": "execute_result"
    }
   ],
   "source": [
    "summer_mean = summer_mean_gb.to_frame()\n",
    "summer_mean.head()"
   ]
  },
  {
   "cell_type": "code",
   "execution_count": 55,
   "metadata": {},
   "outputs": [],
   "source": [
    "summer_mean.reset_index(inplace = True)"
   ]
  },
  {
   "cell_type": "code",
   "execution_count": 56,
   "metadata": {},
   "outputs": [
    {
     "data": {
      "text/html": [
       "<div>\n",
       "<style scoped>\n",
       "    .dataframe tbody tr th:only-of-type {\n",
       "        vertical-align: middle;\n",
       "    }\n",
       "\n",
       "    .dataframe tbody tr th {\n",
       "        vertical-align: top;\n",
       "    }\n",
       "\n",
       "    .dataframe thead th {\n",
       "        text-align: right;\n",
       "    }\n",
       "</style>\n",
       "<table border=\"1\" class=\"dataframe\">\n",
       "  <thead>\n",
       "    <tr style=\"text-align: right;\">\n",
       "      <th></th>\n",
       "      <th>LCLid</th>\n",
       "      <th>Weekday</th>\n",
       "      <th>Hour</th>\n",
       "      <th>KWH/hh (per half hour)</th>\n",
       "    </tr>\n",
       "  </thead>\n",
       "  <tbody>\n",
       "    <tr>\n",
       "      <th>0</th>\n",
       "      <td>MAC000036</td>\n",
       "      <td>Friday</td>\n",
       "      <td>0</td>\n",
       "      <td>0.055308</td>\n",
       "    </tr>\n",
       "    <tr>\n",
       "      <th>1</th>\n",
       "      <td>MAC000036</td>\n",
       "      <td>Friday</td>\n",
       "      <td>1</td>\n",
       "      <td>0.040769</td>\n",
       "    </tr>\n",
       "    <tr>\n",
       "      <th>2</th>\n",
       "      <td>MAC000036</td>\n",
       "      <td>Friday</td>\n",
       "      <td>2</td>\n",
       "      <td>0.060308</td>\n",
       "    </tr>\n",
       "    <tr>\n",
       "      <th>3</th>\n",
       "      <td>MAC000036</td>\n",
       "      <td>Friday</td>\n",
       "      <td>3</td>\n",
       "      <td>0.048615</td>\n",
       "    </tr>\n",
       "    <tr>\n",
       "      <th>4</th>\n",
       "      <td>MAC000036</td>\n",
       "      <td>Friday</td>\n",
       "      <td>4</td>\n",
       "      <td>0.051615</td>\n",
       "    </tr>\n",
       "  </tbody>\n",
       "</table>\n",
       "</div>"
      ],
      "text/plain": [
       "       LCLid Weekday  Hour  KWH/hh (per half hour) \n",
       "0  MAC000036  Friday     0                 0.055308\n",
       "1  MAC000036  Friday     1                 0.040769\n",
       "2  MAC000036  Friday     2                 0.060308\n",
       "3  MAC000036  Friday     3                 0.048615\n",
       "4  MAC000036  Friday     4                 0.051615"
      ]
     },
     "execution_count": 56,
     "metadata": {},
     "output_type": "execute_result"
    }
   ],
   "source": [
    "summer_mean.head()"
   ]
  },
  {
   "cell_type": "markdown",
   "metadata": {},
   "source": [
    "Create the timestamp column with the Weekday and Hour and Season for each reading"
   ]
  },
  {
   "cell_type": "code",
   "execution_count": 57,
   "metadata": {},
   "outputs": [],
   "source": [
    "summer_mean[\"Timestamp\"] = summer_mean[\"Weekday\"] + ' ' + summer_mean[\"Hour\"].astype(str) + 'h Summer'"
   ]
  },
  {
   "cell_type": "code",
   "execution_count": 58,
   "metadata": {},
   "outputs": [],
   "source": [
    "summer_mean.drop([\"Weekday\", \"Hour\"], axis = 1, inplace = True)"
   ]
  },
  {
   "cell_type": "code",
   "execution_count": 59,
   "metadata": {},
   "outputs": [],
   "source": [
    "summer_mean_p = summer_mean.pivot(index='LCLid', columns='Timestamp', values='KWH/hh (per half hour) ')"
   ]
  },
  {
   "cell_type": "code",
   "execution_count": 61,
   "metadata": {},
   "outputs": [
    {
     "data": {
      "text/plain": [
       "405"
      ]
     },
     "execution_count": 61,
     "metadata": {},
     "output_type": "execute_result"
    }
   ],
   "source": [
    "len(summer_mean.LCLid.unique())"
   ]
  },
  {
   "cell_type": "markdown",
   "metadata": {},
   "source": [
    "This is the formatted version for the summer - 168 columns (24hours times 7 days) times 387 rows (number of households)"
   ]
  },
  {
   "cell_type": "code",
   "execution_count": 62,
   "metadata": {},
   "outputs": [
    {
     "data": {
      "text/html": [
       "<div>\n",
       "<style scoped>\n",
       "    .dataframe tbody tr th:only-of-type {\n",
       "        vertical-align: middle;\n",
       "    }\n",
       "\n",
       "    .dataframe tbody tr th {\n",
       "        vertical-align: top;\n",
       "    }\n",
       "\n",
       "    .dataframe thead th {\n",
       "        text-align: right;\n",
       "    }\n",
       "</style>\n",
       "<table border=\"1\" class=\"dataframe\">\n",
       "  <thead>\n",
       "    <tr style=\"text-align: right;\">\n",
       "      <th>Timestamp</th>\n",
       "      <th>Friday 0h Summer</th>\n",
       "      <th>Friday 10h Summer</th>\n",
       "      <th>Friday 11h Summer</th>\n",
       "      <th>Friday 12h Summer</th>\n",
       "      <th>Friday 13h Summer</th>\n",
       "      <th>Friday 14h Summer</th>\n",
       "      <th>Friday 15h Summer</th>\n",
       "      <th>Friday 16h Summer</th>\n",
       "      <th>Friday 17h Summer</th>\n",
       "      <th>Friday 18h Summer</th>\n",
       "      <th>...</th>\n",
       "      <th>Wednesday 22h Summer</th>\n",
       "      <th>Wednesday 23h Summer</th>\n",
       "      <th>Wednesday 2h Summer</th>\n",
       "      <th>Wednesday 3h Summer</th>\n",
       "      <th>Wednesday 4h Summer</th>\n",
       "      <th>Wednesday 5h Summer</th>\n",
       "      <th>Wednesday 6h Summer</th>\n",
       "      <th>Wednesday 7h Summer</th>\n",
       "      <th>Wednesday 8h Summer</th>\n",
       "      <th>Wednesday 9h Summer</th>\n",
       "    </tr>\n",
       "    <tr>\n",
       "      <th>LCLid</th>\n",
       "      <th></th>\n",
       "      <th></th>\n",
       "      <th></th>\n",
       "      <th></th>\n",
       "      <th></th>\n",
       "      <th></th>\n",
       "      <th></th>\n",
       "      <th></th>\n",
       "      <th></th>\n",
       "      <th></th>\n",
       "      <th></th>\n",
       "      <th></th>\n",
       "      <th></th>\n",
       "      <th></th>\n",
       "      <th></th>\n",
       "      <th></th>\n",
       "      <th></th>\n",
       "      <th></th>\n",
       "      <th></th>\n",
       "      <th></th>\n",
       "      <th></th>\n",
       "    </tr>\n",
       "  </thead>\n",
       "  <tbody>\n",
       "    <tr>\n",
       "      <th>MAC000036</th>\n",
       "      <td>0.055308</td>\n",
       "      <td>0.080538</td>\n",
       "      <td>0.114077</td>\n",
       "      <td>0.134692</td>\n",
       "      <td>0.129231</td>\n",
       "      <td>0.158615</td>\n",
       "      <td>0.173769</td>\n",
       "      <td>0.222000</td>\n",
       "      <td>0.153846</td>\n",
       "      <td>0.196846</td>\n",
       "      <td>...</td>\n",
       "      <td>0.068846</td>\n",
       "      <td>0.065077</td>\n",
       "      <td>0.043692</td>\n",
       "      <td>0.053769</td>\n",
       "      <td>0.043923</td>\n",
       "      <td>0.056385</td>\n",
       "      <td>0.042077</td>\n",
       "      <td>0.365231</td>\n",
       "      <td>0.155615</td>\n",
       "      <td>0.060231</td>\n",
       "    </tr>\n",
       "    <tr>\n",
       "      <th>MAC000037</th>\n",
       "      <td>0.000000</td>\n",
       "      <td>0.000000</td>\n",
       "      <td>0.000000</td>\n",
       "      <td>0.000000</td>\n",
       "      <td>0.000000</td>\n",
       "      <td>0.000000</td>\n",
       "      <td>0.000000</td>\n",
       "      <td>0.000000</td>\n",
       "      <td>0.000000</td>\n",
       "      <td>0.000000</td>\n",
       "      <td>...</td>\n",
       "      <td>0.000000</td>\n",
       "      <td>0.000000</td>\n",
       "      <td>0.000000</td>\n",
       "      <td>0.000000</td>\n",
       "      <td>0.000000</td>\n",
       "      <td>0.000000</td>\n",
       "      <td>0.000000</td>\n",
       "      <td>0.000000</td>\n",
       "      <td>0.081077</td>\n",
       "      <td>0.021923</td>\n",
       "    </tr>\n",
       "    <tr>\n",
       "      <th>MAC000038</th>\n",
       "      <td>0.196769</td>\n",
       "      <td>0.260538</td>\n",
       "      <td>0.285462</td>\n",
       "      <td>0.263385</td>\n",
       "      <td>0.281308</td>\n",
       "      <td>0.272385</td>\n",
       "      <td>0.244000</td>\n",
       "      <td>0.285538</td>\n",
       "      <td>0.582000</td>\n",
       "      <td>0.386462</td>\n",
       "      <td>...</td>\n",
       "      <td>0.543000</td>\n",
       "      <td>0.208692</td>\n",
       "      <td>0.155769</td>\n",
       "      <td>0.177923</td>\n",
       "      <td>0.283000</td>\n",
       "      <td>0.367231</td>\n",
       "      <td>0.411538</td>\n",
       "      <td>0.375231</td>\n",
       "      <td>0.351077</td>\n",
       "      <td>0.355000</td>\n",
       "    </tr>\n",
       "    <tr>\n",
       "      <th>MAC000039</th>\n",
       "      <td>0.156692</td>\n",
       "      <td>0.881538</td>\n",
       "      <td>0.450385</td>\n",
       "      <td>0.243000</td>\n",
       "      <td>0.274615</td>\n",
       "      <td>0.220462</td>\n",
       "      <td>0.299538</td>\n",
       "      <td>0.246231</td>\n",
       "      <td>0.263231</td>\n",
       "      <td>0.240692</td>\n",
       "      <td>...</td>\n",
       "      <td>0.588308</td>\n",
       "      <td>0.292923</td>\n",
       "      <td>0.156308</td>\n",
       "      <td>0.158462</td>\n",
       "      <td>0.151462</td>\n",
       "      <td>0.334000</td>\n",
       "      <td>0.186615</td>\n",
       "      <td>0.214154</td>\n",
       "      <td>0.389538</td>\n",
       "      <td>0.392769</td>\n",
       "    </tr>\n",
       "    <tr>\n",
       "      <th>MAC000040</th>\n",
       "      <td>0.764385</td>\n",
       "      <td>1.195846</td>\n",
       "      <td>0.991231</td>\n",
       "      <td>1.067846</td>\n",
       "      <td>1.090462</td>\n",
       "      <td>1.141846</td>\n",
       "      <td>1.194308</td>\n",
       "      <td>1.058538</td>\n",
       "      <td>1.060385</td>\n",
       "      <td>1.328231</td>\n",
       "      <td>...</td>\n",
       "      <td>1.560385</td>\n",
       "      <td>0.976846</td>\n",
       "      <td>1.086846</td>\n",
       "      <td>0.788769</td>\n",
       "      <td>0.783077</td>\n",
       "      <td>0.793385</td>\n",
       "      <td>1.538462</td>\n",
       "      <td>1.510769</td>\n",
       "      <td>1.419231</td>\n",
       "      <td>1.273308</td>\n",
       "    </tr>\n",
       "  </tbody>\n",
       "</table>\n",
       "<p>5 rows × 168 columns</p>\n",
       "</div>"
      ],
      "text/plain": [
       "Timestamp  Friday 0h Summer  Friday 10h Summer  Friday 11h Summer  \\\n",
       "LCLid                                                               \n",
       "MAC000036          0.055308           0.080538           0.114077   \n",
       "MAC000037          0.000000           0.000000           0.000000   \n",
       "MAC000038          0.196769           0.260538           0.285462   \n",
       "MAC000039          0.156692           0.881538           0.450385   \n",
       "MAC000040          0.764385           1.195846           0.991231   \n",
       "\n",
       "Timestamp  Friday 12h Summer  Friday 13h Summer  Friday 14h Summer  \\\n",
       "LCLid                                                                \n",
       "MAC000036           0.134692           0.129231           0.158615   \n",
       "MAC000037           0.000000           0.000000           0.000000   \n",
       "MAC000038           0.263385           0.281308           0.272385   \n",
       "MAC000039           0.243000           0.274615           0.220462   \n",
       "MAC000040           1.067846           1.090462           1.141846   \n",
       "\n",
       "Timestamp  Friday 15h Summer  Friday 16h Summer  Friday 17h Summer  \\\n",
       "LCLid                                                                \n",
       "MAC000036           0.173769           0.222000           0.153846   \n",
       "MAC000037           0.000000           0.000000           0.000000   \n",
       "MAC000038           0.244000           0.285538           0.582000   \n",
       "MAC000039           0.299538           0.246231           0.263231   \n",
       "MAC000040           1.194308           1.058538           1.060385   \n",
       "\n",
       "Timestamp  Friday 18h Summer  ...  Wednesday 22h Summer  Wednesday 23h Summer  \\\n",
       "LCLid                         ...                                               \n",
       "MAC000036           0.196846  ...              0.068846              0.065077   \n",
       "MAC000037           0.000000  ...              0.000000              0.000000   \n",
       "MAC000038           0.386462  ...              0.543000              0.208692   \n",
       "MAC000039           0.240692  ...              0.588308              0.292923   \n",
       "MAC000040           1.328231  ...              1.560385              0.976846   \n",
       "\n",
       "Timestamp  Wednesday 2h Summer  Wednesday 3h Summer  Wednesday 4h Summer  \\\n",
       "LCLid                                                                      \n",
       "MAC000036             0.043692             0.053769             0.043923   \n",
       "MAC000037             0.000000             0.000000             0.000000   \n",
       "MAC000038             0.155769             0.177923             0.283000   \n",
       "MAC000039             0.156308             0.158462             0.151462   \n",
       "MAC000040             1.086846             0.788769             0.783077   \n",
       "\n",
       "Timestamp  Wednesday 5h Summer  Wednesday 6h Summer  Wednesday 7h Summer  \\\n",
       "LCLid                                                                      \n",
       "MAC000036             0.056385             0.042077             0.365231   \n",
       "MAC000037             0.000000             0.000000             0.000000   \n",
       "MAC000038             0.367231             0.411538             0.375231   \n",
       "MAC000039             0.334000             0.186615             0.214154   \n",
       "MAC000040             0.793385             1.538462             1.510769   \n",
       "\n",
       "Timestamp  Wednesday 8h Summer  Wednesday 9h Summer  \n",
       "LCLid                                                \n",
       "MAC000036             0.155615             0.060231  \n",
       "MAC000037             0.081077             0.021923  \n",
       "MAC000038             0.351077             0.355000  \n",
       "MAC000039             0.389538             0.392769  \n",
       "MAC000040             1.419231             1.273308  \n",
       "\n",
       "[5 rows x 168 columns]"
      ]
     },
     "execution_count": 62,
     "metadata": {},
     "output_type": "execute_result"
    }
   ],
   "source": [
    "summer_mean_p.head()"
   ]
  },
  {
   "cell_type": "code",
   "execution_count": 71,
   "metadata": {},
   "outputs": [
    {
     "data": {
      "text/plain": [
       "['MAC000037', 'MAC000197']"
      ]
     },
     "execution_count": 71,
     "metadata": {},
     "output_type": "execute_result"
    }
   ],
   "source": [
    "a = (summer_mean_p == 0).astype(int).sum(axis=1)\n",
    "a = a[a > 50]\n",
    "list(a.index)"
   ]
  },
  {
   "cell_type": "code",
   "execution_count": null,
   "metadata": {},
   "outputs": [],
   "source": [
    "summer_mean_p.drop(list(a.index), axis = 1, inplace = True)"
   ]
  },
  {
   "cell_type": "markdown",
   "metadata": {},
   "source": [
    "The plot below represent the consumption of one specific household. By modifying the first iloc value (between 0 and 387), you can access the consumption of any household. The x axis is the timestamp, the y axis the consumption in kWh"
   ]
  },
  {
   "cell_type": "code",
   "execution_count": 72,
   "metadata": {},
   "outputs": [
    {
     "data": {
      "text/plain": [
       "[<matplotlib.lines.Line2D at 0x24381cae828>]"
      ]
     },
     "execution_count": 72,
     "metadata": {},
     "output_type": "execute_result"
    },
    {
     "data": {
      "image/png": "[encoded data removed]",
      "text/plain": [
       "<Figure size 432x288 with 1 Axes>"
      ]
     },
     "metadata": {
      "needs_background": "light"
     },
     "output_type": "display_data"
    }
   ],
   "source": [
    "plt.plot(summer_mean_p.iloc[-8,:])"
   ]
  },
  {
   "cell_type": "markdown",
   "metadata": {},
   "source": [
    "##### Winter"
   ]
  },
  {
   "cell_type": "markdown",
   "metadata": {},
   "source": [
    "For each household, get the mean value for each hour of a week (168 hours) "
   ]
  },
  {
   "cell_type": "code",
   "execution_count": 73,
   "metadata": {},
   "outputs": [],
   "source": [
    "winter_mean_gb = winter.groupby([\"LCLid\",\"Weekday\",\"Hour\"])['KWH/hh (per half hour) '].apply(lambda x: np.mean(x))"
   ]
  },
  {
   "cell_type": "code",
   "execution_count": 74,
   "metadata": {},
   "outputs": [
    {
     "data": {
      "text/plain": [
       "LCLid      Weekday  Hour\n",
       "MAC000036  Friday   0       0.027833\n",
       "                    1       0.032500\n",
       "                    2       0.030583\n",
       "                    3       0.023250\n",
       "                    4       0.033000\n",
       "Name: KWH/hh (per half hour) , dtype: float64"
      ]
     },
     "execution_count": 74,
     "metadata": {},
     "output_type": "execute_result"
    }
   ],
   "source": [
    "winter_mean_gb.head()"
   ]
  },
  {
   "cell_type": "markdown",
   "metadata": {},
   "source": [
    "Convert to a dataframe "
   ]
  },
  {
   "cell_type": "code",
   "execution_count": 75,
   "metadata": {},
   "outputs": [
    {
     "data": {
      "text/html": [
       "<div>\n",
       "<style scoped>\n",
       "    .dataframe tbody tr th:only-of-type {\n",
       "        vertical-align: middle;\n",
       "    }\n",
       "\n",
       "    .dataframe tbody tr th {\n",
       "        vertical-align: top;\n",
       "    }\n",
       "\n",
       "    .dataframe thead th {\n",
       "        text-align: right;\n",
       "    }\n",
       "</style>\n",
       "<table border=\"1\" class=\"dataframe\">\n",
       "  <thead>\n",
       "    <tr style=\"text-align: right;\">\n",
       "      <th></th>\n",
       "      <th>LCLid</th>\n",
       "      <th>Weekday</th>\n",
       "      <th>Hour</th>\n",
       "      <th>KWH/hh (per half hour)</th>\n",
       "    </tr>\n",
       "  </thead>\n",
       "  <tbody>\n",
       "    <tr>\n",
       "      <th>0</th>\n",
       "      <td>MAC000036</td>\n",
       "      <td>Friday</td>\n",
       "      <td>0</td>\n",
       "      <td>0.027833</td>\n",
       "    </tr>\n",
       "    <tr>\n",
       "      <th>1</th>\n",
       "      <td>MAC000036</td>\n",
       "      <td>Friday</td>\n",
       "      <td>1</td>\n",
       "      <td>0.032500</td>\n",
       "    </tr>\n",
       "    <tr>\n",
       "      <th>2</th>\n",
       "      <td>MAC000036</td>\n",
       "      <td>Friday</td>\n",
       "      <td>2</td>\n",
       "      <td>0.030583</td>\n",
       "    </tr>\n",
       "    <tr>\n",
       "      <th>3</th>\n",
       "      <td>MAC000036</td>\n",
       "      <td>Friday</td>\n",
       "      <td>3</td>\n",
       "      <td>0.023250</td>\n",
       "    </tr>\n",
       "    <tr>\n",
       "      <th>4</th>\n",
       "      <td>MAC000036</td>\n",
       "      <td>Friday</td>\n",
       "      <td>4</td>\n",
       "      <td>0.033000</td>\n",
       "    </tr>\n",
       "  </tbody>\n",
       "</table>\n",
       "</div>"
      ],
      "text/plain": [
       "       LCLid Weekday  Hour  KWH/hh (per half hour) \n",
       "0  MAC000036  Friday     0                 0.027833\n",
       "1  MAC000036  Friday     1                 0.032500\n",
       "2  MAC000036  Friday     2                 0.030583\n",
       "3  MAC000036  Friday     3                 0.023250\n",
       "4  MAC000036  Friday     4                 0.033000"
      ]
     },
     "execution_count": 75,
     "metadata": {},
     "output_type": "execute_result"
    }
   ],
   "source": [
    "winter_mean = winter_mean_gb.to_frame()\n",
    "winter_mean.reset_index(inplace = True)\n",
    "winter_mean.head()"
   ]
  },
  {
   "cell_type": "markdown",
   "metadata": {},
   "source": [
    "Create the timestamp column with the Weekday and Hour and Season for each reading"
   ]
  },
  {
   "cell_type": "code",
   "execution_count": 76,
   "metadata": {},
   "outputs": [],
   "source": [
    "winter_mean[\"Timestamp\"] = winter_mean[\"Weekday\"] + ' ' + winter_mean[\"Hour\"].astype(str) + 'h Winter'"
   ]
  },
  {
   "cell_type": "code",
   "execution_count": 77,
   "metadata": {},
   "outputs": [],
   "source": [
    "winter_mean.drop([\"Weekday\", \"Hour\"], axis = 1, inplace = True)"
   ]
  },
  {
   "cell_type": "code",
   "execution_count": 78,
   "metadata": {},
   "outputs": [],
   "source": [
    "winter_mean_p = winter_mean.pivot(index='LCLid', columns='Timestamp', values='KWH/hh (per half hour) ')"
   ]
  },
  {
   "cell_type": "markdown",
   "metadata": {},
   "source": [
    "This is the formatted version for the winter - 168 columns (24hours times 7 days) times 387 rows (number of households)"
   ]
  },
  {
   "cell_type": "code",
   "execution_count": 79,
   "metadata": {},
   "outputs": [
    {
     "data": {
      "text/html": [
       "<div>\n",
       "<style scoped>\n",
       "    .dataframe tbody tr th:only-of-type {\n",
       "        vertical-align: middle;\n",
       "    }\n",
       "\n",
       "    .dataframe tbody tr th {\n",
       "        vertical-align: top;\n",
       "    }\n",
       "\n",
       "    .dataframe thead th {\n",
       "        text-align: right;\n",
       "    }\n",
       "</style>\n",
       "<table border=\"1\" class=\"dataframe\">\n",
       "  <thead>\n",
       "    <tr style=\"text-align: right;\">\n",
       "      <th>Timestamp</th>\n",
       "      <th>Friday 0h Winter</th>\n",
       "      <th>Friday 10h Winter</th>\n",
       "      <th>Friday 11h Winter</th>\n",
       "      <th>Friday 12h Winter</th>\n",
       "      <th>Friday 13h Winter</th>\n",
       "      <th>Friday 14h Winter</th>\n",
       "      <th>Friday 15h Winter</th>\n",
       "      <th>Friday 16h Winter</th>\n",
       "      <th>Friday 17h Winter</th>\n",
       "      <th>Friday 18h Winter</th>\n",
       "      <th>...</th>\n",
       "      <th>Wednesday 22h Winter</th>\n",
       "      <th>Wednesday 23h Winter</th>\n",
       "      <th>Wednesday 2h Winter</th>\n",
       "      <th>Wednesday 3h Winter</th>\n",
       "      <th>Wednesday 4h Winter</th>\n",
       "      <th>Wednesday 5h Winter</th>\n",
       "      <th>Wednesday 6h Winter</th>\n",
       "      <th>Wednesday 7h Winter</th>\n",
       "      <th>Wednesday 8h Winter</th>\n",
       "      <th>Wednesday 9h Winter</th>\n",
       "    </tr>\n",
       "    <tr>\n",
       "      <th>LCLid</th>\n",
       "      <th></th>\n",
       "      <th></th>\n",
       "      <th></th>\n",
       "      <th></th>\n",
       "      <th></th>\n",
       "      <th></th>\n",
       "      <th></th>\n",
       "      <th></th>\n",
       "      <th></th>\n",
       "      <th></th>\n",
       "      <th></th>\n",
       "      <th></th>\n",
       "      <th></th>\n",
       "      <th></th>\n",
       "      <th></th>\n",
       "      <th></th>\n",
       "      <th></th>\n",
       "      <th></th>\n",
       "      <th></th>\n",
       "      <th></th>\n",
       "      <th></th>\n",
       "    </tr>\n",
       "  </thead>\n",
       "  <tbody>\n",
       "    <tr>\n",
       "      <th>MAC000036</th>\n",
       "      <td>0.027833</td>\n",
       "      <td>0.132750</td>\n",
       "      <td>0.090833</td>\n",
       "      <td>0.134833</td>\n",
       "      <td>0.095583</td>\n",
       "      <td>0.102000</td>\n",
       "      <td>0.131167</td>\n",
       "      <td>0.144333</td>\n",
       "      <td>0.169917</td>\n",
       "      <td>0.209667</td>\n",
       "      <td>...</td>\n",
       "      <td>0.075000</td>\n",
       "      <td>0.045308</td>\n",
       "      <td>0.031846</td>\n",
       "      <td>0.027769</td>\n",
       "      <td>0.024000</td>\n",
       "      <td>0.033692</td>\n",
       "      <td>0.024692</td>\n",
       "      <td>0.030462</td>\n",
       "      <td>0.329308</td>\n",
       "      <td>0.186923</td>\n",
       "    </tr>\n",
       "    <tr>\n",
       "      <th>MAC000037</th>\n",
       "      <td>0.000000</td>\n",
       "      <td>0.051000</td>\n",
       "      <td>0.000000</td>\n",
       "      <td>0.000000</td>\n",
       "      <td>0.000000</td>\n",
       "      <td>0.000000</td>\n",
       "      <td>0.059583</td>\n",
       "      <td>0.000000</td>\n",
       "      <td>0.000250</td>\n",
       "      <td>0.000167</td>\n",
       "      <td>...</td>\n",
       "      <td>0.000000</td>\n",
       "      <td>0.000000</td>\n",
       "      <td>0.000000</td>\n",
       "      <td>0.000000</td>\n",
       "      <td>0.000000</td>\n",
       "      <td>0.000000</td>\n",
       "      <td>0.000000</td>\n",
       "      <td>0.000000</td>\n",
       "      <td>0.000000</td>\n",
       "      <td>0.107538</td>\n",
       "    </tr>\n",
       "    <tr>\n",
       "      <th>MAC000038</th>\n",
       "      <td>0.309417</td>\n",
       "      <td>0.522417</td>\n",
       "      <td>0.611500</td>\n",
       "      <td>0.580583</td>\n",
       "      <td>0.539167</td>\n",
       "      <td>0.597000</td>\n",
       "      <td>0.632500</td>\n",
       "      <td>0.737667</td>\n",
       "      <td>0.968417</td>\n",
       "      <td>1.315167</td>\n",
       "      <td>...</td>\n",
       "      <td>0.959308</td>\n",
       "      <td>0.829923</td>\n",
       "      <td>0.217538</td>\n",
       "      <td>0.182154</td>\n",
       "      <td>0.201846</td>\n",
       "      <td>0.292615</td>\n",
       "      <td>0.368385</td>\n",
       "      <td>0.639769</td>\n",
       "      <td>0.626846</td>\n",
       "      <td>0.426308</td>\n",
       "    </tr>\n",
       "    <tr>\n",
       "      <th>MAC000039</th>\n",
       "      <td>0.239833</td>\n",
       "      <td>1.242167</td>\n",
       "      <td>0.816417</td>\n",
       "      <td>0.298000</td>\n",
       "      <td>0.412667</td>\n",
       "      <td>0.725917</td>\n",
       "      <td>0.474250</td>\n",
       "      <td>0.484500</td>\n",
       "      <td>0.552333</td>\n",
       "      <td>0.554750</td>\n",
       "      <td>...</td>\n",
       "      <td>0.441846</td>\n",
       "      <td>0.457000</td>\n",
       "      <td>0.151077</td>\n",
       "      <td>0.141615</td>\n",
       "      <td>0.165308</td>\n",
       "      <td>0.133692</td>\n",
       "      <td>0.562000</td>\n",
       "      <td>0.345692</td>\n",
       "      <td>0.285538</td>\n",
       "      <td>0.371154</td>\n",
       "    </tr>\n",
       "    <tr>\n",
       "      <th>MAC000040</th>\n",
       "      <td>0.949583</td>\n",
       "      <td>1.467583</td>\n",
       "      <td>1.453000</td>\n",
       "      <td>1.259333</td>\n",
       "      <td>1.664250</td>\n",
       "      <td>1.394583</td>\n",
       "      <td>1.435917</td>\n",
       "      <td>0.946417</td>\n",
       "      <td>1.584833</td>\n",
       "      <td>1.645667</td>\n",
       "      <td>...</td>\n",
       "      <td>1.609615</td>\n",
       "      <td>1.434231</td>\n",
       "      <td>0.903923</td>\n",
       "      <td>0.961538</td>\n",
       "      <td>0.822077</td>\n",
       "      <td>0.934154</td>\n",
       "      <td>0.931923</td>\n",
       "      <td>1.287692</td>\n",
       "      <td>1.497692</td>\n",
       "      <td>1.334692</td>\n",
       "    </tr>\n",
       "  </tbody>\n",
       "</table>\n",
       "<p>5 rows × 168 columns</p>\n",
       "</div>"
      ],
      "text/plain": [
       "Timestamp  Friday 0h Winter  Friday 10h Winter  Friday 11h Winter  \\\n",
       "LCLid                                                               \n",
       "MAC000036          0.027833           0.132750           0.090833   \n",
       "MAC000037          0.000000           0.051000           0.000000   \n",
       "MAC000038          0.309417           0.522417           0.611500   \n",
       "MAC000039          0.239833           1.242167           0.816417   \n",
       "MAC000040          0.949583           1.467583           1.453000   \n",
       "\n",
       "Timestamp  Friday 12h Winter  Friday 13h Winter  Friday 14h Winter  \\\n",
       "LCLid                                                                \n",
       "MAC000036           0.134833           0.095583           0.102000   \n",
       "MAC000037           0.000000           0.000000           0.000000   \n",
       "MAC000038           0.580583           0.539167           0.597000   \n",
       "MAC000039           0.298000           0.412667           0.725917   \n",
       "MAC000040           1.259333           1.664250           1.394583   \n",
       "\n",
       "Timestamp  Friday 15h Winter  Friday 16h Winter  Friday 17h Winter  \\\n",
       "LCLid                                                                \n",
       "MAC000036           0.131167           0.144333           0.169917   \n",
       "MAC000037           0.059583           0.000000           0.000250   \n",
       "MAC000038           0.632500           0.737667           0.968417   \n",
       "MAC000039           0.474250           0.484500           0.552333   \n",
       "MAC000040           1.435917           0.946417           1.584833   \n",
       "\n",
       "Timestamp  Friday 18h Winter  ...  Wednesday 22h Winter  Wednesday 23h Winter  \\\n",
       "LCLid                         ...                                               \n",
       "MAC000036           0.209667  ...              0.075000              0.045308   \n",
       "MAC000037           0.000167  ...              0.000000              0.000000   \n",
       "MAC000038           1.315167  ...              0.959308              0.829923   \n",
       "MAC000039           0.554750  ...              0.441846              0.457000   \n",
       "MAC000040           1.645667  ...              1.609615              1.434231   \n",
       "\n",
       "Timestamp  Wednesday 2h Winter  Wednesday 3h Winter  Wednesday 4h Winter  \\\n",
       "LCLid                                                                      \n",
       "MAC000036             0.031846             0.027769             0.024000   \n",
       "MAC000037             0.000000             0.000000             0.000000   \n",
       "MAC000038             0.217538             0.182154             0.201846   \n",
       "MAC000039             0.151077             0.141615             0.165308   \n",
       "MAC000040             0.903923             0.961538             0.822077   \n",
       "\n",
       "Timestamp  Wednesday 5h Winter  Wednesday 6h Winter  Wednesday 7h Winter  \\\n",
       "LCLid                                                                      \n",
       "MAC000036             0.033692             0.024692             0.030462   \n",
       "MAC000037             0.000000             0.000000             0.000000   \n",
       "MAC000038             0.292615             0.368385             0.639769   \n",
       "MAC000039             0.133692             0.562000             0.345692   \n",
       "MAC000040             0.934154             0.931923             1.287692   \n",
       "\n",
       "Timestamp  Wednesday 8h Winter  Wednesday 9h Winter  \n",
       "LCLid                                                \n",
       "MAC000036             0.329308             0.186923  \n",
       "MAC000037             0.000000             0.107538  \n",
       "MAC000038             0.626846             0.426308  \n",
       "MAC000039             0.285538             0.371154  \n",
       "MAC000040             1.497692             1.334692  \n",
       "\n",
       "[5 rows x 168 columns]"
      ]
     },
     "execution_count": 79,
     "metadata": {},
     "output_type": "execute_result"
    }
   ],
   "source": [
    "winter_mean_p.head()"
   ]
  },
  {
   "cell_type": "code",
   "execution_count": 80,
   "metadata": {},
   "outputs": [
    {
     "data": {
      "text/plain": [
       "['MAC000037', 'MAC000197']"
      ]
     },
     "execution_count": 80,
     "metadata": {},
     "output_type": "execute_result"
    }
   ],
   "source": [
    "a = (winter_mean_p == 0).astype(int).sum(axis=1)\n",
    "a = a[a > 50]\n",
    "list(a.index)"
   ]
  },
  {
   "cell_type": "markdown",
   "metadata": {},
   "source": [
    "The plot below represent the consumption of one specific household. By modifying the first iloc value (between 0 and 387), you can access the consumption of any household. The x axis is the timestamp, the y axis the consumption in kWh"
   ]
  },
  {
   "cell_type": "code",
   "execution_count": 82,
   "metadata": {},
   "outputs": [
    {
     "data": {
      "text/plain": [
       "[<matplotlib.lines.Line2D at 0x2438f49d7b8>]"
      ]
     },
     "execution_count": 82,
     "metadata": {},
     "output_type": "execute_result"
    },
    {
     "data": {
      "image/png": "[encoded data removed]",
      "text/plain": [
       "<Figure size 432x288 with 1 Axes>"
      ]
     },
     "metadata": {
      "needs_background": "light"
     },
     "output_type": "display_data"
    }
   ],
   "source": [
    "plt.plot(winter_mean_p.iloc[56,:])"
   ]
  },
  {
   "cell_type": "markdown",
   "metadata": {},
   "source": [
    "##### Spring"
   ]
  },
  {
   "cell_type": "markdown",
   "metadata": {},
   "source": [
    "For each household, get the mean value for each hour of a week (168 hours) "
   ]
  },
  {
   "cell_type": "code",
   "execution_count": 83,
   "metadata": {},
   "outputs": [],
   "source": [
    "spring_mean_gb = spring.groupby([\"LCLid\",\"Weekday\",\"Hour\"])['KWH/hh (per half hour) '].apply(lambda x: np.mean(x))"
   ]
  },
  {
   "cell_type": "code",
   "execution_count": 84,
   "metadata": {},
   "outputs": [
    {
     "data": {
      "text/plain": [
       "LCLid      Weekday  Hour\n",
       "MAC000036  Friday   0       0.041714\n",
       "                    1       0.025929\n",
       "                    2       0.041071\n",
       "                    3       0.022357\n",
       "                    4       0.043143\n",
       "Name: KWH/hh (per half hour) , dtype: float64"
      ]
     },
     "execution_count": 84,
     "metadata": {},
     "output_type": "execute_result"
    }
   ],
   "source": [
    "spring_mean_gb.head()"
   ]
  },
  {
   "cell_type": "markdown",
   "metadata": {},
   "source": [
    "Convert to a dataframe "
   ]
  },
  {
   "cell_type": "code",
   "execution_count": 85,
   "metadata": {},
   "outputs": [
    {
     "data": {
      "text/html": [
       "<div>\n",
       "<style scoped>\n",
       "    .dataframe tbody tr th:only-of-type {\n",
       "        vertical-align: middle;\n",
       "    }\n",
       "\n",
       "    .dataframe tbody tr th {\n",
       "        vertical-align: top;\n",
       "    }\n",
       "\n",
       "    .dataframe thead th {\n",
       "        text-align: right;\n",
       "    }\n",
       "</style>\n",
       "<table border=\"1\" class=\"dataframe\">\n",
       "  <thead>\n",
       "    <tr style=\"text-align: right;\">\n",
       "      <th></th>\n",
       "      <th>LCLid</th>\n",
       "      <th>Weekday</th>\n",
       "      <th>Hour</th>\n",
       "      <th>KWH/hh (per half hour)</th>\n",
       "    </tr>\n",
       "  </thead>\n",
       "  <tbody>\n",
       "    <tr>\n",
       "      <th>0</th>\n",
       "      <td>MAC000036</td>\n",
       "      <td>Friday</td>\n",
       "      <td>0</td>\n",
       "      <td>0.041714</td>\n",
       "    </tr>\n",
       "    <tr>\n",
       "      <th>1</th>\n",
       "      <td>MAC000036</td>\n",
       "      <td>Friday</td>\n",
       "      <td>1</td>\n",
       "      <td>0.025929</td>\n",
       "    </tr>\n",
       "    <tr>\n",
       "      <th>2</th>\n",
       "      <td>MAC000036</td>\n",
       "      <td>Friday</td>\n",
       "      <td>2</td>\n",
       "      <td>0.041071</td>\n",
       "    </tr>\n",
       "    <tr>\n",
       "      <th>3</th>\n",
       "      <td>MAC000036</td>\n",
       "      <td>Friday</td>\n",
       "      <td>3</td>\n",
       "      <td>0.022357</td>\n",
       "    </tr>\n",
       "    <tr>\n",
       "      <th>4</th>\n",
       "      <td>MAC000036</td>\n",
       "      <td>Friday</td>\n",
       "      <td>4</td>\n",
       "      <td>0.043143</td>\n",
       "    </tr>\n",
       "  </tbody>\n",
       "</table>\n",
       "</div>"
      ],
      "text/plain": [
       "       LCLid Weekday  Hour  KWH/hh (per half hour) \n",
       "0  MAC000036  Friday     0                 0.041714\n",
       "1  MAC000036  Friday     1                 0.025929\n",
       "2  MAC000036  Friday     2                 0.041071\n",
       "3  MAC000036  Friday     3                 0.022357\n",
       "4  MAC000036  Friday     4                 0.043143"
      ]
     },
     "execution_count": 85,
     "metadata": {},
     "output_type": "execute_result"
    }
   ],
   "source": [
    "spring_mean = spring_mean_gb.to_frame()\n",
    "spring_mean.reset_index(inplace = True)\n",
    "spring_mean.head()"
   ]
  },
  {
   "cell_type": "markdown",
   "metadata": {},
   "source": [
    "Create the timestamp column with the Weekday and Hour and Season for each reading"
   ]
  },
  {
   "cell_type": "code",
   "execution_count": 86,
   "metadata": {},
   "outputs": [],
   "source": [
    "spring_mean[\"Timestamp\"] = spring_mean[\"Weekday\"] + ' ' + spring_mean[\"Hour\"].astype(str) + 'h Spring'"
   ]
  },
  {
   "cell_type": "code",
   "execution_count": 87,
   "metadata": {},
   "outputs": [],
   "source": [
    "spring_mean.drop([\"Weekday\", \"Hour\"], axis = 1, inplace = True)"
   ]
  },
  {
   "cell_type": "code",
   "execution_count": 88,
   "metadata": {},
   "outputs": [],
   "source": [
    "spring_mean_p = spring_mean.pivot(index='LCLid', columns='Timestamp', values='KWH/hh (per half hour) ')"
   ]
  },
  {
   "cell_type": "markdown",
   "metadata": {},
   "source": [
    "This is the formatted version for the spring - 168 columns (24hours times 7 days) times 387 rows (number of households)"
   ]
  },
  {
   "cell_type": "code",
   "execution_count": 89,
   "metadata": {},
   "outputs": [
    {
     "data": {
      "text/html": [
       "<div>\n",
       "<style scoped>\n",
       "    .dataframe tbody tr th:only-of-type {\n",
       "        vertical-align: middle;\n",
       "    }\n",
       "\n",
       "    .dataframe tbody tr th {\n",
       "        vertical-align: top;\n",
       "    }\n",
       "\n",
       "    .dataframe thead th {\n",
       "        text-align: right;\n",
       "    }\n",
       "</style>\n",
       "<table border=\"1\" class=\"dataframe\">\n",
       "  <thead>\n",
       "    <tr style=\"text-align: right;\">\n",
       "      <th>Timestamp</th>\n",
       "      <th>Friday 0h Spring</th>\n",
       "      <th>Friday 10h Spring</th>\n",
       "      <th>Friday 11h Spring</th>\n",
       "      <th>Friday 12h Spring</th>\n",
       "      <th>Friday 13h Spring</th>\n",
       "      <th>Friday 14h Spring</th>\n",
       "      <th>Friday 15h Spring</th>\n",
       "      <th>Friday 16h Spring</th>\n",
       "      <th>Friday 17h Spring</th>\n",
       "      <th>Friday 18h Spring</th>\n",
       "      <th>...</th>\n",
       "      <th>Wednesday 22h Spring</th>\n",
       "      <th>Wednesday 23h Spring</th>\n",
       "      <th>Wednesday 2h Spring</th>\n",
       "      <th>Wednesday 3h Spring</th>\n",
       "      <th>Wednesday 4h Spring</th>\n",
       "      <th>Wednesday 5h Spring</th>\n",
       "      <th>Wednesday 6h Spring</th>\n",
       "      <th>Wednesday 7h Spring</th>\n",
       "      <th>Wednesday 8h Spring</th>\n",
       "      <th>Wednesday 9h Spring</th>\n",
       "    </tr>\n",
       "    <tr>\n",
       "      <th>LCLid</th>\n",
       "      <th></th>\n",
       "      <th></th>\n",
       "      <th></th>\n",
       "      <th></th>\n",
       "      <th></th>\n",
       "      <th></th>\n",
       "      <th></th>\n",
       "      <th></th>\n",
       "      <th></th>\n",
       "      <th></th>\n",
       "      <th></th>\n",
       "      <th></th>\n",
       "      <th></th>\n",
       "      <th></th>\n",
       "      <th></th>\n",
       "      <th></th>\n",
       "      <th></th>\n",
       "      <th></th>\n",
       "      <th></th>\n",
       "      <th></th>\n",
       "      <th></th>\n",
       "    </tr>\n",
       "  </thead>\n",
       "  <tbody>\n",
       "    <tr>\n",
       "      <th>MAC000036</th>\n",
       "      <td>0.041714</td>\n",
       "      <td>0.099571</td>\n",
       "      <td>0.146571</td>\n",
       "      <td>0.102571</td>\n",
       "      <td>0.127143</td>\n",
       "      <td>0.145857</td>\n",
       "      <td>0.166214</td>\n",
       "      <td>0.128143</td>\n",
       "      <td>0.184643</td>\n",
       "      <td>0.150357</td>\n",
       "      <td>...</td>\n",
       "      <td>0.077231</td>\n",
       "      <td>0.024231</td>\n",
       "      <td>0.023615</td>\n",
       "      <td>0.046846</td>\n",
       "      <td>0.022231</td>\n",
       "      <td>0.044692</td>\n",
       "      <td>0.025231</td>\n",
       "      <td>0.289692</td>\n",
       "      <td>0.192692</td>\n",
       "      <td>0.127692</td>\n",
       "    </tr>\n",
       "    <tr>\n",
       "      <th>MAC000037</th>\n",
       "      <td>0.000000</td>\n",
       "      <td>0.000000</td>\n",
       "      <td>0.041429</td>\n",
       "      <td>0.052786</td>\n",
       "      <td>0.000000</td>\n",
       "      <td>0.000000</td>\n",
       "      <td>0.004429</td>\n",
       "      <td>0.002643</td>\n",
       "      <td>0.000000</td>\n",
       "      <td>0.000000</td>\n",
       "      <td>...</td>\n",
       "      <td>0.000000</td>\n",
       "      <td>0.000000</td>\n",
       "      <td>0.000000</td>\n",
       "      <td>0.000000</td>\n",
       "      <td>0.000000</td>\n",
       "      <td>0.000000</td>\n",
       "      <td>0.000000</td>\n",
       "      <td>0.000000</td>\n",
       "      <td>0.000000</td>\n",
       "      <td>0.000000</td>\n",
       "    </tr>\n",
       "    <tr>\n",
       "      <th>MAC000038</th>\n",
       "      <td>0.138643</td>\n",
       "      <td>0.309214</td>\n",
       "      <td>0.256929</td>\n",
       "      <td>0.236929</td>\n",
       "      <td>0.294000</td>\n",
       "      <td>0.334143</td>\n",
       "      <td>0.310571</td>\n",
       "      <td>0.288214</td>\n",
       "      <td>0.750143</td>\n",
       "      <td>0.769857</td>\n",
       "      <td>...</td>\n",
       "      <td>0.460769</td>\n",
       "      <td>0.234000</td>\n",
       "      <td>0.133077</td>\n",
       "      <td>0.147077</td>\n",
       "      <td>0.259462</td>\n",
       "      <td>0.263846</td>\n",
       "      <td>0.324923</td>\n",
       "      <td>0.434692</td>\n",
       "      <td>0.377615</td>\n",
       "      <td>0.394462</td>\n",
       "    </tr>\n",
       "    <tr>\n",
       "      <th>MAC000039</th>\n",
       "      <td>0.142786</td>\n",
       "      <td>0.770286</td>\n",
       "      <td>0.300929</td>\n",
       "      <td>0.384857</td>\n",
       "      <td>0.619500</td>\n",
       "      <td>0.566000</td>\n",
       "      <td>0.491500</td>\n",
       "      <td>0.395857</td>\n",
       "      <td>0.476857</td>\n",
       "      <td>0.502643</td>\n",
       "      <td>...</td>\n",
       "      <td>0.374077</td>\n",
       "      <td>0.238308</td>\n",
       "      <td>0.144308</td>\n",
       "      <td>0.143000</td>\n",
       "      <td>0.142538</td>\n",
       "      <td>0.381538</td>\n",
       "      <td>0.315154</td>\n",
       "      <td>0.283923</td>\n",
       "      <td>0.334231</td>\n",
       "      <td>0.274231</td>\n",
       "    </tr>\n",
       "    <tr>\n",
       "      <th>MAC000040</th>\n",
       "      <td>0.987571</td>\n",
       "      <td>1.189214</td>\n",
       "      <td>1.100714</td>\n",
       "      <td>1.218429</td>\n",
       "      <td>1.325143</td>\n",
       "      <td>1.405643</td>\n",
       "      <td>1.141357</td>\n",
       "      <td>1.292071</td>\n",
       "      <td>1.418357</td>\n",
       "      <td>1.521286</td>\n",
       "      <td>...</td>\n",
       "      <td>1.799769</td>\n",
       "      <td>1.319692</td>\n",
       "      <td>0.804308</td>\n",
       "      <td>0.767846</td>\n",
       "      <td>1.417000</td>\n",
       "      <td>0.894769</td>\n",
       "      <td>1.057231</td>\n",
       "      <td>1.748692</td>\n",
       "      <td>1.564385</td>\n",
       "      <td>1.126923</td>\n",
       "    </tr>\n",
       "  </tbody>\n",
       "</table>\n",
       "<p>5 rows × 168 columns</p>\n",
       "</div>"
      ],
      "text/plain": [
       "Timestamp  Friday 0h Spring  Friday 10h Spring  Friday 11h Spring  \\\n",
       "LCLid                                                               \n",
       "MAC000036          0.041714           0.099571           0.146571   \n",
       "MAC000037          0.000000           0.000000           0.041429   \n",
       "MAC000038          0.138643           0.309214           0.256929   \n",
       "MAC000039          0.142786           0.770286           0.300929   \n",
       "MAC000040          0.987571           1.189214           1.100714   \n",
       "\n",
       "Timestamp  Friday 12h Spring  Friday 13h Spring  Friday 14h Spring  \\\n",
       "LCLid                                                                \n",
       "MAC000036           0.102571           0.127143           0.145857   \n",
       "MAC000037           0.052786           0.000000           0.000000   \n",
       "MAC000038           0.236929           0.294000           0.334143   \n",
       "MAC000039           0.384857           0.619500           0.566000   \n",
       "MAC000040           1.218429           1.325143           1.405643   \n",
       "\n",
       "Timestamp  Friday 15h Spring  Friday 16h Spring  Friday 17h Spring  \\\n",
       "LCLid                                                                \n",
       "MAC000036           0.166214           0.128143           0.184643   \n",
       "MAC000037           0.004429           0.002643           0.000000   \n",
       "MAC000038           0.310571           0.288214           0.750143   \n",
       "MAC000039           0.491500           0.395857           0.476857   \n",
       "MAC000040           1.141357           1.292071           1.418357   \n",
       "\n",
       "Timestamp  Friday 18h Spring  ...  Wednesday 22h Spring  Wednesday 23h Spring  \\\n",
       "LCLid                         ...                                               \n",
       "MAC000036           0.150357  ...              0.077231              0.024231   \n",
       "MAC000037           0.000000  ...              0.000000              0.000000   \n",
       "MAC000038           0.769857  ...              0.460769              0.234000   \n",
       "MAC000039           0.502643  ...              0.374077              0.238308   \n",
       "MAC000040           1.521286  ...              1.799769              1.319692   \n",
       "\n",
       "Timestamp  Wednesday 2h Spring  Wednesday 3h Spring  Wednesday 4h Spring  \\\n",
       "LCLid                                                                      \n",
       "MAC000036             0.023615             0.046846             0.022231   \n",
       "MAC000037             0.000000             0.000000             0.000000   \n",
       "MAC000038             0.133077             0.147077             0.259462   \n",
       "MAC000039             0.144308             0.143000             0.142538   \n",
       "MAC000040             0.804308             0.767846             1.417000   \n",
       "\n",
       "Timestamp  Wednesday 5h Spring  Wednesday 6h Spring  Wednesday 7h Spring  \\\n",
       "LCLid                                                                      \n",
       "MAC000036             0.044692             0.025231             0.289692   \n",
       "MAC000037             0.000000             0.000000             0.000000   \n",
       "MAC000038             0.263846             0.324923             0.434692   \n",
       "MAC000039             0.381538             0.315154             0.283923   \n",
       "MAC000040             0.894769             1.057231             1.748692   \n",
       "\n",
       "Timestamp  Wednesday 8h Spring  Wednesday 9h Spring  \n",
       "LCLid                                                \n",
       "MAC000036             0.192692             0.127692  \n",
       "MAC000037             0.000000             0.000000  \n",
       "MAC000038             0.377615             0.394462  \n",
       "MAC000039             0.334231             0.274231  \n",
       "MAC000040             1.564385             1.126923  \n",
       "\n",
       "[5 rows x 168 columns]"
      ]
     },
     "execution_count": 89,
     "metadata": {},
     "output_type": "execute_result"
    }
   ],
   "source": [
    "spring_mean_p.head()"
   ]
  },
  {
   "cell_type": "code",
   "execution_count": 90,
   "metadata": {},
   "outputs": [
    {
     "data": {
      "text/plain": [
       "['MAC000037', 'MAC000197']"
      ]
     },
     "execution_count": 90,
     "metadata": {},
     "output_type": "execute_result"
    }
   ],
   "source": [
    "a = (spring_mean_p == 0).astype(int).sum(axis=1)\n",
    "a = a[a > 50]\n",
    "list(a.index)"
   ]
  },
  {
   "cell_type": "markdown",
   "metadata": {},
   "source": [
    "The plot below represent the consumption of one specific household. By modifying the first iloc value (between 0 and 387), you can access the consumption of any household. The x axis is the timestamp, the y axis the consumption in kWh"
   ]
  },
  {
   "cell_type": "code",
   "execution_count": 91,
   "metadata": {},
   "outputs": [
    {
     "data": {
      "text/plain": [
       "[<matplotlib.lines.Line2D at 0x24393e82208>]"
      ]
     },
     "execution_count": 91,
     "metadata": {},
     "output_type": "execute_result"
    },
    {
     "data": {
      "image/png": "[encoded data removed]",
      "text/plain": [
       "<Figure size 432x288 with 1 Axes>"
      ]
     },
     "metadata": {
      "needs_background": "light"
     },
     "output_type": "display_data"
    }
   ],
   "source": [
    "plt.plot(spring_mean_p.iloc[-8,:])"
   ]
  },
  {
   "cell_type": "markdown",
   "metadata": {},
   "source": [
    "##### Autumn"
   ]
  },
  {
   "cell_type": "markdown",
   "metadata": {},
   "source": [
    "For each household, get the mean value for each hour of a week (168 hours) "
   ]
  },
  {
   "cell_type": "code",
   "execution_count": 92,
   "metadata": {},
   "outputs": [],
   "source": [
    "autumn_mean_gb = autumn.groupby([\"LCLid\",\"Weekday\",\"Hour\"])['KWH/hh (per half hour) '].apply(lambda x: np.mean(x))"
   ]
  },
  {
   "cell_type": "code",
   "execution_count": 93,
   "metadata": {},
   "outputs": [
    {
     "data": {
      "text/plain": [
       "LCLid      Weekday  Hour\n",
       "MAC000036  Friday   0       0.037077\n",
       "                    1       0.035846\n",
       "                    2       0.036231\n",
       "                    3       0.033308\n",
       "                    4       0.031769\n",
       "Name: KWH/hh (per half hour) , dtype: float64"
      ]
     },
     "execution_count": 93,
     "metadata": {},
     "output_type": "execute_result"
    }
   ],
   "source": [
    "autumn_mean_gb.head()"
   ]
  },
  {
   "cell_type": "markdown",
   "metadata": {},
   "source": [
    "Convert to a dataframe "
   ]
  },
  {
   "cell_type": "code",
   "execution_count": 94,
   "metadata": {},
   "outputs": [
    {
     "data": {
      "text/html": [
       "<div>\n",
       "<style scoped>\n",
       "    .dataframe tbody tr th:only-of-type {\n",
       "        vertical-align: middle;\n",
       "    }\n",
       "\n",
       "    .dataframe tbody tr th {\n",
       "        vertical-align: top;\n",
       "    }\n",
       "\n",
       "    .dataframe thead th {\n",
       "        text-align: right;\n",
       "    }\n",
       "</style>\n",
       "<table border=\"1\" class=\"dataframe\">\n",
       "  <thead>\n",
       "    <tr style=\"text-align: right;\">\n",
       "      <th></th>\n",
       "      <th>LCLid</th>\n",
       "      <th>Weekday</th>\n",
       "      <th>Hour</th>\n",
       "      <th>KWH/hh (per half hour)</th>\n",
       "    </tr>\n",
       "  </thead>\n",
       "  <tbody>\n",
       "    <tr>\n",
       "      <th>0</th>\n",
       "      <td>MAC000036</td>\n",
       "      <td>Friday</td>\n",
       "      <td>0</td>\n",
       "      <td>0.037077</td>\n",
       "    </tr>\n",
       "    <tr>\n",
       "      <th>1</th>\n",
       "      <td>MAC000036</td>\n",
       "      <td>Friday</td>\n",
       "      <td>1</td>\n",
       "      <td>0.035846</td>\n",
       "    </tr>\n",
       "    <tr>\n",
       "      <th>2</th>\n",
       "      <td>MAC000036</td>\n",
       "      <td>Friday</td>\n",
       "      <td>2</td>\n",
       "      <td>0.036231</td>\n",
       "    </tr>\n",
       "    <tr>\n",
       "      <th>3</th>\n",
       "      <td>MAC000036</td>\n",
       "      <td>Friday</td>\n",
       "      <td>3</td>\n",
       "      <td>0.033308</td>\n",
       "    </tr>\n",
       "    <tr>\n",
       "      <th>4</th>\n",
       "      <td>MAC000036</td>\n",
       "      <td>Friday</td>\n",
       "      <td>4</td>\n",
       "      <td>0.031769</td>\n",
       "    </tr>\n",
       "  </tbody>\n",
       "</table>\n",
       "</div>"
      ],
      "text/plain": [
       "       LCLid Weekday  Hour  KWH/hh (per half hour) \n",
       "0  MAC000036  Friday     0                 0.037077\n",
       "1  MAC000036  Friday     1                 0.035846\n",
       "2  MAC000036  Friday     2                 0.036231\n",
       "3  MAC000036  Friday     3                 0.033308\n",
       "4  MAC000036  Friday     4                 0.031769"
      ]
     },
     "execution_count": 94,
     "metadata": {},
     "output_type": "execute_result"
    }
   ],
   "source": [
    "autumn_mean = autumn_mean_gb.to_frame()\n",
    "autumn_mean.reset_index(inplace = True)\n",
    "autumn_mean.head()"
   ]
  },
  {
   "cell_type": "markdown",
   "metadata": {},
   "source": [
    "Create the timestamp column with the Weekday and Hour and Season for each reading"
   ]
  },
  {
   "cell_type": "code",
   "execution_count": 95,
   "metadata": {},
   "outputs": [],
   "source": [
    "autumn_mean[\"Timestamp\"] = autumn_mean[\"Weekday\"] + ' ' + autumn_mean[\"Hour\"].astype(str) + 'h Autumn'"
   ]
  },
  {
   "cell_type": "code",
   "execution_count": 96,
   "metadata": {},
   "outputs": [],
   "source": [
    "autumn_mean.drop([\"Weekday\", \"Hour\"], axis = 1, inplace = True)"
   ]
  },
  {
   "cell_type": "code",
   "execution_count": 97,
   "metadata": {},
   "outputs": [],
   "source": [
    "autumn_mean_p = autumn_mean.pivot(index='LCLid', columns='Timestamp', values='KWH/hh (per half hour) ')"
   ]
  },
  {
   "cell_type": "markdown",
   "metadata": {},
   "source": [
    "This is the formatted version for the autumn - 168 columns (24hours times 7 days) times 387 rows (number of households)"
   ]
  },
  {
   "cell_type": "code",
   "execution_count": 98,
   "metadata": {},
   "outputs": [
    {
     "data": {
      "text/html": [
       "<div>\n",
       "<style scoped>\n",
       "    .dataframe tbody tr th:only-of-type {\n",
       "        vertical-align: middle;\n",
       "    }\n",
       "\n",
       "    .dataframe tbody tr th {\n",
       "        vertical-align: top;\n",
       "    }\n",
       "\n",
       "    .dataframe thead th {\n",
       "        text-align: right;\n",
       "    }\n",
       "</style>\n",
       "<table border=\"1\" class=\"dataframe\">\n",
       "  <thead>\n",
       "    <tr style=\"text-align: right;\">\n",
       "      <th>Timestamp</th>\n",
       "      <th>Friday 0h Autumn</th>\n",
       "      <th>Friday 10h Autumn</th>\n",
       "      <th>Friday 11h Autumn</th>\n",
       "      <th>Friday 12h Autumn</th>\n",
       "      <th>Friday 13h Autumn</th>\n",
       "      <th>Friday 14h Autumn</th>\n",
       "      <th>Friday 15h Autumn</th>\n",
       "      <th>Friday 16h Autumn</th>\n",
       "      <th>Friday 17h Autumn</th>\n",
       "      <th>Friday 18h Autumn</th>\n",
       "      <th>...</th>\n",
       "      <th>Wednesday 22h Autumn</th>\n",
       "      <th>Wednesday 23h Autumn</th>\n",
       "      <th>Wednesday 2h Autumn</th>\n",
       "      <th>Wednesday 3h Autumn</th>\n",
       "      <th>Wednesday 4h Autumn</th>\n",
       "      <th>Wednesday 5h Autumn</th>\n",
       "      <th>Wednesday 6h Autumn</th>\n",
       "      <th>Wednesday 7h Autumn</th>\n",
       "      <th>Wednesday 8h Autumn</th>\n",
       "      <th>Wednesday 9h Autumn</th>\n",
       "    </tr>\n",
       "    <tr>\n",
       "      <th>LCLid</th>\n",
       "      <th></th>\n",
       "      <th></th>\n",
       "      <th></th>\n",
       "      <th></th>\n",
       "      <th></th>\n",
       "      <th></th>\n",
       "      <th></th>\n",
       "      <th></th>\n",
       "      <th></th>\n",
       "      <th></th>\n",
       "      <th></th>\n",
       "      <th></th>\n",
       "      <th></th>\n",
       "      <th></th>\n",
       "      <th></th>\n",
       "      <th></th>\n",
       "      <th></th>\n",
       "      <th></th>\n",
       "      <th></th>\n",
       "      <th></th>\n",
       "      <th></th>\n",
       "    </tr>\n",
       "  </thead>\n",
       "  <tbody>\n",
       "    <tr>\n",
       "      <th>MAC000036</th>\n",
       "      <td>0.037077</td>\n",
       "      <td>0.076846</td>\n",
       "      <td>0.125769</td>\n",
       "      <td>0.084615</td>\n",
       "      <td>0.083846</td>\n",
       "      <td>0.123308</td>\n",
       "      <td>0.155385</td>\n",
       "      <td>0.184385</td>\n",
       "      <td>0.161846</td>\n",
       "      <td>0.164308</td>\n",
       "      <td>...</td>\n",
       "      <td>0.066231</td>\n",
       "      <td>0.042077</td>\n",
       "      <td>0.038077</td>\n",
       "      <td>0.032846</td>\n",
       "      <td>0.038769</td>\n",
       "      <td>0.034000</td>\n",
       "      <td>0.031846</td>\n",
       "      <td>0.238692</td>\n",
       "      <td>0.227385</td>\n",
       "      <td>0.083000</td>\n",
       "    </tr>\n",
       "    <tr>\n",
       "      <th>MAC000037</th>\n",
       "      <td>0.000000</td>\n",
       "      <td>0.000000</td>\n",
       "      <td>0.000000</td>\n",
       "      <td>0.000077</td>\n",
       "      <td>0.000000</td>\n",
       "      <td>0.000000</td>\n",
       "      <td>0.000000</td>\n",
       "      <td>0.000154</td>\n",
       "      <td>0.000000</td>\n",
       "      <td>0.000000</td>\n",
       "      <td>...</td>\n",
       "      <td>0.000000</td>\n",
       "      <td>0.000000</td>\n",
       "      <td>0.000000</td>\n",
       "      <td>0.000000</td>\n",
       "      <td>0.000000</td>\n",
       "      <td>0.000000</td>\n",
       "      <td>0.000000</td>\n",
       "      <td>0.000000</td>\n",
       "      <td>0.000000</td>\n",
       "      <td>0.066308</td>\n",
       "    </tr>\n",
       "    <tr>\n",
       "      <th>MAC000038</th>\n",
       "      <td>0.443538</td>\n",
       "      <td>0.801846</td>\n",
       "      <td>0.337385</td>\n",
       "      <td>0.298154</td>\n",
       "      <td>0.434923</td>\n",
       "      <td>0.493846</td>\n",
       "      <td>0.383615</td>\n",
       "      <td>0.538077</td>\n",
       "      <td>0.688923</td>\n",
       "      <td>0.848692</td>\n",
       "      <td>...</td>\n",
       "      <td>0.445538</td>\n",
       "      <td>0.310308</td>\n",
       "      <td>0.201385</td>\n",
       "      <td>0.274077</td>\n",
       "      <td>0.310385</td>\n",
       "      <td>0.414923</td>\n",
       "      <td>0.879769</td>\n",
       "      <td>0.947231</td>\n",
       "      <td>0.566462</td>\n",
       "      <td>0.460154</td>\n",
       "    </tr>\n",
       "    <tr>\n",
       "      <th>MAC000039</th>\n",
       "      <td>0.197154</td>\n",
       "      <td>1.004923</td>\n",
       "      <td>0.627385</td>\n",
       "      <td>0.266308</td>\n",
       "      <td>0.346846</td>\n",
       "      <td>0.379769</td>\n",
       "      <td>0.281769</td>\n",
       "      <td>0.336077</td>\n",
       "      <td>0.410154</td>\n",
       "      <td>0.442538</td>\n",
       "      <td>...</td>\n",
       "      <td>0.393538</td>\n",
       "      <td>0.259615</td>\n",
       "      <td>0.148077</td>\n",
       "      <td>0.160308</td>\n",
       "      <td>0.138538</td>\n",
       "      <td>0.347615</td>\n",
       "      <td>0.398231</td>\n",
       "      <td>0.389923</td>\n",
       "      <td>0.382769</td>\n",
       "      <td>0.386308</td>\n",
       "    </tr>\n",
       "    <tr>\n",
       "      <th>MAC000040</th>\n",
       "      <td>0.701692</td>\n",
       "      <td>1.551923</td>\n",
       "      <td>1.530692</td>\n",
       "      <td>1.466692</td>\n",
       "      <td>1.655846</td>\n",
       "      <td>2.007769</td>\n",
       "      <td>2.405000</td>\n",
       "      <td>2.751923</td>\n",
       "      <td>2.699923</td>\n",
       "      <td>2.289308</td>\n",
       "      <td>...</td>\n",
       "      <td>1.563154</td>\n",
       "      <td>1.578385</td>\n",
       "      <td>0.807615</td>\n",
       "      <td>0.753154</td>\n",
       "      <td>1.020769</td>\n",
       "      <td>0.717308</td>\n",
       "      <td>1.396615</td>\n",
       "      <td>1.580000</td>\n",
       "      <td>1.344462</td>\n",
       "      <td>1.312000</td>\n",
       "    </tr>\n",
       "  </tbody>\n",
       "</table>\n",
       "<p>5 rows × 168 columns</p>\n",
       "</div>"
      ],
      "text/plain": [
       "Timestamp  Friday 0h Autumn  Friday 10h Autumn  Friday 11h Autumn  \\\n",
       "LCLid                                                               \n",
       "MAC000036          0.037077           0.076846           0.125769   \n",
       "MAC000037          0.000000           0.000000           0.000000   \n",
       "MAC000038          0.443538           0.801846           0.337385   \n",
       "MAC000039          0.197154           1.004923           0.627385   \n",
       "MAC000040          0.701692           1.551923           1.530692   \n",
       "\n",
       "Timestamp  Friday 12h Autumn  Friday 13h Autumn  Friday 14h Autumn  \\\n",
       "LCLid                                                                \n",
       "MAC000036           0.084615           0.083846           0.123308   \n",
       "MAC000037           0.000077           0.000000           0.000000   \n",
       "MAC000038           0.298154           0.434923           0.493846   \n",
       "MAC000039           0.266308           0.346846           0.379769   \n",
       "MAC000040           1.466692           1.655846           2.007769   \n",
       "\n",
       "Timestamp  Friday 15h Autumn  Friday 16h Autumn  Friday 17h Autumn  \\\n",
       "LCLid                                                                \n",
       "MAC000036           0.155385           0.184385           0.161846   \n",
       "MAC000037           0.000000           0.000154           0.000000   \n",
       "MAC000038           0.383615           0.538077           0.688923   \n",
       "MAC000039           0.281769           0.336077           0.410154   \n",
       "MAC000040           2.405000           2.751923           2.699923   \n",
       "\n",
       "Timestamp  Friday 18h Autumn  ...  Wednesday 22h Autumn  Wednesday 23h Autumn  \\\n",
       "LCLid                         ...                                               \n",
       "MAC000036           0.164308  ...              0.066231              0.042077   \n",
       "MAC000037           0.000000  ...              0.000000              0.000000   \n",
       "MAC000038           0.848692  ...              0.445538              0.310308   \n",
       "MAC000039           0.442538  ...              0.393538              0.259615   \n",
       "MAC000040           2.289308  ...              1.563154              1.578385   \n",
       "\n",
       "Timestamp  Wednesday 2h Autumn  Wednesday 3h Autumn  Wednesday 4h Autumn  \\\n",
       "LCLid                                                                      \n",
       "MAC000036             0.038077             0.032846             0.038769   \n",
       "MAC000037             0.000000             0.000000             0.000000   \n",
       "MAC000038             0.201385             0.274077             0.310385   \n",
       "MAC000039             0.148077             0.160308             0.138538   \n",
       "MAC000040             0.807615             0.753154             1.020769   \n",
       "\n",
       "Timestamp  Wednesday 5h Autumn  Wednesday 6h Autumn  Wednesday 7h Autumn  \\\n",
       "LCLid                                                                      \n",
       "MAC000036             0.034000             0.031846             0.238692   \n",
       "MAC000037             0.000000             0.000000             0.000000   \n",
       "MAC000038             0.414923             0.879769             0.947231   \n",
       "MAC000039             0.347615             0.398231             0.389923   \n",
       "MAC000040             0.717308             1.396615             1.580000   \n",
       "\n",
       "Timestamp  Wednesday 8h Autumn  Wednesday 9h Autumn  \n",
       "LCLid                                                \n",
       "MAC000036             0.227385             0.083000  \n",
       "MAC000037             0.000000             0.066308  \n",
       "MAC000038             0.566462             0.460154  \n",
       "MAC000039             0.382769             0.386308  \n",
       "MAC000040             1.344462             1.312000  \n",
       "\n",
       "[5 rows x 168 columns]"
      ]
     },
     "execution_count": 98,
     "metadata": {},
     "output_type": "execute_result"
    }
   ],
   "source": [
    "autumn_mean_p.head()"
   ]
  },
  {
   "cell_type": "code",
   "execution_count": 99,
   "metadata": {},
   "outputs": [
    {
     "data": {
      "text/plain": [
       "['MAC000037', 'MAC000197']"
      ]
     },
     "execution_count": 99,
     "metadata": {},
     "output_type": "execute_result"
    }
   ],
   "source": [
    "a = (autumn_mean_p == 0).astype(int).sum(axis=1)\n",
    "a = a[a > 50]\n",
    "list(a.index)"
   ]
  },
  {
   "cell_type": "markdown",
   "metadata": {},
   "source": [
    "The plot below represent the mean consumption of all the households in autumn. The structure of the plot seems less hectic than for individual households"
   ]
  },
  {
   "cell_type": "code",
   "execution_count": 100,
   "metadata": {},
   "outputs": [
    {
     "data": {
      "text/plain": [
       "[<matplotlib.lines.Line2D at 0x243889d77b8>]"
      ]
     },
     "execution_count": 100,
     "metadata": {},
     "output_type": "execute_result"
    },
    {
     "data": {
      "image/png": "[encoded data removed]",
      "text/plain": [
       "<Figure size 432x288 with 1 Axes>"
      ]
     },
     "metadata": {
      "needs_background": "light"
     },
     "output_type": "display_data"
    }
   ],
   "source": [
    "plt.plot(autumn_mean_p.mean(axis = 0))"
   ]
  },
  {
   "cell_type": "markdown",
   "metadata": {},
   "source": [
    "The plot below represent the consumption of one specific household. By modifying the first iloc value (between 0 and 387), you can access the consumption of any household. The x axis is the timestamp, the y axis the consumption in kWh"
   ]
  },
  {
   "cell_type": "code",
   "execution_count": 102,
   "metadata": {},
   "outputs": [
    {
     "data": {
      "text/plain": [
       "[<matplotlib.lines.Line2D at 0x243878b44e0>]"
      ]
     },
     "execution_count": 102,
     "metadata": {},
     "output_type": "execute_result"
    },
    {
     "data": {
      "image/png": "[encoded data removed]",
      "text/plain": [
       "<Figure size 432x288 with 1 Axes>"
      ]
     },
     "metadata": {
      "needs_background": "light"
     },
     "output_type": "display_data"
    }
   ],
   "source": [
    "plt.plot(autumn_mean_p.iloc[34,:])"
   ]
  },
  {
   "cell_type": "markdown",
   "metadata": {},
   "source": [
    "### Merging the data into one dataset"
   ]
  },
  {
   "cell_type": "code",
   "execution_count": 103,
   "metadata": {},
   "outputs": [],
   "source": [
    "london_analysis = pd.concat([winter_mean_p, summer_mean_p, spring_mean_p, autumn_mean_p], axis=1)"
   ]
  },
  {
   "cell_type": "code",
   "execution_count": 107,
   "metadata": {},
   "outputs": [
    {
     "data": {
      "text/html": [
       "<div>\n",
       "<style scoped>\n",
       "    .dataframe tbody tr th:only-of-type {\n",
       "        vertical-align: middle;\n",
       "    }\n",
       "\n",
       "    .dataframe tbody tr th {\n",
       "        vertical-align: top;\n",
       "    }\n",
       "\n",
       "    .dataframe thead th {\n",
       "        text-align: right;\n",
       "    }\n",
       "</style>\n",
       "<table border=\"1\" class=\"dataframe\">\n",
       "  <thead>\n",
       "    <tr style=\"text-align: right;\">\n",
       "      <th>Timestamp</th>\n",
       "      <th>Friday 0h Winter</th>\n",
       "      <th>Friday 10h Winter</th>\n",
       "      <th>Friday 11h Winter</th>\n",
       "      <th>Friday 12h Winter</th>\n",
       "      <th>Friday 13h Winter</th>\n",
       "      <th>Friday 14h Winter</th>\n",
       "      <th>Friday 15h Winter</th>\n",
       "      <th>Friday 16h Winter</th>\n",
       "      <th>Friday 17h Winter</th>\n",
       "      <th>Friday 18h Winter</th>\n",
       "      <th>...</th>\n",
       "      <th>Wednesday 22h Autumn</th>\n",
       "      <th>Wednesday 23h Autumn</th>\n",
       "      <th>Wednesday 2h Autumn</th>\n",
       "      <th>Wednesday 3h Autumn</th>\n",
       "      <th>Wednesday 4h Autumn</th>\n",
       "      <th>Wednesday 5h Autumn</th>\n",
       "      <th>Wednesday 6h Autumn</th>\n",
       "      <th>Wednesday 7h Autumn</th>\n",
       "      <th>Wednesday 8h Autumn</th>\n",
       "      <th>Wednesday 9h Autumn</th>\n",
       "    </tr>\n",
       "    <tr>\n",
       "      <th>LCLid</th>\n",
       "      <th></th>\n",
       "      <th></th>\n",
       "      <th></th>\n",
       "      <th></th>\n",
       "      <th></th>\n",
       "      <th></th>\n",
       "      <th></th>\n",
       "      <th></th>\n",
       "      <th></th>\n",
       "      <th></th>\n",
       "      <th></th>\n",
       "      <th></th>\n",
       "      <th></th>\n",
       "      <th></th>\n",
       "      <th></th>\n",
       "      <th></th>\n",
       "      <th></th>\n",
       "      <th></th>\n",
       "      <th></th>\n",
       "      <th></th>\n",
       "      <th></th>\n",
       "    </tr>\n",
       "  </thead>\n",
       "  <tbody>\n",
       "    <tr>\n",
       "      <th>MAC000036</th>\n",
       "      <td>0.027833</td>\n",
       "      <td>0.132750</td>\n",
       "      <td>0.090833</td>\n",
       "      <td>0.134833</td>\n",
       "      <td>0.095583</td>\n",
       "      <td>0.102000</td>\n",
       "      <td>0.131167</td>\n",
       "      <td>0.144333</td>\n",
       "      <td>0.169917</td>\n",
       "      <td>0.209667</td>\n",
       "      <td>...</td>\n",
       "      <td>0.066231</td>\n",
       "      <td>0.042077</td>\n",
       "      <td>0.038077</td>\n",
       "      <td>0.032846</td>\n",
       "      <td>0.038769</td>\n",
       "      <td>0.034000</td>\n",
       "      <td>0.031846</td>\n",
       "      <td>0.238692</td>\n",
       "      <td>0.227385</td>\n",
       "      <td>0.083000</td>\n",
       "    </tr>\n",
       "    <tr>\n",
       "      <th>MAC000038</th>\n",
       "      <td>0.309417</td>\n",
       "      <td>0.522417</td>\n",
       "      <td>0.611500</td>\n",
       "      <td>0.580583</td>\n",
       "      <td>0.539167</td>\n",
       "      <td>0.597000</td>\n",
       "      <td>0.632500</td>\n",
       "      <td>0.737667</td>\n",
       "      <td>0.968417</td>\n",
       "      <td>1.315167</td>\n",
       "      <td>...</td>\n",
       "      <td>0.445538</td>\n",
       "      <td>0.310308</td>\n",
       "      <td>0.201385</td>\n",
       "      <td>0.274077</td>\n",
       "      <td>0.310385</td>\n",
       "      <td>0.414923</td>\n",
       "      <td>0.879769</td>\n",
       "      <td>0.947231</td>\n",
       "      <td>0.566462</td>\n",
       "      <td>0.460154</td>\n",
       "    </tr>\n",
       "    <tr>\n",
       "      <th>MAC000039</th>\n",
       "      <td>0.239833</td>\n",
       "      <td>1.242167</td>\n",
       "      <td>0.816417</td>\n",
       "      <td>0.298000</td>\n",
       "      <td>0.412667</td>\n",
       "      <td>0.725917</td>\n",
       "      <td>0.474250</td>\n",
       "      <td>0.484500</td>\n",
       "      <td>0.552333</td>\n",
       "      <td>0.554750</td>\n",
       "      <td>...</td>\n",
       "      <td>0.393538</td>\n",
       "      <td>0.259615</td>\n",
       "      <td>0.148077</td>\n",
       "      <td>0.160308</td>\n",
       "      <td>0.138538</td>\n",
       "      <td>0.347615</td>\n",
       "      <td>0.398231</td>\n",
       "      <td>0.389923</td>\n",
       "      <td>0.382769</td>\n",
       "      <td>0.386308</td>\n",
       "    </tr>\n",
       "    <tr>\n",
       "      <th>MAC000040</th>\n",
       "      <td>0.949583</td>\n",
       "      <td>1.467583</td>\n",
       "      <td>1.453000</td>\n",
       "      <td>1.259333</td>\n",
       "      <td>1.664250</td>\n",
       "      <td>1.394583</td>\n",
       "      <td>1.435917</td>\n",
       "      <td>0.946417</td>\n",
       "      <td>1.584833</td>\n",
       "      <td>1.645667</td>\n",
       "      <td>...</td>\n",
       "      <td>1.563154</td>\n",
       "      <td>1.578385</td>\n",
       "      <td>0.807615</td>\n",
       "      <td>0.753154</td>\n",
       "      <td>1.020769</td>\n",
       "      <td>0.717308</td>\n",
       "      <td>1.396615</td>\n",
       "      <td>1.580000</td>\n",
       "      <td>1.344462</td>\n",
       "      <td>1.312000</td>\n",
       "    </tr>\n",
       "    <tr>\n",
       "      <th>MAC000041</th>\n",
       "      <td>0.379000</td>\n",
       "      <td>0.663167</td>\n",
       "      <td>0.328250</td>\n",
       "      <td>0.421000</td>\n",
       "      <td>0.477667</td>\n",
       "      <td>0.299083</td>\n",
       "      <td>0.557833</td>\n",
       "      <td>0.834417</td>\n",
       "      <td>0.819833</td>\n",
       "      <td>0.854333</td>\n",
       "      <td>...</td>\n",
       "      <td>0.568615</td>\n",
       "      <td>0.396692</td>\n",
       "      <td>0.116769</td>\n",
       "      <td>0.192846</td>\n",
       "      <td>0.147077</td>\n",
       "      <td>0.222385</td>\n",
       "      <td>0.202231</td>\n",
       "      <td>0.266077</td>\n",
       "      <td>0.405538</td>\n",
       "      <td>0.339462</td>\n",
       "    </tr>\n",
       "  </tbody>\n",
       "</table>\n",
       "<p>5 rows × 672 columns</p>\n",
       "</div>"
      ],
      "text/plain": [
       "Timestamp  Friday 0h Winter  Friday 10h Winter  Friday 11h Winter  \\\n",
       "LCLid                                                               \n",
       "MAC000036          0.027833           0.132750           0.090833   \n",
       "MAC000038          0.309417           0.522417           0.611500   \n",
       "MAC000039          0.239833           1.242167           0.816417   \n",
       "MAC000040          0.949583           1.467583           1.453000   \n",
       "MAC000041          0.379000           0.663167           0.328250   \n",
       "\n",
       "Timestamp  Friday 12h Winter  Friday 13h Winter  Friday 14h Winter  \\\n",
       "LCLid                                                                \n",
       "MAC000036           0.134833           0.095583           0.102000   \n",
       "MAC000038           0.580583           0.539167           0.597000   \n",
       "MAC000039           0.298000           0.412667           0.725917   \n",
       "MAC000040           1.259333           1.664250           1.394583   \n",
       "MAC000041           0.421000           0.477667           0.299083   \n",
       "\n",
       "Timestamp  Friday 15h Winter  Friday 16h Winter  Friday 17h Winter  \\\n",
       "LCLid                                                                \n",
       "MAC000036           0.131167           0.144333           0.169917   \n",
       "MAC000038           0.632500           0.737667           0.968417   \n",
       "MAC000039           0.474250           0.484500           0.552333   \n",
       "MAC000040           1.435917           0.946417           1.584833   \n",
       "MAC000041           0.557833           0.834417           0.819833   \n",
       "\n",
       "Timestamp  Friday 18h Winter  ...  Wednesday 22h Autumn  Wednesday 23h Autumn  \\\n",
       "LCLid                         ...                                               \n",
       "MAC000036           0.209667  ...              0.066231              0.042077   \n",
       "MAC000038           1.315167  ...              0.445538              0.310308   \n",
       "MAC000039           0.554750  ...              0.393538              0.259615   \n",
       "MAC000040           1.645667  ...              1.563154              1.578385   \n",
       "MAC000041           0.854333  ...              0.568615              0.396692   \n",
       "\n",
       "Timestamp  Wednesday 2h Autumn  Wednesday 3h Autumn  Wednesday 4h Autumn  \\\n",
       "LCLid                                                                      \n",
       "MAC000036             0.038077             0.032846             0.038769   \n",
       "MAC000038             0.201385             0.274077             0.310385   \n",
       "MAC000039             0.148077             0.160308             0.138538   \n",
       "MAC000040             0.807615             0.753154             1.020769   \n",
       "MAC000041             0.116769             0.192846             0.147077   \n",
       "\n",
       "Timestamp  Wednesday 5h Autumn  Wednesday 6h Autumn  Wednesday 7h Autumn  \\\n",
       "LCLid                                                                      \n",
       "MAC000036             0.034000             0.031846             0.238692   \n",
       "MAC000038             0.414923             0.879769             0.947231   \n",
       "MAC000039             0.347615             0.398231             0.389923   \n",
       "MAC000040             0.717308             1.396615             1.580000   \n",
       "MAC000041             0.222385             0.202231             0.266077   \n",
       "\n",
       "Timestamp  Wednesday 8h Autumn  Wednesday 9h Autumn  \n",
       "LCLid                                                \n",
       "MAC000036             0.227385             0.083000  \n",
       "MAC000038             0.566462             0.460154  \n",
       "MAC000039             0.382769             0.386308  \n",
       "MAC000040             1.344462             1.312000  \n",
       "MAC000041             0.405538             0.339462  \n",
       "\n",
       "[5 rows x 672 columns]"
      ]
     },
     "execution_count": 107,
     "metadata": {},
     "output_type": "execute_result"
    }
   ],
   "source": [
    "london_analysis.head()"
   ]
  },
  {
   "cell_type": "markdown",
   "metadata": {},
   "source": [
    "Drop the IDs with a lot of zero"
   ]
  },
  {
   "cell_type": "code",
   "execution_count": 106,
   "metadata": {},
   "outputs": [],
   "source": [
    "london_analysis.drop(list(a.index), inplace = True)"
   ]
  },
  {
   "cell_type": "code",
   "execution_count": 108,
   "metadata": {},
   "outputs": [],
   "source": [
    "london_analysis.to_csv(\"../Data/Londondata/london_formatted.csv\")"
   ]
  }
 ],
 "metadata": {
  "kernelspec": {
   "display_name": "Python 3",
   "language": "python",
   "name": "python3"
  },
  "language_info": {
   "codemirror_mode": {
    "name": "ipython",
    "version": 3
   },
   "file_extension": ".py",
   "mimetype": "text/x-python",
   "name": "python",
   "nbconvert_exporter": "python",
   "pygments_lexer": "ipython3",
   "version": "3.7.3"
  }
 },
 "nbformat": 4,
 "nbformat_minor": 2
}
