{
 "cells": [
  {
   "cell_type": "code",
   "execution_count": 2,
   "metadata": {},
   "outputs": [],
   "source": [
    "%matplotlib inline\n",
    "\n",
    "import pandas as pd\n",
    "import numpy as np\n",
    "import matplotlib.pyplot as plt\n",
    "from matplotlib.pyplot import figure\n",
    "#from matplotlib.lines import Point"
   ]
  },
  {
   "cell_type": "code",
   "execution_count": 5,
   "metadata": {},
   "outputs": [],
   "source": [
    "df = pd.read_csv(\"../Data/Hourly consumtpion per cluster London.csv\")\n",
    "df[\"time\"] = df[\"time\"].astype(str).str.zfill(3)\n",
    "df.index = df[\"time\"]\n",
    "df[\"day\"] = df[\"time\"].str[:1]\n",
    "df[\"hour\"] = df[\"time\"].str[1:]\n",
    "df.drop(['time','Unnamed: 0'], axis = 1, inplace = True)\n",
    "\n",
    "\n"
   ]
  },
  {
   "cell_type": "code",
   "execution_count": 6,
   "metadata": {},
   "outputs": [
    {
     "data": {
      "text/html": [
       "<div>\n",
       "<style scoped>\n",
       "    .dataframe tbody tr th:only-of-type {\n",
       "        vertical-align: middle;\n",
       "    }\n",
       "\n",
       "    .dataframe tbody tr th {\n",
       "        vertical-align: top;\n",
       "    }\n",
       "\n",
       "    .dataframe thead th {\n",
       "        text-align: right;\n",
       "    }\n",
       "</style>\n",
       "<table border=\"1\" class=\"dataframe\">\n",
       "  <thead>\n",
       "    <tr style=\"text-align: right;\">\n",
       "      <th></th>\n",
       "      <th>consumption_kWh</th>\n",
       "      <th>Morn-Ev</th>\n",
       "      <th>CO2_intensity</th>\n",
       "    </tr>\n",
       "    <tr>\n",
       "      <th>time</th>\n",
       "      <th></th>\n",
       "      <th></th>\n",
       "      <th></th>\n",
       "    </tr>\n",
       "  </thead>\n",
       "  <tbody>\n",
       "    <tr>\n",
       "      <th>000</th>\n",
       "      <td>587.238769</td>\n",
       "      <td>Morning</td>\n",
       "      <td>206.339623</td>\n",
       "    </tr>\n",
       "    <tr>\n",
       "      <th>001</th>\n",
       "      <td>487.561051</td>\n",
       "      <td>Morning</td>\n",
       "      <td>214.980769</td>\n",
       "    </tr>\n",
       "    <tr>\n",
       "      <th>002</th>\n",
       "      <td>413.403647</td>\n",
       "      <td>Morning</td>\n",
       "      <td>214.673077</td>\n",
       "    </tr>\n",
       "    <tr>\n",
       "      <th>003</th>\n",
       "      <td>378.318955</td>\n",
       "      <td>Morning</td>\n",
       "      <td>215.509615</td>\n",
       "    </tr>\n",
       "    <tr>\n",
       "      <th>004</th>\n",
       "      <td>367.642231</td>\n",
       "      <td>Morning</td>\n",
       "      <td>216.461538</td>\n",
       "    </tr>\n",
       "  </tbody>\n",
       "</table>\n",
       "</div>"
      ],
      "text/plain": [
       "      consumption_kWh  Morn-Ev  CO2_intensity\n",
       "time                                         \n",
       "000        587.238769  Morning     206.339623\n",
       "001        487.561051  Morning     214.980769\n",
       "002        413.403647  Morning     214.673077\n",
       "003        378.318955  Morning     215.509615\n",
       "004        367.642231  Morning     216.461538"
      ]
     },
     "execution_count": 6,
     "metadata": {},
     "output_type": "execute_result"
    },
    {
     "data": {
      "image/png": "[encoded data removed]",
      "text/plain": [
       "<Figure size 432x288 with 1 Axes>"
      ]
     },
     "metadata": {
      "needs_background": "light"
     },
     "output_type": "display_data"
    }
   ],
   "source": [
    "a = df.groupby('time')['consumption_kWh'].apply(lambda x: np.sum(x)).to_frame()\n",
    "\n",
    "a['Morn-Ev'] = 'Morning'\n",
    "a['Morn-Ev'] = a['Morn-Ev'].where(a.index.str[1:].astype(int) <12 , \"Evening\")\n",
    "a.head()\n",
    "\n",
    "z = df.iloc[range(0,168),-3]\n",
    "a[\"CO2_intensity\"] = z\n",
    "\n",
    "morn = a[a['Morn-Ev']=='Morning']\n",
    "ev = a[a['Morn-Ev']=='Evening']\n",
    "\n",
    "\n",
    "plt.scatter(x = morn['consumption_kWh'], y = morn['CO2_intensity'], color = 'C1', label = 'Morning')\n",
    "plt.scatter(x = ev['consumption_kWh'], y = ev['CO2_intensity'], color = 'C2', label = 'Evening')\n",
    "\n",
    "plt.title(\"Relationship between total energy consumption and carbon intensity for London\")\n",
    "plt.xlabel(\"Energy consumption (kWh)\")\n",
    "plt.ylabel(\"Carbon intensity (gCO2/kWh)\")\n",
    "\n",
    "plt.legend()            \n",
    "plt.savefig(\"Carbon Intensity vs Consumption London.png\")\n",
    "\n",
    "morn.head()"
   ]
  },
  {
   "cell_type": "markdown",
   "metadata": {},
   "source": [
    "### Load the best model for consumption-carbon intensity mathing "
   ]
  },
  {
   "cell_type": "markdown",
   "metadata": {},
   "source": [
    "CF London Consumption-Carbon intensity model notebook for model comparison"
   ]
  },
  {
   "cell_type": "code",
   "execution_count": 7,
   "metadata": {},
   "outputs": [
    {
     "data": {
      "text/plain": [
       "168"
      ]
     },
     "execution_count": 7,
     "metadata": {},
     "output_type": "execute_result"
    }
   ],
   "source": [
    "week = df.groupby('time')['consumption_kWh'].apply(lambda x: np.sum(x)).to_frame()\n",
    "week[\"day\"] = week.index.str[:1]\n",
    "week[\"hour\"] = week.index.str[1:]\n",
    "\n",
    "z = df.iloc[range(0,168),-3]\n",
    "week[\"CO2_intensity\"] = z\n",
    "\n",
    "train_data, test_data = train_test_split(week, train_size = 0.8, random_state = 3)\n",
    "regr = RandomForestRegressor(max_depth=8, random_state=0)\n",
    "\n",
    "\n",
    "X_train = np.array(train_data[['consumption_kWh','day','hour']],\n",
    "                   dtype = pd.Series)\n",
    "y_train = np.array(train_data['CO2_intensity'], dtype = pd.Series)\n",
    "\n",
    "X_test = np.array(test_data[['consumption_kWh','day','hour']], \n",
    "                    dtype = pd.Series)\n",
    "y_test = np.array(test_data['CO2_intensity'], dtype = pd.Series)\n",
    "\n",
    "train_data, test_data = train_test_split(week, train_size = 0.8, random_state = 3)\n",
    "rf = RandomForestRegressor(max_depth=10, random_state=0)\n",
    "rf.fit(X_train, y_train)"
   ]
  },
  {
   "cell_type": "code",
   "execution_count": 5,
   "metadata": {},
   "outputs": [
    {
     "data": {
      "text/plain": [
       "0.6462240151104416"
      ]
     },
     "execution_count": 5,
     "metadata": {},
     "output_type": "execute_result"
    }
   ],
   "source": [
    "a['consumption_kWh'].corr(a['CO2_intensity'])"
   ]
  },
  {
   "cell_type": "markdown",
   "metadata": {},
   "source": [
    "## Reduction of energy consumption "
   ]
  },
  {
   "cell_type": "markdown",
   "metadata": {},
   "source": [
    "Evaluate the impact a X% reduction in energy consumption of a cluster during evening peak could have on overall consumption and co2 emissions. \n",
    "\n",
    "We look at cluster 5 between 6 and 10 pm"
   ]
  },
  {
   "cell_type": "code",
   "execution_count": 6,
   "metadata": {},
   "outputs": [],
   "source": [
    "eff = df.copy()\n",
    "\n",
    "eff[\"Efficiency\"] = 1\n",
    "eff.head()\n",
    "\n",
    "eff[\"Efficiency\"] = eff[\"Efficiency\"].where(\n",
    "    ((eff[\"hour\"] != \"06\") & (eff[\"hour\"] != \"07\") & (eff[\"hour\"] != \"08\")\n",
    "    & (eff[\"hour\"] != \"09\") &(eff[\"hour\"] != \"10\")) | (eff[\"Cluster\"] != 4 ) , 0.98)\n"
   ]
  },
  {
   "cell_type": "code",
   "execution_count": 7,
   "metadata": {},
   "outputs": [],
   "source": [
    "eff[\"Emissions\"] = eff[\"consumption_kWh\"]*eff[\"CO2_intensity\"]*eff[\"Efficiency\"]\n",
    "cluster_emissions = eff.groupby('Cluster')[\"Emissions\"].apply(lambda x: np.sum(x\n",
    "                                                                    )).to_frame()\n"
   ]
  },
  {
   "cell_type": "code",
   "execution_count": 8,
   "metadata": {},
   "outputs": [
    {
     "data": {
      "text/plain": [
       "<BarContainer object of 5 artists>"
      ]
     },
     "execution_count": 8,
     "metadata": {},
     "output_type": "execute_result"
    },
    {
     "data": {
      "image/png": "[encoded data removed]",
      "text/plain": [
       "<Figure size 432x288 with 1 Axes>"
      ]
     },
     "metadata": {
      "needs_background": "light"
     },
     "output_type": "display_data"
    }
   ],
   "source": [
    "plt.title(\"Total emissions for every cluster in London\")\n",
    "plt.xlabel(\"Clusters\")\n",
    "plt.ylabel('Emissions (gCO2)')\n",
    "plt.bar(cluster_emissions.index+1, cluster_emissions['Emissions'], color =[\"C0\", \"C1\", \"C2\", \"C3\", \"C4\"])"
   ]
  },
  {
   "cell_type": "code",
   "execution_count": 9,
   "metadata": {},
   "outputs": [
    {
     "data": {
      "text/plain": [
       "28858493.4298305"
      ]
     },
     "execution_count": 9,
     "metadata": {},
     "output_type": "execute_result"
    }
   ],
   "source": [
    "total_emissions = cluster_emissions['Emissions'].sum()\n",
    "total_emissions"
   ]
  },
  {
   "cell_type": "code",
   "execution_count": 10,
   "metadata": {},
   "outputs": [
    {
     "name": "stdout",
     "output_type": "stream",
     "text": [
      "11\n"
     ]
    },
    {
     "data": {
      "text/plain": [
       "[<matplotlib.lines.Line2D at 0x2a907f8f080>]"
      ]
     },
     "execution_count": 10,
     "metadata": {},
     "output_type": "execute_result"
    },
    {
     "data": {
      "image/png": "[encoded data removed]",
      "text/plain": [
       "<Figure size 432x288 with 1 Axes>"
      ]
     },
     "metadata": {
      "needs_background": "light"
     },
     "output_type": "display_data"
    }
   ],
   "source": [
    "eff = df.copy()\n",
    "\n",
    "decrease = np.arange(1, 0.45, -0.05)\n",
    "result = [None]*len(decrease)\n",
    "print(len(decrease))\n",
    "eff[\"Efficiency\"] = 1\n",
    "eff.head()\n",
    "\n",
    "for i in range(len(decrease)) : \n",
    "    \n",
    "    eff[\"Efficiency\"] = eff[\"Efficiency\"].where(\n",
    "        ((eff[\"hour\"] != \"06\") & (eff[\"hour\"] != \"07\") & (eff[\"hour\"] != \"08\")\n",
    "        & (eff[\"hour\"] != \"09\") &(eff[\"hour\"] != \"10\")) | (eff[\"Cluster\"] != 4 ) , decrease[i])\n",
    "    eff[\"Emissions\"] = eff[\"consumption_kWh\"]*eff[\"CO2_intensity\"]*eff[\"Efficiency\"]\n",
    "    cluster_emissions = eff.groupby('Cluster')[\"Emissions\"].apply(lambda x: np.sum(x\n",
    "                                                                      )).to_frame()\n",
    "    result[i] = cluster_emissions.iloc[4,0]\n",
    "\n",
    "plt.xlim(1, 0.5)\n",
    "plt.plot(decrease,result)\n"
   ]
  }
 ],
 "metadata": {
  "kernelspec": {
   "display_name": "Python 3",
   "language": "python",
   "name": "python3"
  },
  "language_info": {
   "codemirror_mode": {
    "name": "ipython",
    "version": 3
   },
   "file_extension": ".py",
   "mimetype": "text/x-python",
   "name": "python",
   "nbconvert_exporter": "python",
   "pygments_lexer": "ipython3",
   "version": "3.7.3"
  }
 },
 "nbformat": 4,
 "nbformat_minor": 2
}
